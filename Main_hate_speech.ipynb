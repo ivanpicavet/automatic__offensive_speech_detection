{
  "nbformat": 4,
  "nbformat_minor": 0,
  "metadata": {
    "kernelspec": {
      "display_name": "Python 3",
      "language": "python",
      "name": "python3"
    },
    "language_info": {
      "codemirror_mode": {
        "name": "ipython",
        "version": 3
      },
      "file_extension": ".py",
      "mimetype": "text/x-python",
      "name": "python",
      "nbconvert_exporter": "python",
      "pygments_lexer": "ipython3",
      "version": "3.8.5"
    },
    "colab": {
      "name": "Main_hate_speech.ipynb",
      "provenance": [],
      "collapsed_sections": [
        "WvfeITDyjA2d",
        "LpsjTPhzIG86",
        "dOz6zGLsH0oI",
        "JO6udDqJH65G",
        "5DcZHXTTIAJG",
        "mPyBibcGIPbG",
        "u7GiK6uSWKfU",
        "bVfLmOFkeyXT"
      ],
      "toc_visible": true,
      "include_colab_link": true
    }
  },
  "cells": [
    {
      "cell_type": "markdown",
      "metadata": {
        "id": "view-in-github",
        "colab_type": "text"
      },
      "source": [
        "<a href=\"https://colab.research.google.com/github/ivanpicavet/automatic__offensive_speech_detection/blob/main/Main_hate_speech.ipynb\" target=\"_parent\"><img src=\"https://colab.research.google.com/assets/colab-badge.svg\" alt=\"Open In Colab\"/></a>"
      ]
    },
    {
      "cell_type": "code",
      "metadata": {
        "id": "sj33otQiqwv_"
      },
      "source": [
        "import pandas as pd\n",
        "import tweepy\n",
        "import re\n",
        "import pickle\n",
        "import os\n",
        "from sklearn.feature_extraction.text import CountVectorizer"
      ],
      "execution_count": null,
      "outputs": []
    },
    {
      "cell_type": "code",
      "metadata": {
        "id": "PzivygAaqwwA"
      },
      "source": [
        "tsv_file=pd.read_csv(\"./task_a_distant.tsv\",sep=\"\\t\")"
      ],
      "execution_count": null,
      "outputs": []
    },
    {
      "cell_type": "markdown",
      "metadata": {
        "id": "ZAAwBsS_FJ-L"
      },
      "source": [
        "# Test on bigger and more balanced dataset"
      ]
    },
    {
      "cell_type": "code",
      "metadata": {
        "colab": {
          "base_uri": "https://localhost:8080/"
        },
        "id": "aG5a1XpYE-MX",
        "outputId": "75289294-a5ad-41ae-9e92-a0d85a00d908"
      },
      "source": [
        "tsv_file.shape"
      ],
      "execution_count": null,
      "outputs": [
        {
          "output_type": "execute_result",
          "data": {
            "text/plain": [
              "(1048966, 3)"
            ]
          },
          "metadata": {
            "tags": []
          },
          "execution_count": 4
        }
      ]
    },
    {
      "cell_type": "code",
      "metadata": {
        "id": "ZZ-y9461FQxw"
      },
      "source": [
        "sample_test=tsv_file.sample(200000)"
      ],
      "execution_count": null,
      "outputs": []
    },
    {
      "cell_type": "code",
      "metadata": {
        "id": "dp2QW6dMGwsJ"
      },
      "source": [
        "with open(\"sample_test\",\"wb\") as f:\r\n",
        "  pickle.dump(sample_test,f)"
      ],
      "execution_count": null,
      "outputs": []
    },
    {
      "cell_type": "code",
      "metadata": {
        "colab": {
          "base_uri": "https://localhost:8080/",
          "height": 195
        },
        "id": "Ooj-mRfOHheM",
        "outputId": "84dae84a-8cf3-4518-8edd-00252bc09ea6"
      },
      "source": [
        "sample_test.head()"
      ],
      "execution_count": null,
      "outputs": [
        {
          "output_type": "execute_result",
          "data": {
            "text/html": [
              "<div>\n",
              "<style scoped>\n",
              "    .dataframe tbody tr th:only-of-type {\n",
              "        vertical-align: middle;\n",
              "    }\n",
              "\n",
              "    .dataframe tbody tr th {\n",
              "        vertical-align: top;\n",
              "    }\n",
              "\n",
              "    .dataframe thead th {\n",
              "        text-align: right;\n",
              "    }\n",
              "</style>\n",
              "<table border=\"1\" class=\"dataframe\">\n",
              "  <thead>\n",
              "    <tr style=\"text-align: right;\">\n",
              "      <th></th>\n",
              "      <th>id</th>\n",
              "      <th>average</th>\n",
              "      <th>std</th>\n",
              "    </tr>\n",
              "  </thead>\n",
              "  <tbody>\n",
              "    <tr>\n",
              "      <th>112280</th>\n",
              "      <td>1160726189406863360</td>\n",
              "      <td>0.308960</td>\n",
              "      <td>0.248601</td>\n",
              "    </tr>\n",
              "    <tr>\n",
              "      <th>530960</th>\n",
              "      <td>1161492686584594439</td>\n",
              "      <td>0.126178</td>\n",
              "      <td>0.145746</td>\n",
              "    </tr>\n",
              "    <tr>\n",
              "      <th>913705</th>\n",
              "      <td>1160091638255034368</td>\n",
              "      <td>0.211478</td>\n",
              "      <td>0.178150</td>\n",
              "    </tr>\n",
              "    <tr>\n",
              "      <th>838608</th>\n",
              "      <td>1159274365961277443</td>\n",
              "      <td>0.371133</td>\n",
              "      <td>0.172761</td>\n",
              "    </tr>\n",
              "    <tr>\n",
              "      <th>462833</th>\n",
              "      <td>1160689079253708802</td>\n",
              "      <td>0.379854</td>\n",
              "      <td>0.112563</td>\n",
              "    </tr>\n",
              "  </tbody>\n",
              "</table>\n",
              "</div>"
            ],
            "text/plain": [
              "                         id   average       std\n",
              "112280  1160726189406863360  0.308960  0.248601\n",
              "530960  1161492686584594439  0.126178  0.145746\n",
              "913705  1160091638255034368  0.211478  0.178150\n",
              "838608  1159274365961277443  0.371133  0.172761\n",
              "462833  1160689079253708802  0.379854  0.112563"
            ]
          },
          "metadata": {
            "tags": []
          },
          "execution_count": 7
        }
      ]
    },
    {
      "cell_type": "code",
      "metadata": {
        "id": "p5ecaj1OHoX6"
      },
      "source": [
        "def is_off2(n):\r\n",
        "  if n>0.6:\r\n",
        "    return 1\r\n",
        "  else:\r\n",
        "    return 0  "
      ],
      "execution_count": null,
      "outputs": []
    },
    {
      "cell_type": "code",
      "metadata": {
        "id": "jz40osvQH-SF"
      },
      "source": [
        "sample_test[\"is_off\"]=sample_test[\"average\"].apply(is_off2)"
      ],
      "execution_count": null,
      "outputs": []
    },
    {
      "cell_type": "code",
      "metadata": {
        "id": "gsIHBHK9ILVf"
      },
      "source": [
        "sample_test_off=sample_test[sample_test[\"is_off\"]==1].sample(50000)\r\n",
        "sample_test_noff=sample_test[sample_test[\"is_off\"]==0].sample(80000)"
      ],
      "execution_count": null,
      "outputs": []
    },
    {
      "cell_type": "code",
      "metadata": {
        "id": "yh-iUCnKJ4nT"
      },
      "source": [
        "frames=[sample_test_off,sample_test_noff]\r\n",
        "sample_final_bal=pd.concat(frames)"
      ],
      "execution_count": null,
      "outputs": []
    },
    {
      "cell_type": "code",
      "metadata": {
        "id": "Nb1iZmeRI5Mj"
      },
      "source": [
        "with open(\"sample_final_bal\",\"wb\") as f:\r\n",
        "  pickle.dump(sample_final_bal,f)"
      ],
      "execution_count": null,
      "outputs": []
    },
    {
      "cell_type": "markdown",
      "metadata": {
        "id": "WvfeITDyjA2d"
      },
      "source": [
        "# initializing, tweet fetching and tweet cleanup-tokenize-lemmatize-stopwords\n"
      ]
    },
    {
      "cell_type": "code",
      "metadata": {
        "id": "WmsRUaUo6eat"
      },
      "source": [
        "with open(\"model_picle\",\"wb\") as f:\n",
        "  pickle.dump(tsv_file,f)"
      ],
      "execution_count": null,
      "outputs": []
    },
    {
      "cell_type": "code",
      "metadata": {
        "id": "_19Ur6x263Uc"
      },
      "source": [
        "with open(\"model_picle\",\"rb\") as f:\n",
        "  dataset=pickle.load(f)"
      ],
      "execution_count": null,
      "outputs": []
    },
    {
      "cell_type": "code",
      "metadata": {
        "colab": {
          "base_uri": "https://localhost:8080/"
        },
        "id": "2VqkYLcVmEiv",
        "outputId": "37bdc981-ce36-4f65-aa59-f9ae72729fe6"
      },
      "source": [
        "from google.colab import drive\n",
        "drive.mount('/content/drive')"
      ],
      "execution_count": null,
      "outputs": [
        {
          "output_type": "stream",
          "text": [
            "Mounted at /content/drive\n"
          ],
          "name": "stdout"
        }
      ]
    },
    {
      "cell_type": "code",
      "metadata": {
        "id": "PJ487CyAmu4X"
      },
      "source": [
        "from google.colab import files\n",
        "files.download(\"final_file\")"
      ],
      "execution_count": null,
      "outputs": []
    },
    {
      "cell_type": "code",
      "metadata": {
        "colab": {
          "base_uri": "https://localhost:8080/",
          "height": 419
        },
        "id": "T-5UvnbzZ6Wr",
        "outputId": "a22b8b6f-07c4-4309-903d-b3b886330a69"
      },
      "source": [
        "dataset"
      ],
      "execution_count": null,
      "outputs": [
        {
          "output_type": "execute_result",
          "data": {
            "text/html": [
              "<div>\n",
              "<style scoped>\n",
              "    .dataframe tbody tr th:only-of-type {\n",
              "        vertical-align: middle;\n",
              "    }\n",
              "\n",
              "    .dataframe tbody tr th {\n",
              "        vertical-align: top;\n",
              "    }\n",
              "\n",
              "    .dataframe thead th {\n",
              "        text-align: right;\n",
              "    }\n",
              "</style>\n",
              "<table border=\"1\" class=\"dataframe\">\n",
              "  <thead>\n",
              "    <tr style=\"text-align: right;\">\n",
              "      <th></th>\n",
              "      <th>id</th>\n",
              "      <th>average</th>\n",
              "      <th>std</th>\n",
              "    </tr>\n",
              "  </thead>\n",
              "  <tbody>\n",
              "    <tr>\n",
              "      <th>0</th>\n",
              "      <td>1159533701283352576</td>\n",
              "      <td>0.195773</td>\n",
              "      <td>0.187379</td>\n",
              "    </tr>\n",
              "    <tr>\n",
              "      <th>1</th>\n",
              "      <td>1159533703522992128</td>\n",
              "      <td>0.262401</td>\n",
              "      <td>0.145998</td>\n",
              "    </tr>\n",
              "    <tr>\n",
              "      <th>2</th>\n",
              "      <td>1159533703758061570</td>\n",
              "      <td>0.833391</td>\n",
              "      <td>0.140628</td>\n",
              "    </tr>\n",
              "    <tr>\n",
              "      <th>3</th>\n",
              "      <td>1159533703904800769</td>\n",
              "      <td>0.565238</td>\n",
              "      <td>0.187498</td>\n",
              "    </tr>\n",
              "    <tr>\n",
              "      <th>4</th>\n",
              "      <td>1159533705125343232</td>\n",
              "      <td>0.664921</td>\n",
              "      <td>0.097098</td>\n",
              "    </tr>\n",
              "    <tr>\n",
              "      <th>...</th>\n",
              "      <td>...</td>\n",
              "      <td>...</td>\n",
              "      <td>...</td>\n",
              "    </tr>\n",
              "    <tr>\n",
              "      <th>2951379</th>\n",
              "      <td>1160000991099441153</td>\n",
              "      <td>0.712557</td>\n",
              "      <td>0.152965</td>\n",
              "    </tr>\n",
              "    <tr>\n",
              "      <th>2951380</th>\n",
              "      <td>1160000991070081024</td>\n",
              "      <td>0.277447</td>\n",
              "      <td>0.189987</td>\n",
              "    </tr>\n",
              "    <tr>\n",
              "      <th>2951381</th>\n",
              "      <td>1160000991112175616</td>\n",
              "      <td>0.155279</td>\n",
              "      <td>0.169324</td>\n",
              "    </tr>\n",
              "    <tr>\n",
              "      <th>2951382</th>\n",
              "      <td>1160000991208583168</td>\n",
              "      <td>0.221621</td>\n",
              "      <td>0.181829</td>\n",
              "    </tr>\n",
              "    <tr>\n",
              "      <th>2951383</th>\n",
              "      <td>11600</td>\n",
              "      <td>NaN</td>\n",
              "      <td>NaN</td>\n",
              "    </tr>\n",
              "  </tbody>\n",
              "</table>\n",
              "<p>2951384 rows × 3 columns</p>\n",
              "</div>"
            ],
            "text/plain": [
              "                          id   average       std\n",
              "0        1159533701283352576  0.195773  0.187379\n",
              "1        1159533703522992128  0.262401  0.145998\n",
              "2        1159533703758061570  0.833391  0.140628\n",
              "3        1159533703904800769  0.565238  0.187498\n",
              "4        1159533705125343232  0.664921  0.097098\n",
              "...                      ...       ...       ...\n",
              "2951379  1160000991099441153  0.712557  0.152965\n",
              "2951380  1160000991070081024  0.277447  0.189987\n",
              "2951381  1160000991112175616  0.155279  0.169324\n",
              "2951382  1160000991208583168  0.221621  0.181829\n",
              "2951383                11600       NaN       NaN\n",
              "\n",
              "[2951384 rows x 3 columns]"
            ]
          },
          "metadata": {
            "tags": []
          },
          "execution_count": 34
        }
      ]
    },
    {
      "cell_type": "code",
      "metadata": {
        "id": "RfTWbmZeqwwA"
      },
      "source": [
        "access_token = \"1149046770552451074-hXEspKpCzdBP8ROAoiWwwPwnn5UqG4\" \n",
        "access_token_secret = \"pPupHghLCY3jq4Cx38eOa4vbEjSh8ByZWV2Ppa7E0ODR0\"\n",
        "consumer_key = \"FHs90vhXRxbZnjkYk7AwZYMfi\" \n",
        "consumer_secret = \"6pD0XMkTW1BJaO7ACc6bwgmws21jBYYeMQpGFIdMipuVPuoyvk\""
      ],
      "execution_count": null,
      "outputs": []
    },
    {
      "cell_type": "code",
      "metadata": {
        "id": "RTpjs8pKqwwA"
      },
      "source": [
        "auth = tweepy.OAuthHandler(consumer_key, consumer_secret) \n",
        "auth.set_access_token(access_token, access_token_secret)\n",
        "api = tweepy.API(auth,retry_count=10, retry_delay=5, retry_errors=set([503]))"
      ],
      "execution_count": null,
      "outputs": []
    },
    {
      "cell_type": "code",
      "metadata": {
        "id": "9jLTTDACqwwA"
      },
      "source": [
        "tsv_file_sample=dataset[40:100000]"
      ],
      "execution_count": null,
      "outputs": []
    },
    {
      "cell_type": "code",
      "metadata": {
        "colab": {
          "base_uri": "https://localhost:8080/"
        },
        "id": "lglefVIbqwwB",
        "outputId": "5de216a2-1259-4ddd-f3f1-8f1447b402a1"
      },
      "source": [
        "ids = tsv_file_sample['id'].tolist()\n",
        "len(ids)\n"
      ],
      "execution_count": null,
      "outputs": [
        {
          "output_type": "execute_result",
          "data": {
            "text/plain": [
              "99960"
            ]
          },
          "metadata": {
            "tags": []
          },
          "execution_count": 38
        }
      ]
    },
    {
      "cell_type": "code",
      "metadata": {
        "id": "B7cchRRMqwwC"
      },
      "source": [
        "total_count = len(ids)\n",
        "chunks = (total_count - 1) // 50 + 1"
      ],
      "execution_count": null,
      "outputs": []
    },
    {
      "cell_type": "code",
      "metadata": {
        "id": "HuI5JlMEqwwC"
      },
      "source": [
        "#def fetch_tw(ids):\n",
        "##    list_of_tw_status = api.statuses_lookup(ids)\n",
        "#    empty_data = pd.DataFrame()\n",
        "#    for status in list_of_tw_status:\n",
        "#            tweet_elem = {\"tweet\":status.full_text,\"id\":str(status.id)}\n",
        "#                    \n",
        "#            empty_data = empty_data.append(tweet_elem, ignore_index = True)\n",
        " #   empty_data.to_csv(\"final_results2.csv\", mode=\"a\")"
      ],
      "execution_count": null,
      "outputs": []
    },
    {
      "cell_type": "code",
      "metadata": {
        "id": "imm-HEEdqwwC"
      },
      "source": [
        "#for i in range(chunks):\n",
        "#        batch = ids[i*50:(i+1)*50]\n",
        "#        \n",
        "#        result = fetch_tw(batch)"
      ],
      "execution_count": null,
      "outputs": []
    },
    {
      "cell_type": "code",
      "metadata": {
        "id": "8lmbM2TWqwwC"
      },
      "source": [
        "try3=pd.read_csv(\"./final_results2.csv\")"
      ],
      "execution_count": null,
      "outputs": []
    },
    {
      "cell_type": "code",
      "metadata": {
        "id": "eRbdgGDTaPuz"
      },
      "source": [
        "with open(\"after_fetching_id\",\"wb\") as f:\n",
        "  pickle.dump(try3,f)"
      ],
      "execution_count": null,
      "outputs": []
    },
    {
      "cell_type": "code",
      "metadata": {
        "id": "hQLkc0MfaPu0"
      },
      "source": [
        "with open(\"after_fetching_id\",\"rb\") as f:\n",
        "  tweet_with_id=pickle.load(f)"
      ],
      "execution_count": null,
      "outputs": []
    },
    {
      "cell_type": "code",
      "metadata": {
        "id": "KACsVNKAaPMs"
      },
      "source": [
        ""
      ],
      "execution_count": null,
      "outputs": []
    },
    {
      "cell_type": "code",
      "metadata": {
        "id": "-MGRFbN7qwwC"
      },
      "source": [
        "try3"
      ],
      "execution_count": null,
      "outputs": []
    },
    {
      "cell_type": "code",
      "metadata": {
        "id": "ntNh3GlmqwwC"
      },
      "source": [
        "try3.drop(\"Unnamed: 0\",axis=1,inplace=True)"
      ],
      "execution_count": null,
      "outputs": []
    },
    {
      "cell_type": "code",
      "metadata": {
        "id": "w8ieGsTSqwwC"
      },
      "source": [
        "def find_id(s):\n",
        "    if s==\"id\":\n",
        "        s=1\n",
        "    return s\n",
        "\n",
        "try3[\"id\"]=try3[\"id\"].apply(find_id)"
      ],
      "execution_count": null,
      "outputs": []
    },
    {
      "cell_type": "code",
      "metadata": {
        "id": "icA1q8tgqwwC"
      },
      "source": [
        "for i in range(len(try3[\"id\"])):\n",
        "    try3[\"id\"].iloc[i]=int(try3[\"id\"].iloc[i])\n",
        "  "
      ],
      "execution_count": null,
      "outputs": []
    },
    {
      "cell_type": "code",
      "metadata": {
        "id": "TovMmUYwqwwE"
      },
      "source": [
        "inner_join = pd.merge(try3,  \n",
        "                      tsv_file_sample,  \n",
        "                      on ='id',  \n",
        "                      how ='inner') \n",
        "final_file=inner_join"
      ],
      "execution_count": null,
      "outputs": []
    },
    {
      "cell_type": "code",
      "metadata": {
        "colab": {
          "base_uri": "https://localhost:8080/",
          "height": 419
        },
        "id": "i6erBFmQqwwE",
        "outputId": "57084aed-b44c-41c1-f66b-7510442dd97d"
      },
      "source": [
        "final_file"
      ],
      "execution_count": null,
      "outputs": [
        {
          "output_type": "execute_result",
          "data": {
            "text/html": [
              "<div>\n",
              "<style scoped>\n",
              "    .dataframe tbody tr th:only-of-type {\n",
              "        vertical-align: middle;\n",
              "    }\n",
              "\n",
              "    .dataframe tbody tr th {\n",
              "        vertical-align: top;\n",
              "    }\n",
              "\n",
              "    .dataframe thead th {\n",
              "        text-align: right;\n",
              "    }\n",
              "</style>\n",
              "<table border=\"1\" class=\"dataframe\">\n",
              "  <thead>\n",
              "    <tr style=\"text-align: right;\">\n",
              "      <th></th>\n",
              "      <th>id</th>\n",
              "      <th>tweet</th>\n",
              "      <th>average</th>\n",
              "      <th>std</th>\n",
              "    </tr>\n",
              "  </thead>\n",
              "  <tbody>\n",
              "    <tr>\n",
              "      <th>0</th>\n",
              "      <td>1159529199708717056</td>\n",
              "      <td>@tribelaw And cut a commercial for his campaign.</td>\n",
              "      <td>0.238702</td>\n",
              "      <td>0.165998</td>\n",
              "    </tr>\n",
              "    <tr>\n",
              "      <th>1</th>\n",
              "      <td>1159533793998442498</td>\n",
              "      <td>@IKinosen He sets his phone down and leaves th...</td>\n",
              "      <td>0.241634</td>\n",
              "      <td>0.141148</td>\n",
              "    </tr>\n",
              "    <tr>\n",
              "      <th>2</th>\n",
              "      <td>1159533790311505921</td>\n",
              "      <td>:33 &amp;lt; *she grabs his hand* https://t.co/ea6...</td>\n",
              "      <td>0.198585</td>\n",
              "      <td>0.174670</td>\n",
              "    </tr>\n",
              "    <tr>\n",
              "      <th>3</th>\n",
              "      <td>1159533747190059008</td>\n",
              "      <td>@bright_heavens @ImohUmoren His own top 10. Yo...</td>\n",
              "      <td>0.267540</td>\n",
              "      <td>0.214426</td>\n",
              "    </tr>\n",
              "    <tr>\n",
              "      <th>4</th>\n",
              "      <td>1159533794208157697</td>\n",
              "      <td>@TVietor08 @DeathCar72 Nobody wants his crimes...</td>\n",
              "      <td>0.426871</td>\n",
              "      <td>0.106795</td>\n",
              "    </tr>\n",
              "    <tr>\n",
              "      <th>...</th>\n",
              "      <td>...</td>\n",
              "      <td>...</td>\n",
              "      <td>...</td>\n",
              "      <td>...</td>\n",
              "    </tr>\n",
              "    <tr>\n",
              "      <th>72593</th>\n",
              "      <td>1160722927395966977</td>\n",
              "      <td>@Bajdaj In The Heat of The Night on.</td>\n",
              "      <td>0.221350</td>\n",
              "      <td>0.129788</td>\n",
              "    </tr>\n",
              "    <tr>\n",
              "      <th>72594</th>\n",
              "      <td>1159692445459931136</td>\n",
              "      <td>Dude me all the time... And that its teaching ...</td>\n",
              "      <td>0.287457</td>\n",
              "      <td>0.140963</td>\n",
              "    </tr>\n",
              "    <tr>\n",
              "      <th>72595</th>\n",
              "      <td>1159655627129577472</td>\n",
              "      <td>I be doing things for niggas that  niggas woul...</td>\n",
              "      <td>0.677585</td>\n",
              "      <td>0.266540</td>\n",
              "    </tr>\n",
              "    <tr>\n",
              "      <th>72596</th>\n",
              "      <td>1159692445791215616</td>\n",
              "      <td>😂😂 Serious Question Wig Wearers Have Your Bonn...</td>\n",
              "      <td>0.264426</td>\n",
              "      <td>0.160340</td>\n",
              "    </tr>\n",
              "    <tr>\n",
              "      <th>72597</th>\n",
              "      <td>1159692445510057985</td>\n",
              "      <td>@cozmicSPL I have the year plan</td>\n",
              "      <td>0.159107</td>\n",
              "      <td>0.199454</td>\n",
              "    </tr>\n",
              "  </tbody>\n",
              "</table>\n",
              "<p>72598 rows × 4 columns</p>\n",
              "</div>"
            ],
            "text/plain": [
              "                        id  ...       std\n",
              "0      1159529199708717056  ...  0.165998\n",
              "1      1159533793998442498  ...  0.141148\n",
              "2      1159533790311505921  ...  0.174670\n",
              "3      1159533747190059008  ...  0.214426\n",
              "4      1159533794208157697  ...  0.106795\n",
              "...                    ...  ...       ...\n",
              "72593  1160722927395966977  ...  0.129788\n",
              "72594  1159692445459931136  ...  0.140963\n",
              "72595  1159655627129577472  ...  0.266540\n",
              "72596  1159692445791215616  ...  0.160340\n",
              "72597  1159692445510057985  ...  0.199454\n",
              "\n",
              "[72598 rows x 4 columns]"
            ]
          },
          "metadata": {
            "tags": []
          },
          "execution_count": 50
        }
      ]
    },
    {
      "cell_type": "code",
      "metadata": {
        "colab": {
          "base_uri": "https://localhost:8080/",
          "height": 297
        },
        "id": "A0Tc2XASqwwE",
        "outputId": "d8bd7ea3-e0e8-44e5-d8a8-ba0e525eba1f"
      },
      "source": [
        "final_file.describe()"
      ],
      "execution_count": null,
      "outputs": [
        {
          "output_type": "execute_result",
          "data": {
            "text/html": [
              "<div>\n",
              "<style scoped>\n",
              "    .dataframe tbody tr th:only-of-type {\n",
              "        vertical-align: middle;\n",
              "    }\n",
              "\n",
              "    .dataframe tbody tr th {\n",
              "        vertical-align: top;\n",
              "    }\n",
              "\n",
              "    .dataframe thead th {\n",
              "        text-align: right;\n",
              "    }\n",
              "</style>\n",
              "<table border=\"1\" class=\"dataframe\">\n",
              "  <thead>\n",
              "    <tr style=\"text-align: right;\">\n",
              "      <th></th>\n",
              "      <th>average</th>\n",
              "      <th>std</th>\n",
              "    </tr>\n",
              "  </thead>\n",
              "  <tbody>\n",
              "    <tr>\n",
              "      <th>count</th>\n",
              "      <td>72598.000000</td>\n",
              "      <td>72598.000000</td>\n",
              "    </tr>\n",
              "    <tr>\n",
              "      <th>mean</th>\n",
              "      <td>0.319657</td>\n",
              "      <td>0.169865</td>\n",
              "    </tr>\n",
              "    <tr>\n",
              "      <th>std</th>\n",
              "      <td>0.188565</td>\n",
              "      <td>0.037834</td>\n",
              "    </tr>\n",
              "    <tr>\n",
              "      <th>min</th>\n",
              "      <td>0.048023</td>\n",
              "      <td>0.003044</td>\n",
              "    </tr>\n",
              "    <tr>\n",
              "      <th>25%</th>\n",
              "      <td>0.190799</td>\n",
              "      <td>0.150872</td>\n",
              "    </tr>\n",
              "    <tr>\n",
              "      <th>50%</th>\n",
              "      <td>0.246242</td>\n",
              "      <td>0.173307</td>\n",
              "    </tr>\n",
              "    <tr>\n",
              "      <th>75%</th>\n",
              "      <td>0.376986</td>\n",
              "      <td>0.189773</td>\n",
              "    </tr>\n",
              "    <tr>\n",
              "      <th>max</th>\n",
              "      <td>0.931222</td>\n",
              "      <td>0.394361</td>\n",
              "    </tr>\n",
              "  </tbody>\n",
              "</table>\n",
              "</div>"
            ],
            "text/plain": [
              "            average           std\n",
              "count  72598.000000  72598.000000\n",
              "mean       0.319657      0.169865\n",
              "std        0.188565      0.037834\n",
              "min        0.048023      0.003044\n",
              "25%        0.190799      0.150872\n",
              "50%        0.246242      0.173307\n",
              "75%        0.376986      0.189773\n",
              "max        0.931222      0.394361"
            ]
          },
          "metadata": {
            "tags": []
          },
          "execution_count": 51
        }
      ]
    },
    {
      "cell_type": "code",
      "metadata": {
        "id": "b7rERJwAqwwF"
      },
      "source": [
        "#--------------------------------------------ML---------------------------------------------------------------------"
      ],
      "execution_count": null,
      "outputs": []
    },
    {
      "cell_type": "code",
      "metadata": {
        "id": "7VYGpt9AUXe9"
      },
      "source": [
        "def text_prep(s):\n",
        "  s=re.sub(\"@\\S+|http\\S+|[^a-z\\s]\",\" \",s.lower())  \n",
        "  \n",
        "\n"
      ],
      "execution_count": null,
      "outputs": []
    },
    {
      "cell_type": "code",
      "metadata": {
        "id": "u8JR2VEKUXxR"
      },
      "source": [
        ""
      ],
      "execution_count": null,
      "outputs": []
    },
    {
      "cell_type": "code",
      "metadata": {
        "id": "gY8-hmKaqwwF"
      },
      "source": [
        "def clean_up(s):\n",
        "    return re.sub(\"@\\S+|http\\S+|[^a-z\\s]\",\" \",s.lower())  "
      ],
      "execution_count": null,
      "outputs": []
    },
    {
      "cell_type": "code",
      "metadata": {
        "id": "A2DL-_nSqwwF"
      },
      "source": [
        "final_file[\"clean\"]=final_file[\"tweet\"].apply(clean_up)"
      ],
      "execution_count": null,
      "outputs": []
    },
    {
      "cell_type": "code",
      "metadata": {
        "id": "rXZNYwdnqwwF"
      },
      "source": [
        "import nltk\n",
        "from nltk.tokenize import word_tokenize"
      ],
      "execution_count": null,
      "outputs": []
    },
    {
      "cell_type": "code",
      "metadata": {
        "colab": {
          "base_uri": "https://localhost:8080/"
        },
        "id": "GMezBMaLqwwF",
        "outputId": "db8fd161-4123-4c1b-c310-3a2a32000bfd"
      },
      "source": [
        "punkt=nltk.download('punkt')"
      ],
      "execution_count": null,
      "outputs": [
        {
          "output_type": "stream",
          "text": [
            "[nltk_data] Downloading package punkt to /root/nltk_data...\n",
            "[nltk_data]   Unzipping tokenizers/punkt.zip.\n"
          ],
          "name": "stdout"
        }
      ]
    },
    {
      "cell_type": "code",
      "metadata": {
        "id": "S6OXTRmIqwwF"
      },
      "source": [
        "def tokenizer_and_remove_punctuation(row):\n",
        "    tokens = word_tokenize(row['clean'])\n",
        "    return [word.lower() for word in tokens if word.isalpha()]\n",
        "\n",
        "final_file['tokenized'] = final_file.apply(tokenizer_and_remove_punctuation,axis=1)\n"
      ],
      "execution_count": null,
      "outputs": []
    },
    {
      "cell_type": "code",
      "metadata": {
        "colab": {
          "base_uri": "https://localhost:8080/"
        },
        "id": "PS6wWRlHqwwG",
        "outputId": "5ffbc5e0-a658-49bb-f210-2d750bef6bb5"
      },
      "source": [
        "wordnet=nltk.download('wordnet') \n",
        "from nltk.stem import WordNetLemmatizer \n",
        "from nltk.corpus import wordnet\n",
        "\n"
      ],
      "execution_count": null,
      "outputs": [
        {
          "output_type": "stream",
          "text": [
            "[nltk_data] Downloading package wordnet to /root/nltk_data...\n",
            "[nltk_data]   Unzipping corpora/wordnet.zip.\n"
          ],
          "name": "stdout"
        }
      ]
    },
    {
      "cell_type": "code",
      "metadata": {
        "colab": {
          "base_uri": "https://localhost:8080/"
        },
        "id": "O2Hp-I5zqwwH",
        "outputId": "2bd355a6-0eb4-44ac-e660-a07419ed2287"
      },
      "source": [
        "av_percept_tagger=nltk.download('averaged_perceptron_tagger')\n",
        "lemmatizer = WordNetLemmatizer() "
      ],
      "execution_count": null,
      "outputs": [
        {
          "output_type": "stream",
          "text": [
            "[nltk_data] Downloading package averaged_perceptron_tagger to\n",
            "[nltk_data]     /root/nltk_data...\n",
            "[nltk_data]   Unzipping taggers/averaged_perceptron_tagger.zip.\n"
          ],
          "name": "stdout"
        }
      ]
    },
    {
      "cell_type": "code",
      "metadata": {
        "id": "lfpyFPKIqwwH"
      },
      "source": [
        "def get_wordnet_pos(word):\n",
        "    tag = nltk.pos_tag([word])[0][1][0].upper() # gets first letter of POS categorization\n",
        "    tag_dict = {\"J\": wordnet.ADJ, \n",
        "                \"N\": wordnet.NOUN,\n",
        "                \"V\": wordnet.VERB,\n",
        "                \"R\": wordnet.ADV}\n",
        "    return tag_dict.get(tag, wordnet.NOUN) "
      ],
      "execution_count": null,
      "outputs": []
    },
    {
      "cell_type": "code",
      "metadata": {
        "id": "KvdkvF4yqwwH"
      },
      "source": [
        "def lemmatizer_with_pos(row):   \n",
        "    return [lemmatizer.lemmatize(word,get_wordnet_pos(word)) for word in row['tokenized']]\n",
        "\n"
      ],
      "execution_count": null,
      "outputs": []
    },
    {
      "cell_type": "code",
      "metadata": {
        "id": "TGvXvgeeqwwH"
      },
      "source": [
        "final_file[\"lemmatized\"]=final_file.apply(lemmatizer_with_pos,axis=1)"
      ],
      "execution_count": null,
      "outputs": []
    },
    {
      "cell_type": "code",
      "metadata": {
        "colab": {
          "base_uri": "https://localhost:8080/",
          "height": 272
        },
        "id": "DX11vn9cqwwH",
        "outputId": "0c7cc0ac-fe1b-4b2a-9585-61f962f24afc"
      },
      "source": [
        "final_file.head()"
      ],
      "execution_count": null,
      "outputs": [
        {
          "output_type": "execute_result",
          "data": {
            "text/html": [
              "<div>\n",
              "<style scoped>\n",
              "    .dataframe tbody tr th:only-of-type {\n",
              "        vertical-align: middle;\n",
              "    }\n",
              "\n",
              "    .dataframe tbody tr th {\n",
              "        vertical-align: top;\n",
              "    }\n",
              "\n",
              "    .dataframe thead th {\n",
              "        text-align: right;\n",
              "    }\n",
              "</style>\n",
              "<table border=\"1\" class=\"dataframe\">\n",
              "  <thead>\n",
              "    <tr style=\"text-align: right;\">\n",
              "      <th></th>\n",
              "      <th>id</th>\n",
              "      <th>tweet</th>\n",
              "      <th>average</th>\n",
              "      <th>std</th>\n",
              "      <th>clean</th>\n",
              "      <th>tokenized</th>\n",
              "      <th>lemmatized</th>\n",
              "    </tr>\n",
              "  </thead>\n",
              "  <tbody>\n",
              "    <tr>\n",
              "      <th>0</th>\n",
              "      <td>1159529199708717056</td>\n",
              "      <td>@tribelaw And cut a commercial for his campaign.</td>\n",
              "      <td>0.238702</td>\n",
              "      <td>0.165998</td>\n",
              "      <td>and cut a commercial for his campaign</td>\n",
              "      <td>[and, cut, a, commercial, for, his, campaign]</td>\n",
              "      <td>[and, cut, a, commercial, for, his, campaign]</td>\n",
              "    </tr>\n",
              "    <tr>\n",
              "      <th>1</th>\n",
              "      <td>1159533793998442498</td>\n",
              "      <td>@IKinosen He sets his phone down and leaves th...</td>\n",
              "      <td>0.241634</td>\n",
              "      <td>0.141148</td>\n",
              "      <td>he sets his phone down and leaves the doggo ...</td>\n",
              "      <td>[he, sets, his, phone, down, and, leaves, the,...</td>\n",
              "      <td>[he, set, his, phone, down, and, leaf, the, do...</td>\n",
              "    </tr>\n",
              "    <tr>\n",
              "      <th>2</th>\n",
              "      <td>1159533790311505921</td>\n",
              "      <td>:33 &amp;lt; *she grabs his hand* https://t.co/ea6...</td>\n",
              "      <td>0.198585</td>\n",
              "      <td>0.174670</td>\n",
              "      <td>lt   she grabs his hand</td>\n",
              "      <td>[lt, she, grabs, his, hand]</td>\n",
              "      <td>[lt, she, grab, his, hand]</td>\n",
              "    </tr>\n",
              "    <tr>\n",
              "      <th>3</th>\n",
              "      <td>1159533747190059008</td>\n",
              "      <td>@bright_heavens @ImohUmoren His own top 10. Yo...</td>\n",
              "      <td>0.267540</td>\n",
              "      <td>0.214426</td>\n",
              "      <td>his own top     you don t have to agree wi...</td>\n",
              "      <td>[his, own, top, you, don, t, have, to, agree, ...</td>\n",
              "      <td>[his, own, top, you, don, t, have, to, agree, ...</td>\n",
              "    </tr>\n",
              "    <tr>\n",
              "      <th>4</th>\n",
              "      <td>1159533794208157697</td>\n",
              "      <td>@TVietor08 @DeathCar72 Nobody wants his crimes...</td>\n",
              "      <td>0.426871</td>\n",
              "      <td>0.106795</td>\n",
              "      <td>nobody wants his crimes rewarded  not one ...</td>\n",
              "      <td>[nobody, wants, his, crimes, rewarded, not, on...</td>\n",
              "      <td>[nobody, want, his, crime, reward, not, one, s...</td>\n",
              "    </tr>\n",
              "  </tbody>\n",
              "</table>\n",
              "</div>"
            ],
            "text/plain": [
              "                    id  ...                                         lemmatized\n",
              "0  1159529199708717056  ...      [and, cut, a, commercial, for, his, campaign]\n",
              "1  1159533793998442498  ...  [he, set, his, phone, down, and, leaf, the, do...\n",
              "2  1159533790311505921  ...                         [lt, she, grab, his, hand]\n",
              "3  1159533747190059008  ...  [his, own, top, you, don, t, have, to, agree, ...\n",
              "4  1159533794208157697  ...  [nobody, want, his, crime, reward, not, one, s...\n",
              "\n",
              "[5 rows x 7 columns]"
            ]
          },
          "metadata": {
            "tags": []
          },
          "execution_count": 63
        }
      ]
    },
    {
      "cell_type": "code",
      "metadata": {
        "colab": {
          "base_uri": "https://localhost:8080/"
        },
        "id": "nOdNOBh3qwwH",
        "outputId": "cec7a60b-3e5d-4637-f8ac-7c53214cce9c"
      },
      "source": [
        "stopwords=nltk.download('stopwords')"
      ],
      "execution_count": null,
      "outputs": [
        {
          "output_type": "stream",
          "text": [
            "[nltk_data] Downloading package stopwords to /root/nltk_data...\n",
            "[nltk_data]   Unzipping corpora/stopwords.zip.\n"
          ],
          "name": "stdout"
        }
      ]
    },
    {
      "cell_type": "code",
      "metadata": {
        "id": "EsbwT6T_qwwH"
      },
      "source": [
        "from nltk.corpus import stopwords"
      ],
      "execution_count": null,
      "outputs": []
    },
    {
      "cell_type": "code",
      "metadata": {
        "id": "9fYIcnMOqwwH"
      },
      "source": [
        "def remove_sw(row):\n",
        "    return list(set(row['lemmatized']).difference(stopwords.words()))\n",
        "\n",
        "final_file['no_stopwords'] = final_file.apply(remove_sw,axis=1)\n"
      ],
      "execution_count": null,
      "outputs": []
    },
    {
      "cell_type": "code",
      "metadata": {
        "colab": {
          "base_uri": "https://localhost:8080/",
          "height": 289
        },
        "id": "RmugnbwgqwwH",
        "outputId": "329e0576-bc28-437d-f1bc-aba339375d6e"
      },
      "source": [
        "final_file.head()"
      ],
      "execution_count": null,
      "outputs": [
        {
          "output_type": "execute_result",
          "data": {
            "text/html": [
              "<div>\n",
              "<style scoped>\n",
              "    .dataframe tbody tr th:only-of-type {\n",
              "        vertical-align: middle;\n",
              "    }\n",
              "\n",
              "    .dataframe tbody tr th {\n",
              "        vertical-align: top;\n",
              "    }\n",
              "\n",
              "    .dataframe thead th {\n",
              "        text-align: right;\n",
              "    }\n",
              "</style>\n",
              "<table border=\"1\" class=\"dataframe\">\n",
              "  <thead>\n",
              "    <tr style=\"text-align: right;\">\n",
              "      <th></th>\n",
              "      <th>id</th>\n",
              "      <th>tweet</th>\n",
              "      <th>average</th>\n",
              "      <th>std</th>\n",
              "      <th>clean</th>\n",
              "      <th>tokenized</th>\n",
              "      <th>lemmatized</th>\n",
              "      <th>no_stopwords</th>\n",
              "    </tr>\n",
              "  </thead>\n",
              "  <tbody>\n",
              "    <tr>\n",
              "      <th>0</th>\n",
              "      <td>1159529199708717056</td>\n",
              "      <td>@tribelaw And cut a commercial for his campaign.</td>\n",
              "      <td>0.238702</td>\n",
              "      <td>0.165998</td>\n",
              "      <td>and cut a commercial for his campaign</td>\n",
              "      <td>[and, cut, a, commercial, for, his, campaign]</td>\n",
              "      <td>[and, cut, a, commercial, for, his, campaign]</td>\n",
              "      <td>[cut, commercial, campaign]</td>\n",
              "    </tr>\n",
              "    <tr>\n",
              "      <th>1</th>\n",
              "      <td>1159533793998442498</td>\n",
              "      <td>@IKinosen He sets his phone down and leaves th...</td>\n",
              "      <td>0.241634</td>\n",
              "      <td>0.141148</td>\n",
              "      <td>he sets his phone down and leaves the doggo ...</td>\n",
              "      <td>[he, sets, his, phone, down, and, leaves, the,...</td>\n",
              "      <td>[he, set, his, phone, down, and, leaf, the, do...</td>\n",
              "      <td>[read, set, doggo, leaf, phone]</td>\n",
              "    </tr>\n",
              "    <tr>\n",
              "      <th>2</th>\n",
              "      <td>1159533790311505921</td>\n",
              "      <td>:33 &amp;lt; *she grabs his hand* https://t.co/ea6...</td>\n",
              "      <td>0.198585</td>\n",
              "      <td>0.174670</td>\n",
              "      <td>lt   she grabs his hand</td>\n",
              "      <td>[lt, she, grabs, his, hand]</td>\n",
              "      <td>[lt, she, grab, his, hand]</td>\n",
              "      <td>[grab, lt, hand]</td>\n",
              "    </tr>\n",
              "    <tr>\n",
              "      <th>3</th>\n",
              "      <td>1159533747190059008</td>\n",
              "      <td>@bright_heavens @ImohUmoren His own top 10. Yo...</td>\n",
              "      <td>0.267540</td>\n",
              "      <td>0.214426</td>\n",
              "      <td>his own top     you don t have to agree wi...</td>\n",
              "      <td>[his, own, top, you, don, t, have, to, agree, ...</td>\n",
              "      <td>[his, own, top, you, don, t, have, to, agree, ...</td>\n",
              "      <td>[top, easily, make, agree]</td>\n",
              "    </tr>\n",
              "    <tr>\n",
              "      <th>4</th>\n",
              "      <td>1159533794208157697</td>\n",
              "      <td>@TVietor08 @DeathCar72 Nobody wants his crimes...</td>\n",
              "      <td>0.426871</td>\n",
              "      <td>0.106795</td>\n",
              "      <td>nobody wants his crimes rewarded  not one ...</td>\n",
              "      <td>[nobody, wants, his, crimes, rewarded, not, on...</td>\n",
              "      <td>[nobody, want, his, crime, reward, not, one, s...</td>\n",
              "      <td>[single, else, blago, nobody, crime, ok, rewar...</td>\n",
              "    </tr>\n",
              "  </tbody>\n",
              "</table>\n",
              "</div>"
            ],
            "text/plain": [
              "                    id  ...                                       no_stopwords\n",
              "0  1159529199708717056  ...                        [cut, commercial, campaign]\n",
              "1  1159533793998442498  ...                    [read, set, doggo, leaf, phone]\n",
              "2  1159533790311505921  ...                                   [grab, lt, hand]\n",
              "3  1159533747190059008  ...                         [top, easily, make, agree]\n",
              "4  1159533794208157697  ...  [single, else, blago, nobody, crime, ok, rewar...\n",
              "\n",
              "[5 rows x 8 columns]"
            ]
          },
          "metadata": {
            "tags": []
          },
          "execution_count": 67
        }
      ]
    },
    {
      "cell_type": "code",
      "metadata": {
        "colab": {
          "base_uri": "https://localhost:8080/",
          "height": 323
        },
        "id": "HBT_1tCxqwwH",
        "outputId": "2af0ba2b-aceb-4bd5-ecb2-d39789d0c697"
      },
      "source": [
        "def re_blob(row):\n",
        "    return \" \".join(row['no_stopwords'])\n",
        "\n",
        "final_file['clean_blob'] = final_file.apply(re_blob,axis=1)\n",
        "final_file.head()"
      ],
      "execution_count": null,
      "outputs": [
        {
          "output_type": "execute_result",
          "data": {
            "text/html": [
              "<div>\n",
              "<style scoped>\n",
              "    .dataframe tbody tr th:only-of-type {\n",
              "        vertical-align: middle;\n",
              "    }\n",
              "\n",
              "    .dataframe tbody tr th {\n",
              "        vertical-align: top;\n",
              "    }\n",
              "\n",
              "    .dataframe thead th {\n",
              "        text-align: right;\n",
              "    }\n",
              "</style>\n",
              "<table border=\"1\" class=\"dataframe\">\n",
              "  <thead>\n",
              "    <tr style=\"text-align: right;\">\n",
              "      <th></th>\n",
              "      <th>id</th>\n",
              "      <th>tweet</th>\n",
              "      <th>average</th>\n",
              "      <th>std</th>\n",
              "      <th>clean</th>\n",
              "      <th>tokenized</th>\n",
              "      <th>lemmatized</th>\n",
              "      <th>no_stopwords</th>\n",
              "      <th>clean_blob</th>\n",
              "    </tr>\n",
              "  </thead>\n",
              "  <tbody>\n",
              "    <tr>\n",
              "      <th>0</th>\n",
              "      <td>1159529199708717056</td>\n",
              "      <td>@tribelaw And cut a commercial for his campaign.</td>\n",
              "      <td>0.238702</td>\n",
              "      <td>0.165998</td>\n",
              "      <td>and cut a commercial for his campaign</td>\n",
              "      <td>[and, cut, a, commercial, for, his, campaign]</td>\n",
              "      <td>[and, cut, a, commercial, for, his, campaign]</td>\n",
              "      <td>[cut, commercial, campaign]</td>\n",
              "      <td>cut commercial campaign</td>\n",
              "    </tr>\n",
              "    <tr>\n",
              "      <th>1</th>\n",
              "      <td>1159533793998442498</td>\n",
              "      <td>@IKinosen He sets his phone down and leaves th...</td>\n",
              "      <td>0.241634</td>\n",
              "      <td>0.141148</td>\n",
              "      <td>he sets his phone down and leaves the doggo ...</td>\n",
              "      <td>[he, sets, his, phone, down, and, leaves, the,...</td>\n",
              "      <td>[he, set, his, phone, down, and, leaf, the, do...</td>\n",
              "      <td>[read, set, doggo, leaf, phone]</td>\n",
              "      <td>read set doggo leaf phone</td>\n",
              "    </tr>\n",
              "    <tr>\n",
              "      <th>2</th>\n",
              "      <td>1159533790311505921</td>\n",
              "      <td>:33 &amp;lt; *she grabs his hand* https://t.co/ea6...</td>\n",
              "      <td>0.198585</td>\n",
              "      <td>0.174670</td>\n",
              "      <td>lt   she grabs his hand</td>\n",
              "      <td>[lt, she, grabs, his, hand]</td>\n",
              "      <td>[lt, she, grab, his, hand]</td>\n",
              "      <td>[grab, lt, hand]</td>\n",
              "      <td>grab lt hand</td>\n",
              "    </tr>\n",
              "    <tr>\n",
              "      <th>3</th>\n",
              "      <td>1159533747190059008</td>\n",
              "      <td>@bright_heavens @ImohUmoren His own top 10. Yo...</td>\n",
              "      <td>0.267540</td>\n",
              "      <td>0.214426</td>\n",
              "      <td>his own top     you don t have to agree wi...</td>\n",
              "      <td>[his, own, top, you, don, t, have, to, agree, ...</td>\n",
              "      <td>[his, own, top, you, don, t, have, to, agree, ...</td>\n",
              "      <td>[top, easily, make, agree]</td>\n",
              "      <td>top easily make agree</td>\n",
              "    </tr>\n",
              "    <tr>\n",
              "      <th>4</th>\n",
              "      <td>1159533794208157697</td>\n",
              "      <td>@TVietor08 @DeathCar72 Nobody wants his crimes...</td>\n",
              "      <td>0.426871</td>\n",
              "      <td>0.106795</td>\n",
              "      <td>nobody wants his crimes rewarded  not one ...</td>\n",
              "      <td>[nobody, wants, his, crimes, rewarded, not, on...</td>\n",
              "      <td>[nobody, want, his, crime, reward, not, one, s...</td>\n",
              "      <td>[single, else, blago, nobody, crime, ok, rewar...</td>\n",
              "      <td>single else blago nobody crime ok reward person</td>\n",
              "    </tr>\n",
              "  </tbody>\n",
              "</table>\n",
              "</div>"
            ],
            "text/plain": [
              "                    id  ...                                       clean_blob\n",
              "0  1159529199708717056  ...                          cut commercial campaign\n",
              "1  1159533793998442498  ...                        read set doggo leaf phone\n",
              "2  1159533790311505921  ...                                     grab lt hand\n",
              "3  1159533747190059008  ...                            top easily make agree\n",
              "4  1159533794208157697  ...  single else blago nobody crime ok reward person\n",
              "\n",
              "[5 rows x 9 columns]"
            ]
          },
          "metadata": {
            "tags": []
          },
          "execution_count": 68
        }
      ]
    },
    {
      "cell_type": "code",
      "metadata": {
        "id": "fsgeWPqtfPbi"
      },
      "source": [
        ""
      ],
      "execution_count": null,
      "outputs": []
    },
    {
      "cell_type": "markdown",
      "metadata": {
        "id": "hz5ai7pGjJ3A"
      },
      "source": [
        "# Opening and saving pickles"
      ]
    },
    {
      "cell_type": "code",
      "metadata": {
        "id": "Vx1ASfuifYOq"
      },
      "source": [
        "with open(\"final_file\",\"wb\") as f:\n",
        "  pickle.dump(final_file,f)"
      ],
      "execution_count": null,
      "outputs": []
    },
    {
      "cell_type": "code",
      "metadata": {
        "id": "3kkpzkj-fYOs"
      },
      "source": [
        "with open(\"final_file\",\"rb\") as f:\n",
        "  final_file_pkl=pickle.load(f)"
      ],
      "execution_count": null,
      "outputs": []
    },
    {
      "cell_type": "markdown",
      "metadata": {
        "id": "lcJjVKBikYga"
      },
      "source": [
        "# New Bow and new model on only off tweet"
      ]
    },
    {
      "cell_type": "code",
      "metadata": {
        "id": "K1yYptwkijqb"
      },
      "source": [
        "new_only_off=final_file_pkl[final_file_pkl[\"is_offensive\"]==1]\r\n",
        "new_only_off.head()"
      ],
      "execution_count": null,
      "outputs": []
    },
    {
      "cell_type": "code",
      "metadata": {
        "id": "-x_ZvKfSjIEf"
      },
      "source": [
        "#let's take only the most common 1000 words\r\n",
        "bow_vect = CountVectorizer(max_features=1000)\r\n",
        "# fit creates one entry for each different word seen  \r\n",
        "#X = bow_vect.fit_transform(new_only_off['clean_blob']).toarray()"
      ],
      "execution_count": null,
      "outputs": []
    },
    {
      "cell_type": "code",
      "metadata": {
        "id": "ihEvwUkFjzn3"
      },
      "source": [
        "Z=bow_vect.fit(new_only_off['clean_blob'])"
      ],
      "execution_count": null,
      "outputs": []
    },
    {
      "cell_type": "code",
      "metadata": {
        "id": "SlWZhdVhyUmi"
      },
      "source": [
        "X=bow_vect.transform(final_file_pkl[\"clean_blob\"]).toarray()"
      ],
      "execution_count": null,
      "outputs": []
    },
    {
      "cell_type": "code",
      "metadata": {
        "id": "HfYJVnG-tANI"
      },
      "source": [
        "X=pd.DataFrame(X,columns=bow_vect.get_feature_names())"
      ],
      "execution_count": null,
      "outputs": []
    },
    {
      "cell_type": "code",
      "metadata": {
        "id": "xpnyPk6OkCPb"
      },
      "source": [
        "with open(\"bow_vect3\",\"wb\") as f:\r\n",
        "  pickle.dump(bow_vect,f)"
      ],
      "execution_count": null,
      "outputs": []
    },
    {
      "cell_type": "code",
      "metadata": {
        "colab": {
          "base_uri": "https://localhost:8080/"
        },
        "id": "I-ymY1Aky2vo",
        "outputId": "db611a93-5f18-4593-db7c-13257719d685"
      },
      "source": [
        "X.shape"
      ],
      "execution_count": null,
      "outputs": [
        {
          "output_type": "execute_result",
          "data": {
            "text/plain": [
              "(72598, 1000)"
            ]
          },
          "metadata": {
            "tags": []
          },
          "execution_count": 43
        }
      ]
    },
    {
      "cell_type": "code",
      "metadata": {
        "id": "H0JzsXhQsWet"
      },
      "source": [
        "as_df_final=pd.DataFrame(X,columns=bow_vect.get_feature_names())"
      ],
      "execution_count": null,
      "outputs": []
    },
    {
      "cell_type": "code",
      "metadata": {
        "colab": {
          "base_uri": "https://localhost:8080/"
        },
        "id": "pX6pDpo7sblb",
        "outputId": "d3e86b05-fd08-4ac6-9913-3d032c9182ac"
      },
      "source": [
        "as_df_final.shape"
      ],
      "execution_count": null,
      "outputs": [
        {
          "output_type": "execute_result",
          "data": {
            "text/plain": [
              "(72598, 1000)"
            ]
          },
          "metadata": {
            "tags": []
          },
          "execution_count": 53
        }
      ]
    },
    {
      "cell_type": "code",
      "metadata": {
        "id": "qgUpwyjNzvPo"
      },
      "source": [
        "features_fin=as_df_final\r\n",
        "labels_fin=final_file_pkl[\"is_offensive\"]"
      ],
      "execution_count": null,
      "outputs": []
    },
    {
      "cell_type": "code",
      "metadata": {
        "colab": {
          "base_uri": "https://localhost:8080/"
        },
        "id": "_FB0dLlp1AnH",
        "outputId": "8caf189a-e3db-41aa-8785-0bfe0ff22302"
      },
      "source": [
        "labels_fin.shape"
      ],
      "execution_count": null,
      "outputs": [
        {
          "output_type": "execute_result",
          "data": {
            "text/plain": [
              "(72598,)"
            ]
          },
          "metadata": {
            "tags": []
          },
          "execution_count": 50
        }
      ]
    },
    {
      "cell_type": "code",
      "metadata": {
        "id": "hIZMqqrC0uJr"
      },
      "source": [
        "from sklearn.model_selection import train_test_split"
      ],
      "execution_count": null,
      "outputs": []
    },
    {
      "cell_type": "code",
      "metadata": {
        "id": "h3p7PUzAz5Oe"
      },
      "source": [
        "X_train, X_test, y_train, y_test = train_test_split(features_fin, labels_fin, random_state=0)"
      ],
      "execution_count": null,
      "outputs": []
    },
    {
      "cell_type": "code",
      "metadata": {
        "id": "lO-guEFi1jQc"
      },
      "source": [
        "from sklearn.ensemble import GradientBoostingClassifier"
      ],
      "execution_count": null,
      "outputs": []
    },
    {
      "cell_type": "code",
      "metadata": {
        "id": "1G0Dm0Bz1wxn"
      },
      "source": [
        "gb_reg = GradientBoostingClassifier(max_depth=5, #gradient boosting always works with trees, no need to call the tree regressor\r\n",
        "                                   n_estimators=100,\r\n",
        "                                   random_state=1 # tastes like chicken\r\n",
        "                                   )"
      ],
      "execution_count": null,
      "outputs": []
    },
    {
      "cell_type": "code",
      "metadata": {
        "id": "AiO4mCs515rI"
      },
      "source": [
        "gb_reg_fit=gb_reg.fit(X_train, y_train)"
      ],
      "execution_count": null,
      "outputs": []
    },
    {
      "cell_type": "code",
      "metadata": {
        "id": "Nmiewcfh3x1v"
      },
      "source": [
        "with open(\"new_grad_mod\",\"wb\") as f:\r\n",
        "  pickle.dump(gb_reg_fit,f)"
      ],
      "execution_count": null,
      "outputs": []
    },
    {
      "cell_type": "code",
      "metadata": {
        "colab": {
          "base_uri": "https://localhost:8080/"
        },
        "id": "sAwWj1Df39Zs",
        "outputId": "1778d43b-affd-488e-a93f-43952baf88ef"
      },
      "source": [
        "gb_reg_fit.score(X_test,y_test)"
      ],
      "execution_count": null,
      "outputs": [
        {
          "output_type": "execute_result",
          "data": {
            "text/plain": [
              "0.9530027548209367"
            ]
          },
          "metadata": {
            "tags": []
          },
          "execution_count": 60
        }
      ]
    },
    {
      "cell_type": "code",
      "metadata": {
        "id": "H9YFwikC4aKn"
      },
      "source": [
        "from sklearn.metrics import classification_report\r\n",
        "from sklearn.metrics import confusion_matrix"
      ],
      "execution_count": null,
      "outputs": []
    },
    {
      "cell_type": "code",
      "metadata": {
        "id": "c88lWqGE39Zv"
      },
      "source": [
        "y_pred=gb_reg_fit.predict(X_test)"
      ],
      "execution_count": null,
      "outputs": []
    },
    {
      "cell_type": "code",
      "metadata": {
        "colab": {
          "base_uri": "https://localhost:8080/"
        },
        "id": "IoQQuAFw39Zw",
        "outputId": "ae7a0b9f-c169-4e3a-d686-fccc884786dc"
      },
      "source": [
        "confusion_matrix(y_pred,y_test)"
      ],
      "execution_count": null,
      "outputs": [
        {
          "output_type": "execute_result",
          "data": {
            "text/plain": [
              "array([[15929,   780],\n",
              "       [   73,  1368]])"
            ]
          },
          "metadata": {
            "tags": []
          },
          "execution_count": 64
        }
      ]
    },
    {
      "cell_type": "code",
      "metadata": {
        "id": "NqjxIVgx9FO1"
      },
      "source": [
        "#with open(\"model_gradient\",\"rb\") as f:\n",
        "#    modelfdfd=pickle.load(f)"
      ],
      "execution_count": null,
      "outputs": []
    },
    {
      "cell_type": "code",
      "metadata": {
        "id": "gLE72rvg149D"
      },
      "source": [
        ""
      ],
      "execution_count": null,
      "outputs": []
    },
    {
      "cell_type": "code",
      "metadata": {
        "id": "swRnkSKBiT8v"
      },
      "source": [
        "#final_import[\"no_stopwords\"] = final_import[\"no_stopwords\"].apply(eval)"
      ],
      "execution_count": null,
      "outputs": []
    },
    {
      "cell_type": "markdown",
      "metadata": {
        "id": "LpsjTPhzIG86"
      },
      "source": [
        "# Clustering"
      ]
    },
    {
      "cell_type": "code",
      "metadata": {
        "id": "TKrqR9noqwwH"
      },
      "source": [
        "#-------------------------------------clustering------------------------------------------------------------------------"
      ],
      "execution_count": null,
      "outputs": []
    },
    {
      "cell_type": "code",
      "metadata": {
        "id": "st3cXCZeqwwH"
      },
      "source": [
        "from sklearn.feature_extraction.text import CountVectorizer\n"
      ],
      "execution_count": null,
      "outputs": []
    },
    {
      "cell_type": "code",
      "metadata": {
        "id": "n9Zj5uHNqwwH"
      },
      "source": [
        "#let's take only the most common 1000 words\n",
        "bow_vect = CountVectorizer(max_features=1000)\n",
        "# fit creates one entry for each different word seen  \n",
        "X = bow_vect.fit_transform(final_file['clean_blob']).toarray()"
      ],
      "execution_count": null,
      "outputs": []
    },
    {
      "cell_type": "code",
      "metadata": {
        "id": "2gGutXNZqwwH"
      },
      "source": [
        "as_df = pd.DataFrame(X,columns=bow_vect.get_feature_names())"
      ],
      "execution_count": null,
      "outputs": []
    },
    {
      "cell_type": "code",
      "metadata": {
        "id": "dX4_5auAqwwH"
      },
      "source": [
        "from sklearn import cluster\n",
        "kmeans = cluster.KMeans(n_clusters=6,random_state=100)\n",
        "kmeans.fit(X)\n",
        "pred = kmeans.predict(X)"
      ],
      "execution_count": null,
      "outputs": []
    },
    {
      "cell_type": "code",
      "metadata": {
        "id": "2NJa-OvIy83m",
        "colab": {
          "base_uri": "https://localhost:8080/"
        },
        "outputId": "7df4f4fc-874d-4e30-d9ca-c87562049934"
      },
      "source": [
        "X"
      ],
      "execution_count": null,
      "outputs": [
        {
          "output_type": "execute_result",
          "data": {
            "text/plain": [
              "array([[0, 0, 0, ..., 0, 0, 0],\n",
              "       [0, 0, 0, ..., 0, 0, 0],\n",
              "       [0, 0, 0, ..., 0, 0, 0],\n",
              "       ...,\n",
              "       [0, 0, 0, ..., 0, 0, 0],\n",
              "       [0, 0, 0, ..., 0, 0, 0],\n",
              "       [0, 0, 0, ..., 0, 0, 0]])"
            ]
          },
          "metadata": {
            "tags": []
          },
          "execution_count": 81
        }
      ]
    },
    {
      "cell_type": "code",
      "metadata": {
        "id": "BDleeOGnqwwH"
      },
      "source": [
        "predict_df = pd.concat([final_file[['tweet','average',\"std\",\"no_stopwords\",\"clean_blob\"]],pd.DataFrame(pred,columns=['class'])],axis=1)"
      ],
      "execution_count": null,
      "outputs": []
    },
    {
      "cell_type": "code",
      "metadata": {
        "colab": {
          "base_uri": "https://localhost:8080/",
          "height": 204
        },
        "id": "zHbWjxgy6CFc",
        "outputId": "6864d2bb-53c5-4d0a-baff-65f0617fa314"
      },
      "source": [
        "predict_df.head()"
      ],
      "execution_count": null,
      "outputs": [
        {
          "output_type": "execute_result",
          "data": {
            "text/html": [
              "<div>\n",
              "<style scoped>\n",
              "    .dataframe tbody tr th:only-of-type {\n",
              "        vertical-align: middle;\n",
              "    }\n",
              "\n",
              "    .dataframe tbody tr th {\n",
              "        vertical-align: top;\n",
              "    }\n",
              "\n",
              "    .dataframe thead th {\n",
              "        text-align: right;\n",
              "    }\n",
              "</style>\n",
              "<table border=\"1\" class=\"dataframe\">\n",
              "  <thead>\n",
              "    <tr style=\"text-align: right;\">\n",
              "      <th></th>\n",
              "      <th>tweet</th>\n",
              "      <th>average</th>\n",
              "      <th>std</th>\n",
              "      <th>no_stopwords</th>\n",
              "      <th>clean_blob</th>\n",
              "      <th>class</th>\n",
              "    </tr>\n",
              "  </thead>\n",
              "  <tbody>\n",
              "    <tr>\n",
              "      <th>0</th>\n",
              "      <td>@tribelaw And cut a commercial for his campaign.</td>\n",
              "      <td>0.238702</td>\n",
              "      <td>0.165998</td>\n",
              "      <td>[cut, commercial, campaign]</td>\n",
              "      <td>cut commercial campaign</td>\n",
              "      <td>4</td>\n",
              "    </tr>\n",
              "    <tr>\n",
              "      <th>1</th>\n",
              "      <td>@IKinosen He sets his phone down and leaves th...</td>\n",
              "      <td>0.241634</td>\n",
              "      <td>0.141148</td>\n",
              "      <td>[read, set, doggo, leaf, phone]</td>\n",
              "      <td>read set doggo leaf phone</td>\n",
              "      <td>4</td>\n",
              "    </tr>\n",
              "    <tr>\n",
              "      <th>2</th>\n",
              "      <td>:33 &amp;lt; *she grabs his hand* https://t.co/ea6...</td>\n",
              "      <td>0.198585</td>\n",
              "      <td>0.174670</td>\n",
              "      <td>[grab, lt, hand]</td>\n",
              "      <td>grab lt hand</td>\n",
              "      <td>4</td>\n",
              "    </tr>\n",
              "    <tr>\n",
              "      <th>3</th>\n",
              "      <td>@bright_heavens @ImohUmoren His own top 10. Yo...</td>\n",
              "      <td>0.267540</td>\n",
              "      <td>0.214426</td>\n",
              "      <td>[top, easily, make, agree]</td>\n",
              "      <td>top easily make agree</td>\n",
              "      <td>1</td>\n",
              "    </tr>\n",
              "    <tr>\n",
              "      <th>4</th>\n",
              "      <td>@TVietor08 @DeathCar72 Nobody wants his crimes...</td>\n",
              "      <td>0.426871</td>\n",
              "      <td>0.106795</td>\n",
              "      <td>[single, else, blago, nobody, crime, ok, rewar...</td>\n",
              "      <td>single else blago nobody crime ok reward person</td>\n",
              "      <td>4</td>\n",
              "    </tr>\n",
              "  </tbody>\n",
              "</table>\n",
              "</div>"
            ],
            "text/plain": [
              "                                               tweet  ...  class\n",
              "0   @tribelaw And cut a commercial for his campaign.  ...      4\n",
              "1  @IKinosen He sets his phone down and leaves th...  ...      4\n",
              "2  :33 &lt; *she grabs his hand* https://t.co/ea6...  ...      4\n",
              "3  @bright_heavens @ImohUmoren His own top 10. Yo...  ...      1\n",
              "4  @TVietor08 @DeathCar72 Nobody wants his crimes...  ...      4\n",
              "\n",
              "[5 rows x 6 columns]"
            ]
          },
          "metadata": {
            "tags": []
          },
          "execution_count": 83
        }
      ]
    },
    {
      "cell_type": "code",
      "metadata": {
        "id": "DMvafsWQQQ2H"
      },
      "source": [
        "#-------------------------------------end clustering----------------------------------------------------------------------------------"
      ],
      "execution_count": null,
      "outputs": []
    },
    {
      "cell_type": "markdown",
      "metadata": {
        "id": "dOz6zGLsH0oI"
      },
      "source": [
        "# TF-IDF"
      ]
    },
    {
      "cell_type": "code",
      "metadata": {
        "id": "l7-HWmgHQfrt"
      },
      "source": [
        "#--------------------------------------------TF-idf----------------------------------------------------"
      ],
      "execution_count": null,
      "outputs": []
    },
    {
      "cell_type": "code",
      "metadata": {
        "id": "xI8Dx7LkBI5u"
      },
      "source": [
        "from sklearn.feature_extraction.text import TfidfVectorizer"
      ],
      "execution_count": null,
      "outputs": []
    },
    {
      "cell_type": "code",
      "metadata": {
        "id": "0dUiBukeBOWz"
      },
      "source": [
        "tfidf_vect =TfidfVectorizer()"
      ],
      "execution_count": null,
      "outputs": []
    },
    {
      "cell_type": "code",
      "metadata": {
        "id": "5XtYXtYOBh1P"
      },
      "source": [
        "X_tfidf = tfidf_vect.fit_transform(final_file['clean_blob'])"
      ],
      "execution_count": null,
      "outputs": []
    },
    {
      "cell_type": "code",
      "metadata": {
        "colab": {
          "base_uri": "https://localhost:8080/"
        },
        "id": "TDnQUne6CJHY",
        "outputId": "3b864e97-dc7f-4aed-aaf4-1154424e5ab4"
      },
      "source": [
        "print(X_tfidf.shape)\n",
        "print(tfidf_vect.get_feature_names())"
      ],
      "execution_count": null,
      "outputs": [
        {
          "output_type": "stream",
          "text": [
            "(72598, 35181)\n",
            "['aa', 'aaa', 'aaaa', 'aaaaaaa', 'aaaaaaaa', 'aaaaaaaaa', 'aaaaaaaaaa', 'aaaaaaaaaaaaaaaaaaaa', 'aaaaaaaay', 'aaaaaah', 'aaaaand', 'aaaaarrrgh', 'aaaah', 'aaaand', 'aaaarrgh', 'aaaba', 'aaagggghhhhh', 'aaah', 'aaahhhh', 'aaaw', 'aaawhoscoops', 'aaawww', 'aac', 'aadmi', 'aaf', 'aagnkkgcdjk', 'aahhhh', 'aaiden', 'aaksjsjsne', 'aalegra', 'aaliyah', 'aam', 'aamiin', 'aandal', 'aang', 'aankhonwali', 'aaron', 'aaronmcgruder', 'aarp', 'aaryn', 'aasimar', 'aave', 'aawon', 'ab', 'aba', 'abaendorsed', 'abajolayo', 'abalos', 'abandon', 'abandonment', 'abantu', 'abate', 'abayi', 'abba', 'abbacchio', 'abbasi', 'abbeg', 'abbey', 'abbeyroad', 'abbo', 'abbot', 'abbreviate', 'abbreviation', 'abby', 'abbys', 'abc', 'abd', 'abdicate', 'abdomen', 'abdominal', 'abduct', 'abdullah', 'abe', 'abeg', 'abeggi', 'abel', 'abend', 'abercrombie', 'aberdeen', 'aberdeeny', 'aberrgg', 'abesenceofempathy', 'abh', 'abhenandan', 'abhi', 'abhorrent', 'abhors', 'abhxjackieaina', 'abi', 'abide', 'abigail', 'ability', 'abim', 'abir', 'abject', 'ablackladysketchshow', 'ablaze', 'able', 'abledsareweird', 'ableg', 'ableist', 'ableton', 'abnew', 'abnormally', 'aboard', 'abode', 'aboki', 'abolish', 'abolishice', 'abolition', 'abomination', 'aboot', 'abort', 'aborted', 'abortion', 'abortionist', 'abouts', 'abq', 'abraham', 'abram', 'abrasive', 'abrazo', 'abrewa', 'abridge', 'abrielle', 'abroad', 'abrogation', 'abry', 'abscess', 'abscond', 'absence', 'absent', 'absinthe', 'abskdjd', 'absoltely', 'absolute', 'absolutely', 'absolutey', 'absolutley', 'absolutly', 'absorb', 'absorbed', 'absorption', 'absowutewy', 'abstrackt', 'abstract', 'absurd', 'absurdity', 'absurdly', 'abt', 'abu', 'abunch', 'abundance', 'abundant', 'abundantly', 'aburrida', 'abuse', 'abuser', 'abusive', 'abyss', 'abyssinia', 'abzx', 'ac', 'aca', 'acabo', 'acacia', 'academia', 'academic', 'academy', 'acapella', 'acc', 'accademy', 'accdg', 'accdng', 'accelerate', 'accelerator', 'accent', 'accept', 'acceptable', 'acceptance', 'accepted', 'acceptp', 'accepts', 'access', 'accessible', 'accessory', 'acche', 'accident', 'accidental', 'accidentally', 'accidently', 'accidetally', 'acclaim', 'acclimate', 'accolade', 'accommodate', 'accommodation', 'accomodable', 'accompanies', 'accompany', 'accompanyments', 'accompli', 'accomplice', 'accomplish', 'accomplishment', 'accord', 'accordingly', 'accordion', 'account', 'accountability', 'accountable', 'accountant', 'accounting', 'accp', 'acct', 'accts', 'accumulate', 'accuracy', 'accurate', 'accurately', 'accurse', 'accusation', 'accuse', 'accuser', 'accuses', 'accustom', 'ace', 'acha', 'achando', 'achar', 'ache', 'achieve', 'achievement', 'achilles', 'achillies', 'achillis', 'achol', 'achy', 'acid', 'acidentally', 'acidity', 'ack', 'acker', 'ackles', 'acknowledge', 'acknowledgement', 'acknowledges', 'ackshually', 'acl', 'aclu', 'acne', 'acont', 'acorn', 'acosta', 'acoustic', 'acperience', 'acquaint', 'acquaintance', 'acquiesce', 'acquire', 'acquisition', 'acre', 'acrobatics', 'acronym', 'across', 'acrylic', 'acst', 'act', 'actin', 'action', 'activate', 'activates', 'activation', 'activator', 'active', 'actively', 'activeness', 'activision', 'activism', 'activist', 'activites', 'activity', 'actor', 'actorslife', 'actress', 'actsofviolence', 'actual', 'actually', 'actuly', 'acura', 'acxit', 'adagio', 'adai', 'adam', 'adamant', 'adamfannin', 'adapt', 'adaptation', 'adapter', 'adaption', 'adapts', 'adays', 'adcom', 'add', 'addams', 'addendum', 'adderall', 'adderalldon', 'addeyyeb', 'addict', 'addiction', 'addictive', 'addie', 'addison', 'addition', 'additional', 'addle', 'addme', 'addong', 'address', 'addsomeflavour', 'adductor', 'addy', 'ade', 'adefender', 'adela', 'adele', 'aden', 'adept', 'adequate', 'adequately', 'adeynaju', 'adhd', 'adhere', 'adhir', 'adi', 'adidas', 'adieu', 'adik', 'adil', 'ading', 'adios', 'adjective', 'adjourn', 'adjust', 'adjustment', 'adjusts', 'adkin', 'adl', 'adler', 'adlibs', 'admin', 'administration', 'administrative', 'admins', 'admirable', 'admiral', 'admiration', 'admire', 'admirer', 'admission', 'admit', 'admits', 'admitt', 'admittedly', 'adn', 'adnan', 'adnihaveyou', 'adnob', 'adns', 'ado', 'adobo', 'adoecer', 'adolescence', 'adolf', 'adolfo', 'adolph', 'adone', 'adonko', 'adopt', 'adoptacasual', 'adoption', 'adoptmetrade', 'adoptmetrades', 'adopts', 'adora', 'adorable', 'adore', 'adores', 'adorn', 'adp', 'adrenaline', 'adrenocrome', 'adress', 'adrian', 'adriel', 'adrien', 'adsl', 'adter', 'adu', 'adulation', 'adult', 'adulterer', 'adultery', 'adulth', 'adulthood', 'adulting', 'adultlife', 'advance', 'advanced', 'advancement', 'advantage', 'advent', 'adventure', 'adventurer', 'adventurous', 'adversary', 'adverse', 'adversely', 'adversity', 'advert', 'advertise', 'advertised', 'advertisement', 'advertiser', 'advertises', 'advertising', 'advice', 'adviceonfindingagoodmate', 'advil', 'advise', 'adviser', 'advisor', 'advisory', 'advocacy', 'advocate', 'ady', 'ae', 'aegis', 'aegyo', 'aehf', 'aent', 'aeolus', 'aerial', 'aerie', 'aerobic', 'aerodactyl', 'aerodynamic', 'aerolas', 'aeropuerto', 'aerospace', 'aesthetic', 'aesthetically', 'aesthetician', 'aether', 'aew', 'afab', 'afacb', 'afande', 'afar', 'afc', 'afcg', 'aff', 'affair', 'affect', 'affected', 'affection', 'affectionate', 'affective', 'afff', 'affidavit', 'affiliate', 'affiliation', 'affirm', 'affirmation', 'affleck', 'afford', 'affordability', 'affordable', 'affraid', 'affront', 'afghanistan', 'afhksfksfk', 'afl', 'afobe', 'afollowapple', 'afp', 'afraid', 'afresh', 'africa', 'african', 'africanproverb', 'afrikaans', 'afro', 'afronation', 'afspa', 'afta', 'afterall', 'aftercheese', 'aftereffect', 'afterglow', 'afterimage', 'afterlife', 'aftermath', 'afternoon', 'aftershock', 'afterthought', 'afterward', 'afterwards', 'afterwords', 'aftv', 'afty', 'afua', 'afuerzas', 'ag', 'aga', 'againcdukngh', 'againdez', 'againnnnnn', 'agains', 'agape', 'agate', 'agbado', 'agbaya', 'agbayas', 'age', 'agege', 'agegelove', 'ageist', 'agency', 'agenda', 'agent', 'ageyo', 'agg', 'aggie', 'aggravate', 'aggregate', 'aggregator', 'aggression', 'aggressive', 'aggressively', 'aggressiveness', 'aggressor', 'aggretsuko', 'aggrieve', 'aggy', 'aghanistan', 'aghh', 'agile', 'agility', 'agin', 'agina', 'agitate', 'agni', 'agnostic', 'ago', 'agonize', 'agony', 'agora', 'agosshsjejjdnsjsjdjd', 'agoyin', 'agra', 'agram', 'agravaine', 'agree', 'agreement', 'agrees', 'agresor', 'agriculture', 'agsgdgdh', 'agtwitter', 'aguero', 'aguilera', 'agust', 'ah', 'aha', 'ahaaa', 'ahaaaaaaa', 'ahaaahaaa', 'ahah', 'ahaha', 'ahahah', 'ahahaha', 'ahahahah', 'ahahahaha', 'ahahahahahha', 'ahahahahahhahahahahahahahhahahahahhahahahahahahahahahahaha', 'ahahahha', 'ahahawiofjnen', 'ahahhaa', 'ahahhhahaha', 'ahead', 'ahegao', 'ahem', 'ahgase', 'ahh', 'ahhh', 'ahhhh', 'ahhhhh', 'ahhhhhh', 'ahhhhhhhh', 'ahhhhhhhhhhhh', 'ahhhmazzing', 'ahmad', 'ahmed', 'ahmeeeeeeeeed', 'ahoge', 'ahold', 'ahoy', 'ahri', 'ahs', 'ahsbbdjfnfc', 'ahsfsfs', 'ahsjdkd', 'ahskfkenrid', 'aht', 'ahtisaari', 'ahtlete', 'aicc', 'aid', 'aidan', 'aide', 'aiden', 'aidjdkqksodd', 'aidonia', 'aifsjdjs', 'aight', 'aiho', 'aiight', 'aiiiite', 'aik', 'ail', 'aim', 'aimee', 'aimerrr', 'aimyon', 'aina', 'ainanalive', 'aine', 'aint', 'air', 'airbase', 'airbender', 'airbnb', 'airborn', 'airborne', 'airbus', 'aircast', 'aircraft', 'airhead', 'airi', 'airline', 'airman', 'airplane', 'airpod', 'airpods', 'airport', 'airportthoughts', 'airspace', 'airstrip', 'airtel', 'airtight', 'airtime', 'airville', 'airwave', 'aise', 'aish', 'aisle', 'aisling', 'aismlearns', 'aiswisbsj', 'aita', 'aitch', 'aites', 'aizawa', 'aizen', 'aj', 'aja', 'ajax', 'ajay', 'ajayen', 'ajdkskdskd', 'ajith', 'ajndnfnrngng', 'ajo', 'ajskalalskdkaklalskdk', 'aju', 'ajun', 'ak', 'aka', 'akacest', 'akagi', 'akame', 'akarenga', 'akari', 'akashi', 'akbarey', 'akd', 'akdjfjf', 'ake', 'akechi', 'akfg', 'akfkakkfkskf', 'akfnskdnskdnsks', 'akgae', 'akhnd', 'akin', 'aking', 'akiya', 'akko', 'ako', 'akon', 'akoooooo', 'akron', 'aksel', 'aksjskaka', 'akskskks', 'akslalalskd', 'aksnsnsjsjskkaa', 'akznsnsn', 'alabama', 'alabang', 'alabaster', 'alacatraz', 'aladdin', 'alaikum', 'alam', 'alameda', 'alan', 'alana', 'alara', 'alarm', 'alarmed', 'alaska', 'albania', 'albanian', 'albany', 'albeit', 'albert', 'alberta', 'alberto', 'albies', 'albino', 'album', 'albumns', 'albuquerque', 'albus', 'alc', 'alcahol', 'alchemist', 'alchemy', 'alchie', 'alcoa', 'alcohol', 'alcoholic', 'alcoholism', 'alcove', 'ald', 'alden', 'alder', 'aldi', 'aldo', 'aldon', 'aldous', 'aldrin', 'alds', 'aldub', 'aldubnation', 'aldubperpetua', 'aldubperpetuallyblessed', 'aldubxadnmatinabangen', 'aleatorio', 'aleave', 'alec', 'aled', 'alegria', 'aleida', 'alek', 'alert', 'alertness', 'alessia', 'alesso', 'alevelresultsday', 'alex', 'alexa', 'alexander', 'alexandersson', 'alexandra', 'alexandrova', 'alexf', 'alexis', 'alexithymia', 'alfonso', 'alfred', 'alfredo', 'alfy', 'algae', 'algebra', 'algeria', 'algorithm', 'algos', 'algqhjafsviaiuyhnsm', 'alguilera', 'alhaji', 'alhamdulilah', 'alhamdulillah', 'alianza', 'aliasing', 'aliassime', 'alibi', 'alica', 'alice', 'alief', 'alien', 'aliexpress', 'align', 'alignment', 'aligns', 'aliizae', 'alike', 'alimony', 'alison', 'alissa', 'alita', 'alitaarmy', 'alittle', 'alive', 'alkmaar', 'alky', 'allah', 'allan', 'allaswat', 'allat', 'allegation', 'allege', 'allegedly', 'alleges', 'allegiance', 'allegra', 'allergic', 'allergy', 'alley', 'alleyoop', 'alleyway', 'allez', 'allezlamonf', 'allfather', 'allgasnobrakes', 'alliance', 'allie', 'allied', 'alligator', 'allinity', 'allison', 'alliteration', 'alll', 'allll', 'alllll', 'allllll', 'alllllll', 'allllllll', 'alllllllll', 'allocate', 'allosexualizing', 'allot', 'allotment', 'allotmentites', 'allow', 'allowable', 'allowance', 'allows', 'alls', 'allselves', 'allstartrek', 'alltaf', 'alltime', 'allude', 'allure', 'alluta', 'ally', 'allyissa', 'allyourdreamsaredead', 'alma', 'almanac', 'almeida', 'almighty', 'almiron', 'almitas', 'almond', 'almost', 'aloe', 'alohomora', 'alok', 'alondra', 'alone', 'aloneshow', 'along', 'alongside', 'alonso', 'aloof', 'alot', 'alotta', 'aloud', 'alp', 'alpaca', 'alpha', 'alphabet', 'alphabetize', 'alphinaud', 'alr', 'alrdy', 'already', 'alreadyyyy', 'alredy', 'alresdy', 'alright', 'alrighty', 'alsnsksnsks', 'alsoc', 'alsooo', 'altamonte', 'altar', 'alter', 'alteredimages', 'alternate', 'alternatino', 'alternative', 'alternativegre', 'alternatively', 'alternativemusic', 'alterrick', 'alters', 'althletic', 'altho', 'although', 'altitude', 'altman', 'altogether', 'alton', 'altruism', 'altucher', 'alucard', 'alum', 'aluminum', 'alumnus', 'alvarado', 'alvarez', 'alveda', 'alves', 'alvin', 'alway', 'always', 'alwaysbetonbecky', 'alwayslate', 'alwaysroyal', 'alwaysssss', 'alwayz', 'alws', 'alwyn', 'alwys', 'aly', 'alyssa', 'alyuh', 'alzheimer', 'alzheimers', 'alzuccini', 'amadeus', 'amadi', 'amadou', 'amaizing', 'amaka', 'amal', 'amala', 'amalgam', 'amalthus', 'amanda', 'amandagaba', 'amandah', 'amani', 'amankwah', 'amanpour', 'amaretto', 'amarillo', 'amaros', 'amass', 'amateur', 'amaurot', 'amaze', 'amazeballs', 'amazement', 'amazes', 'amazinggg', 'amazingly', 'amazingness', 'amazingphil', 'amazon', 'amazonprime', 'amb', 'ambassador', 'ambcinemas', 'ambeccayo', 'amber', 'amberann', 'ambien', 'ambient', 'ambiguity', 'ambition', 'ambitious', 'ambrose', 'ambulance', 'ambulon', 'ambush', 'amc', 'amd', 'ameen', 'amelia', 'amen', 'amend', 'amendment', 'amendoim', 'amendola', 'amends', 'amere', 'america', 'american', 'americano', 'americansentence', 'amerikkka', 'ameristar', 'ames', 'amethyst', 'amex', 'amg', 'amhara', 'amica', 'amidst', 'amiga', 'amigo', 'amiibo', 'amir', 'amirite', 'amish', 'amityville', 'amk', 'amla', 'amlaretires', 'ammaa', 'ammendment', 'ammmmmmmmmm', 'ammo', 'ammunition', 'ammy', 'amnesia', 'amnestly', 'amnesty', 'amo', 'among', 'amongst', 'amongus', 'amonosss', 'amonosssss', 'amor', 'amoral', 'amores', 'amorfoda', 'amount', 'amp', 'ampadu', 'amped', 'amphibian', 'amphibious', 'amphitheater', 'ample', 'amplifies', 'amplify', 'ampulex', 'amputation', 'amputee', 'amritsar', 'amrn', 'amrstaff', 'amsat', 'amstar', 'amsterdam', 'amt', 'amuse', 'amusement', 'amway', 'amwriting', 'amwritingfantasy', 'amy', 'amya', 'amzn', 'ana', 'anaconda', 'anaesthetic', 'anaheim', 'anak', 'anakin', 'anal', 'analeerios', 'analog', 'analogue', 'analogy', 'analyse', 'analysis', 'analyst', 'analytics', 'analyze', 'anantnag', 'anarchist', 'anarchy', 'anastasia', 'anathema', 'anatomy', 'anc', 'ancestor', 'ancestral', 'ancestry', 'ancestryhour', 'anchor', 'anchorage', 'anchovy', 'ancienne', 'ancient', 'andaluc', 'andar', 'andddd', 'anddddd', 'anderson', 'andi', 'andile', 'andinaenglish', 'anditallfallsdown', 'andr', 'andre', 'andrea', 'andreas', 'andrew', 'andrewcaldwell', 'andrewmccabe', 'android', 'andromeda', 'andujar', 'andy', 'andyan', 'anecdotal', 'anecdote', 'aneducatedlib', 'aneixty', 'anemia', 'anesthesia', 'anesthesiologist', 'anet', 'anette', 'aneurysm', 'anew', 'anfhfkghf', 'anfield', 'ang', 'ange', 'angel', 'angela', 'angeles', 'angelic', 'angelica', 'angelically', 'angelina', 'angelo', 'angelou', 'angelsports', 'anger', 'angered', 'angery', 'angey', 'angie', 'angle', 'anglesport', 'angrier', 'angrily', 'angry', 'angst', 'angsty', 'angus', 'anhan', 'ani', 'ania', 'aniki', 'anil', 'animal', 'animalization', 'animate', 'animation', 'animator', 'animatronic', 'anime', 'animemikeexpo', 'animorphs', 'animu', 'anish', 'aniston', 'anit', 'anita', 'anitta', 'anittashow', 'anja', 'anjelka', 'anjing', 'ankle', 'ann', 'anna', 'annabelle', 'annalise', 'annalyse', 'annayaaa', 'annayya', 'anne', 'anneal', 'anneka', 'annette', 'annexation', 'anni', 'annie', 'annihilation', 'anniversary', 'anniversay', 'annnnd', 'annnnnaaaa', 'annnnnnd', 'annnnnnnd', 'annotate', 'announce', 'announcement', 'announcer', 'announces', 'annoy', 'annoyance', 'annoyed', 'annoyin', 'annoyinggg', 'annoyingly', 'annoys', 'annual', 'annually', 'annul', 'ano', 'anoda', 'anoint', 'anokye', 'anomaly', 'anon', 'anons', 'anonymity', 'anonymous', 'anonymously', 'anotha', 'another', 'anschluss', 'ansel', 'answer', 'ant', 'antagonist', 'antarctic', 'antarctica', 'antebellum', 'antenna', 'antenuptial', 'antepentultimate', 'anthem', 'anthology', 'anthony', 'anthonyfranzoza', 'anthopoulos', 'anthracite', 'anthropocene', 'anthropology', 'anthropomorphize', 'anthroposophists', 'anthroposophy', 'anti', 'antibiotic', 'antic', 'antichrist', 'anticipate', 'anticipation', 'anticlimactic', 'antidepressant', 'antidote', 'antielab', 'antifa', 'antifascist', 'antigua', 'antihero', 'antihistamine', 'antimodi', 'antique', 'antisemitism', 'antisocial', 'antitheft', 'antithetical', 'antitrumpterrorists', 'antiulcer', 'antivaxxers', 'antney', 'antoganize', 'anton', 'antoni', 'antonio', 'antonious', 'antony', 'anua', 'anubis', 'anuel', 'anuh', 'anurag', 'anus', 'anw', 'anways', 'anxiety', 'anxietysucks', 'anxious', 'anyblonger', 'anybodies', 'anybody', 'anyday', 'anyhow', 'anyi', 'anymo', 'anymore', 'anyone', 'anyoneeeee', 'anyones', 'anyrun', 'anything', 'anytime', 'anyway', 'anyways', 'anywaysss', 'anywhere', 'anywhooo', 'anzu', 'aoa', 'aoc', 'aoe', 'aoi', 'aoki', 'aome', 'aot', 'ap', 'aparently', 'apart', 'apartheid', 'apartment', 'apathetic', 'apathy', 'apatow', 'apbs', 'apc', 'ape', 'apeach', 'apekebendateacherwantsyoutodo', 'aperitif', 'aperol', 'apetamin', 'apex', 'aphrodisiac', 'aphrodite', 'apiece', 'apink', 'apj', 'apna', 'apnay', 'apne', 'apni', 'apocalipse', 'apocalypse', 'apocalypsenow', 'apocolyptic', 'apollo', 'apologetic', 'apologise', 'apologist', 'apologize', 'apologizes', 'apology', 'apostolic', 'app', 'appa', 'appal', 'appalachia', 'appalachian', 'appalled', 'apparatus', 'apparent', 'apparently', 'appeal', 'appear', 'appearance', 'appease', 'appeasement', 'appelle', 'appelsap', 'appendage', 'appendix', 'appetite', 'appetizing', 'applaud', 'applause', 'apple', 'applebee', 'applebees', 'applepay', 'appletv', 'appliance', 'applicability', 'applicable', 'applicant', 'application', 'applies', 'apply', 'appoint', 'appointee', 'appointment', 'appoints', 'appoligize', 'appoptosis', 'appose', 'appraisal', 'appreciate', 'appreciates', 'appreciation', 'appreciative', 'apprehend', 'apprentice', 'apprenticeship', 'approach', 'approachable', 'appropriate', 'appropriately', 'appropriation', 'approval', 'approve', 'approves', 'approximately', 'apps', 'appt', 'aprende', 'apricot', 'april', 'aproach', 'apron', 'apt', 'aptitude', 'aptly', 'apuuu', 'aqu', 'aqua', 'aquafina', 'aquaholic', 'aqualad', 'aquamarine', 'aquarian', 'aquarians', 'aquarium', 'aquarius', 'aquino', 'aqw', 'ara', 'arab', 'arabella', 'arabia', 'arabian', 'arabic', 'aral', 'aram', 'araneta', 'arashi', 'arbate', 'arbies', 'arbitrarily', 'arbitrary', 'arbitration', 'arbuckle', 'arbys', 'arc', 'arcade', 'arceiga', 'arch', 'archbishop', 'archdiocese', 'archer', 'archery', 'archetype', 'archiac', 'archie', 'architect', 'architectural', 'architecture', 'archive', 'arci', 'arctic', 'arcy', 'ard', 'ardvarick', 'ardy', 'area', 'arena', 'arent', 'arest', 'arested', 'arey', 'arf', 'arfield', 'arfticle', 'arg', 'arganee', 'argh', 'arghhhhhh', 'arguably', 'argue', 'arguement', 'argument', 'ari', 'aria', 'ariana', 'arianagrandeisoverparty', 'arianaisoverparty', 'arianators', 'aribo', 'ariel', 'ariens', 'aries', 'ariezaga', 'arif', 'arin', 'arise', 'arisen', 'arises', 'aristocats', 'aristocrat', 'aristocratic', 'aristotle', 'arizona', 'arjuna', 'ark', 'arkansas', 'arkham', 'arkles', 'arlene', 'arlert', 'arlington', 'arlomo', 'arm', 'armada', 'armalite', 'armament', 'armand', 'armando', 'armas', 'armband', 'armchairexperts', 'armenien', 'armin', 'armor', 'armory', 'armour', 'armpit', 'armstead', 'armstrong', 'armtwisting', 'army', 'armybebe', 'armyblinks', 'armylegends', 'armywithbts', 'arnab', 'arnetta', 'arnie', 'arnt', 'aroma', 'aromanticism', 'aromaticity', 'aron', 'arond', 'aroubd', 'around', 'arounds', 'arounf', 'arouse', 'arpaio', 'arquette', 'arr', 'arraez', 'arrange', 'arrangement', 'arranger', 'array', 'arrayed', 'arrest', 'arretes', 'arrietty', 'arrival', 'arrive', 'arrives', 'arrogance', 'arrogant', 'arround', 'arrow', 'arrowhead', 'arrowverse', 'arroyo', 'arroz', 'arrr', 'arse', 'arseclock', 'arsed', 'arsehole', 'arsenal', 'arsenaldirect', 'arsene', 'arsenic', 'arsenio', 'arshavin', 'arsmg', 'arsnenal', 'arsonal', 'arsonist', 'arsy', 'art', 'artblocks', 'artemis', 'artery', 'arteta', 'artfully', 'arthritic', 'arthur', 'artic', 'artichoke', 'article', 'articulate', 'articulates', 'articulation', 'articuno', 'artificial', 'artillery', 'artis', 'artist', 'artiste', 'artistic', 'artistry', 'artofracing', 'artstyle', 'arttwitter', 'arturo', 'artwork', 'arv', 'arwound', 'arxiv', 'aryan', 'aryn', 'asab', 'asalam', 'asana', 'asap', 'asaram', 'asbestos', 'ascend', 'ascendance', 'ascension', 'aschleep', 'ascrwaaaa', 'asda', 'aser', 'aseudal', 'asexuality', 'asf', 'asff', 'asfsdfhsadfhksadjhfkj', 'asgard', 'asghdkksl', 'ash', 'ashallnotbeinfringed', 'ashamed', 'ashanti', 'ashawo', 'ashe', 'asheek', 'ashell', 'ashen', 'asher', 'ashkjskf', 'ashley', 'ashleyout', 'ashmed', 'ashok', 'ashrafieh', 'ashram', 'ashtan', 'ashton', 'ashtray', 'ashy', 'asia', 'asian', 'aside', 'asinine', 'ask', 'askamyg', 'askateez', 'askblogs', 'asketh', 'askfm', 'askin', 'askingforafriend', 'askingformyself', 'askkayandnat', 'askmarty', 'askmeek', 'asknflying', 'askquimcheeboston', 'asks', 'asksam', 'asktnt', 'asktwitter', 'asl', 'asleep', 'asm', 'asmara', 'asmr', 'asoimasiomd', 'asongoficeandfire', 'asoon', 'asos', 'asp', 'asparagus', 'aspect', 'aspen', 'asper', 'asphyxiation', 'aspiration', 'aspirational', 'aspire', 'aspirin', 'asra', 'ass', 'assad', 'assailant', 'assange', 'assasin', 'assasinatetrump', 'assassin', 'assassinate', 'assassination', 'assassssssss', 'assault', 'assay', 'asscheeks', 'assclown', 'asscrack', 'assed', 'assemble', 'assembly', 'assertive', 'assessment', 'asset', 'assh', 'asshat', 'asshats', 'asshole', 'assiagnmtwnt', 'assign', 'assignment', 'assim', 'assinante', 'assisi', 'assist', 'assistance', 'assistant', 'assiste', 'assistindo', 'assistir', 'assitant', 'assman', 'assnal', 'associate', 'association', 'assort', 'asssult', 'assum', 'assume', 'assumption', 'assumptuons', 'assurance', 'assure', 'assures', 'asswipe', 'assyrian', 'astablished', 'aster', 'asterisk', 'asthma', 'astigmatism', 'astin', 'astolfo', 'aston', 'astonish', 'astound', 'astra', 'astral', 'astro', 'astrodome', 'astrologer', 'astrological', 'astrologist', 'astrology', 'astronaut', 'astronomical', 'astronomically', 'astros', 'astrostwitter', 'astroturfing', 'astudillo', 'asu', 'asuka', 'asuna', 'asure', 'aswear', 'aswel', 'aswell', 'asws', 'asylum', 'asymmetric', 'ataraxia', 'atcut', 'ate', 'ateez', 'ateneo', 'atf', 'athaan', 'athadu', 'atheism', 'atheist', 'athena', 'athenian', 'athens', 'athha', 'athidi', 'athlete', 'athletic', 'athleticism', 'athletico', 'athletics', 'atifaslam', 'atimes', 'atiny', 'atitudes', 'atk', 'atkinson', 'atl', 'atlairporttricks', 'atlanta', 'atlantic', 'atlantis', 'atlas', 'atleast', 'atlvsatl', 'atlvsmia', 'atm', 'atmosphere', 'atmospheric', 'ato', 'atoa', 'atom', 'atomic', 'atomically', 'atop', 'atp', 'atpm', 'atreides', 'atrocious', 'atrocity', 'atsushi', 'atta', 'attach', 'attachment', 'attack', 'attacker', 'attackontitan', 'attain', 'attatched', 'attempt', 'attenborough', 'attend', 'attendance', 'attendant', 'attendee', 'attention', 'attentive', 'attest', 'attetion', 'attic', 'atticus', 'atticuspoetry', 'attire', 'attitude', 'attn', 'attorney', 'attract', 'attraction', 'attractive', 'attractiveness', 'attracts', 'attribute', 'atu', 'atv', 'atw', 'atx', 'atypical', 'auba', 'aubamayang', 'aubameyang', 'aubrey', 'aubris', 'auc', 'auckland', 'auction', 'audacity', 'auden', 'audi', 'audible', 'audibly', 'audience', 'audio', 'audiobook', 'audiobooks', 'audit', 'audition', 'audnzd', 'audrey', 'audrina', 'audubon', 'aug', 'auger', 'augh', 'augment', 'august', 'auguste', 'augustus', 'augustwose', 'auh', 'aukot', 'aunt', 'auntie', 'aunty', 'auper', 'aur', 'aurora', 'aurorahwa', 'aurum', 'auspol', 'aussie', 'austerity', 'austin', 'australia', 'australian', 'australopithecine', 'australopithecus', 'austria', 'aut', 'autarch', 'auth', 'authentic', 'authentically', 'authenticity', 'author', 'authoritarian', 'authority', 'authorize', 'authorship', 'autism', 'autistic', 'auto', 'autobahn', 'autobiography', 'autobot', 'autocaps', 'autoclicker', 'autocorrect', 'autocorrected', 'autofocus', 'autograph', 'automate', 'automatic', 'automatically', 'automator', 'automotive', 'autonomous', 'autonomy', 'autopsy', 'autotests', 'autotrader', 'autumn', 'ava', 'avagardner', 'avail', 'availability', 'availabilty', 'available', 'avalanche', 'avaryl', 'avatar', 'ave', 'avenatti', 'avenge', 'avenger', 'avenue', 'average', 'averett', 'avert', 'avfc', 'avg', 'avi', 'aviation', 'aviationquotes', 'avicii', 'avid', 'aviv', 'avo', 'avocado', 'avocolada', 'avoid', 'avoidance', 'avoidant', 'avoids', 'avon', 'avoniel', 'avonte', 'avp', 'avril', 'avtai', 'avunculicide', 'avwendler', 'aw', 'await', 'awaits', 'awak', 'awake', 'awaken', 'awakens', 'awakes', 'award', 'awardwapsigang', 'aware', 'awareness', 'away', 'aways', 'awayyyyyy', 'awb', 'awbbookclub', 'awd', 'awe', 'awesome', 'awesomely', 'awesomeness', 'awful', 'awfully', 'awfulpvp', 'awh', 'awhhhh', 'awhile', 'awhoooo', 'awkwafina', 'awkward', 'awkwarddd', 'awkwardly', 'awodimila', 'awoken', 'awon', 'awooo', 'awow', 'awrite', 'awry', 'aws', 'awsome', 'awsten', 'awsx', 'awurade', 'aww', 'awwn', 'awww', 'awwww', 'awwwww', 'awwwwww', 'awwwwwww', 'ax', 'axa', 'axe', 'axel', 'axial', 'axis', 'axl', 'axtual', 'axum', 'aya', 'ayano', 'ayato', 'aye', 'ayeduase', 'ayeee', 'ayeeee', 'ayeli', 'ayeooo', 'ayieeeee', 'ayle', 'ayo', 'ayodhya', 'ayoko', 'ayres', 'ayu', 'ayumi', 'ayy', 'ayyee', 'ayyy', 'ayyyee', 'ayyyeee', 'ayyyy', 'ayyyyyyyyyy', 'ayzy', 'azad', 'azalea', 'azam', 'azar', 'azaria', 'azcardinals', 'azealia', 'azerbaijan', 'azeria', 'azeroth', 'azerty', 'azim', 'aziraphale', 'azitbindun', 'azpi', 'azpilicueta', 'azryah', 'azula', 'azure', 'azzy', 'azzzzzz', 'baaaaaack', 'baar', 'baat', 'bab', 'baba', 'babaaaa', 'babadook', 'babbbyyyy', 'babbling', 'babbyyyy', 'babe', 'baboon', 'babs', 'babu', 'baby', 'babybaybayabayabayabaabyabyayabababy', 'babyboomers', 'babyface', 'babyfever', 'babyfying', 'babygate', 'babygirl', 'babyhairs', 'babying', 'babylon', 'babymomma', 'babyshower', 'babysit', 'babysitter', 'babysitting', 'babyy', 'babyyeeee', 'babyyyy', 'babyyyyy', 'babyyyyyy', 'bacardi', 'bacccc', 'baccck', 'bace', 'bach', 'bachata', 'bachelor', 'bachelorette', 'bachelorinparadise', 'back', 'backbone', 'backdoor', 'backdrop', 'backe', 'backend', 'backfield', 'backfire', 'backflip', 'background', 'backgroundchecks', 'backing', 'backkkkkkkkkkkkkkk', 'backlash', 'backlog', 'backordered', 'backpack', 'backpages', 'backroads', 'backseat', 'backside', 'backsplash', 'backstab', 'backstabbing', 'backstage', 'backstop', 'backstory', 'backstreet', 'backup', 'backward', 'backwardness', 'backwards', 'backwood', 'backwoods', 'backyard', 'baco', 'bacon', 'bacterial', 'bad', 'bada', 'badar', 'badass', 'badbadnotgood', 'badd', 'badddd', 'baddest', 'baddie', 'badge', 'badgelife', 'badger', 'badhil', 'badlands', 'badly', 'badlyyyy', 'badlyyyyy', 'badminton', 'badmouthing', 'bado', 'badu', 'bae', 'baecation', 'baek', 'baekai', 'baekho', 'baekhyun', 'baekyun', 'baequin', 'baes', 'baez', 'baf', 'bafana', 'baffle', 'bag', 'bagel', 'bagful', 'baggage', 'bagger', 'baggies', 'baggin', 'baggy', 'bagh', 'bagley', 'bagpipe', 'bagsak', 'baguette', 'baguio', 'bah', 'baha', 'bahahah', 'bahahaha', 'bahahahahaha', 'bahahahahha', 'bahahahha', 'bahahhahahhah', 'bahamas', 'bahamian', 'bahasa', 'bahhhh', 'baigan', 'bail', 'bailadita', 'bailey', 'bailing', 'bailouts', 'bain', 'baine', 'baines', 'bait', 'baiting', 'baja', 'bajie', 'bajillion', 'bajillions', 'bakaleya', 'bake', 'bakeable', 'baker', 'bakery', 'bakes', 'baking', 'bakit', 'bakolie', 'baku', 'bakugo', 'bakugou', 'bal', 'balaclava', 'balance', 'balancenotsymmetry', 'balck', 'balcony', 'bald', 'balde', 'balderdash', 'baldheaded', 'balding', 'baldwin', 'baldy', 'baldysbreakdowns', 'bale', 'baleigh', 'balenciaga', 'balham', 'balita', 'balk', 'ball', 'ballad', 'ballage', 'ballastic', 'ballbusting', 'baller', 'ballerina', 'ballerini', 'ballers', 'ballet', 'ballgame', 'ballin', 'balling', 'ballistick', 'ballon', 'balloon', 'balloony', 'ballot', 'ballpark', 'ballpen', 'ballsy', 'ballum', 'bally', 'balm', 'balmville', 'balmy', 'balochi', 'balochistan', 'balompie', 'baloney', 'balsamic', 'baltimore', 'balto', 'baluchistan', 'balvin', 'bam', 'bama', 'bambam', 'bambi', 'bamboo', 'bamboozle', 'bamd', 'bame', 'bammm', 'ban', 'bana', 'banana', 'bananarama', 'banange', 'bananos', 'banassaultweaponsnow', 'band', 'banda', 'bandaid', 'bandaids', 'bandana', 'bandersnatch', 'bandhan', 'bandicoot', 'bandit', 'bandori', 'bandwagon', 'bandwagonners', 'bane', 'bang', 'banga', 'banger', 'bangerrr', 'bangin', 'banging', 'bangkok', 'bangla', 'bangladesh', 'bangpdnim', 'bangtan', 'banish', 'banj', 'banjo', 'bank', 'banker', 'bankhead', 'banking', 'bankroll', 'bankrupt', 'bankruptcy', 'bankstown', 'banksy', 'banku', 'banner', 'bannon', 'bannons', 'banquet', 'banshee', 'banter', 'bantering', 'banus', 'bape', 'baptist', 'baptize', 'bapu', 'baqi', 'baqir', 'bar', 'barack', 'barakazamilele', 'baratheon', 'barati', 'barb', 'barbados', 'barbara', 'barbaralopeztrendy', 'barbecue', 'barber', 'barbicide', 'barbie', 'barbz', 'barca', 'barcelona', 'barclays', 'bard', 'bardi', 'bardinals', 'bareback', 'barefoot', 'bareilles', 'barely', 'bargain', 'barge', 'barham', 'baringa', 'barista', 'baristas', 'bark', 'barkevious', 'barking', 'barkley', 'barley', 'barmy', 'barn', 'barner', 'barnes', 'barnet', 'barney', 'barnier', 'barnsley', 'barnyard', 'baro', 'barometer', 'baron', 'barr', 'barrack', 'barraclough', 'barrel', 'barrelling', 'barrett', 'barricade', 'barrie', 'barrier', 'barringer', 'barron', 'barrow', 'barrrrr', 'barry', 'barstool', 'bart', 'bartender', 'barth', 'barton', 'bartram', 'bartz', 'baruch', 'barz', 'basahin', 'basal', 'bascombe', 'base', 'baseball', 'baseless', 'baseman', 'basemen', 'basement', 'bash', 'bashani', 'basharat', 'bashers', 'bashing', 'basic', 'basically', 'basin', 'basis', 'baskeball', 'basket', 'basketball', 'basketballwives', 'basking', 'baso', 'basquiat', 'bass', 'basscenter', 'basscon', 'bassheads', 'bassika', 'bassini', 'bassinis', 'bassnectar', 'bassplayer', 'basta', 'bastard', 'baster', 'basterd', 'bastia', 'bastred', 'bat', 'batcave', 'batch', 'bate', 'bates', 'bath', 'bathe', 'bathi', 'bathing', 'bathong', 'bathrobe', 'bathroom', 'bathtub', 'bathwater', 'batista', 'batistas', 'batjokes', 'batkids', 'batman', 'batminton', 'batmobile', 'batohi', 'baton', 'batshit', 'batshittery', 'batshittious', 'batsman', 'batsy', 'batten', 'batter', 'battery', 'batting', 'battle', 'battlefield', 'battlefornumber', 'battlefront', 'battlemercytm', 'battlepass', 'battler', 'battleship', 'battlestar', 'battling', 'bauer', 'baumann', 'bawhahahaha', 'bawitaba', 'bawl', 'bawling', 'bay', 'baybaaayyyy', 'baybee', 'baybeeee', 'baybes', 'baye', 'bayern', 'bayerniederhofen', 'bayii', 'baylee', 'bayo', 'bayonetta', 'bayrock', 'baz', 'bazalgette', 'bazingas', 'bazooka', 'bazothini', 'bazzi', 'bb', 'bbad', 'bball', 'bbb', 'bbbbbbbthhhpptptpt', 'bbc', 'bbcdoctors', 'bbcnews', 'bbctag', 'bbe', 'bbh', 'bbi', 'bbibbi', 'bbjack', 'bbk', 'bblf', 'bbn', 'bbnaiija', 'bbnaija', 'bbnaijia', 'bbnajia', 'bboo', 'bbq', 'bbr', 'bbt', 'bbtm', 'bbw', 'bby', 'bbygirl', 'bbyyy', 'bbz', 'bc', 'bcc', 'bcd', 'bcfc', 'bch', 'bcm', 'bcos', 'bcoz', 'bcpoli', 'bcs', 'bcus', 'bcuz', 'bd', 'bday', 'bdayyyyyy', 'bddddd', 'bde', 'bdu', 'bdubs', 'bea', 'beach', 'beachcriminal', 'beacon', 'bead', 'beading', 'beagle', 'beak', 'beal', 'beam', 'beamers', 'bean', 'beanbag', 'beaneater', 'beaner', 'beanie', 'beaning', 'bear', 'bearable', 'beard', 'beardown', 'beardownradio', 'beardsley', 'bearer', 'bearing', 'bearish', 'bearmars', 'beartooth', 'beasley', 'beast', 'beasted', 'beastly', 'beastmode', 'beat', 'beatboise', 'beatbox', 'beaten', 'beater', 'beatiful', 'beatin', 'beating', 'beatle', 'beatles', 'beatrice', 'beatrix', 'beatsomebody', 'beattape', 'beau', 'beausang', 'beaut', 'beautfiul', 'beautiful', 'beautifulayf', 'beautifull', 'beautifullayf', 'beautifully', 'beautifulmind', 'beautify', 'beauty', 'beautycon', 'beaver', 'beavis', 'bebest', 'bebop', 'bec', 'becam', 'becareful', 'becase', 'becauase', 'becaus', 'becauseeeeee', 'becca', 'beckham', 'beckie', 'beckon', 'beckons', 'becky', 'beckylynch', 'beckyup', 'beclaws', 'become', 'becomes', 'becompetitive', 'becouse', 'becs', 'becuase', 'becuz', 'becz', 'bed', 'bedazzle', 'bedding', 'beddingfield', 'bede', 'bedmas', 'bedminster', 'bedord', 'bedpan', 'bedrock', 'bedroom', 'bedsheet', 'bedsheets', 'bedtime', 'bee', 'beeb', 'beebs', 'beech', 'beef', 'beefa', 'beefed', 'beefin', 'beek', 'beekeeper', 'beekeepershour', 'beep', 'beeper', 'beer', 'beerbods', 'beermen', 'beethoven', 'beetle', 'beetroot', 'beezy', 'befall', 'befalleth', 'befollowed', 'befor', 'beforee', 'beforehand', 'beforethe', 'befriend', 'befuddle', 'beg', 'begambleaware', 'bege', 'beggar', 'beggers', 'begginning', 'beghiarat', 'begin', 'beginner', 'beginning', 'begs', 'beguiling', 'behalf', 'behave', 'behaves', 'behaving', 'behavior', 'behavioral', 'behaviour', 'behest', 'behind', 'behinde', 'behold', 'beholder', 'beholding', 'beige', 'bein', 'beirut', 'bel', 'belated', 'beleaguer', 'belee', 'beleive', 'belfast', 'belfasthour', 'belgaum', 'belgique', 'beli', 'belichick', 'belie', 'beliebers', 'belief', 'believable', 'believe', 'believeinyourself', 'believer', 'believeth', 'belittle', 'belive', 'bell', 'bella', 'bellabot', 'bellamy', 'bellarke', 'belldozer', 'belle', 'bellend', 'bellends', 'bellerin', 'bellevue', 'belligerent', 'bellinger', 'bellingham', 'bello', 'bellwhiffs', 'belly', 'belmont', 'belo', 'belong', 'belonging', 'belongs', 'beloved', 'belt', 'belter', 'belting', 'beltway', 'beluga', 'bem', 'bemoan', 'bemoretoddy', 'bempong', 'bemvindodavid', 'benadryl', 'benaim', 'benazir', 'bench', 'benchwarmer', 'bencic', 'bend', 'bender', 'bending', 'beneath', 'benedict', 'beneficial', 'benefit', 'benefiting', 'benevolence', 'benfica', 'bengal', 'bengali', 'bengaluru', 'benghazi', 'benign', 'benik', 'beningo', 'benintendi', 'benioff', 'benito', 'benjamin', 'bennett', 'bennie', 'benning', 'benns', 'benny', 'benson', 'bent', 'bentley', 'bentonville', 'benway', 'benz', 'benzene', 'benzodiazepine', 'beoeoeoeoeeo', 'beomgyu', 'beowulf', 'berardi', 'berating', 'berbatov', 'bere', 'bereft', 'berelain', 'beres', 'bergen', 'berger', 'bergers', 'beria', 'berk', 'berlermo', 'berlin', 'berman', 'bermuda', 'bern', 'bernadetta', 'bernardino', 'bernardo', 'bernie', 'berniebrats', 'berre', 'berrios', 'berry', 'bers', 'berserk', 'berta', 'bertens', 'berti', 'bertie', 'bertka', 'bertram', 'bertrand', 'bertuccis', 'bescshe', 'beseech', 'beseeching', 'beserk', 'besiana', 'besic', 'beside', 'besides', 'besitos', 'besmirch', 'besos', 'besssst', 'best', 'bestbuy', 'bestest', 'bestfr', 'bestfriend', 'bestfriends', 'bestiality', 'bestie', 'besties', 'bestmovielineever', 'besto', 'bestow', 'bestowing', 'bestvodka', 'bet', 'beta', 'betamax', 'betcha', 'beterbiev', 'beth', 'bethalls', 'bethetha', 'betika', 'betikawasaliti', 'betka', 'beto', 'betray', 'betrayal', 'betrayed', 'betrays', 'betroth', 'betsy', 'betta', 'bette', 'bettee', 'better', 'bettercallsaul', 'bettering', 'betterrrrrrrrr', 'betts', 'bettsy', 'betty', 'bettyenny', 'bevel', 'beverage', 'beverly', 'bevin', 'beware', 'beworst', 'bexar', 'bey', 'beyblade', 'beyblessed', 'beyonc', 'beyonce', 'beyond', 'beyondthepole', 'beyrand', 'beyyyyyy', 'bf', 'bff', 'bffgoals', 'bffs', 'bfjdfb', 'bfjsjsnz', 'bfs', 'bg', 'bgc', 'bgl', 'bgm', 'bgreen', 'bgt', 'bh', 'bha', 'bhafc', 'bhai', 'bhaiya', 'bharat', 'bharath', 'bharathappuzha', 'bharatratnapranabmukherjee', 'bharu', 'bhatija', 'bhe', 'bhester', 'bhi', 'bho', 'bhop', 'bhopal', 'bhoy', 'bhoys', 'bia', 'bianca', 'bias', 'bibi', 'bible', 'biceps', 'bichette', 'bichon', 'bickering', 'bicon', 'bicycle', 'bicycling', 'bid', 'bidamanjin', 'bidder', 'bidding', 'biden', 'bidenspeech', 'bidet', 'bidness', 'bidoof', 'bieber', 'bielsa', 'bien', 'big', 'bigbang', 'bigblue', 'bigbrother', 'bigbrothernaija', 'bigdolla', 'bigelow', 'bigfoot', 'bigg', 'biggbosstelugu', 'biggeese', 'biggerfish', 'biggg', 'biggggg', 'biggie', 'biggies', 'biggio', 'biggy', 'bighit', 'bigil', 'bigkid', 'bigknobs', 'biglittlelies', 'bigly', 'bigot', 'bigoted', 'bigotry', 'bigshoestofill', 'bigtime', 'bih', 'bihar', 'bihh', 'bijon', 'bike', 'bikemi', 'bikeorbar', 'biker', 'bikeschool', 'biking', 'bikini', 'biko', 'bilalah', 'bilawal', 'bilbo', 'bilingual', 'bilkul', 'bill', 'billa', 'billboard', 'billi', 'billick', 'billie', 'billing', 'billion', 'billionaire', 'billoiner', 'billsmafia', 'billy', 'biloxi', 'bim', 'bimbo', 'binary', 'binaryrules', 'bind', 'binder', 'binding', 'bing', 'binge', 'bingeing', 'binghamton', 'binghe', 'binging', 'bingo', 'bingpup', 'bingqiu', 'binks', 'binne', 'binnie', 'binning', 'bino', 'binoculars', 'bint', 'bintang', 'bio', 'biodegradable', 'biofreeze', 'biography', 'biohazard', 'biological', 'biologist', 'biology', 'biometric', 'biopic', 'biopsy', 'bios', 'bioshock', 'biotin', 'bip', 'bipartisanship', 'biped', 'bipoc', 'bipolar', 'biracial', 'birb', 'birbs', 'birch', 'bird', 'birdgang', 'birdie', 'birdman', 'birdsite', 'birkin', 'birmingham', 'birminghamal', 'birtday', 'birth', 'birthdaay', 'birthday', 'birthdayyyy', 'birther', 'birthers', 'birthright', 'biryani', 'biscott', 'biscuit', 'bisexual', 'bish', 'bishes', 'bishhh', 'bishop', 'bisi', 'bison', 'bisp', 'bissaka', 'bisssh', 'bit', 'bitch', 'bitchass', 'bitcheeeessss', 'bitchhh', 'bitchin', 'bitching', 'bitchis', 'bitchniggas', 'bitchy', 'bitcoin', 'bitdefender', 'bite', 'biter', 'bitereturn', 'bithc', 'bithday', 'bither', 'biths', 'biting', 'bitlife', 'bitmex', 'bitmoji', 'bitonio', 'bitsmart', 'bitt', 'bittch', 'bitten', 'bitter', 'bitterly', 'bitterness', 'bittersweet', 'bitties', 'bitttccchhh', 'bitttccchhhh', 'bitty', 'bitxh', 'bivouac', 'bix', 'biytch', 'bizapaloozachat', 'bizarre', 'bizarrely', 'bizkitt', 'bizstarna', 'bj', 'bjerre', 'bjj', 'bjorn', 'bjp', 'bk', 'bkdk', 'bkue', 'bl', 'bla', 'blabla', 'blac', 'black', 'blackberry', 'blackburn', 'blackcurrent', 'blacken', 'blacker', 'blackest', 'blackface', 'blackfire', 'blackgummy', 'blackhat', 'blackhawks', 'blackhead', 'blackhearted', 'blackhills', 'blacklist', 'blacklit', 'blackmail', 'blackmailing', 'blackmales', 'blackmon', 'blackout', 'blackpink', 'blackpinks', 'blackquill', 'blackswag', 'blacktechtwitter', 'blackwood', 'blad', 'bladder', 'blade', 'bladerunner', 'blago', 'blagoivitch', 'blagojevich', 'blagonevich', 'blah', 'blahblah', 'blaine', 'blair', 'blaire', 'blaise', 'blake', 'blame', 'blanca', 'blanchard', 'blanche', 'blanchette', 'blanco', 'bland', 'blandest', 'blaney', 'blanford', 'blank', 'blanket', 'blankley', 'blankly', 'blanton', 'blare', 'blaring', 'blarissa', 'blasio', 'blasphemy', 'blast', 'blasting', 'blatant', 'blatantly', 'blaugh', 'blaze', 'blazer', 'blaziken', 'blazin', 'blazing', 'bleach', 'bleacher', 'bleaching', 'bleak', 'blech', 'bledsoe', 'bleed', 'bleeding', 'bleeds', 'bleek', 'bleeped', 'bleeping', 'bleesed', 'blend', 'blender', 'blending', 'blep', 'blergh', 'bless', 'blessers', 'blesses', 'blessing', 'blessssings', 'bleu', 'blew', 'blewitt', 'blientele', 'blige', 'blight', 'blighty', 'blimey', 'blimp', 'blind', 'blinder', 'blindfold', 'blinding', 'blindingly', 'blindly', 'blindside', 'blindspot', 'blindy', 'blink', 'blinker', 'blinkin', 'blinking', 'blip', 'bliss', 'blissfful', 'blissful', 'blissfull', 'blissfully', 'blister', 'blistering', 'blitz', 'blizz', 'blizzard', 'blk', 'bll', 'blm', 'bloat', 'bloatware', 'bloaty', 'blob', 'bloc', 'block', 'blockade', 'blockbuster', 'blockchain', 'blockdd', 'blockedbyrempel', 'blocker', 'blockhead', 'blocklist', 'blocklists', 'blocktherig', 'blocky', 'blog', 'blogallthetime', 'blogger', 'bloke', 'blond', 'blonde', 'blondie', 'blondies', 'blonks', 'blood', 'bloodline', 'bloodm', 'bloodsport', 'bloodsports', 'bloody', 'bloom', 'bloomberg', 'bloomingdale', 'bloooww', 'bloop', 'blooper', 'bloos', 'blossom', 'blouse', 'blow', 'blower', 'blowhard', 'blowin', 'blowing', 'blowjob', 'blown', 'blowout', 'bloxburg', 'blt', 'blu', 'blubber', 'blubbering', 'blue', 'blueberry', 'bluebombers', 'blueface', 'bluegreyfootball', 'bluejays', 'bluepilled', 'blueprint', 'bluest', 'bluetooth', 'bluewave', 'bluff', 'bluffcitylaw', 'bluffdiver', 'bluffing', 'blumenthal', 'blunder', 'blunt', 'bluntly', 'blunts', 'blur', 'bluray', 'blurb', 'blurry', 'blurryface', 'blurting', 'blush', 'blushing', 'blushy', 'bluuur', 'blvd', 'blythewood', 'bm', 'bma', 'bmc', 'bmth', 'bmw', 'bmx', 'bnah', 'bnb', 'bnda', 'bnetraffic', 'bnha', 'boa', 'boar', 'board', 'boardgames', 'boarding', 'boardroom', 'boardwalk', 'boat', 'boatswain', 'bob', 'boba', 'bobbie', 'bobbing', 'bobblehead', 'bobby', 'bobbymac', 'boblish', 'boboh', 'bobrisky', 'boca', 'bod', 'boda', 'bodackyellow', 'bode', 'bodega', 'bodhi', 'bodily', 'bodine', 'bodmas', 'bodoh', 'body', 'bodybuilder', 'bodying', 'bodywash', 'bofa', 'bogey', 'boggles', 'boggling', 'bogus', 'bohemian', 'boi', 'boicgh', 'boiiii', 'boiiiii', 'boil', 'boiler', 'boingo', 'bois', 'boise', 'boke', 'boko', 'bokuto', 'bol', 'bold', 'boldandbeautiful', 'boldandthebeautiful', 'bolder', 'boldness', 'bole', 'boleto', 'bolger', 'boll', 'bollock', 'bollywood', 'bolo', 'bolodon', 'bolshevik', 'bolsonaro', 'bolt', 'bolton', 'bolycs', 'bomb', 'bombass', 'bombay', 'bombed', 'bomber', 'bomberman', 'bombest', 'bombing', 'bomboni', 'bombshell', 'bommalaatam', 'bon', 'bona', 'bonang', 'bonaparte', 'bond', 'bondage', 'bonding', 'bone', 'bonehead', 'boner', 'bones', 'bonesbball', 'boney', 'bonfire', 'bong', 'bongbong', 'bongino', 'bongo', 'bongwi', 'bonhoeffer', 'bonilla', 'bonjovi', 'bonk', 'bonkers', 'bonnaroo', 'bonner', 'bonnet', 'bonnie', 'bono', 'bonobono', 'bonucci', 'bonus', 'boo', 'boob', 'boobage', 'boobbse', 'boobsticks', 'booby', 'boobz', 'boochan', 'boodstainedbarbie', 'booed', 'boof', 'boofin', 'boofsipod', 'boogaloo', 'booger', 'boogie', 'boohoo', 'booing', 'book', 'bookcase', 'booker', 'bookie', 'booking', 'booklet', 'bookmark', 'bookmarking', 'bookshelf', 'booksmart', 'bookstore', 'booktube', 'booktubers', 'boom', 'boomer', 'boomerang', 'boomernofun', 'boomin', 'boomsauce', 'boomtown', 'boon', 'boondocks', 'boone', 'boony', 'booo', 'boooomers', 'booooo', 'booowwwkl', 'boooyyy', 'boop', 'boosie', 'boost', 'booster', 'boot', 'booth', 'bootie', 'bootiful', 'booting', 'bootleg', 'bootlicker', 'bootlicking', 'booty', 'bootylicious', 'booyyyyyy', 'booze', 'bop', 'bopoy', 'bopping', 'boppy', 'bora', 'borama', 'bordeaux', 'border', 'bordercolliedad', 'bordering', 'borderland', 'borderline', 'bore', 'boreas', 'boredom', 'borges', 'borgore', 'boricua', 'boring', 'boris', 'borisjohnson', 'born', 'borne', 'bornnnnn', 'boro', 'boromir', 'boron', 'borough', 'borowski', 'borris', 'borrow', 'borrowing', 'borrows', 'borscht', 'bortles', 'boruto', 'bos', 'bosa', 'bose', 'bosom', 'boss', 'bossing', 'bossman', 'bossy', 'bostick', 'boston', 'bot', 'botanical', 'botch', 'botdragneel', 'bothata', 'bother', 'bothough', 'botmauritius', 'bottle', 'bottlenecking', 'bottom', 'bottomless', 'botw', 'bouchard', 'bouche', 'boudreau', 'bouffant', 'bougha', 'bought', 'bougie', 'boujee', 'boujhetto', 'boujie', 'boulder', 'boulton', 'boumcy', 'bounce', 'bounceback', 'bouncer', 'bouncin', 'bouncy', 'bound', 'boundary', 'boundtohappen', 'bounty', 'bountygate', 'bouquet', 'bourbon', 'bourbonnais', 'bourgeois', 'bourke', 'bourne', 'bournemouth', 'bout', 'bouta', 'bouteille', 'boutique', 'boutonni', 'boutta', 'bouzkova', 'bow', 'bowel', 'bowie', 'bowl', 'bowler', 'bowlestrek', 'bowling', 'bowlzel', 'bowman', 'bowse', 'bowser', 'bowtie', 'bowyer', 'bowyers', 'box', 'boxed', 'boxer', 'boxex', 'boxing', 'boxoffice', 'boxset', 'boxy', 'boy', 'boyboy', 'boyce', 'boycott', 'boycottasda', 'boycottborderlands', 'boycotthatefunders', 'boycotting', 'boycottkochfoods', 'boycotttuckercarlson', 'boyfriend', 'boyhood', 'boying', 'boyish', 'boykin', 'boykins', 'boyle', 'boyo', 'boytaurz', 'boywithluv', 'boyyy', 'boyyyy', 'boyyyyy', 'boyz', 'bozo', 'bp', 'bpd', 'bpdproblems', 'bpl', 'bplesse', 'bpm', 'bps', 'br', 'bra', 'bracco', 'brace', 'bracelet', 'brach', 'brachiosaurus', 'bracket', 'brad', 'bradbury', 'bradford', 'bradley', 'bradly', 'brady', 'bradysupdates', 'braeden', 'braff', 'brag', 'bragger', 'bragging', 'brah', 'brahma', 'braid', 'braiden', 'braiding', 'braille', 'braimes', 'brain', 'braincell', 'braincells', 'braindeads', 'braindesd', 'brainer', 'brainerd', 'brainlet', 'brainstorm', 'brainstorming', 'brainwash', 'brainwashing', 'brainy', 'braithwaite', 'braixen', 'brake', 'bran', 'branch', 'branching', 'brand', 'branda', 'brandblack', 'brandee', 'branden', 'brandi', 'branding', 'brandon', 'brandy', 'branna', 'branquelas', 'brantley', 'brash', 'brasil', 'brasserie', 'brat', 'bratty', 'braum', 'brava', 'brave', 'braveheart', 'bravely', 'braver', 'bravery', 'bravest', 'bravo', 'brawl', 'braxton', 'bray', 'braylen', 'brazielcarol', 'brazil', 'brazile', 'brazilian', 'brazille', 'brazillian', 'brazlian', 'brb', 'bre', 'brea', 'breack', 'bread', 'breadboard', 'breadbug', 'breadcrumb', 'breadline', 'breadstick', 'break', 'breakage', 'breakbeatzone', 'breakdown', 'breaker', 'breakfast', 'breakout', 'breaksit', 'breakthrough', 'breakung', 'breakup', 'breaky', 'breakyyyy', 'breanne', 'breast', 'breastfed', 'breastfeeding', 'breastpump', 'breath', 'breathe', 'breathes', 'breathing', 'breathless', 'breathtaking', 'breathtakingly', 'breauxshow', 'breckinridge', 'breds', 'bree', 'breed', 'breeder', 'breeding', 'brees', 'breeze', 'breh', 'breida', 'breitbart', 'breixt', 'brekkie', 'bremer', 'brenda', 'brennan', 'brent', 'brentwood', 'bret', 'bretman', 'brett', 'brew', 'brewer', 'brewery', 'brewing', 'brexit', 'brexiteer', 'brexiters', 'brexshit', 'bri', 'bria', 'brian', 'briana', 'brianbanksmovie', 'brianna', 'briarwood', 'bribe', 'bribed', 'bribery', 'bribing', 'brication', 'brick', 'bricking', 'brickley', 'brickphone', 'bridal', 'bride', 'bridesmaid', 'bridge', 'bridgestone', 'bridget', 'bridgewater', 'brie', 'brief', 'briefcase', 'briefing', 'briefly', 'brielle', 'brien', 'brier', 'brig', 'brigaddy', 'brigade', 'brigadier', 'briggs', 'bright', 'brightburn', 'brighten', 'brightens', 'brighter', 'brightest', 'brightman', 'brighton', 'brightside', 'briley', 'brill', 'brilliance', 'brilliant', 'brilliantly', 'brim', 'brincando', 'brindle', 'bring', 'bringbacknationaldex', 'bringbacksooubway', 'bringitalltojesus', 'bringitback', 'brings', 'bringthesoul', 'bringthesoulatsmcinema', 'brining', 'brink', 'brinson', 'brionne', 'brisbane', 'brisco', 'brisengamen', 'brisk', 'brisket', 'bristle', 'bristol', 'bristolcity', 'brit', 'britain', 'britbox', 'britches', 'british', 'britishness', 'britney', 'britt', 'britta', 'brittany', 'brittle', 'brittney', 'britton', 'brizz', 'bro', 'broad', 'broadcast', 'broadcasting', 'broadchurch', 'broaden', 'broadly', 'broadsword', 'broadway', 'broccoli', 'brochure', 'brock', 'brockhampton', 'brockway', 'brodey', 'brodie', 'brody', 'brohamer', 'broidy', 'broil', 'broiler', 'broke', 'brokebuthopefull', 'broken', 'brokenhomes', 'brokenness', 'broker', 'brokies', 'brolly', 'broly', 'bromance', 'bron', 'bronchitis', 'bronco', 'broncoscountry', 'broner', 'bronner', 'bronners', 'bronny', 'bronx', 'bronxbombers', 'bronycon', 'bronze', 'bronzemedal', 'broo', 'brood', 'brook', 'brooke', 'brookhaven', 'brookhouse', 'brookings', 'brooklyn', 'brooklynite', 'brooo', 'broooo', 'brooooo', 'bros', 'broski', 'brossette', 'brotha', 'brothaman', 'brothel', 'brother', 'brotheren', 'brotherhood', 'brotherly', 'brotp', 'brotun', 'brought', 'broussard', 'brovorce', 'brow', 'brown', 'brownguys', 'brownie', 'brownnnn', 'brownsville', 'browntown', 'browse', 'browser', 'browsing', 'broys', 'bru', 'bruabba', 'bruce', 'brucenat', 'bruceohr', 'brucewillis', 'brucewillisistheillest', 'bruch', 'brudda', 'bruddha', 'bruh', 'bruhh', 'bruhhh', 'bruhhhh', 'bruhhhhhhhhhhhh', 'bruhsband', 'bruin', 'bruise', 'bruising', 'bruka', 'brukness', 'brum', 'brunch', 'brunchies', 'brunette', 'bruno', 'brunswick', 'bruny', 'brush', 'brushing', 'brushstrokes', 'brussel', 'brussels', 'brust', 'brut', 'brutal', 'brutality', 'brute', 'bruv', 'bruvs', 'bruvvv', 'bryan', 'bryant', 'bryanw', 'bryce', 'bryson', 'brysontiller', 'bsck', 'bsd', 'bser', 'bsides', 'bsjsjdjdjjd', 'bsv', 'bt', 'btc', 'btch', 'btn', 'btob', 'btr', 'bts', 'btshinee', 'btsworld', 'btsworldcode', 'btt', 'bttm', 'btw', 'btwn', 'buah', 'bub', 'bubba', 'bubble', 'bubbler', 'bubbly', 'buble', 'bubs', 'bubsy', 'buc', 'buccellati', 'bucees', 'buchanan', 'buck', 'buckefps', 'bucket', 'buckhantz', 'buckingham', 'buckle', 'buckley', 'buckston', 'bucky', 'bucs', 'bud', 'budden', 'buddha', 'buddy', 'budget', 'budgeting', 'budging', 'budlight', 'buduga', 'budweiser', 'budweisser', 'budx', 'bue', 'bueno', 'buenos', 'buf', 'buff', 'buffalo', 'buffer', 'bufferend', 'buffet', 'buffett', 'buffing', 'buffoon', 'buffy', 'buffytvs', 'bug', 'bugg', 'bugger', 'buggin', 'bugging', 'buggy', 'bughead', 'buh', 'buhari', 'buhay', 'build', 'builder', 'building', 'built', 'builtfat', 'buisness', 'buizel', 'bujold', 'buju', 'bukari', 'bukayo', 'bukhari', 'bukkake', 'bukowski', 'bul', 'bulb', 'bulbasaur', 'bulgarian', 'bulge', 'bulgin', 'bulk', 'bulky', 'bull', 'bulldog', 'bullen', 'bullet', 'bulletin', 'bulletproof', 'bullfrog', 'bulllpen', 'bullly', 'bullock', 'bullpen', 'bullseye', 'bullsh', 'bullshit', 'bullshitten', 'bullshittin', 'bullshitting', 'bully', 'bullying', 'bulma', 'bum', 'bumabawi', 'bumble', 'bumblebee', 'bumblesnot', 'bumgarner', 'bumm', 'bummer', 'bummmzzz', 'bummy', 'bump', 'bumped', 'bumper', 'bumping', 'bumpsnbruises', 'bun', 'bunch', 'bunching', 'bundle', 'bunghole', 'bungie', 'bungle', 'bungling', 'bungou', 'bunk', 'bunni', 'bunnie', 'bunnings', 'bunny', 'bunting', 'burbank', 'burden', 'burdon', 'bureau', 'bureaucracy', 'bureaucrat', 'burg', 'burgandy', 'burger', 'burgerking', 'burgerpants', 'burgess', 'burgles', 'burgundy', 'buri', 'burial', 'buries', 'burk', 'burke', 'burkhead', 'burlesque', 'burlington', 'burn', 'burna', 'burncoat', 'burner', 'burnett', 'burnin', 'burning', 'burnley', 'burnnotice', 'burnsy', 'burnt', 'burntmarshmallows', 'burntout', 'burp', 'burped', 'burr', 'burris', 'burrito', 'burroughs', 'burrow', 'burrowing', 'burrreefurrr', 'burshing', 'burst', 'bursting', 'bursttt', 'burt', 'burundy', 'bury', 'bus', 'busch', 'bush', 'bushmeat', 'bushnell', 'bushy', 'busiest', 'business', 'businessmen', 'busload', 'buss', 'bussdown', 'bussin', 'bussing', 'bussy', 'bust', 'buster', 'bustle', 'busy', 'busybee', 'busyed', 'busyness', 'butbi', 'butch', 'butcher', 'butchery', 'buterfflies', 'butler', 'butnotkidsyet', 'buto', 'buts', 'butt', 'buttbot', 'butte', 'butter', 'buttercup', 'butterfly', 'butterscotch', 'buttery', 'buttfuck', 'butthole', 'butthurt', 'buttigieg', 'butting', 'buttock', 'button', 'buttplug', 'buttt', 'buttttttt', 'butttttttttttt', 'buuhoodle', 'buuut', 'buuuubyeee', 'buuuut', 'buuuuuttttt', 'buuuuuut', 'buwan', 'buww', 'buy', 'buyer', 'buying', 'buzz', 'buzzfeed', 'buzzin', 'buzzing', 'buzzword', 'bv', 'bvm', 'bwaaah', 'bwah', 'bwahaha', 'bwahahaha', 'bway', 'bwfc', 'bwith', 'bwl', 'bww', 'bxp', 'bxtch', 'bye', 'byee', 'byeeeee', 'bygone', 'byke', 'byl', 'byleth', 'byline', 'bylines', 'byow', 'bypass', 'bypassing', 'byph', 'byrant', 'byron', 'bystander', 'byte', 'byu', 'caant', 'cab', 'caba', 'cabal', 'cabana', 'cabello', 'cabin', 'cabinet', 'cable', 'cabo', 'caceres', 'cach', 'cache', 'cacka', 'cackle', 'cacklin', 'cacowwwww', 'cactus', 'cad', 'cadarn', 'cadaver', 'caddy', 'cade', 'cadem', 'caden', 'cadence', 'cadet', 'cadre', 'cadrika', 'caduceus', 'caelynn', 'caesar', 'caf', 'cafc', 'cafe', 'cafeteria', 'caffeinated', 'caffeine', 'caffiene', 'caftan', 'cagabuku', 'cage', 'cagliostro', 'cah', 'cahoot', 'caillou', 'cain', 'cair', 'cairo', 'cait', 'caitlin', 'cajones', 'cajun', 'cake', 'cakelessness', 'cakepopies', 'cal', 'calabar', 'calamity', 'calboy', 'calculate', 'calculation', 'calculator', 'calculus', 'caldo', 'caleb', 'calendar', 'calf', 'calfire', 'calgary', 'calhoun', 'cali', 'caliber', 'calibrate', 'calibration', 'calibre', 'calico', 'californa', 'california', 'californian', 'calipari', 'caliper', 'call', 'callabofthecentry', 'callahan', 'callaway', 'calle', 'caller', 'calles', 'calley', 'callibur', 'callicoat', 'callie', 'callin', 'calling', 'callipygian', 'callofduty', 'callous', 'callout', 'calloway', 'callum', 'callums', 'callus', 'calm', 'calmer', 'calmest', 'calmettes', 'calmly', 'calmness', 'calorie', 'calpurnia', 'cals', 'calum', 'calvin', 'calypso', 'camarasa', 'camaro', 'cambodia', 'cambodian', 'cambridge', 'camby', 'camcorder', 'camel', 'camelbak', 'cameo', 'camera', 'cameraman', 'cameron', 'camerons', 'cameroon', 'camila', 'camilizers', 'camilla', 'camiseta', 'camo', 'camouflage', 'camp', 'campaign', 'campane', 'campbell', 'campcounselortingz', 'campfire', 'campground', 'camptown', 'campus', 'camron', 'camus', 'cana', 'canada', 'canadian', 'canaduh', 'canal', 'canasa', 'canberra', 'cancel', 'cancelarchie', 'canceldish', 'cancellation', 'cancelleedd', 'cancelmutv', 'cancelo', 'cancer', 'cancerous', 'canciones', 'canco', 'cancun', 'candace', 'candidate', 'candido', 'candle', 'candour', 'candy', 'candyman', 'cane', 'canfield', 'canigetahellyeah', 'canine', 'cann', 'cannabis', 'cannae', 'cannavore', 'cannibal', 'cannibalism', 'cannibalize', 'cannily', 'cannnnooot', 'cannon', 'cannonball', 'canny', 'cano', 'canoe', 'canola', 'canon', 'canonically', 'canoodle', 'canopy', 'canot', 'cant', 'cantaloupe', 'cantando', 'cantarella', 'canten', 'canter', 'canton', 'cantteachstupid', 'cantu', 'canvas', 'canyon', 'cap', 'capability', 'capable', 'capacitate', 'capacity', 'capcom', 'cape', 'capecod', 'caper', 'capernaum', 'capital', 'capitalism', 'capitalist', 'capitalize', 'capitan', 'capp', 'capped', 'cappin', 'capricorn', 'capsule', 'capt', 'captain', 'captainsparklez', 'captchas', 'caption', 'captivity', 'captporkchop', 'capture', 'capuchin', 'caput', 'capybara', 'car', 'caraasco', 'caracal', 'caracteres', 'caradhras', 'caralho', 'caramel', 'caras', 'carat', 'caravan', 'carazee', 'carb', 'carbloading', 'carbon', 'carbonate', 'carbonation', 'carbonfree', 'carbs', 'carbunkle', 'card', 'cardale', 'cardboard', 'cardcaptor', 'carden', 'cardholder', 'cardi', 'cardiff', 'cardigan', 'cardinal', 'cardinality', 'cardio', 'cardiology', 'cardnalsgame', 'cardoso', 'caree', 'careen', 'career', 'carefree', 'careful', 'carefull', 'carefully', 'caregiver', 'careless', 'carelessness', 'carell', 'carer', 'caress', 'caret', 'carey', 'cargo', 'carhartt', 'cari', 'caribbean', 'caribou', 'carillo', 'carina', 'carl', 'carla', 'carlisle', 'carlo', 'carlock', 'carlos', 'carlsberg', 'carlson', 'carly', 'carmelite', 'carmella', 'carmen', 'carmine', 'carmy', 'carnation', 'carne', 'carnegie', 'carnival', 'carnivore', 'caro', 'carol', 'carolina', 'caroline', 'carolyn', 'carotid', 'carouhell', 'carousel', 'carpenter', 'carpet', 'carpool', 'carr', 'carrd', 'carregou', 'carrerra', 'carrey', 'carriage', 'carribian', 'carrie', 'carrier', 'carrington', 'carrol', 'carroll', 'carrollton', 'carrot', 'carry', 'carryon', 'carryout', 'carson', 'cart', 'carte', 'cartel', 'carter', 'carthage', 'carti', 'cartier', 'cartman', 'carton', 'cartoon', 'cartoonist', 'cartridge', 'cartwheel', 'carusone', 'carve', 'carver', 'carving', 'carvschi', 'caryl', 'casa', 'casascha', 'cascaro', 'case', 'casey', 'cash', 'cashapp', 'cashappfriday', 'cashed', 'cashew', 'cashier', 'cashman', 'cashmaster', 'cashmere', 'cashslave', 'cashtivists', 'casino', 'cask', 'casket', 'caspar', 'casper', 'cassandra', 'cassanova', 'cassava', 'casselman', 'casserole', 'cassette', 'cassi', 'cassian', 'cassidy', 'cassie', 'cassiobury', 'cast', 'castamere', 'caste', 'casteistsaviours', 'castellanos', 'casteth', 'casteyabos', 'castillo', 'castle', 'castleberry', 'castleford', 'castlevania', 'castor', 'castro', 'casual', 'casually', 'casuals', 'casualty', 'cata', 'cataclysm', 'catacomb', 'catalog', 'catalogue', 'catalyst', 'catan', 'catanzaro', 'catapult', 'catastrophe', 'catastrophic', 'catatonic', 'catboys', 'catcall', 'catch', 'catched', 'catcher', 'catchphrase', 'catchup', 'catchy', 'cate', 'categorically', 'category', 'catelynn', 'cater', 'catergory', 'catering', 'caterpillar', 'caters', 'cates', 'catfish', 'catfishin', 'catfishing', 'catfood', 'catgirl', 'cathal', 'cathartic', 'cathcart', 'cathedral', 'catherine', 'catholic', 'cathulu', 'cathy', 'catnip', 'cato', 'catra', 'catradora', 'catskills', 'catsuit', 'cattle', 'cattleya', 'catturd', 'catwoman', 'caucasian', 'caucus', 'caufield', 'caught', 'cauldron', 'cauldros', 'cauliflower', 'caus', 'causally', 'causation', 'cause', 'causve', 'causw', 'caution', 'cautionary', 'cautious', 'cave', 'caveat', 'caven', 'cavernous', 'cavetown', 'caviar', 'cavite', 'cavity', 'cayman', 'cazorla', 'cb', 'cba', 'cbc', 'cbd', 'cbe', 'cbme', 'cbn', 'cbs', 'cbsa', 'cbssports', 'cbx', 'cc', 'ccc', 'ccent', 'ccme', 'ccna', 'ccp', 'cd', 'cdc', 'cdl', 'cdm', 'cdmsmith', 'cdnpoli', 'cdp', 'cdrama', 'cease', 'ceaselessly', 'ceballos', 'cebalos', 'cebu', 'cec', 'cece', 'cech', 'cecil', 'cecilia', 'cecw', 'ced', 'ceddia', 'cederstom', 'cedric', 'cedrics', 'ceiling', 'celcia', 'celcius', 'celeb', 'celebrate', 'celebrates', 'celebration', 'celebratory', 'celebrity', 'celebs', 'celebsgodating', 'celebsgodatings', 'celery', 'celestial', 'celf', 'celia', 'celibate', 'celibatelife', 'celica', 'celine', 'cell', 'cellar', 'cellina', 'cellular', 'cellulite', 'celsius', 'celso', 'celt', 'celtic', 'cement', 'cemetary', 'cemetery', 'cen', 'cena', 'censor', 'censorship', 'censure', 'census', 'cent', 'centenal', 'centennial', 'center', 'centipede', 'central', 'centralize', 'centrall', 'centrally', 'centre', 'centrelink', 'centric', 'centrist', 'centro', 'centurion', 'century', 'ceo', 'cer', 'cera', 'cerberus', 'cereal', 'ceremonial', 'ceremony', 'cerin', 'cersei', 'cert', 'certain', 'certainly', 'certains', 'certainty', 'certificate', 'certify', 'certitude', 'cervelat', 'cervical', 'cervix', 'cesar', 'cespedes', 'cessa', 'cessation', 'cesspool', 'cest', 'cetera', 'ceying', 'cf', 'cfa', 'cfc', 'cfl', 'cfo', 'cfr', 'cg', 'cge', 'cgi', 'cgj', 'cgv', 'ch', 'cha', 'chabon', 'chacha', 'chad', 'chadam', 'chaeng', 'chaeyeon', 'chaeyoung', 'chafe', 'chafed', 'chai', 'chaiii', 'chain', 'chainsaw', 'chainsmokers', 'chair', 'chairman', 'chairperson', 'chairwoman', 'chak', 'chaka', 'chalamet', 'chalcedonian', 'chaldean', 'chale', 'chalice', 'chalk', 'chalkboard', 'chalktheblock', 'chall', 'challage', 'challenge', 'challenged', 'challenger', 'chamaty', 'chamber', 'chamberlain', 'chamisa', 'champ', 'champagne', 'champion', 'championship', 'chan', 'chance', 'chancellor', 'chanchs', 'chand', 'chandelier', 'chandler', 'chandon', 'chanel', 'chang', 'changbin', 'change', 'changer', 'changin', 'changkyun', 'chani', 'channel', 'channing', 'chant', 'chantel', 'chanu', 'chanyeol', 'chao', 'chaos', 'chaotic', 'chaotically', 'chap', 'chapel', 'chapi', 'chaplain', 'chapman', 'chapo', 'chapped', 'chappelle', 'chapter', 'chaptr', 'char', 'chara', 'character', 'characterbuilding', 'characteristic', 'characterization', 'characterize', 'charactor', 'charan', 'charce', 'charcoal', 'chardikala', 'chardonnay', 'charge', 'charger', 'charibert', 'chariot', 'charisma', 'charismatic', 'charitable', 'charity', 'charlatan', 'charlee', 'charles', 'charleston', 'charley', 'charleys', 'charli', 'charlie', 'charlize', 'charlotte', 'charlottesville', 'charlottesvillehoax', 'charlton', 'charm', 'charma', 'charmeleon', 'charottt', 'chart', 'charter', 'chase', 'chaser', 'chasin', 'chasingthecure', 'chasisted', 'chaska', 'chaskaborek', 'chassis', 'chaste', 'chastity', 'chat', 'chateau', 'chattanooga', 'chatten', 'chatter', 'chatterisweather', 'chattin', 'chaturbate', 'chaturvarnya', 'chaucer', 'chauffeur', 'chauvinist', 'chavez', 'chavis', 'chayo', 'chayote', 'chce', 'chea', 'cheap', 'cheaper', 'cheapest', 'cheaply', 'cheat', 'cheater', 'cheboygan', 'check', 'checkbook', 'checked', 'checker', 'checkin', 'checkkkkkk', 'checkmark', 'checkout', 'checkpoint', 'checkup', 'cheddar', 'cheddarneedsasibling', 'cheebs', 'cheeii', 'cheek', 'cheekbone', 'cheekies', 'cheekiness', 'cheeky', 'cheep', 'cheer', 'cheerlead', 'cheerleader', 'cheese', 'cheeseburger', 'cheesecake', 'cheesecloth', 'cheesesteak', 'cheesesteaks', 'cheesey', 'cheesiest', 'cheesin', 'cheesy', 'cheetah', 'cheetahlicious', 'cheeto', 'cheetos', 'cheez', 'chef', 'chefbekisback', 'chegg', 'chel', 'chelate', 'chell', 'chelly', 'chelsea', 'chelseafc', 'chem', 'chemical', 'chemically', 'chemist', 'chemistry', 'chemo', 'chen', 'cheng', 'chenier', 'chenle', 'chennai', 'chennaiexpress', 'cheque', 'cher', 'cherish', 'cherishes', 'cherman', 'cherno', 'chernobyl', 'chernoff', 'cherokee', 'cherry', 'cheryl', 'chesapeake', 'chess', 'chest', 'chester', 'chestertaces', 'chestnut', 'chethakani', 'chevron', 'chevy', 'chew', 'chewed', 'chewy', 'cheyadaniki', 'cheyandi', 'cheyandii', 'cheyenne', 'chh', 'chianti', 'chibi', 'chibnall', 'chic', 'chicago', 'chicagoan', 'chicagobears', 'chicagobound', 'chicagoscanner', 'chicagostrong', 'chicas', 'chicharito', 'chicharon', 'chicharron', 'chichi', 'chick', 'chicken', 'chickenhawks', 'chickfila', 'chicklet', 'chicoi', 'chie', 'chief', 'chiefskingdom', 'chihuahua', 'chik', 'chika', 'chikorita', 'chikoro', 'chil', 'chilchack', 'child', 'childbirth', 'childcare', 'childers', 'childhood', 'childish', 'childless', 'childrens', 'chile', 'chileeee', 'chili', 'chill', 'chillax', 'chillest', 'chilli', 'chillin', 'chilll', 'chilllll', 'chilllllllin', 'chillwell', 'chilly', 'chim', 'chime', 'chimera', 'chimichangas', 'chimneysweep', 'chimpan', 'chimpesav', 'chin', 'china', 'chinatown', 'chinelas', 'chinese', 'chingu', 'chingy', 'chinhu', 'chino', 'chinola', 'chinotto', 'chip', 'chipka', 'chipmunk', 'chipotle', 'chipped', 'chipper', 'chippy', 'chiquera', 'chiraq', 'chirinos', 'chiropractor', 'chirp', 'chirpy', 'chisenhall', 'chismosas', 'chisos', 'chit', 'chitterlings', 'chivalrous', 'chivalry', 'chive', 'chixtape', 'chlg', 'chloe', 'chlorine', 'chlorophyll', 'cho', 'chobee', 'chocho', 'choclate', 'choco', 'chocobos', 'chocolate', 'chocolatey', 'chodron', 'choi', 'choice', 'choicemusicgroup', 'choicemusicwebstar', 'choicerbhiphopartist', 'choir', 'choke', 'choked', 'cholesterol', 'cholula', 'chomp', 'chong', 'chonk', 'chonkwatch', 'chonky', 'choo', 'choose', 'chooses', 'choosign', 'choosingbeggars', 'chop', 'chopnotslop', 'chopnotslopapp', 'chopnotslopradio', 'choppa', 'chopped', 'chopper', 'choppy', 'chopra', 'chopstick', 'chorando', 'chorar', 'chord', 'chore', 'choreo', 'choreographer', 'choreography', 'chorizo', 'chorlton', 'choron', 'choronzon', 'chorus', 'chose', 'chosen', 'choses', 'chotto', 'chow', 'chowed', 'chowing', 'chrb', 'chris', 'chrises', 'chrissy', 'christ', 'christcore', 'christen', 'christensen', 'christi', 'christian', 'christianity', 'christie', 'christina', 'christine', 'christmas', 'christofer', 'christology', 'christophe', 'christopher', 'christy', 'chrisyoung', 'chrome', 'chromosome', 'chromosones', 'chronic', 'chronicle', 'chronixx', 'chrustie', 'chrysalis', 'chsjfj', 'chu', 'chubb', 'chubby', 'chuck', 'chucked', 'chuckie', 'chuckle', 'chucklin', 'chucky', 'chud', 'chuffed', 'chug', 'chugalugaluging', 'chugg', 'chuirfeadh', 'chul', 'chula', 'chum', 'chumbawumba', 'chumbs', 'chump', 'chun', 'chuncks', 'chung', 'chunghas', 'chunk', 'chunky', 'chunsoft', 'chunti', 'chupistica', 'church', 'churchbasement', 'churchill', 'churn', 'chutiyas', 'chutzpah', 'chuu', 'chuuuunes', 'chuuya', 'chvhbj', 'chyron', 'chystal', 'chz', 'cia', 'cial', 'ciampa', 'ciara', 'cic', 'cicada', 'cichol', 'cicle', 'cid', 'cider', 'cidg', 'cie', 'ciel', 'cienega', 'cifuentes', 'cig', 'cigar', 'cigarette', 'cigarillo', 'cigs', 'cik', 'cilantro', 'cillages', 'cillit', 'cillo', 'cimarron', 'cimber', 'cinch', 'cinci', 'cincinnati', 'cinder', 'cinderella', 'cindy', 'cinejanes', 'cinema', 'cinematic', 'cinematography', 'cinnamon', 'cinque', 'cinthya', 'cintiq', 'ciochat', 'cipher', 'circa', 'circle', 'circular', 'circulate', 'circulation', 'circumstance', 'circumstantial', 'circumvent', 'circus', 'ciroc', 'cirque', 'cisco', 'cisgender', 'cishek', 'cishet', 'cishetero', 'citaaayyyyyyy', 'citadel', 'citation', 'citches', 'citizen', 'citizenship', 'citronella', 'citrus', 'city', 'citygirl', 'cityyyy', 'civale', 'civic', 'civics', 'civil', 'civilian', 'civilise', 'civility', 'civilization', 'civilize', 'civillian', 'cix', 'cj', 'cjbdhfbfbbfbf', 'cjjsnfng', 'cjksckksd', 'ck', 'ckay', 'cked', 'ckin', 'cking', 'cks', 'ckwittery', 'cl', 'clad', 'claim', 'claimed', 'claimin', 'claire', 'clam', 'clamp', 'clan', 'clandestine', 'clanton', 'clap', 'clapbacks', 'clapped', 'claptrap', 'clara', 'clare', 'clarification', 'clarify', 'clarinet', 'clarisworks', 'clarity', 'clark', 'clarke', 'clarkezoomonarchs', 'clarklake', 'clarkus', 'claro', 'clash', 'clasp', 'class', 'classenal', 'classic', 'classical', 'classicbills', 'classicism', 'classicsize', 'classify', 'classism', 'classmate', 'classof', 'classroom', 'classsic', 'classy', 'claude', 'claudesylvain', 'claudia', 'claudio', 'claus', 'clause', 'clauseypoo', 'clavicle', 'claw', 'clay', 'clayco', 'clayfighter', 'clayton', 'cle', 'clean', 'cleaner', 'cleanest', 'cleaning', 'cleanliness', 'cleanse', 'cleanser', 'cleanthefgc', 'cleanup', 'clear', 'clearance', 'clearer', 'clearest', 'clearing', 'clearly', 'clearmylist', 'clearthelistpa', 'clearthelists', 'cleartheliststexas', 'clearwater', 'cleavage', 'clemens', 'clement', 'clemson', 'clemsoning', 'clench', 'clenched', 'cleopatra', 'cleric', 'cleveland', 'clever', 'cleverly', 'cleverness', 'clevers', 'clevinger', 'clevsmin', 'clexa', 'clg', 'clich', 'cliche', 'click', 'clickbait', 'clickbaiting', 'clickbaity', 'clicked', 'clicker', 'clicquot', 'cliembed', 'client', 'clientele', 'cliff', 'cliffey', 'cliffhanger', 'cliffoholics', 'cliffomaniacs', 'clifford', 'clikkie', 'climate', 'climatechange', 'climatic', 'climatologist', 'climax', 'climb', 'climbed', 'climber', 'climby', 'cling', 'clingy', 'clinic', 'clinical', 'clinician', 'clint', 'clintin', 'clinton', 'clip', 'clipe', 'clipped', 'clipper', 'clique', 'clit', 'clitoris', 'clitorus', 'cloak', 'clobber', 'clock', 'clocked', 'clockwork', 'clog', 'cloggs', 'clonbur', 'clone', 'clonmany', 'clop', 'close', 'closely', 'closen', 'closer', 'closest', 'closet', 'closing', 'closure', 'clot', 'cloth', 'clothe', 'clothed', 'clothes', 'clotheslined', 'clothing', 'cloture', 'cloud', 'cloudy', 'clouring', 'clout', 'clove', 'clover', 'cloverbot', 'clovis', 'clown', 'clownery', 'clows', 'clsd', 'clstone', 'clt', 'club', 'cluberson', 'clue', 'clueless', 'clump', 'clumped', 'clumsy', 'cluster', 'clutch', 'clutter', 'clvs', 'clyde', 'cm', 'cmc', 'cmg', 'cmon', 'cmpd', 'cmr', 'cmt', 'cn', 'cna', 'cnbc', 'cnco', 'cndnfn', 'cne', 'cneba', 'cnn', 'cnp', 'cnt', 'co', 'coa', 'coach', 'coached', 'coal', 'coarse', 'coast', 'coaster', 'coastist', 'coat', 'coates', 'cob', 'cobain', 'cobb', 'cobba', 'cobble', 'cobe', 'cobolt', 'cobra', 'cobweb', 'coby', 'coca', 'cocaine', 'cocci', 'cochlea', 'cock', 'cockpit', 'cockrell', 'cockroach', 'cocksontop', 'cocksucker', 'cocksucking', 'cocktail', 'cocky', 'coco', 'cocoa', 'coconut', 'cocteau', 'cod', 'coddle', 'code', 'codeine', 'codename', 'codiene', 'codww', 'cody', 'coed', 'coelho', 'coerce', 'coercion', 'coffee', 'coffer', 'coffin', 'cogent', 'cognac', 'cognitive', 'cohan', 'coheed', 'cohen', 'cohere', 'coherent', 'cohort', 'coil', 'coimbatore', 'coin', 'coinbase', 'coincide', 'coincidence', 'coincidentally', 'coincides', 'coit', 'cojo', 'coke', 'cokehead', 'cola', 'colada', 'colbert', 'colby', 'colbyyyyyyyyy', 'cold', 'colder', 'coldest', 'coldplay', 'coldsy', 'coldt', 'cole', 'coleen', 'colell', 'coleman', 'colette', 'colfin', 'colimba', 'colin', 'coliseum', 'collab', 'collabo', 'collaborate', 'collaboration', 'collaborative', 'collabs', 'collage', 'collapse', 'collar', 'collarbone', 'collard', 'collateral', 'collateralize', 'colleague', 'collect', 'collection', 'collective', 'collectively', 'collector', 'colleen', 'college', 'collegefriendsforever', 'collide', 'colliderlive', 'collier', 'collierville', 'collin', 'collins', 'colliscool', 'collision', 'collude', 'collusion', 'cologne', 'colombia', 'colombo', 'colonel', 'colonial', 'colonialism', 'colonization', 'colonize', 'colonizer', 'colony', 'color', 'colorado', 'colorblind', 'colorful', 'colorize', 'colorless', 'colorstruck', 'colorway', 'colossian', 'colour', 'colourpop', 'colress', 'colt', 'coltrane', 'coltsnation', 'coltsvsbills', 'columbia', 'columbine', 'columbus', 'column', 'columnist', 'colwpses', 'coma', 'comanche', 'comargo', 'comb', 'combat', 'combatant', 'combe', 'combed', 'combination', 'combine', 'combo', 'comboed', 'combustion', 'combustive', 'comcast', 'comcede', 'comeback', 'comedian', 'comedically', 'comedicly', 'comedy', 'comeeee', 'comentators', 'comercex', 'comerica', 'comet', 'cometobrazil', 'comey', 'comfort', 'comfortable', 'comfortably', 'comforter', 'comfy', 'comfyy', 'comic', 'comical', 'comiccon', 'comico', 'comida', 'comiket', 'comin', 'comingnextweek', 'cominn', 'comm', 'comma', 'command', 'commander', 'commandment', 'commando', 'comme', 'commemorate', 'commence', 'commend', 'commendable', 'comment', 'commentary', 'commentate', 'commentator', 'commenters', 'commerce', 'commercial', 'commercially', 'commericals', 'commi', 'commie', 'comming', 'commiserate', 'commission', 'commissioner', 'commit', 'commitment', 'committee', 'common', 'commonplace', 'commonwealth', 'commonweath', 'commotion', 'comms', 'commu', 'commune', 'communicate', 'communication', 'communion', 'communique', 'communism', 'communist', 'communistclowns', 'community', 'communityfundraising', 'commutation', 'commute', 'commuter', 'comnentary', 'comp', 'compa', 'compact', 'companion', 'companionship', 'company', 'comparable', 'compare', 'comparison', 'compartido', 'compartment', 'compasi', 'compass', 'compassion', 'compassionate', 'compatible', 'compel', 'compelling', 'compels', 'compensate', 'compensation', 'compete', 'competely', 'competence', 'competency', 'competent', 'competetive', 'competition', 'competitive', 'competitor', 'competive', 'comphet', 'compilation', 'compile', 'complacency', 'complacent', 'complain', 'complains', 'complaint', 'complement', 'complementary', 'complete', 'completely', 'completem', 'completes', 'completewebdeveloper', 'completion', 'complex', 'complexion', 'complexly', 'compliance', 'compliant', 'complicate', 'complicates', 'complicit', 'complicitcorruptgop', 'complicity', 'compliment', 'complimentary', 'comply', 'component', 'compose', 'composition', 'compost', 'compostible', 'composure', 'comprar', 'comprehend', 'comprehension', 'compress', 'compression', 'compromise', 'compton', 'compulsory', 'compund', 'computer', 'comrade', 'comradetrump', 'comunian', 'conan', 'conbine', 'concall', 'concave', 'conceal', 'concealer', 'concealment', 'concede', 'conceit', 'conceited', 'conceivably', 'conceive', 'concentrate', 'concentration', 'concentrationcamps', 'concept', 'conception', 'conceptual', 'concern', 'concerned', 'concert', 'concerta', 'concession', 'conclude', 'concludes', 'conclusion', 'conclusive', 'conclusively', 'concoction', 'concord', 'concorde', 'concrete', 'concretion', 'concubine', 'concur', 'concurrent', 'concussion', 'condemn', 'condemnation', 'condemns', 'condense', 'condescend', 'condiment', 'condition', 'conditional', 'conditioner', 'conditioning', 'condolence', 'condom', 'condone', 'condtions', 'conduct', 'conductor', 'cone', 'coney', 'conf', 'confederate', 'confederation', 'conference', 'conferencewtf', 'confess', 'confession', 'confessional', 'confetti', 'confide', 'confidence', 'confident', 'confidential', 'confidently', 'config', 'configure', 'confine', 'confines', 'confirm', 'confirmating', 'confirmation', 'confirms', 'confiscate', 'confiscation', 'confited', 'conflate', 'conflict', 'confluence', 'conform', 'confort', 'confounds', 'confront', 'confrontation', 'confucius', 'confundi', 'confuror', 'confuse', 'confuses', 'confusion', 'confussing', 'cong', 'congestion', 'congrajulashions', 'congrats', 'congratulate', 'congratulation', 'congregate', 'congregation', 'congress', 'congressional', 'congressman', 'congresswoman', 'congy', 'coniglio', 'conjecture', 'conjoin', 'conjuncting', 'conjure', 'conjures', 'conker', 'conkface', 'conley', 'conlon', 'conman', 'conmenced', 'connect', 'connecticut', 'connection', 'conners', 'connie', 'connoisseur', 'connolly', 'connor', 'connors', 'connotation', 'connsider', 'conquer', 'conquest', 'conrad', 'conrank', 'conscentration', 'conscience', 'conscientious', 'conscious', 'consciously', 'consciousness', 'conscription', 'consecutive', 'consensual', 'consensus', 'consent', 'consequence', 'consequently', 'conservative', 'conservativecensorship', 'consider', 'considerably', 'considerate', 'consideration', 'considerd', 'considers', 'considersation', 'considine', 'consist', 'consistantly', 'consistency', 'consistencycounts', 'consistent', 'consistently', 'consists', 'consolare', 'consolation', 'console', 'consort', 'conspicuously', 'conspiracy', 'conspirator', 'conspire', 'constabtly', 'constance', 'constant', 'constantinople', 'constantly', 'constellation', 'constituency', 'constituent', 'constitution', 'constitutional', 'constraint', 'construct', 'construction', 'constructive', 'consult', 'consultant', 'consultation', 'consults', 'consumable', 'consume', 'consumer', 'consumerist', 'consummate', 'cont', 'contact', 'contagion', 'contagious', 'contain', 'container', 'contains', 'contaminate', 'conte', 'contemplate', 'contemplates', 'contemplation', 'contemplator', 'contemporary', 'contempt', 'contemptuous', 'contend', 'contender', 'content', 'contentedly', 'contentious', 'contest', 'contestant', 'context', 'contigo', 'continent', 'contingency', 'continually', 'continuation', 'continue', 'continued', 'continuity', 'continuous', 'continuously', 'continuum', 'contol', 'contort', 'contour', 'contract', 'contraction', 'contractor', 'contractual', 'contractually', 'contradict', 'contradiction', 'contradictory', 'contradicts', 'contraption', 'contrarian', 'contrary', 'contrast', 'contribute', 'contributes', 'contribution', 'contrite', 'contrition', 'contrive', 'control', 'controllable', 'controller', 'controversial', 'controversy', 'conty', 'conundrum', 'convene', 'convener', 'convenience', 'convenient', 'conveniently', 'convention', 'conventional', 'conversate', 'conversation', 'converse', 'conversion', 'convert', 'convertible', 'convex', 'convey', 'conveyor', 'convict', 'conviction', 'convince', 'convincing', 'convo', 'convolute', 'convos', 'conway', 'coo', 'coochie', 'coochiemancy', 'coochieologists', 'coochies', 'coock', 'coody', 'coogs', 'cook', 'cookbook', 'cooked', 'cooker', 'cookie', 'cookin', 'cooking', 'cookout', 'cookware', 'cooky', 'cool', 'coolbellywrestling', 'coolcat', 'cooldkdkdkdo', 'cooler', 'coolest', 'coolin', 'coolio', 'cooly', 'coon', 'cooney', 'cooookies', 'coooool', 'coop', 'cooper', 'cooperate', 'cooperation', 'cooperative', 'cooperstown', 'coopertion', 'coordinate', 'coordinator', 'coors', 'cootie', 'cop', 'copa', 'cope', 'copeland', 'copenhagen', 'copious', 'copn', 'copolitics', 'copped', 'copper', 'copulates', 'copy', 'copycat', 'copying', 'copyright', 'cor', 'cora', 'coral', 'coraline', 'corbett', 'corbyn', 'corbynbesson', 'corbynite', 'cord', 'cordae', 'cordelia', 'corden', 'cordial', 'cordura', 'core', 'corey', 'cori', 'coriander', 'corinthian', 'coriolanus', 'coriolis', 'corkairport', 'corktraffic', 'corll', 'corn', 'cornballs', 'cornbread', 'cornea', 'corneaal', 'cornelius', 'corner', 'cornerback', 'cornfield', 'corniest', 'cornrow', 'cornrows', 'cornwall', 'corny', 'corolla', 'corollary', 'corona', 'coronation', 'corp', 'corporate', 'corporation', 'corps', 'corpse', 'corpus', 'corral', 'corranforce', 'correct', 'correction', 'correctional', 'correctly', 'corrector', 'correlate', 'correlation', 'correspond', 'corresponds', 'corridor', 'corrie', 'corrin', 'corrine', 'corrupt', 'corruption', 'corruptionand', 'corrupts', 'corse', 'corsica', 'cort', 'cortez', 'corti', 'cortisone', 'coruscation', 'corvette', 'corvus', 'cory', 'cosby', 'coschu', 'cosmetic', 'cosmetologist', 'cosmetology', 'cosmic', 'cosmo', 'cosmos', 'cosplay', 'cosplayed', 'cosplayers', 'cosplaying', 'cosplays', 'cost', 'costa', 'costanza', 'costco', 'costello', 'costilla', 'costly', 'costume', 'cosy', 'cotc', 'cotillard', 'cottage', 'cotton', 'couch', 'cougar', 'cough', 'coughed', 'coukd', 'could', 'coulda', 'couldnt', 'couls', 'coun', 'council', 'councillor', 'counsel', 'counselor', 'count', 'countdown', 'counter', 'counterattack', 'counterculture', 'counterpart', 'counterproductive', 'countersuit', 'counting', 'countingdown', 'countless', 'country', 'countryboi', 'countrylife', 'countryman', 'countryside', 'county', 'coup', 'couperogers', 'couple', 'coupon', 'couponing', 'courage', 'couragejd', 'courageous', 'courier', 'course', 'court', 'courteous', 'courtesy', 'courthouse', 'courtney', 'courtois', 'courtship', 'cous', 'cousin', 'coutee', 'coutinhno', 'coutinho', 'couture', 'cove', 'coven', 'coventry', 'cover', 'coverage', 'coverin', 'covfefe', 'covhour', 'cow', 'coward', 'cowardice', 'cowardly', 'cowbell', 'cowboy', 'cowboysnation', 'cowchella', 'cowed', 'cowgirl', 'cowl', 'coworker', 'coworkers', 'cox', 'coyb', 'coyg', 'coyi', 'coyote', 'coys', 'coz', 'cozier', 'cozy', 'cp', 'cpa', 'cpac', 'cpacaustralia', 'cpc', 'cpec', 'cpfc', 'cping', 'cpl', 'cps', 'cpu', 'cqc', 'cql', 'cr', 'cra', 'crab', 'crabby', 'crabicatures', 'crack', 'crackas', 'crackden', 'crackdown', 'cracker', 'crackhead', 'crackheadedness', 'crackheads', 'crackin', 'crackle', 'crackpot', 'cracktivities', 'cractivities', 'craddock', 'cradle', 'craft', 'crafter', 'craftmine', 'crafty', 'craig', 'craigmont', 'craigslist', 'cramlington', 'crammed', 'cramp', 'crampy', 'cranberry', 'crane', 'crank', 'crankedd', 'cranky', 'crap', 'crappy', 'crash', 'crashed', 'crashin', 'crashkeys', 'crass', 'crate', 'crater', 'crave', 'craven', 'craves', 'crawfish', 'crawford', 'crawl', 'crawsis', 'cray', 'crayon', 'craze', 'crazeman', 'crazier', 'craziest', 'crazy', 'crazyhorse', 'crazyy', 'crazyyyy', 'crazyyyyyyy', 'crazzzy', 'crazzzzyyyy', 'cream', 'creamery', 'creampied', 'creamy', 'crease', 'create', 'creates', 'creation', 'creative', 'creatives', 'creativity', 'creator', 'creature', 'cred', 'credability', 'credential', 'credibility', 'credible', 'credit', 'creditwherecreditisdue', 'creed', 'creek', 'creekside', 'creep', 'creeped', 'creeper', 'creepiest', 'creepin', 'creepre', 'creepshow', 'creepy', 'creepypasta', 'creepyunclejoe', 'creme', 'crenshaw', 'crepe', 'crest', 'crestview', 'crestwood', 'crete', 'cretin', 'crew', 'crewefire', 'crian', 'crib', 'cribo', 'cricket', 'crickety', 'crikey', 'crime', 'crimefamily', 'criminal', 'criminalize', 'criminally', 'crimsix', 'crimson', 'crine', 'cringe', 'cringed', 'cringes', 'cringey', 'cringy', 'crip', 'cripes', 'cripple', 'cripplingly', 'crips', 'cripthevote', 'cripwalking', 'cris', 'crise', 'crisidigoverno', 'crisis', 'crismon', 'crisp', 'crispy', 'criss', 'cristi', 'cristian', 'cristina', 'crit', 'critcalrole', 'criterion', 'critic', 'critical', 'criticalrole', 'criticise', 'criticism', 'criticize', 'critique', 'critrolespoilers', 'crits', 'crm', 'crndog', 'croatian', 'crochet', 'crock', 'crocker', 'crockett', 'crockpot', 'crocodile', 'crocs', 'crocus', 'croft', 'croissant', 'croix', 'cromwell', 'cron', 'cronch', 'cronenberg', 'cronie', 'cronked', 'cronkite', 'crono', 'crony', 'cronyn', 'croods', 'crook', 'crooked', 'crookedhillary', 'crooms', 'crop', 'cropped', 'crosby', 'cross', 'crosscut', 'crossfit', 'crossfitter', 'crossin', 'crossover', 'crosswalk', 'crota', 'crotch', 'crotchrocket', 'crouch', 'crouchy', 'croughton', 'crow', 'crowd', 'crowder', 'crowdfunding', 'crowdsourced', 'crowell', 'crowley', 'crown', 'crsp', 'crt', 'crucial', 'crucially', 'crucify', 'crucio', 'crud', 'crude', 'crue', 'cruel', 'cruelest', 'cruelly', 'cruelty', 'cruise', 'cruiser', 'cruisetopia', 'crumb', 'crumbl', 'crumble', 'crumbles', 'crumbly', 'crummy', 'crump', 'crumpet', 'crumple', 'crunch', 'crunchiest', 'crunchy', 'crunchyroll', 'crunk', 'crusade', 'crusader', 'crush', 'crusinging', 'crust', 'crustie', 'crusty', 'crutch', 'crux', 'cruz', 'cry', 'crybaby', 'cryin', 'cryinggg', 'crypt', 'cryptic', 'cryptid', 'crypto', 'cryptocurrencies', 'cryptocurrency', 'cryptography', 'cryptozoology', 'crystal', 'crystalline', 'crystalpalace', 'cryy', 'cryyyyimg', 'cryyyying', 'cs', 'csanz', 'csgo', 'cslewis', 'cso', 'csr', 'cst', 'cstat', 'csu', 'csw', 'ct', 'ctas', 'cte', 'ctf', 'ctfu', 'cthulhu', 'cticket', 'ctory', 'ctr', 'ctrl', 'cuar', 'cub', 'cuba', 'cuban', 'cubby', 'cubdom', 'cube', 'cubicle', 'cubist', 'cubshateweek', 'cucc', 'cuck', 'cuckoo', 'cucumber', 'cud', 'cuddle', 'cuddly', 'cudi', 'cudos', 'cue', 'cuff', 'cuffed', 'cuffin', 'cuhh', 'cuisine', 'cul', 'culd', 'culinary', 'culkin', 'cull', 'cullen', 'culpability', 'culpable', 'culprit', 'cult', 'cultist', 'cultivate', 'cultivator', 'cultura', 'cultural', 'culturally', 'culture', 'culturemoods', 'culver', 'cumberbatch', 'cuming', 'cummies', 'cumming', 'cummings', 'cummingsmustgo', 'cumtribute', 'cun', 'cunnilingus', 'cunning', 'cunningham', 'cunnuck', 'cunt', 'cuomo', 'cup', 'cupcake', 'cupcakke', 'cupertino', 'cupid', 'cuppa', 'cupped', 'curation', 'curb', 'curbed', 'cure', 'curently', 'curfew', 'curio', 'curiosity', 'curious', 'curiousity', 'curiously', 'curl', 'curly', 'curlyhairproblems', 'curmudgeonly', 'curology', 'curran', 'currated', 'currency', 'current', 'currently', 'curry', 'curse', 'cursive', 'cursory', 'curt', 'curtain', 'curtis', 'curtsy', 'curvature', 'curve', 'curviest', 'curvilinear', 'curvy', 'cushing', 'cushion', 'cusp', 'cuss', 'custard', 'custer', 'custo', 'custodial', 'custodian', 'custody', 'custom', 'customary', 'customer', 'customize', 'cut', 'cutdown', 'cute', 'cuteee', 'cuteeeee', 'cutely', 'cuteness', 'cuter', 'cutest', 'cutey', 'cuthbert', 'cuticle', 'cutie', 'cuties', 'cutiest', 'cutis', 'cutler', 'cutlery', 'cutout', 'cutrently', 'cutscene', 'cutscenes', 'cutt', 'cutter', 'cutthebrakes', 'cutthroat', 'cuttin', 'cuttingcalories', 'cuz', 'cuzz', 'cv', 'cville', 'cvot', 'cw', 'cwiste', 'cwl', 'cwn', 'cy', 'cya', 'cyah', 'cyan', 'cyber', 'cyberbullying', 'cyberpainting', 'cybertron', 'cybr', 'cycle', 'cycling', 'cyclone', 'cygames', 'cygnus', 'cyklus', 'cymbal', 'cymraeg', 'cyn', 'cynan', 'cynical', 'cynicism', 'cyntoia', 'cyotes', 'cypher', 'cypress', 'cyril', 'cyrus', 'cyst', 'cystic', 'cz', 'czechoslovakian', 'daa', 'daaaaaammmm', 'daaaamn', 'daaaamnnn', 'daal', 'dab', 'dababy', 'dabears', 'dabi', 'dabney', 'dabo', 'dace', 'dacha', 'dad', 'dada', 'dadbod', 'daddy', 'daddysgirl', 'dade', 'dadgummitt', 'dadshorts', 'dadslife', 'dae', 'daemon', 'daenaryes', 'daeshon', 'daffodil', 'daft', 'dafuq', 'dagger', 'daggering', 'dagor', 'dah', 'dahlia', 'dahmer', 'dahyun', 'daigo', 'dailey', 'daily', 'dailydeals', 'dailydoseofdjpj', 'dailymail', 'dailyquote', 'daio', 'daiquiri', 'dairus', 'dairy', 'daisy', 'daiweeb', 'dak', 'dakimakuras', 'dakota', 'dalai', 'dalaran', 'dalawa', 'dale', 'dalek', 'daley', 'dalits', 'dallas', 'dallon', 'dalmatian', 'dalnaa', 'dalton', 'dalvin', 'daly', 'dam', 'damage', 'daman', 'damarea', 'damascus', 'damb', 'dame', 'dameka', 'dami', 'damien', 'damita', 'damm', 'damme', 'dammit', 'dammmitt', 'dammmmmnnn', 'damn', 'damnation', 'damnit', 'damnnn', 'damnnnnn', 'damnpoverty', 'damon', 'damp', 'damsel', 'dana', 'danbury', 'dance', 'dancefloor', 'danceparty', 'dancer', 'dancin', 'dandy', 'dandyu', 'dane', 'danell', 'danforth', 'dang', 'dangan', 'danganronpa', 'dangdut', 'danger', 'dangercomedy', 'dangerfield', 'dangerous', 'dangerously', 'dangerzone', 'dangle', 'danglers', 'dangles', 'dangote', 'dani', 'daniel', 'daniela', 'danielle', 'danielles', 'danig', 'danilo', 'danish', 'danker', 'dannemorra', 'danny', 'dansby', 'dansbys', 'danson', 'dante', 'danvers', 'dany', 'danzeno', 'dap', 'daphne', 'daps', 'dapscoin', 'daqs', 'darbyshire', 'darcey', 'darcy', 'darden', 'dare', 'daredevil', 'darien', 'darin', 'darion', 'darius', 'dark', 'darken', 'darker', 'darkest', 'darkness', 'darkskin', 'darkturquoise', 'darkuman', 'darkwing', 'darla', 'darlin', 'darling', 'darmain', 'darn', 'darnest', 'darnold', 'darragh', 'darrels', 'darren', 'darrin', 'darshan', 'dart', 'darth', 'dartmouth', 'daryl', 'dash', 'dashable', 'dashboard', 'dashwood', 'dasow', 'dassit', 'data', 'database', 'dataset', 'date', 'datemyfamilybotswana', 'datetime', 'datsun', 'dattttttt', 'daugher', 'daughta', 'daughter', 'daultons', 'daunt', 'daurice', 'davante', 'dave', 'daveed', 'davenport', 'daves', 'david', 'davidhernandez', 'davidluiz', 'davido', 'davidollad', 'davidrenuncia', 'davidryan', 'davidson', 'davin', 'davip', 'davis', 'davo', 'dawg', 'dawgpound', 'dawgs', 'dawkins', 'dawn', 'dawon', 'dawson', 'dawwkk', 'dax', 'daxton', 'day', 'daya', 'dayan', 'daycare', 'daydream', 'dayfiance', 'dayfiancetheotherway', 'dayi', 'daylight', 'daylyt', 'dayquil', 'dayseeker', 'daysofcode', 'daysofdeclaration', 'daysofweek', 'daytheotherway', 'daytime', 'dayton', 'daytona', 'dayum', 'dayvion', 'dayyyy', 'dayz', 'daz', 'dazai', 'daze', 'dazzle', 'dazzler', 'dazzlers', 'db', 'dbacks', 'dbase', 'dbd', 'dbfz', 'dbh', 'dbl', 'dblack', 'dbsk', 'dbz', 'dc', 'dca', 'dccc', 'dceased', 'dcforag', 'dcgbnvjv', 'dcgd', 'dci', 'dcproud', 'dcu', 'dd', 'dda', 'ddad', 'ddawg', 'ddnt', 'ddosed', 'ddosimg', 'ddr', 'ddy', 'dea', 'deactivate', 'dead', 'deadass', 'deadbeat', 'deadcities', 'deaddddd', 'deadfiles', 'deadineday', 'deadlift', 'deadlifted', 'deadlifts', 'deadline', 'deadlineday', 'deadlinewh', 'deadly', 'deadmau', 'deadnaming', 'deadpan', 'deadpool', 'deadshot', 'deadwood', 'deadwoodout', 'deaf', 'deafed', 'deafen', 'deafest', 'deal', 'dealer', 'dealership', 'dealing', 'dealt', 'dean', 'deandre', 'deanlist', 'dear', 'dearly', 'dearth', 'dearwhitepeople', 'deary', 'deatg', 'death', 'deathbed', 'deathclaw', 'deathfest', 'deathlessness', 'deathly', 'deathmarch', 'deathstar', 'deathvalley', 'deb', 'debacle', 'debat', 'debatable', 'debate', 'debbie', 'debby', 'debilitate', 'debit', 'deblasio', 'deborah', 'debra', 'debridged', 'debris', 'debt', 'debugger', 'debunked', 'debut', 'dec', 'decade', 'decaf', 'decal', 'decamp', 'decatur', 'decay', 'decease', 'deceit', 'deceive', 'december', 'decency', 'decent', 'decently', 'decentralisation', 'decentralize', 'decep', 'decepticon', 'deception', 'deceptive', 'decide', 'decidedly', 'decides', 'decimal', 'decimate', 'decimation', 'decipher', 'decision', 'decisis', 'decisive', 'decisiveness', 'deck', 'decker', 'decklist', 'declaration', 'declare', 'declas', 'declassification', 'declassify', 'declaw', 'decline', 'deco', 'decode', 'decoder', 'deconjest', 'deconstruction', 'decor', 'decorartehogar', 'decorate', 'decoration', 'decorator', 'decrease', 'decree', 'decrepit', 'decriminalize', 'decry', 'ded', 'dede', 'dedenne', 'dedicate', 'dedication', 'dedmi', 'deduce', 'deduct', 'dedue', 'dee', 'deed', 'deeeeeeep', 'deeeeeeepppp', 'deeez', 'deehankins', 'deekin', 'deem', 'deep', 'deepen', 'deepens', 'deeper', 'deepest', 'deeply', 'deepmund', 'deepstate', 'deepthoughts', 'deepthroat', 'deer', 'deet', 'deets', 'deeven', 'def', 'defamation', 'defame', 'default', 'defcon', 'defeat', 'defect', 'defective', 'defence', 'defenceless', 'defend', 'defendant', 'defender', 'defends', 'defense', 'defenseless', 'defensive', 'defensively', 'defensiveness', 'defer', 'deff', 'deffinantly', 'deffo', 'defiant', 'defibrillator', 'deficient', 'deficit', 'defiently', 'defies', 'defiler', 'definately', 'defination', 'define', 'definers', 'defines', 'definetly', 'definite', 'definitely', 'definition', 'definitly', 'defintley', 'deflate', 'deflect', 'deflection', 'deflects', 'defo', 'defoe', 'defonte', 'deform', 'defour', 'defqon', 'defrag', 'defraud', 'defreeze', 'defunct', 'defundracism', 'defy', 'degea', 'degeneracy', 'degenerate', 'degeneres', 'degradation', 'degrade', 'degrassi', 'degree', 'dehumanization', 'dehumanize', 'dehydrate', 'dehydration', 'deit', 'deity', 'dej', 'dejarik', 'deji', 'dejo', 'dek', 'deke', 'dekho', 'deku', 'delaney', 'delavin', 'delaware', 'delay', 'delayed', 'delayedagain', 'delbert', 'delectable', 'delegate', 'delegitimize', 'delenda', 'delet', 'deletd', 'delete', 'deletes', 'delf', 'delhi', 'deli', 'deliberate', 'deliberately', 'deliberation', 'deliberative', 'delibetately', 'delicate', 'delicia', 'delicious', 'delight', 'delighted', 'delightful', 'deliks', 'delineate', 'delinquent', 'delirium', 'delish', 'deliver', 'deliverance', 'deliveroo', 'delivers', 'delivert', 'delivery', 'deloitte', 'delores', 'delphine', 'delroy', 'delt', 'delta', 'deltaairlines', 'deltron', 'deluca', 'delucia', 'delude', 'deluge', 'delulu', 'delusion', 'delusional', 'deluxe', 'demand', 'demaryius', 'demdebate', 'demean', 'demented', 'dementia', 'dementor', 'dementors', 'demian', 'demie', 'demigirl', 'demir', 'demise', 'demister', 'demo', 'democracia', 'democracy', 'democraks', 'democrat', 'democratic', 'democratprogressives', 'democratsaredestroyingamerica', 'democratsarehypocrites', 'demographic', 'demokkkrat', 'demolish', 'demolition', 'demon', 'demonatized', 'demoncrat', 'demoncrsts', 'demonic', 'demonicship', 'demonise', 'demonization', 'demonize', 'demonrats', 'demonstrate', 'demonstrates', 'demonstration', 'demonz', 'demote', 'dems', 'demsareevil', 'demshateamerica', 'demuro', 'denfense', 'denial', 'denier', 'denigrate', 'denigrates', 'denim', 'deniro', 'denis', 'denise', 'denmark', 'dennis', 'denny', 'dennys', 'denomination', 'denounce', 'dense', 'densebot', 'dent', 'dental', 'dentist', 'dentistry', 'denton', 'denver', 'denvssea', 'deny', 'denzel', 'deodorant', 'deonna', 'deonne', 'depart', 'department', 'departs', 'departure', 'depaul', 'depend', 'dependable', 'dependance', 'dependence', 'dependency', 'dependent', 'depends', 'depict', 'depiction', 'depicts', 'deplete', 'deplorable', 'deplorables', 'deploy', 'deployed', 'deployment', 'depopulate', 'deport', 'deportation', 'deportillegals', 'deportvio', 'deposit', 'deposition', 'depot', 'depr', 'deprave', 'depravity', 'depress', 'depressant', 'depressed', 'depression', 'depressive', 'depresso', 'deprivation', 'deprive', 'deprogramming', 'dept', 'depth', 'deputy', 'derail', 'derange', 'derangeddonald', 'derby', 'deregulate', 'deregulation', 'derek', 'dereliction', 'derg', 'deride', 'derive', 'derja', 'dermals', 'dermapologist', 'dermot', 'derogatory', 'derrek', 'derrick', 'derrius', 'derrrrrrrrr', 'derry', 'dershowitz', 'descartes', 'descend', 'descendant', 'descendent', 'descends', 'descent', 'descision', 'describable', 'describe', 'described', 'describes', 'description', 'descriptive', 'descriptor', 'dese', 'deselect', 'deselection', 'desert', 'deserve', 'deservedly', 'deserves', 'desgrace', 'deshandre', 'deshawn', 'deshone', 'design', 'designate', 'designation', 'designer', 'desirable', 'desire', 'desirous', 'desist', 'desk', 'desktop', 'desmadre', 'desmond', 'desn', 'despair', 'despairbot', 'desperate', 'desperately', 'desperation', 'despicable', 'despise', 'despises', 'despite', 'dessacrated', 'dessert', 'destemper', 'destination', 'destine', 'destiney', 'destino', 'destiny', 'destoyed', 'destrehan', 'destress', 'destroy', 'destroyed', 'destroyer', 'destroys', 'destruct', 'destruction', 'destructive', 'desus', 'detach', 'detachment', 'detail', 'detailed', 'detain', 'detainee', 'detect', 'detective', 'detector', 'detent', 'detention', 'deter', 'detergent', 'determination', 'determine', 'determines', 'deterrent', 'detest', 'detour', 'detox', 'detrimental', 'detrimentally', 'detroit', 'detroitbecomehuman', 'detruction', 'deu', 'deuce', 'deut', 'deuteronomy', 'devaluate', 'devalve', 'devaroe', 'devas', 'devastate', 'devastation', 'devctrainingwithandela', 'develop', 'developed', 'developer', 'development', 'develops', 'dever', 'devgad', 'deviancy', 'deviant', 'deviate', 'device', 'devide', 'devided', 'deviding', 'devil', 'devilish', 'devin', 'devins', 'devious', 'devise', 'devitio', 'devito', 'devoid', 'devolpement', 'devolve', 'devon', 'devops', 'devos', 'devote', 'devotion', 'devotional', 'devour', 'devrel', 'devs', 'dew', 'dewanna', 'dewine', 'dexter', 'dey', 'dez', 'df', 'dfa', 'dfnmf', 'dfs', 'dfw', 'dg', 'dgaf', 'dgd', 'dgeeega', 'dgh', 'dh', 'dha', 'dhaakad', 'dhabi', 'dhadwal', 'dhariwal', 'dharma', 'dhfm', 'dhfms', 'dhop', 'dhruva', 'dhs', 'dhskdhsj', 'dhskdjsks', 'dhul', 'dhume', 'diabate', 'diabetes', 'diabetic', 'diablo', 'diabolic', 'diacord', 'diagnose', 'diagnosis', 'diagnostic', 'diagonally', 'dial', 'dialect', 'dialloed', 'dialogue', 'diamond', 'diamondlifestyle', 'diana', 'diane', 'diangelo', 'dianna', 'dianxia', 'diaper', 'diarra', 'diarrhea', 'diary', 'diastolic', 'diaz', 'dibs', 'dicaprio', 'dicas', 'dicc', 'dicccckkkk', 'dice', 'dicenta', 'dick', 'dickballer', 'dicked', 'dickens', 'dickerson', 'dickhead', 'dickless', 'dickmatizm', 'dickmitized', 'dicko', 'dickslapszn', 'dickson', 'dictate', 'dictator', 'dictatorial', 'dictatorship', 'dictionary', 'diddle', 'diddly', 'diddy', 'didi', 'didkt', 'didnt', 'didthat', 'didyouknowthat', 'dieerrrr', 'diegan', 'diego', 'diegov', 'diehard', 'dier', 'dierks', 'diesel', 'diet', 'dieter', 'dietrich', 'diff', 'differ', 'difference', 'different', 'differentiates', 'differently', 'difficult', 'difficulty', 'difficyto', 'diffuse', 'diga', 'digest', 'digger', 'diggin', 'diggory', 'diggs', 'digi', 'digiassets', 'digibyte', 'digit', 'digital', 'digitally', 'digme', 'digne', 'dignity', 'digped', 'digster', 'dijk', 'dike', 'dil', 'dilate', 'dildo', 'dilemma', 'dilf', 'diligent', 'dill', 'dillard', 'dilly', 'dilynn', 'dim', 'dime', 'dimension', 'dimensional', 'dimez', 'diminish', 'dimitri', 'dimly', 'dimmadome', 'dimms', 'dimmsdale', 'dimple', 'dims', 'dinard', 'dine', 'diner', 'dinesen', 'dinesh', 'ding', 'dinger', 'dinghy', 'dingle', 'dingus', 'dinkel', 'dinlo', 'dinner', 'dinny', 'dino', 'dinos', 'dinosaur', 'dint', 'diocese', 'dion', 'diontae', 'dionysus', 'diosa', 'diosito', 'dip', 'diplo', 'diploma', 'diplomat', 'diplomatic', 'dipoto', 'dipped', 'dippery', 'dipshit', 'dire', 'direct', 'direction', 'directive', 'directly', 'director', 'directory', 'directs', 'directtv', 'directv', 'direk', 'dirk', 'dirt', 'dirtbag', 'dirtbags', 'dirtier', 'dirtiest', 'dirty', 'dirtybird', 'dirtydonnie', 'dirtynazidonald', 'dis', 'disability', 'disable', 'disabled', 'disadvantage', 'disagree', 'disagreement', 'disagrees', 'disallow', 'disappear', 'disappears', 'disappoint', 'disappointed', 'disappointedly', 'disappointment', 'disappoints', 'disapproval', 'disapprove', 'disarm', 'disarmament', 'disaronno', 'disassociate', 'disaster', 'disastrous', 'disavow', 'disavowed', 'disband', 'disbelief', 'disc', 'discard', 'discern', 'discernable', 'discharge', 'disciple', 'disciplinary', 'discipline', 'disclaimer', 'disclose', 'disclosure', 'disco', 'discography', 'discomfort', 'disconcert', 'disconnect', 'discord', 'discount', 'discourage', 'discouragement', 'discourages', 'discourse', 'discover', 'discovers', 'discovery', 'discredit', 'discreet', 'discriminate', 'discrimination', 'discriminatory', 'discus', 'discuss', 'discussion', 'disease', 'disenchant', 'disenfranchise', 'disengage', 'disfigure', 'disgrace', 'disgraceful', 'disguise', 'disgust', 'disgustang', 'disgustingly', 'dish', 'dishearten', 'dishis', 'dishonest', 'dishonesty', 'dishwasher', 'disinfectant', 'disinformation', 'disingenuous', 'disinterested', 'disjoint', 'disk', 'dislike', 'disliked', 'dislocate', 'disloyal', 'dismantelthenraevil', 'dismantle', 'dismay', 'dismayed', 'dismember', 'dismemberment', 'dismisive', 'dismiss', 'dismissal', 'dismissive', 'dismount', 'disney', 'disneyinstitute', 'disneyland', 'disneytime', 'disobey', 'disorder', 'disown', 'disparage', 'dispassionately', 'dispatch', 'dispensary', 'dispense', 'disperse', 'display', 'displayed', 'displeasure', 'disposable', 'disposal', 'dispose', 'disposition', 'disproportionate', 'disproportionately', 'disprove', 'disproven', 'dispute', 'disqualifies', 'disqualify', 'disregard', 'disrespect', 'disrespectful', 'disrupt', 'disruption', 'disrupts', 'diss', 'dissapointed', 'dissapointment', 'dissatisfy', 'dissect', 'dissemination', 'dissent', 'disservice', 'dissin', 'dissipate', 'dissociate', 'dissociation', 'dissolvetheunion', 'dissonance', 'distance', 'distant', 'distaste', 'distend', 'distict', 'distil', 'distinct', 'distinction', 'distinctive', 'distinguish', 'distinguishes', 'distort', 'distract', 'distraction', 'distractor', 'distracts', 'distraught', 'distress', 'distribute', 'distribution', 'distributor', 'district', 'distrito', 'distrubing', 'distrust', 'disturb', 'disturbance', 'disturbed', 'disturbs', 'disvirgined', 'ditch', 'ditchmitch', 'dithdith', 'dither', 'ditto', 'ditzy', 'diva', 'divacup', 'dive', 'diver', 'divergent', 'diverse', 'diversealz', 'diversesquad', 'diversify', 'diversity', 'divestiture', 'divide', 'dividend', 'dividock', 'divine', 'divisible', 'division', 'divisive', 'divisiveness', 'diviya', 'divorce', 'divorcee', 'divs', 'dix', 'dixie', 'dixon', 'diy', 'dizi', 'dizziness', 'dizzle', 'dizzy', 'dizzys', 'dj', 'django', 'djdbdjdj', 'djdjdjdj', 'djdjdjdjdn', 'dje', 'djfjjfjg', 'djlm', 'djsbsksnwanna', 'djsghkjhjkdghdjgkhkdgthat', 'djsjdj', 'djsksksks', 'djsns', 'djsvdhdb', 'djt', 'dk', 'dkcj', 'dkdbndks', 'dkdjd', 'dkdkmsnskshwbsjsnsb', 'dkos', 'dkskejjsjwj', 'dl', 'dlan', 'dlb', 'dlc', 'dle', 'dline', 'dlm', 'dlt', 'dly', 'dm', 'dman', 'dmc', 'dmed', 'dmfbots', 'dmili', 'dming', 'dmitris', 'dmj', 'dmr', 'dmt', 'dmv', 'dmvs', 'dmx', 'dn', 'dna', 'dnakxnks', 'dnaradio', 'dnb', 'dnc', 'dncreative', 'dnd', 'dndmdbdmdbn', 'dndnfnejjf', 'dnegs', 'dni', 'dninang', 'dnp', 'dnt', 'dnv', 'doa', 'doba', 'dobbs', 'dobbswedding', 'doberman', 'dobrik', 'doby', 'doc', 'docherty', 'dock', 'docket', 'dockside', 'doctor', 'doctson', 'document', 'documentary', 'documentation', 'dodge', 'dodgeball', 'dodger', 'dodgy', 'dodie', 'dodoyo', 'doe', 'doer', 'doesnt', 'dof', 'dofu', 'dogan', 'doge', 'dogg', 'doggggg', 'doggie', 'doggo', 'doggos', 'doggy', 'doghouse', 'dogma', 'dogsareanothermatter', 'dogshit', 'doh', 'doin', 'doingthat', 'doink', 'doinked', 'doitsu', 'doj', 'doja', 'dojo', 'dojun', 'doke', 'doki', 'dokie', 'doley', 'doll', 'dolla', 'dollar', 'dollares', 'dollarstore', 'dolly', 'dolores', 'dolph', 'dolphin', 'dolt', 'dom', 'domain', 'dombele', 'dombey', 'dome', 'domestic', 'domesticterrorism', 'domicile', 'dominance', 'dominant', 'dominate', 'dominatedrivedeliver', 'domination', 'domingo', 'dominic', 'dominican', 'dominion', 'dominionists', 'dominique', 'domino', 'domme', 'dommes', 'domville', 'dona', 'donald', 'donaldtrump', 'donate', 'donates', 'donation', 'donavan', 'doncic', 'dondurma', 'donegal', 'donggu', 'donghae', 'donghyuck', 'donghyuk', 'donk', 'donkey', 'donkomi', 'donna', 'donnel', 'donnell', 'donnerson', 'donnie', 'donnnnggg', 'donno', 'donny', 'donnybrookstl', 'donor', 'donovan', 'donraul', 'dont', 'dontbemeatheadreiner', 'dontbuywalmartchicken', 'donthis', 'dontpointthefinger', 'donut', 'doo', 'doobie', 'dood', 'doodle', 'doodoo', 'doods', 'doof', 'doofas', 'doofus', 'doogie', 'dooker', 'dookie', 'dookudu', 'dookuduatamb', 'dooley', 'doom', 'dooo', 'doooh', 'doooo', 'doooooo', 'dooooooooooooooooooooooooooooooooooooooooooooooooooooooooooone', 'dooopee', 'doorbell', 'doordash', 'doorknob', 'doormat', 'doormouse', 'doorstep', 'dopamine', 'dope', 'dopekindoflove', 'dopest', 'doppio', 'doppler', 'doppling', 'doppo', 'dor', 'dora', 'doraandthelostcityofgold', 'doraemon', 'doramovie', 'dorashouldexplore', 'doremy', 'doretta', 'dori', 'dorian', 'doris', 'dorito', 'doritos', 'dork', 'dorkie', 'dorkier', 'dorkwild', 'dorky', 'dorm', 'dormant', 'dorothea', 'dorothy', 'dortch', 'dortmunder', 'dory', 'dose', 'dosent', 'dosomething', 'dosomethingnow', 'dosry', 'dosser', 'dossier', 'dostoyevsky', 'dot', 'dota', 'dotd', 'doth', 'double', 'doublecup', 'doubleday', 'doublelift', 'doubly', 'doubt', 'doubter', 'doubtfire', 'doubtful', 'douce', 'doucet', 'douch', 'douche', 'douchebag', 'douchebags', 'douchey', 'douchieness', 'doug', 'dough', 'doughnut', 'doughnuteconomics', 'douglas', 'douglasadams', 'douse', 'doval', 'dovey', 'dow', 'downbutnotoutnavyvet', 'downe', 'downer', 'downey', 'downfall', 'downfield', 'downgrade', 'downhill', 'downie', 'download', 'downlow', 'downnnn', 'downpayment', 'downplay', 'downright', 'downside', 'downstairs', 'downstream', 'downtime', 'downton', 'downtown', 'downward', 'dox', 'doxed', 'doxie', 'doxing', 'doxxed', 'doxxing', 'doy', 'doze', 'dozen', 'dp', 'dpa', 'dpi', 'dpr', 'dprk', 'dpt', 'dpw', 'dq', 'dr', 'drab', 'dracena', 'draco', 'draconian', 'dracula', 'drae', 'draft', 'draftee', 'draftpad', 'drag', 'dragcon', 'draggedt', 'draggin', 'dragon', 'dragonbot', 'dragonsreach', 'dragster', 'drain', 'draintheswamp', 'drake', 'drama', 'dramatic', 'dramatically', 'drank', 'dranks', 'drano', 'draped', 'drashti', 'drat', 'draven', 'dravid', 'draw', 'drawbridge', 'drawdown', 'drawer', 'drawing', 'drawl', 'drawn', 'drawwww', 'draya', 'draymond', 'drcent', 'dre', 'dreaaaam', 'dread', 'dreadful', 'dreadwind', 'dream', 'dreamcast', 'dreamcatcher', 'dreamcatcherrrrrrrrrrr', 'dreamcatchers', 'dreamer', 'dreamies', 'dreamiest', 'dreamland', 'dreamlife', 'dreamlike', 'dreamt', 'dreamy', 'dreck', 'dredge', 'dreegz', 'drees', 'dreg', 'dremo', 'drench', 'dresden', 'dress', 'dresscode', 'dresser', 'dressin', 'dressing', 'drevon', 'drew', 'dreyar', 'dreyer', 'drg', 'dribble', 'drier', 'drift', 'driftglass', 'dril', 'drill', 'drinan', 'drink', 'drinkable', 'drinker', 'drinkin', 'drinking', 'drinklacroix', 'drinkwater', 'drip', 'dripdrop', 'dripped', 'drippin', 'drive', 'driveinmob', 'drivel', 'driven', 'driveonjoy', 'driver', 'driverless', 'driveway', 'drivin', 'drivingtip', 'driy', 'drizzle', 'drnk', 'drogba', 'dromos', 'drone', 'drool', 'droopy', 'drop', 'dropback', 'dropitlowforjesus', 'dropout', 'droppin', 'dross', 'drought', 'droughtlander', 'drove', 'drown', 'drownings', 'drowns', 'drowse', 'drps', 'dru', 'druck', 'drucker', 'drugz', 'druid', 'drum', 'drummer', 'drumnbass', 'drumpf', 'drumstick', 'drunk', 'drunkard', 'drunkass', 'drunkenness', 'drv', 'dry', 'dryed', 'dryer', 'ds', 'dsa', 'dsacanada', 'dsfdgds', 'dshield', 'dsi', 'dskjfkdjjkds', 'dsm', 'dsp', 'dsroblast', 'dst', 'dstbihar', 'dstv', 'dsy', 'dt', 'dtc', 'dth', 'dthe', 'dthought', 'dtk', 'dtm', 'dtp', 'dtrump', 'dtw', 'duaa', 'dual', 'duality', 'dualshock', 'duarte', 'duas', 'duass', 'dub', 'dubai', 'dubbed', 'dubchat', 'dubest', 'dublin', 'dubois', 'dubrovnik', 'dubstep', 'ducasse', 'duchene', 'duchess', 'duck', 'duckcall', 'duckduck', 'ducked', 'duckin', 'ducksbak', 'ducky', 'duco', 'duct', 'dudas', 'duddy', 'dude', 'dudettes', 'dudley', 'dudui', 'due', 'duel', 'duela', 'duet', 'duetting', 'duff', 'duffer', 'duffle', 'duffy', 'dug', 'duggan', 'dugout', 'duh', 'duhh', 'duhhh', 'duke', 'dula', 'dull', 'dullard', 'dumb', 'dumbarton', 'dumbass', 'dumbbell', 'dumber', 'dumbest', 'dumbfound', 'dumbfuck', 'dumbheads', 'dumbing', 'dumbledore', 'dumbo', 'dumkopf', 'dummy', 'dump', 'dumped', 'dumpling', 'dumpster', 'dumptrump', 'dun', 'duncan', 'duncanfire', 'dundee', 'dune', 'dung', 'dungeon', 'dungeonsanddragons', 'dunham', 'dunk', 'dunked', 'dunkin', 'dunkins', 'dunno', 'dunny', 'duo', 'duolingo', 'duosion', 'duped', 'duplicate', 'duplicity', 'duppy', 'dupree', 'duq', 'dura', 'durai', 'durango', 'durant', 'duration', 'durgs', 'durham', 'durin', 'durk', 'durkin', 'duron', 'dursley', 'dury', 'dusk', 'dust', 'dustbin', 'dustin', 'dusty', 'dutch', 'duter', 'dutsp', 'duty', 'duuuude', 'duval', 'duvall', 'duxk', 'duyung', 'dvd', 'dvr', 'dw', 'dwaircheckin', 'dwale', 'dwarf', 'dwarven', 'dwayne', 'dwell', 'dwight', 'dwina', 'dwindle', 'dwindles', 'dwl', 'dwn', 'dwoht', 'dwp', 'dwsh', 'dwts', 'dx', 'dxixjsnaak', 'dy', 'dyall', 'dybala', 'dyckman', 'dye', 'dyed', 'dyersville', 'dyfed', 'dyin', 'dyinginside', 'dyisisitmanila', 'dyke', 'dylan', 'dynamic', 'dynamite', 'dynamo', 'dynasty', 'dyriuck', 'dyrt', 'dysania', 'dysart', 'dysentery', 'dysfunction', 'dysfunctional', 'dysgu', 'dyslexia', 'dysmorphic', 'dysphoria', 'dystopian', 'dyu', 'dzick', 'dzumhur', 'eachother', 'eagaly', 'eager', 'eagerly', 'eagle', 'eagleseverywhere', 'eames', 'eap', 'ear', 'earbuds', 'eardrum', 'earfquake', 'earhart', 'earl', 'earlier', 'early', 'earn', 'earnest', 'earnhardt', 'earnings', 'earns', 'earphone', 'earplug', 'earpods', 'earring', 'earth', 'earther', 'earthers', 'earthling', 'earthquake', 'ease', 'easieee', 'easily', 'eason', 'east', 'eastbound', 'eastenders', 'easter', 'eastern', 'easton', 'eastside', 'eastwood', 'easy', 'easye', 'easygoing', 'easywork', 'eat', 'eatawholedick', 'eateology', 'eater', 'eatery', 'eatin', 'eats', 'eazi', 'eazy', 'eazys', 'eb', 'ebay', 'eben', 'eber', 'ebisu', 'ebitucares', 'ebola', 'ebony', 'ebook', 'ebooks', 'eboy', 'eboys', 'ec', 'ecaf', 'ecarrott', 'ecchi', 'ecclesaistes', 'ecclesiastes', 'ecf', 'echidna', 'echo', 'echoed', 'echolalia', 'echostage', 'eck', 'ecksavier', 'eclecticism', 'eclipse', 'eco', 'economic', 'economically', 'economics', 'economy', 'ecopoint', 'ecosystem', 'ecstasy', 'ecstatic', 'eczema', 'edakun', 'edc', 'eddie', 'eddy', 'edelgard', 'edelman', 'edey', 'edfringe', 'edgar', 'edge', 'edgewater', 'edgewood', 'edgeworth', 'edgy', 'edhe', 'edhha', 'edhita', 'edi', 'edible', 'edina', 'edinburgh', 'edison', 'edit', 'edition', 'editor', 'editorial', 'edits', 'edjoin', 'edjoinhelpdesk', 'edm', 'edmond', 'edmonton', 'edmund', 'edmunds', 'edogawa', 'edouard', 'edsa', 'edsman', 'edt', 'eduardo', 'educate', 'education', 'educational', 'educationfreedom', 'edward', 'edwardbarber', 'edwardsville', 'edwin', 'edwoodwardout', 'edyon', 'ee', 'eee', 'eeee', 'eeeeee', 'eeeeeeedges', 'eeeeeeeeeeh', 'eeem', 'eeep', 'eeii', 'eejit', 'eek', 'eekies', 'eel', 'eem', 'eep', 'eephus', 'eerie', 'eerily', 'eeveelutions', 'eewwww', 'ef', 'efc', 'efcc', 'efdp', 'efe', 'eff', 'efface', 'effect', 'effective', 'effectively', 'effectivr', 'efficiency', 'efficient', 'efficiently', 'effin', 'effort', 'effortless', 'effortlessly', 'efik', 'efl', 'ega', 'egbami', 'egbekegbe', 'egbon', 'egg', 'eggcited', 'eggman', 'eggo', 'eggplant', 'eggsauce', 'eggshell', 'ego', 'egoing', 'egomaniac', 'egotistical', 'egregious', 'eguavoen', 'egypt', 'egyptian', 'eh', 'ehat', 'eheh', 'ehh', 'ehhh', 'ehhhhh', 'ehhhhhhh', 'ehn', 'ehnn', 'ehret', 'eibar', 'eichi', 'eichmann', 'eid', 'eidi', 'eidya', 'eifel', 'eiffel', 'eight', 'eighteen', 'eightfold', 'eighty', 'eileen', 'eilish', 'einstein', 'eisen', 'eisenberg', 'eisenhower', 'eish', 'eisley', 'eith', 'either', 'eiwa', 'ejackulation', 'ejaculate', 'eject', 'ejo', 'ek', 'ekeler', 'ekfkrkfkelfr', 'ekka', 'eko', 'ekpesbookclub', 'eku', 'elaborate', 'elaine', 'elanna', 'elantra', 'elastic', 'elate', 'elayne', 'elba', 'elbow', 'elbufalo', 'elc', 'elca', 'elcacwa', 'elci', 'elder', 'elderly', 'eldest', 'eldin', 'eldritch', 'eleana', 'eleanor', 'elec', 'elect', 'electability', 'electable', 'election', 'elective', 'electoral', 'electra', 'electric', 'electrical', 'electricity', 'electricpicnic', 'electrify', 'electrode', 'electrolysis', 'electron', 'electronic', 'electronica', 'elegance', 'elegant', 'elegiac', 'elektra', 'eleme', 'element', 'elementary', 'elena', 'elephant', 'eletriptan', 'elevate', 'elevator', 'eleven', 'eleventh', 'elf', 'elfin', 'elfnein', 'elfquotes', 'elfredd', 'elg', 'elgort', 'elhae', 'eli', 'elia', 'elian', 'elie', 'elife', 'eligibility', 'eligible', 'elijah', 'elimate', 'eliment', 'eliminate', 'eliminates', 'elimination', 'elims', 'elinor', 'eliot', 'eliptical', 'elisabeth', 'elise', 'elite', 'elitist', 'eliwood', 'eliza', 'elizabeast', 'elizabeth', 'elk', 'elkhart', 'ell', 'ellegarden', 'elli', 'ellie', 'ellington', 'ellios', 'elliot', 'elliott', 'elliottwave', 'ellipsis', 'elliptical', 'ellish', 'ellison', 'ellsbury', 'elm', 'elmo', 'elmwood', 'elneny', 'elni', 'elo', 'elohim', 'elon', 'elonmusk', 'eloquence', 'eloquent', 'eloquently', 'elotes', 'eloy', 'elpaso', 'elpasochallenge', 'elsa', 'else', 'elsewhere', 'elsik', 'elta', 'elton', 'elucid', 'elude', 'elusiveness', 'elvas', 'elvieeeeeeeeeeeee', 'elvis', 'elvisless', 'elway', 'elwood', 'emaan', 'email', 'emailer', 'emancipate', 'emancipation', 'emanuel', 'emart', 'emasculate', 'embarass', 'embarassing', 'embarassingly', 'embaressment', 'embark', 'embarrass', 'embarrasses', 'embarrassingly', 'embarrassment', 'embed', 'embellishment', 'ember', 'embiid', 'emblem', 'emblematic', 'embodiment', 'embody', 'embrace', 'embroider', 'embry', 'embryo', 'emcr', 'emeka', 'emeli', 'emerald', 'emerge', 'emergence', 'emergency', 'emeril', 'emerson', 'emery', 'emes', 'emet', 'emilia', 'emily', 'eminem', 'emirate', 'emission', 'emit', 'emma', 'emmanuel', 'emmerdale', 'emmy', 'emo', 'emoji', 'emojidex', 'emojis', 'emollient', 'emolumenting', 'emosewa', 'emote', 'emotes', 'emotion', 'emotional', 'emotionally', 'empathetic', 'empathic', 'empathise', 'empathize', 'empathy', 'emperor', 'emphasis', 'emphasize', 'empire', 'empiremeetsfeige', 'employ', 'employee', 'employer', 'employment', 'empower', 'empowerment', 'empowrs', 'empress', 'empressive', 'emptiness', 'empty', 'emq', 'emrata', 'emre', 'emrick', 'emro', 'emu', 'emulator', 'emy', 'enable', 'enablers', 'enact', 'encanto', 'encashed', 'enchant', 'enchantment', 'enchilada', 'encino', 'enclose', 'encode', 'encompass', 'encore', 'encounter', 'encourage', 'encouragement', 'encourages', 'encryption', 'encyclopedia', 'enda', 'endanger', 'enddn', 'endear', 'endearment', 'endeavor', 'endeavour', 'endeth', 'endgame', 'endgunviolence', 'ending', 'endkashmirblockade', 'endless', 'endlessly', 'endlwop', 'endments', 'endomondo', 'endora', 'endorphin', 'endorse', 'endorsement', 'endorses', 'endowment', 'endthemlbblackout', 'endurance', 'endure', 'endures', 'endzone', 'enemy', 'enemyofthepeople', 'energetic', 'energeticjoe', 'energize', 'energy', 'enforce', 'enforcement', 'enforcer', 'enfp', 'eng', 'engage', 'engagement', 'engelbregth', 'engergy', 'engine', 'engineer', 'engineering', 'engineproblems', 'england', 'english', 'engrained', 'engram', 'engrave', 'engulf', 'enhance', 'enhancement', 'enigma', 'enix', 'enjoy', 'enjoyable', 'enjoyment', 'enjoys', 'enkay', 'enkidu', 'enlarge', 'enlargement', 'enlighten', 'enlist', 'enmity', 'enneagram', 'ennuh', 'enof', 'enormous', 'enough', 'enougj', 'enph', 'enquire', 'enquiry', 'enrage', 'enrich', 'enriches', 'enrichment', 'enrol', 'enroll', 'ensconce', 'ensemble', 'ensemblestars', 'enslave', 'enstars', 'ensue', 'ensure', 'ent', 'enta', 'entail', 'entendre', 'entendres', 'enter', 'enteric', 'enterpreneurs', 'enterprise', 'entertain', 'entertainin', 'entertainingly', 'entertainment', 'entertains', 'enthral', 'enthuse', 'enthusiasm', 'enthusiast', 'enthusiastic', 'enthusiastically', 'entice', 'entire', 'entirely', 'entirety', 'entitle', 'entitlement', 'entity', 'entlek', 'entonses', 'entourage', 'entrance', 'entree', 'entrench', 'entrepreneur', 'entropy', 'entry', 'enty', 'enuff', 'enuh', 'enumerate', 'enumeration', 'enunciate', 'enunciation', 'enunwa', 'envelope', 'envious', 'enviroment', 'environ', 'environment', 'environmental', 'environmentalist', 'environmentally', 'environmenty', 'envision', 'envoy', 'envy', 'envyor', 'enzo', 'enzoazai', 'eod', 'eoin', 'eos', 'ep', 'epcot', 'ephesian', 'ephi', 'ephixa', 'epi', 'epic', 'epicormic', 'epicurean', 'epidemic', 'epidermis', 'epidural', 'epiphany', 'episcopal', 'episide', 'episod', 'episode', 'epistle', 'epitome', 'epl', 'epok', 'eponine', 'eppd', 'eppler', 'epps', 'eprom', 'eps', 'epstein', 'epworth', 'eq', 'eqp', 'equal', 'equality', 'equalization', 'equally', 'equate', 'equation', 'equestrian', 'equifax', 'equilibrium', 'equinox', 'equip', 'equipment', 'equity', 'equivalent', 'equivilant', 'equus', 'eradicate', 'erap', 'erase', 'eraserhead', 'erasure', 'erb', 'erdington', 'ere', 'ereasure', 'erect', 'erectile', 'erection', 'eren', 'erene', 'eresh', 'ergh', 'erh', 'eria', 'eribong', 'eric', 'erick', 'ericole', 'ericsson', 'eridian', 'erie', 'erik', 'erika', 'eriksen', 'erin', 'erinfoster', 'eriq', 'eritrean', 'erkenciku', 'erm', 'ermhagarsh', 'ernesto', 'ernie', 'ernst', 'erode', 'eros', 'erotic', 'erotica', 'erotically', 'eroticcity', 'erp', 'erra', 'errand', 'errant', 'errbody', 'errol', 'errone', 'erroneously', 'error', 'errr', 'errrr', 'errrrr', 'errrrrrbody', 'errrthangg', 'errybody', 'ersonality', 'ertz', 'eru', 'eruna', 'erupt', 'erupts', 'ervin', 'erwin', 'erykah', 'erza', 'esam', 'escalate', 'escalator', 'escaltor', 'escanor', 'escape', 'escort', 'escreve', 'escreveu', 'escrow', 'escuchar', 'esd', 'esfps', 'eshop', 'esina', 'esl', 'esme', 'esoteric', 'esp', 'especial', 'especially', 'esper', 'esperance', 'esperanto', 'esperar', 'espi', 'espisode', 'espn', 'espnfc', 'espo', 'esports', 'espouse', 'espresso', 'esque', 'esquisse', 'esrb', 'essay', 'essence', 'essendon', 'essential', 'essentially', 'essex', 'estabilidad', 'establish', 'establishes', 'establishment', 'estadual', 'estate', 'estazide', 'esteem', 'ester', 'esther', 'estimate', 'estrada', 'estupidas', 'eta', 'etar', 'etc', 'etch', 'etea', 'eternal', 'eternally', 'eternity', 'etf', 'ethan', 'ethans', 'ethel', 'ether', 'ethereal', 'ethereumclassic', 'ethernet', 'ethic', 'ethical', 'ethiopia', 'ethnic', 'ethnically', 'ethnicity', 'ethno', 'ethnographic', 'ethot', 'etika', 'etiquette', 'etling', 'etnow', 'eto', 'etsy', 'ettd', 'etxfreaknikaftermath', 'eucalyptus', 'eucharistic', 'eugene', 'eugenia', 'eugenics', 'eulogy', 'eun', 'eunsang', 'euphemism', 'euphoria', 'euphoric', 'eur', 'euro', 'eurodance', 'europ', 'europa', 'europaleague', 'europe', 'european', 'euston', 'euthanizes', 'euugh', 'ev', 'eva', 'evacuate', 'evade', 'evader', 'evals', 'evaluate', 'evaluation', 'evaluator', 'evan', 'evangelical', 'evangelicals', 'evangelion', 'evans', 'evaporate', 'evasion', 'evb', 'eve', 'evelin', 'evelyn', 'even', 'evening', 'evenly', 'event', 'eventful', 'eventual', 'eventually', 'ever', 'everett', 'evergood', 'evergreen', 'evergreentweet', 'everify', 'everlasting', 'evermore', 'everr', 'evers', 'evertime', 'everton', 'evertonian', 'eververse', 'every', 'everybodies', 'everybody', 'everybodyin', 'everyday', 'everydaylustrous', 'everyman', 'everyone', 'everyones', 'everyonr', 'everythang', 'everythin', 'everything', 'everythinggg', 'everythings', 'everytime', 'everywhere', 'everywoman', 'evey', 'eveybody', 'eveyday', 'eveyrhing', 'evict', 'eviction', 'evidence', 'evident', 'evidentially', 'evidently', 'evie', 'evil', 'evilly', 'evo', 'evocative', 'evola', 'evolution', 'evolutionary', 'evolve', 'evolves', 'evonne', 'evry', 'evryones', 'evurr', 'ew', 'ewa', 'ewarren', 'ewe', 'eweweweeewwewewwwwwww', 'ewoks', 'eww', 'ewwww', 'ex', 'exact', 'exactly', 'exactlyyyy', 'exaggerate', 'exaggerated', 'exaggeration', 'exalt', 'exam', 'examine', 'example', 'exandria', 'exarch', 'exasperate', 'exasperatedly', 'exato', 'excaltyy', 'exceed', 'exceeds', 'excel', 'excellence', 'excellency', 'excellent', 'excellently', 'excels', 'excepition', 'except', 'exception', 'exceptional', 'exceptionally', 'excercise', 'excerpt', 'excess', 'excessive', 'exchange', 'excise', 'excision', 'excitable', 'excite', 'excitement', 'excites', 'excitex', 'excitingly', 'exclaim', 'exclamation', 'exclude', 'excluiu', 'exclusion', 'exclusive', 'exclusively', 'excrescence', 'excruciate', 'excursion', 'excuse', 'excutives', 'exec', 'execrable', 'execute', 'executetheboomers', 'execution', 'executioner', 'executive', 'exemplify', 'exempt', 'exemption', 'exercise', 'exeter', 'exfoliants', 'exfoliate', 'exfoliaters', 'exhale', 'exhaust', 'exhibit', 'exhibition', 'exhilarate', 'exhilerating', 'exicted', 'exile', 'exist', 'existance', 'existant', 'existence', 'existent', 'existential', 'exists', 'exit', 'exitrealty', 'exitrealtyisgrowing', 'exo', 'exodus', 'exol', 'exols', 'exonerate', 'exoneration', 'exorcism', 'exoskeleton', 'exotic', 'exotics', 'expand', 'expands', 'expanse', 'expansion', 'expat', 'expect', 'expectation', 'expections', 'expedient', 'expel', 'expences', 'expenditure', 'expense', 'expensive', 'experience', 'experienced', 'experiencesmakeyou', 'experiment', 'experimental', 'experimentation', 'expert', 'expertise', 'expiration', 'expire', 'expires', 'explain', 'explainer', 'explains', 'explanation', 'explanatory', 'explicado', 'explicit', 'explicitly', 'explode', 'explodes', 'exploit', 'exploitation', 'exploration', 'explorationinsg', 'explore', 'exploregod', 'explorer', 'explores', 'explosion', 'explosive', 'explosiveness', 'expo', 'exponentially', 'export', 'expose', 'exposedt', 'exposure', 'expound', 'express', 'expression', 'expressive', 'expropriate', 'exquisite', 'exsqueeze', 'extend', 'extendo', 'extends', 'extension', 'extensive', 'extent', 'external', 'extinct', 'extinction', 'extinctionists', 'extinguish', 'extort', 'extra', 'extract', 'extragravy', 'extraordinarily', 'extraordinary', 'extraterrestrial', 'extravagant', 'extravert', 'extreme', 'extremely', 'extremism', 'extremist', 'extrovert', 'exuberant', 'exude', 'ey', 'eye', 'eyebags', 'eyeball', 'eyeblink', 'eyebrow', 'eyed', 'eyelash', 'eyelid', 'eyeliner', 'eyepatch', 'eyeshadow', 'eyesight', 'eyewitness', 'eyez', 'eyimba', 'eyoubaareee', 'eze', 'ezra', 'ezride', 'fa', 'faa', 'faaaaaaaaaair', 'faaaav', 'fab', 'fabby', 'fabbys', 'faber', 'fabiani', 'fabianski', 'fabinho', 'fabio', 'fabion', 'fabiooo', 'fable', 'fabray', 'fabric', 'fabricant', 'fabricate', 'fabs', 'fabulous', 'fac', 'faceapp', 'facebook', 'facecam', 'faceclaim', 'faceeeee', 'faceless', 'facemask', 'facepalm', 'facet', 'facetime', 'facetimed', 'facetimes', 'facetiming', 'facetious', 'facetuned', 'facewash', 'facial', 'facie', 'facilitate', 'facilitator', 'facilites', 'facility', 'facism', 'facist', 'fack', 'facsimile', 'fact', 'faction', 'factor', 'factorial', 'factory', 'factsfreak', 'factual', 'factually', 'faculty', 'fad', 'fade', 'fading', 'faerie', 'faers', 'fagget', 'faggot', 'faggotry', 'faham', 'fahey', 'faifetai', 'fail', 'faile', 'failing', 'fails', 'failure', 'faint', 'fainter', 'fair', 'fairbairn', 'fairbanks', 'fairer', 'fairfax', 'fairfield', 'fairlane', 'fairly', 'fairmont', 'fairness', 'fairport', 'fairrrr', 'fairview', 'fairway', 'fairy', 'fairyland', 'fairytail', 'fairytale', 'faith', 'faithful', 'faithfully', 'faithless', 'faizan', 'fajar', 'fajir', 'fajitas', 'fajr', 'fake', 'fakechristian', 'fakechristians', 'fakeevangelicals', 'fakefacts', 'fakenews', 'fakenewsmedia', 'fakeorfortune', 'fakepresident', 'fakest', 'falco', 'falcon', 'falconetti', 'falconpride', 'falconsallin', 'fales', 'falky', 'fall', 'fallin', 'falllzzzz', 'fallon', 'fallontonight', 'fallout', 'fallow', 'fallowed', 'falou', 'false', 'falsely', 'falta', 'faltaaaam', 'falvey', 'fam', 'famcakes', 'fame', 'famed', 'famer', 'famigilia', 'familia', 'familiar', 'familiarity', 'family', 'familyfoodfight', 'famine', 'fammm', 'famous', 'famously', 'fan', 'fanaccs', 'fanart', 'fanatic', 'fanatical', 'fanbase', 'fanboy', 'fanboys', 'fancafe', 'fancam', 'fancams', 'fancast', 'fanchant', 'fanchants', 'fancier', 'fancub', 'fancy', 'fandom', 'fanfic', 'fanfics', 'fanfiction', 'fang', 'fangio', 'fangirl', 'fangirlquote', 'fangirls', 'fank', 'fankhauser', 'fanks', 'fanmeet', 'fanmeeting', 'fanmeets', 'fanny', 'fanon', 'fanservice', 'fansign', 'fansigns', 'fansite', 'fanslot', 'fant', 'fantan', 'fantano', 'fantasea', 'fantasia', 'fantasise', 'fantasize', 'fantastic', 'fantasy', 'fantasyfootball', 'fantasyfull', 'fantasyreferences', 'fanwar', 'fanworks', 'fanxychild', 'fany', 'faq', 'far', 'farage', 'farah', 'farber', 'fardh', 'fare', 'farewell', 'fargo', 'farhan', 'farkle', 'farley', 'farm', 'farmer', 'farmville', 'farnsworth', 'farquaad', 'farr', 'farrar', 'fart', 'farther', 'farthest', 'fascicle', 'fascinate', 'fascinates', 'fascism', 'fascist', 'fasfa', 'fash', 'fashion', 'fashionable', 'fashionably', 'fashionista', 'fashionnova', 'fashionova', 'fasho', 'fashooo', 'fast', 'fastandfurious', 'fastball', 'fastcast', 'fasten', 'faster', 'fastfood', 'fasure', 'fat', 'fatal', 'fatality', 'fatass', 'fatcats', 'fate', 'fatf', 'fathas', 'father', 'fatheradam', 'fatherless', 'fathom', 'fatigue', 'fatness', 'fatoyinbo', 'fatt', 'fatten', 'fatter', 'fattest', 'fattier', 'fattoush', 'fatty', 'fatuku', 'faucet', 'faulks', 'fault', 'faulty', 'fauna', 'faux', 'fauxahontas', 'fauxcahontas', 'fauxcahontis', 'fauxnews', 'fauzirka', 'fav', 'fava', 'fave', 'favela', 'faves', 'favo', 'favor', 'favorable', 'favore', 'favorite', 'favoritism', 'favour', 'favourite', 'favre', 'favs', 'fawkes', 'fawn', 'fax', 'faxed', 'faxx', 'faygo', 'fayose', 'faz', 'faze', 'fb', 'fba', 'fbdbdn', 'fbi', 'fbla', 'fbs', 'fc', 'fcc', 'fck', 'fckin', 'fcking', 'fckn', 'fcmran', 'fcmrangers', 'fcs', 'fcuking', 'fcvsge', 'fd', 'fda', 'fdnps', 'fdoe', 'fdr', 'fe', 'fear', 'fearful', 'fearfully', 'fearinoculum', 'fearless', 'fearthyneighbor', 'feasible', 'feast', 'feat', 'feather', 'featherman', 'feature', 'feb', 'febreeze', 'february', 'fec', 'feces', 'feck', 'fecked', 'fecking', 'fed', 'fedde', 'feder', 'federal', 'federation', 'federer', 'fedex', 'fee', 'feeble', 'feed', 'feedback', 'feeder', 'feedhole', 'feedmyego', 'feedsters', 'feeeellll', 'feeeels', 'feel', 'feelin', 'feeling', 'feelingggfhfhfjkdjdpsnslk', 'feelingold', 'feelins', 'feelsawfulman', 'feelsbad', 'feelsbadman', 'feens', 'feestvarken', 'feetsies', 'feh', 'fei', 'feige', 'feign', 'feku', 'felani', 'feldman', 'feldspar', 'felger', 'felicia', 'feliciano', 'felicity', 'felix', 'fell', 'fella', 'fellah', 'fellaini', 'feller', 'fellow', 'fellowship', 'felly', 'felon', 'felony', 'felt', 'felucia', 'fem', 'fema', 'female', 'femalegenitalmutilation', 'femanon', 'femdom', 'femi', 'feminine', 'femininity', 'feminism', 'feminist', 'femme', 'femmes', 'femoris', 'fems', 'fenale', 'fence', 'fendi', 'fenerbah', 'feng', 'fenton', 'fenty', 'fenway', 'fer', 'feral', 'feralhogs', 'ferdinand', 'fergalicious', 'fergie', 'fergus', 'ferguson', 'ferhat', 'fern', 'fernan', 'fernand', 'fernandes', 'fernandez', 'fernando', 'ferocious', 'ferrari', 'ferreira', 'ferrell', 'ferret', 'ferris', 'ferro', 'ferry', 'fersure', 'fertility', 'fes', 'fest', 'festa', 'fester', 'festival', 'festivity', 'fet', 'feta', 'fetal', 'fetch', 'fetchedresults', 'fetchmail', 'fete', 'fetid', 'fetish', 'fetishist', 'fetishization', 'fettuccine', 'fetty', 'fettywap', 'fetus', 'feud', 'fever', 'feyre', 'fez', 'ff', 'ffa', 'ffc', 'ffer', 'fff', 'ffff', 'fffff', 'ffh', 'ffiv', 'ffix', 'ffk', 'fflw', 'ffp', 'ffs', 'ffucking', 'ffxiv', 'ffycin', 'fg', 'fghfddjb', 'fgm', 'fgo', 'fgoing', 'fgs', 'fhfhfj', 'fhsaa', 'fhwinthroabruebs', 'fia', 'fianc', 'fiance', 'fianlly', 'fiasco', 'fiat', 'fiba', 'fiber', 'fibre', 'fibroid', 'fic', 'fick', 'ficken', 'fickle', 'fics', 'fiction', 'fictional', 'fiddle', 'fidela', 'fidjjdnjd', 'fidna', 'fiduciary', 'field', 'fielding', 'fieldofdreams', 'fiend', 'fiending', 'fiennes', 'fierce', 'fiercely', 'fiercest', 'fieri', 'fiery', 'fiesty', 'fif', 'fifa', 'fife', 'fifteen', 'fifth', 'fifty', 'fig', 'figa', 'figgis', 'fight', 'fightclub', 'fighter', 'fighterz', 'fightin', 'fightmeonthat', 'figment', 'figueroas', 'figuratively', 'figure', 'fiji', 'fil', 'filas', 'file', 'filet', 'filho', 'filibuster', 'filing', 'filipino', 'filipinx', 'fill', 'filler', 'filling', 'fillmore', 'film', 'filmmaker', 'filmmaking', 'filmquote', 'filmsbywomen', 'filter', 'filth', 'filthier', 'filthy', 'filum', 'fin', 'fina', 'final', 'finale', 'finalise', 'finalist', 'finally', 'finalmouse', 'finaly', 'finance', 'financial', 'financialdominion', 'financially', 'financials', 'finch', 'fincher', 'find', 'finding', 'findom', 'findombrat', 'findommes', 'fine', 'finee', 'fineeeeee', 'finer', 'finery', 'finesse', 'fing', 'finger', 'fingernail', 'fingerprint', 'fingerscrossed', 'fingertip', 'finickiest', 'finish', 'finisher', 'finishthewall', 'finite', 'fink', 'finland', 'finn', 'finna', 'finnsa', 'finslave', 'finsta', 'finsub', 'finsup', 'fiona', 'fir', 'fire', 'firealpaca', 'firearm', 'firebomb', 'firedorn', 'firedwhistle', 'fireeee', 'fireemblemheroes', 'fireemblemthreehouses', 'firefighter', 'firefly', 'fireman', 'fireplace', 'firepower', 'firer', 'fireside', 'firestorm', 'firetruck', 'firetucker', 'firetuckercarlson', 'firework', 'firing', 'firkser', 'firm', 'firmament', 'firme', 'firmino', 'firmly', 'firmware', 'firsr', 'first', 'firstbanksmeconnect', 'firstly', 'firstplay', 'firth', 'firts', 'fisa', 'fiscal', 'fish', 'fishburne', 'fisher', 'fishies', 'fishing', 'fishstick', 'fishy', 'fisk', 'fist', 'fisticuffs', 'fit', 'fitbit', 'fitch', 'fite', 'fitnah', 'fitness', 'fitnessgram', 'fitpark', 'fitter', 'fitting', 'fitty', 'fitz', 'fitzgerald', 'fitzpatrick', 'five', 'fiveinarow', 'fivemilebridge', 'fiver', 'fiverr', 'fix', 'fixation', 'fixins', 'fixmoderncombatswitch', 'fixnaija', 'fixture', 'fizzle', 'fizzy', 'fjdisjs', 'fjerdan', 'fjlksdjfl', 'fjord', 'fjorduceus', 'fjorm', 'fjwjfjsjfn', 'fk', 'fkdkdkd', 'fked', 'fker', 'fkin', 'fking', 'fkkbkdv', 'fkn', 'fkre', 'fkrking', 'fl', 'flabbergast', 'flabbier', 'flacco', 'flack', 'flacko', 'flag', 'flagellate', 'flagpole', 'flagrantly', 'flahg', 'flail', 'flair', 'flake', 'flakey', 'flaky', 'flamboyant', 'flame', 'flamethrower', 'flamingo', 'flan', 'flank', 'flannel', 'flannery', 'flap', 'flapstobean', 'flare', 'flash', 'flashback', 'flasher', 'flashmagnus', 'flashy', 'flask', 'flat', 'flatearth', 'flatearthers', 'flatface', 'flatland', 'flatmate', 'flatted', 'flatter', 'flaunt', 'flavor', 'flavorful', 'flavorless', 'flavour', 'flaw', 'flawless', 'flawlessly', 'flay', 'flayn', 'flea', 'fleabag', 'flee', 'fleece', 'flees', 'fleet', 'fleetin', 'fleeting', 'fleetwood', 'flesh', 'fleshbag', 'fletcher', 'flew', 'flex', 'flexed', 'flexibility', 'flexible', 'flexin', 'flg', 'flick', 'flicker', 'flight', 'flimbaloob', 'flimsy', 'flinch', 'flinders', 'fling', 'flint', 'flintsone', 'flintstone', 'flip', 'flipagram', 'flipnote', 'flippity', 'flippn', 'flipthesenate', 'flirt', 'flirtation', 'flit', 'flite', 'fliuched', 'flo', 'float', 'floaton', 'flock', 'flood', 'floodgate', 'floodwater', 'floofangels', 'floooor', 'flooorrrrr', 'floor', 'flop', 'floppy', 'floral', 'floran', 'florence', 'florentino', 'flores', 'florescent', 'florian', 'florida', 'floridian', 'floridita', 'florist', 'flossin', 'flossy', 'flotus', 'flounce', 'flounder', 'flour', 'flourish', 'flow', 'flowchart', 'flower', 'flown', 'flowrida', 'floyd', 'fltoprecommended', 'flu', 'fluctuation', 'fluent', 'fluently', 'fluf', 'fluff', 'fluffed', 'fluffly', 'fluffy', 'flugelhorn', 'fluid', 'fluke', 'flume', 'flurricane', 'flush', 'fluster', 'flute', 'flutter', 'fluttershy', 'flw', 'fly', 'flyeaglesfly', 'flyer', 'flygod', 'flykix', 'flynn', 'flyover', 'fm', 'fma', 'fmab', 'fml', 'fmr', 'fmt', 'fmtb', 'fn', 'fnaf', 'fnc', 'fncstan', 'fndm', 'fnf', 'fnna', 'fnskakfkkeka', 'fo', 'foal', 'foam', 'fock', 'fockin', 'focus', 'fodder', 'foe', 'fog', 'foggy', 'foghorn', 'fogit', 'fognini', 'fogrot', 'foh', 'fohhhh', 'foil', 'fokoff', 'fold', 'folder', 'foles', 'folk', 'follo', 'folloback', 'follome', 'follow', 'followback', 'followd', 'follower', 'followin', 'folly', 'folty', 'fome', 'foment', 'foments', 'fomo', 'fond', 'fondly', 'fonn', 'font', 'foo', 'food', 'foodforthought', 'fook', 'fooken', 'fookin', 'fool', 'foolery', 'foolin', 'fooling', 'foolish', 'foolishness', 'foolproof', 'fooly', 'foools', 'foos', 'foot', 'footage', 'football', 'footballclubnotbondage', 'footballer', 'footballllllll', 'footballseason', 'footcolectivo', 'footfall', 'foothold', 'footie', 'footlocker', 'footpath', 'footprint', 'footrest', 'footsies', 'footstep', 'footwork', 'footy', 'fop', 'forage', 'forbid', 'forbidden', 'force', 'forcedmarriage', 'forcefully', 'forcible', 'forcibly', 'ford', 'fordham', 'fore', 'foreal', 'forearm', 'forebode', 'forecast', 'foreclose', 'foreclosure', 'forecourt', 'forecra', 'forefather', 'forefront', 'forego', 'forehead', 'foreheaded', 'foreheas', 'foreign', 'foreigner', 'foreknown', 'foremost', 'forensic', 'foreplay', 'foreshadow', 'foresight', 'foreskin', 'forest', 'foretold', 'forever', 'forevermore', 'foreverrrr', 'forewarn', 'foreword', 'forex', 'forfeit', 'forgave', 'forge', 'forget', 'forgetful', 'forgets', 'forgettable', 'forgive', 'forgiven', 'forgiveness', 'forgives', 'forgot', 'forgotten', 'foriegn', 'fork', 'forklift', 'form', 'formal', 'formality', 'formally', 'format', 'formation', 'former', 'formerly', 'formula', 'formulate', 'formyman', 'fornals', 'fornicate', 'fornite', 'forr', 'forreal', 'forrest', 'forrrr', 'forsake', 'forsaken', 'forseeable', 'forstarmagicball', 'forsure', 'forsythpln', 'fort', 'forth', 'forthe', 'forthebrand', 'forthemany', 'forthepeople', 'forthew', 'forthewin', 'fortitude', 'fortnight', 'fortnite', 'fortran', 'fortress', 'fortslikevana', 'fortunate', 'fortunately', 'fortune', 'forty', 'forum', 'forvillagepipol', 'forwansa', 'forward', 'foschini', 'fossil', 'foster', 'fot', 'foto', 'fotus', 'fouc', 'fought', 'foul', 'found', 'foundation', 'foundational', 'founder', 'fountain', 'four', 'fournette', 'fourth', 'fowler', 'fox', 'foxesfamily', 'foxnews', 'foxx', 'foxxx', 'foxy', 'foxybot', 'foxyxalice', 'foy', 'fp', 'fpe', 'fpl', 'fps', 'fr', 'fracas', 'fracc', 'fractal', 'fraction', 'fracture', 'fraggle', 'fragile', 'fragment', 'fragrance', 'frail', 'frailty', 'frame', 'framework', 'fran', 'franc', 'france', 'franchise', 'francia', 'francis', 'francisco', 'franco', 'frandship', 'franimal', 'frank', 'franken', 'frankens', 'frankenstein', 'frankensteiny', 'frankie', 'frankincense', 'franking', 'franklin', 'frankly', 'frankston', 'franky', 'frantically', 'frappe', 'fraser', 'frases', 'frasier', 'frat', 'fraternal', 'fraternize', 'fraud', 'fraudformula', 'fraudulent', 'fray', 'frazier', 'fre', 'freak', 'freakin', 'freakn', 'freakshow', 'freaky', 'freckle', 'fred', 'freddie', 'freddy', 'fredo', 'free', 'freebeasley', 'freebie', 'freecoachbrown', 'freed', 'freedadiyata', 'freedanosewiper', 'freedom', 'freeerickkabendera', 'freefainted', 'freegame', 'freelance', 'freely', 'freeman', 'freemason', 'freemasonry', 'freemeek', 'freemitherfuckinwater', 'freenazanin', 'freepo', 'freesoworenow', 'freestyle', 'freethinking', 'freeway', 'freeze', 'freezer', 'fregrance', 'freindly', 'freinds', 'frell', 'fremont', 'fren', 'frence', 'french', 'frenchfry', 'frenchie', 'frenchmontanaisoverparty', 'frends', 'frenetically', 'frens', 'frenzy', 'frequency', 'frequent', 'frequently', 'fresh', 'freshener', 'fresher', 'freshlinkmedia', 'freshly', 'freshman', 'fresno', 'fret', 'freudian', 'freze', 'frfr', 'fri', 'friar', 'friarfaithful', 'fricc', 'frick', 'fricken', 'frickin', 'fricking', 'frida', 'friday', 'fridayfortnite', 'fridayfunda', 'fridaymotivation', 'fridaythoughts', 'fridge', 'friedest', 'friedlaender', 'friedman', 'friedness', 'friend', 'friendcation', 'friendliest', 'friendly', 'friendo', 'friendsforever', 'friendship', 'friendshipwithkristsingtoep', 'friendzone', 'frienship', 'frieskajkt', 'frieza', 'friggin', 'frigging', 'fright', 'frightclub', 'frighten', 'frigidslut', 'frijol', 'frikkin', 'fringe', 'frisco', 'frisk', 'frisky', 'frist', 'frito', 'fritos', 'frittata', 'fritz', 'frivolous', 'frivolously', 'friyay', 'friyayyyy', 'frizzle', 'frm', 'frnch', 'frnd', 'fro', 'frodd', 'froddlina', 'frodnita', 'frodo', 'frog', 'fromthesouthwithlove', 'fromtoday', 'fronch', 'frond', 'fronita', 'front', 'frontal', 'frontin', 'frontline', 'fronto', 'frontrunner', 'frood', 'froot', 'frosh', 'frost', 'frostbite', 'frostbitten', 'frostburg', 'frostees', 'frosties', 'frosty', 'frother', 'frothy', 'frown', 'froze', 'frozen', 'frugal', 'frugality', 'fruit', 'fruitcake', 'fruitful', 'fruity', 'fruma', 'frump', 'frustrate', 'frustrates', 'frustration', 'fry', 'frydenberg', 'fryinfirenanni', 'fsa', 'fsd', 'fst', 'fsu', 'fswpoll', 'fswpolls', 'ft', 'fta', 'fter', 'ftft', 'fthat', 'ftw', 'fuc', 'fucc', 'fuccckkkkkkkkkkkk', 'fucced', 'fuccen', 'fuccin', 'fucjdd', 'fucjisng', 'fuck', 'fuckary', 'fuckboi', 'fuckboy', 'fuckboys', 'fucken', 'fucker', 'fuckery', 'fuckhot', 'fuckhouse', 'fuckice', 'fuckifn', 'fuckin', 'fuckinf', 'fuckingn', 'fuckinng', 'fuckk', 'fuckkk', 'fuckkkk', 'fuckkkked', 'fuckkkkk', 'fuckkkkkk', 'fuckkkkkkk', 'fuckkkkkkkkkkk', 'fuckling', 'fuckmjf', 'fuckn', 'fuckong', 'fuckry', 'fuckskksjj', 'fucksterling', 'fuckt', 'fucktard', 'fucktogos', 'fucktrump', 'fuckup', 'fuckwit', 'fuckwittery', 'fucky', 'fuckyou', 'fud', 'fudge', 'fuel', 'fuentes', 'fufu', 'fufufu', 'fugir', 'fugly', 'fugo', 'fuh', 'fuhaha', 'fuhhhhhhhhhhhhhh', 'fujimoto', 'fujk', 'fujo', 'fuk', 'fukk', 'fukkin', 'fukn', 'fuks', 'fukushima', 'fukuthought', 'fukutomi', 'fulani', 'fulci', 'fulfil', 'fulfill', 'fulfillment', 'fulfills', 'fulfilment', 'fulham', 'full', 'fullback', 'fuller', 'fullerton', 'fullfil', 'fullflling', 'fullmetal', 'fullness', 'fullpack', 'fullthat', 'fully', 'fulton', 'fultz', 'fumagalli', 'fumble', 'fume', 'fumgalli', 'fumigate', 'fuminn', 'fumiya', 'fumiyam', 'fun', 'function', 'functional', 'fund', 'fundamental', 'fundamentally', 'funding', 'fundraise', 'fundraiser', 'funeral', 'funfact', 'fungible', 'funk', 'funkiest', 'funko', 'funky', 'funnel', 'funnier', 'funniest', 'funnily', 'funny', 'funsies', 'funtime', 'funyuns', 'fupas', 'fuq', 'fur', 'furby', 'furends', 'furious', 'furlong', 'furman', 'furnish', 'furnishing', 'furniture', 'furries', 'furry', 'furrys', 'furrytails', 'fursona', 'fursuit', 'fursuits', 'furthermore', 'furthest', 'furtick', 'furudate', 'fury', 'fuscellaro', 'fuse', 'fusion', 'fuss', 'fussy', 'fusue', 'futaba', 'futbol', 'futhark', 'futher', 'futon', 'future', 'futureleadersconnect', 'futuresex', 'futuristic', 'futuristics', 'fuuuccckkkk', 'fuuun', 'fuuuuck', 'fuuuucked', 'fuuuuh', 'fuuuuu', 'fuuuuuccckkk', 'fuuuuuuck', 'fuuuuuuuuuck', 'fuvkn', 'fux', 'fuxk', 'fuyuko', 'fuzz', 'fuzzy', 'fuzzycrew', 'fvck', 'fvcken', 'fvckin', 'fvcking', 'fw', 'fwaah', 'fwb', 'fwiw', 'fwm', 'fwt', 'fwu', 'fwwc', 'fwy', 'fx', 'fxcd', 'fy', 'fye', 'fyed', 'fyi', 'fyke', 'fym', 'fymm', 'fyodor', 'fyre', 'fyrir', 'fytb', 'fyxking', 'gaa', 'gaaahhh', 'gaaay', 'gaano', 'gaara', 'gaaru', 'gab', 'gabapentin', 'gabbard', 'gabbie', 'gabby', 'gabe', 'gabi', 'gabrial', 'gabriel', 'gabrielle', 'gaburieru', 'gachhibowli', 'gackt', 'gad', 'gadbois', 'gaddam', 'gadget', 'gaeilge', 'gael', 'gaelforce', 'gaetz', 'gaf', 'gaff', 'gaffe', 'gaffee', 'gaffer', 'gag', 'gaga', 'gagala', 'gage', 'gah', 'gahd', 'gahhh', 'gahhhh', 'gai', 'gail', 'gaiman', 'gain', 'gainesville', 'gainfully', 'gais', 'gaitain', 'gakupo', 'gakutenn', 'gal', 'gala', 'galactic', 'galactica', 'galaga', 'galar', 'galarian', 'galatian', 'galaxative', 'galaxy', 'galaxynote', 'gale', 'galena', 'galifianakis', 'galinha', 'gall', 'gallas', 'gallen', 'gallery', 'gallon', 'gallop', 'galloway', 'gallows', 'gallup', 'gally', 'galo', 'galore', 'galveston', 'gamay', 'gambino', 'gamble', 'gambler', 'game', 'gamecast', 'gamecock', 'gamecube', 'gamecubes', 'gameday', 'gameeeee', 'gameinsight', 'gamemode', 'gamepass', 'gameplay', 'gamer', 'gamera', 'gamergate', 'gamers', 'gamescom', 'gameshow', 'gamestop', 'gan', 'ganas', 'gandalf', 'gandhi', 'gang', 'gangbang', 'gangggg', 'gangland', 'gangnam', 'gangsey', 'gangsta', 'gangster', 'ganna', 'gano', 'gansey', 'ganta', 'ganyan', 'gaon', 'gap', 'garage', 'garay', 'garb', 'garbage', 'garber', 'garbo', 'garcia', 'garcias', 'garcon', 'garden', 'gardengrove', 'gardenhire', 'gardening', 'gardner', 'gardy', 'garf', 'garfield', 'garfinkel', 'gargantuan', 'garland', 'garlic', 'garman', 'garner', 'garo', 'garret', 'garrett', 'garrik', 'garrity', 'garrus', 'garry', 'garu', 'garuda', 'garvaghy', 'gary', 'garybaldi', 'gas', 'gase', 'gash', 'gashats', 'gasket', 'gaslight', 'gaslighter', 'gaslighting', 'gasoline', 'gasp', 'gasped', 'gassin', 'gassy', 'gastroenterology', 'gastrointestinal', 'gat', 'gate', 'gatedcommunities', 'gatekeeper', 'gatekeeping', 'gateman', 'gateway', 'gather', 'gathering', 'gatie', 'gatineau', 'gator', 'gatorade', 'gatta', 'gaucho', 'gaudy', 'gaulden', 'gauntlet', 'gaurantee', 'gaurdian', 'gausman', 'gautam', 'gauz', 'gauze', 'gav', 'gavaldon', 'gavin', 'gawd', 'gawdddd', 'gawker', 'gawkered', 'gawwwdddd', 'gay', 'gaydar', 'gaye', 'gayer', 'gayest', 'gayety', 'gayle', 'gaymes', 'gaytanicpanic', 'gaytwitter', 'gayyyyndksnssksk', 'gaza', 'gaze', 'gazidis', 'gb', 'gbamin', 'gbas', 'gbese', 'gbf', 'gbimgbim', 'gbos', 'gbsng', 'gbua', 'gbvshou', 'gc', 'gcf', 'gd', 'gddy', 'gdn', 'gdp', 'gdpr', 'gdrt', 'gea', 'gear', 'geass', 'gecko', 'gecs', 'ged', 'gedoni', 'gee', 'geeeeeezzzzzzz', 'geek', 'geeked', 'geeking', 'geese', 'geesh', 'geez', 'geeza', 'geezer', 'gehring', 'geiriau', 'gej', 'gekokujou', 'gel', 'gelancefourthreal', 'gelr', 'geltmacher', 'gem', 'gemini', 'gemma', 'gen', 'gencon', 'gender', 'gendered', 'genderfluid', 'gendouzi', 'gendry', 'gene', 'genealogy', 'general', 'generalize', 'generally', 'generalnation', 'generate', 'generates', 'generation', 'generational', 'generator', 'generic', 'generosity', 'generous', 'generously', 'genesis', 'genetic', 'genetically', 'genetics', 'genevieve', 'gengar', 'genie', 'genisis', 'genitals', 'geniune', 'genius', 'genji', 'genki', 'genny', 'geno', 'genocide', 'genpact', 'genptlemen', 'genre', 'gent', 'gente', 'gentile', 'gentle', 'gentleman', 'gentlewoman', 'gently', 'gentrification', 'gentrified', 'gentrify', 'gentry', 'genudine', 'genuine', 'genuinely', 'genuinley', 'genuis', 'genus', 'genuwine', 'genx', 'geo', 'geoff', 'geographical', 'geographically', 'geography', 'geometric', 'geometrical', 'geometry', 'geordi', 'geordie', 'geordieshore', 'george', 'georgetown', 'georgia', 'georgian', 'georgiasbest', 'georgie', 'ger', 'gerald', 'geraldo', 'gerard', 'gerardo', 'geras', 'gerber', 'geriatric', 'germ', 'german', 'germanium', 'germany', 'germinal', 'gerome', 'geron', 'gerrard', 'gerrit', 'gerrout', 'gerry', 'gerrymander', 'gers', 'gertz', 'gervonta', 'gestapo', 'gesture', 'get', 'getaway', 'getcha', 'getjacked', 'getstuck', 'gett', 'getthetoriesout', 'getthisoneright', 'gettin', 'gettinnn', 'gettleman', 'gettn', 'gettrumpout', 'gettysburg', 'getwellsoonmina', 'getwowed', 'geuge', 'gf', 'gfa', 'gfhjgklfdk', 'gfl', 'gfriend', 'gfs', 'gfx', 'gg', 'ggas', 'ggers', 'gggggggg', 'ggmu', 'ggo', 'ggs', 'gh', 'ghai', 'ghana', 'ghanaian', 'ghanaians', 'ghaopethep', 'ghapon', 'ghar', 'ghazy', 'gheddo', 'ghee', 'ghel', 'gherkin', 'ghetto', 'ghettoest', 'ghey', 'ghezzal', 'ghhhn', 'ghidorah', 'ghilam', 'ghilli', 'ghost', 'ghostbusters', 'ghostface', 'ghostinos', 'ghostninja', 'ghoul', 'ghoulish', 'ghreloaded', 'ghshke', 'ghulam', 'gi', 'giagihan', 'giambi', 'gian', 'giancarlo', 'gianforte', 'giannis', 'giant', 'giantschat', 'giantspride', 'giaw', 'gib', 'gibberish', 'gibbs', 'gibby', 'gibran', 'gibson', 'gibsonburg', 'giddily', 'giddy', 'gide', 'gidge', 'gif', 'gifitize', 'gifs', 'gift', 'gifty', 'gig', 'gigamegs', 'gigan', 'gigantic', 'gigeconomy', 'giggie', 'gigging', 'giggle', 'gigi', 'gigolo', 'giiirl', 'giiirrrlll', 'gil', 'gilbert', 'gild', 'gilead', 'gill', 'gillaspia', 'gillian', 'gillie', 'gilligans', 'gilmore', 'gilmour', 'gilroy', 'gim', 'gimenez', 'gimmick', 'gimmie', 'gin', 'gina', 'ginawa', 'ginger', 'gingerbread', 'gingrich', 'gini', 'gino', 'ginott', 'ginsberg', 'ginsu', 'gintama', 'gintoki', 'ginuwine', 'gio', 'giorno', 'giovanna', 'giraffe', 'girane', 'giravves', 'girbot', 'girl', 'girldefined', 'girlfriend', 'girlie', 'girlies', 'girlllll', 'girllllllll', 'girlllllllll', 'girlscruise', 'girltalkza', 'girly', 'giroro', 'giroud', 'girrafes', 'girrrrrlll', 'girth', 'gist', 'git', 'gita', 'gitewww', 'github', 'gitlab', 'gitmo', 'giuliani', 'give', 'giveaway', 'givej', 'givelarksthec', 'givemeapabst', 'giver', 'giverofall', 'givin', 'giyu', 'giz', 'gj', 'gjdkkfh', 'gk', 'gkc', 'gkhsdkgd', 'gktwscoops', 'gl', 'glaceon', 'glacial', 'glad', 'gladds', 'glade', 'gladiator', 'gladio', 'gladiolus', 'gladly', 'gladnis', 'gladys', 'glam', 'glamorous', 'glamping', 'glance', 'glare', 'glasglow', 'glasgow', 'glass', 'glastonbury', 'glaze', 'glazer', 'glazersout', 'glazersoutwoodwardout', 'glean', 'glee', 'gleeful', 'gleeting', 'glen', 'glenda', 'glendonoakley', 'glendronnach', 'glenn', 'glenwood', 'gleyber', 'glgt', 'glibly', 'glide', 'glimepiride', 'glimmer', 'glimpse', 'glinda', 'glisten', 'glitch', 'glitchdad', 'glitching', 'glitter', 'glittery', 'gll', 'glo', 'global', 'globalism', 'globalist', 'globalleadershipsummit', 'globally', 'globe', 'glock', 'gloob', 'gloomiest', 'gloomy', 'glorb', 'gloria', 'glorifies', 'glorify', 'glorious', 'glory', 'gloss', 'glossy', 'gloucester', 'glove', 'glover', 'glow', 'glowed', 'glowey', 'glowy', 'glr', 'gls', 'glucose', 'glue', 'glute', 'gluten', 'glycolic', 'glyn', 'gm', 'gma', 'gmail', 'gmcweather', 'gmen', 'gmf', 'gmitm', 'gmm', 'gmo', 'gmt', 'gmu', 'gn', 'gna', 'gnabry', 'gnarly', 'gnash', 'gnat', 'gnd', 'gnglordeclorde', 'gni', 'gnight', 'gnite', 'gnna', 'gnocchi', 'gnolls', 'gnome', 'gnomeo', 'go', 'goaaat', 'goal', 'goalie', 'goalkeeper', 'goalscorer', 'goat', 'goated', 'goatee', 'goaty', 'gob', 'gobal', 'gobble', 'gobills', 'goblet', 'goblin', 'gobots', 'gobrowns', 'gobus', 'gobuy', 'gocanes', 'god', 'godbless', 'godd', 'goddammit', 'goddamn', 'goddamned', 'goddess', 'godfather', 'godforsaken', 'godfrey', 'godisgood', 'godkakxkexkekdqmskekswkskekswkfkxkxkwkdkd', 'godless', 'godley', 'godlike', 'godly', 'godmother', 'godofmercy', 'godrej', 'godspeed', 'godtier', 'goducks', 'godwin', 'godzilla', 'goe', 'goedart', 'goedert', 'goenka', 'gofamint', 'gofer', 'gofundme', 'goggins', 'goggles', 'goggz', 'gogh', 'gogo', 'gogoro', 'gogtsliveqoftheweek', 'gohawks', 'gohub', 'goin', 'goingbrazybrazy', 'gokarting', 'goku', 'golan', 'golang', 'golcha', 'gold', 'goldberg', 'golden', 'goldengirls', 'goldensombrero', 'goldfinch', 'goldfinger', 'goldfish', 'goldie', 'goldman', 'goldmember', 'goldmine', 'golem', 'golf', 'golfed', 'golfer', 'golfing', 'goliath', 'gollum', 'golly', 'goltsov', 'gomer', 'gomert', 'gomes', 'gomez', 'gomora', 'gomrath', 'gon', 'gona', 'gong', 'gonn', 'gonnana', 'gonoles', 'gonsalves', 'gonzales', 'gonzalez', 'goo', 'goober', 'gooby', 'gooch', 'good', 'goodbland', 'goodboys', 'goodbye', 'goodens', 'goodest', 'goodgirls', 'goodie', 'goodluck', 'goodly', 'goodman', 'goodmorning', 'goodmusic', 'goodness', 'goodnight', 'goodomens', 'goodson', 'goodtimes', 'goodtrouble', 'goodwick', 'goodwill', 'goody', 'goodz', 'gooey', 'goof', 'goofiest', 'goofiness', 'goofy', 'googl', 'google', 'googlea', 'googletwitter', 'gook', 'goolagong', 'goon', 'gooner', 'goony', 'gooo', 'goood', 'goooo', 'gooood', 'gooooo', 'goooood', 'goooooes', 'goooooo', 'gooooood', 'gooooooo', 'gooooooood', 'goopy', 'goose', 'goosebump', 'goosey', 'gop', 'gopackgo', 'gopal', 'gopats', 'gopcommunists', 'gopers', 'gopexit', 'gopher', 'gopprofilesincowardice', 'gopracist', 'gopredators', 'gorams', 'gord', 'gorditas', 'gordo', 'gordon', 'gore', 'gorga', 'gorgeaunt', 'gorgeous', 'gorgest', 'gorilla', 'gorillaz', 'gorl', 'gorls', 'goro', 'gorry', 'goruck', 'gory', 'gosh', 'gospel', 'gosselaar', 'gossip', 'gost', 'gostkowski', 'gosy', 'gotcha', 'gotchas', 'gotchu', 'gotchyu', 'gotdamm', 'gotdamn', 'goth', 'gotham', 'gothic', 'gotitfromymomma', 'goto', 'gots', 'gottahaveit', 'gottahurt', 'gottem', 'gotten', 'gottwice', 'gotye', 'gouache', 'gouch', 'gouge', 'gould', 'gourd', 'gourmet', 'gov', 'govern', 'governance', 'government', 'governor', 'govt', 'govts', 'gown', 'gowon', 'gozaru', 'gp', 'gpa', 'gps', 'gpu', 'gq', 'gr', 'grab', 'grabbed', 'grabber', 'grabbin', 'grabby', 'grace', 'graceful', 'gracefully', 'grad', 'gradation', 'grade', 'grader', 'gradual', 'gradually', 'graduarme', 'graduate', 'graduation', 'grady', 'graeme', 'graffiti', 'graffo', 'graft', 'graha', 'graham', 'grail', 'grain', 'grainy', 'gram', 'gramma', 'grammar', 'grammatically', 'grammy', 'grammys', 'gramps', 'gran', 'granada', 'grancel', 'grand', 'grandad', 'grandchild', 'granddad', 'granddaddy', 'granddaughter', 'grande', 'grandfather', 'grandia', 'grandkids', 'grandma', 'grandmaster', 'grandmom', 'grandmomma', 'grandmother', 'grandorder', 'grandpa', 'grandparent', 'grandrapids', 'grandson', 'grandstand', 'granger', 'granit', 'granny', 'granola', 'grant', 'granville', 'grape', 'grapefruit', 'grapejelly', 'graph', 'graphic', 'grasp', 'grass', 'grasshopper', 'grassroots', 'grat', 'grateful', 'gratefully', 'gratefulness', 'gratification', 'gratisss', 'gratitude', 'grats', 'gratz', 'grave', 'gravel', 'gravely', 'graven', 'gravesite', 'gravestone', 'graveyard', 'gravitate', 'gravitational', 'gravity', 'gravy', 'gray', 'grayscale', 'grayson', 'grazing', 'grdoni', 'gre', 'grealish', 'grear', 'grease', 'greasy', 'great', 'greatesthits', 'greatful', 'greatlakesbrewing', 'greatly', 'greatness', 'greatnews', 'greatwanni', 'gree', 'greece', 'greed', 'greedy', 'greek', 'green', 'greenbelt', 'greenblatt', 'greenday', 'greendaylyrics', 'greene', 'greener', 'greenery', 'greenhouse', 'greenlane', 'greensburg', 'greenshirtguy', 'greenterrortough', 'greenville', 'greenwell', 'greenwich', 'greenwood', 'greeny', 'greet', 'greetin', 'greeting', 'greets', 'greg', 'greggs', 'gregory', 'gremlin', 'grenada', 'grenade', 'grening', 'gresham', 'gretathunberg', 'gretchen', 'grey', 'greyhound', 'greyhoundbus', 'greysanatomy', 'greystone', 'grid', 'griddle', 'grief', 'griefed', 'grier', 'griese', 'grievance', 'grieve', 'griezncarrying', 'griffey', 'griffin', 'griffith', 'grifter', 'grifting', 'grill', 'grille', 'grim', 'grima', 'grimala', 'grime', 'grimey', 'grimiest', 'grimm', 'grimmjow', 'grimy', 'grin', 'grind', 'grinder', 'grindin', 'grinding', 'grindlay', 'grindr', 'gringo', 'grip', 'gripe', 'griped', 'grist', 'grit', 'grizzly', 'gro', 'groan', 'groban', 'grocery', 'grodner', 'grody', 'grog', 'groin', 'gromp', 'groningen', 'groom', 'groot', 'groove', 'groovy', 'groped', 'gross', 'grosser', 'grossest', 'grossly', 'grossness', 'grotesque', 'grouch', 'groudon', 'ground', 'groundhog', 'groundspeed', 'group', 'groupchat', 'groupchats', 'grouped', 'groupie', 'groupon', 'grouppp', 'grout', 'grove', 'grow', 'growinguphiphop', 'growingupinthedmv', 'growl', 'grown', 'growning', 'grownish', 'grows', 'growth', 'grp', 'grrmlive', 'grrrrrr', 'grt', 'grubbs', 'grubby', 'grubhub', 'grubmart', 'gruden', 'grudge', 'grue', 'gruesome', 'grumble', 'grumpier', 'grumpiness', 'grumpy', 'grunch', 'grungie', 'grunt', 'grunty', 'grupo', 'gryffindor', 'gsce', 'gshshba', 'gsn', 'gsw', 'gt', 'gta', 'gtchat', 'gtd', 'gtf', 'gtfo', 'gtfoh', 'gtfohwtlajbs', 'gtg', 'gtr', 'gts', 'guacamole', 'guada', 'guadalajara', 'guadalupe', 'guaidos', 'guame', 'guanajuato', 'guantanamo', 'guarani', 'guarantee', 'guaranteed', 'guaranty', 'guard', 'guardia', 'guardian', 'guardiola', 'guarentee', 'guatemala', 'guava', 'gubmint', 'gucci', 'gucky', 'gud', 'gudd', 'gudg', 'guendouzi', 'guerrilla', 'guess', 'guest', 'guevara', 'gugi', 'guh', 'guha', 'guhhatl', 'guhhhh', 'guht', 'guice', 'guidance', 'guide', 'guideline', 'guideth', 'guild', 'guilherme', 'guillermo', 'guillotine', 'guilt', 'guiltless', 'guilty', 'guiltyconscious', 'guinea', 'guinness', 'guinnesssmooth', 'guise', 'guiseppi', 'guitar', 'guitarist', 'gujarat', 'gulag', 'gulf', 'gullibility', 'gullible', 'gully', 'gulp', 'gulz', 'gulzaar', 'gum', 'gumala', 'gumball', 'gumbel', 'gumbo', 'gummies', 'gummy', 'gump', 'gumshoe', 'gumtree', 'gun', 'guncontrol', 'guncontrolnow', 'gundam', 'gunfire', 'gungeon', 'gunman', 'gunna', 'gunnar', 'gunner', 'gunnysack', 'gunpla', 'gunple', 'gunpoint', 'gunpowder', 'gunreformnow', 'gunsense', 'gunshot', 'gunslinger', 'gunz', 'gupta', 'gurdjieff', 'gurgler', 'gurl', 'gurley', 'gurriel', 'gurtrude', 'guru', 'gurunchi', 'gush', 'gusshhhhh', 'gust', 'gusta', 'gustav', 'gusted', 'gusting', 'gusto', 'gusty', 'gut', 'gute', 'gutekunst', 'gutierrez', 'gutless', 'gutted', 'gutter', 'gutting', 'guud', 'guv', 'guy', 'guyyyy', 'guyyyyy', 'gva', 'gville', 'gvnt', 'gw', 'gwadarpcunderattack', 'gwap', 'gwapo', 'gwb', 'gwen', 'gwendoline', 'gwent', 'gwinnett', 'gwn', 'gws', 'gya', 'gye', 'gyel', 'gyllenhaal', 'gym', 'gymmed', 'gymnastics', 'gynac', 'gynecologist', 'gypped', 'gypsy', 'gyro', 'gyromite', 'gyud', 'gza', 'haaa', 'haaaaa', 'haag', 'haba', 'habanero', 'haberman', 'habes', 'habib', 'habit', 'habitat', 'habitation', 'habitually', 'habitude', 'hablo', 'habte', 'hachi', 'hack', 'hackenberg', 'hackerman', 'hackings', 'hadar', 'hadda', 'haddam', 'haddish', 'hades', 'hadfield', 'hadid', 'hadnt', 'hae', 'haechan', 'haemorrhage', 'haena', 'hafa', 'hafeej', 'hafeez', 'hafta', 'hag', 'hagar', 'hagerty', 'hagte', 'hague', 'hagun', 'hah', 'haha', 'hahaa', 'hahaah', 'hahah', 'hahaha', 'hahahaaa', 'hahahaaha', 'hahahah', 'hahahaha', 'hahahahah', 'hahahahaha', 'hahahahahaha', 'hahahahahahaa', 'hahahahahahaha', 'hahahahahahahaha', 'hahahahhahaha', 'hahahahjsjsksksjsksjajjsjs', 'hahahhahahaa', 'hahahhahahahaha', 'hahayaan', 'hahha', 'haht', 'haih', 'haii', 'haiku', 'hail', 'hailey', 'haim', 'hain', 'hair', 'haircolor', 'haircut', 'hairdresser', 'haired', 'hairenvy', 'hairier', 'hairless', 'hairline', 'hairpin', 'hairspray', 'hairstyle', 'hairy', 'hais', 'haiti', 'haitian', 'haiwezi', 'haji', 'hajime', 'hajj', 'hajjj', 'hakdkgldksjdl', 'hakii', 'hakim', 'hakosuka', 'haksal', 'hakusho', 'hala', 'halaka', 'halal', 'halapoulivaati', 'halas', 'halat', 'haldi', 'halen', 'haley', 'half', 'halfthebattle', 'halftime', 'halfway', 'hall', 'halle', 'hallelujah', 'haller', 'halley', 'hallisay', 'hallmark', 'hallow', 'halloween', 'halloweentown', 'hallucinate', 'hallucination', 'hallway', 'halo', 'haloperidol', 'halp', 'halsey', 'halve', 'hama', 'hamada', 'hamas', 'hamate', 'hamberders', 'hamburg', 'hamburger', 'hame', 'hamels', 'hamill', 'hamilton', 'hamlet', 'hamlin', 'hammer', 'hammerbong', 'hammersmith', 'hammock', 'hammond', 'hammy', 'hammys', 'hamont', 'hampden', 'hampton', 'hamster', 'hamtaro', 'hana', 'hanbin', 'hancock', 'hand', 'handbag', 'handbook', 'handcuff', 'handedly', 'handful', 'handgun', 'handheld', 'handicapped', 'handle', 'handlebar', 'handler', 'handmade', 'handmaid', 'handmaidstale', 'handoff', 'handout', 'handset', 'handshake', 'handsoffvenezuela', 'handsome', 'handsomest', 'handstand', 'handwashers', 'handwrite', 'handwritten', 'handy', 'hanes', 'hang', 'hangar', 'hange', 'hanger', 'hangin', 'hanging', 'hangout', 'hangover', 'hangry', 'hangsang', 'hangtenstories', 'hangyul', 'hank', 'hanker', 'hanky', 'hanna', 'hannah', 'hannibal', 'hanniman', 'hannity', 'hanoi', 'hanover', 'hansen', 'hanseungwoo', 'hants', 'hanty', 'hanzo', 'hap', 'hapi', 'hapo', 'happ', 'happbirthdayssmb', 'happe', 'happemed', 'happen', 'happend', 'happens', 'happier', 'happiest', 'happily', 'happiness', 'happinessbegins', 'happinessbeginstour', 'happining', 'happppyyyy', 'happpy', 'happy', 'happybirthday', 'happybirthdaybangpd', 'happybirthdaymarjo', 'happybirthdayssmb', 'happybirthdaysuperstarmahesh', 'happyminhoday', 'happynationalday', 'happypalitday', 'happyquote', 'haq', 'hara', 'harajuku', 'harald', 'harass', 'harasser', 'harassment', 'harbaugh', 'harbor', 'harbour', 'harbringer', 'harcourt', 'hard', 'hardball', 'hardcarry', 'hardcore', 'hardcourts', 'hardd', 'harddddd', 'harden', 'harder', 'hardest', 'harding', 'hardliner', 'hardly', 'hardpass', 'hardrock', 'hards', 'hardship', 'hardware', 'hardwired', 'hardworking', 'hardy', 'harem', 'hark', 'harlan', 'harle', 'harlem', 'harley', 'harlot', 'harm', 'harmful', 'harmless', 'harmonize', 'harmony', 'harness', 'harold', 'harper', 'harpoon', 'harrassed', 'harrassment', 'harriet', 'harriot', 'harris', 'harrison', 'harrow', 'harry', 'harrypotterforever', 'harrys', 'harsh', 'harshest', 'harshly', 'harsis', 'harte', 'harthill', 'hartley', 'hartwell', 'haru', 'haruhi', 'haruichi', 'haruka', 'haruki', 'harunyan', 'harutsune', 'harvard', 'harvest', 'harvester', 'harvey', 'haryana', 'hasan', 'haseley', 'hasely', 'hash', 'hashimamla', 'hashimoto', 'hashrate', 'hashshsjsjsj', 'hashtag', 'hashtags', 'hashtagshas', 'haskins', 'hasley', 'hasnt', 'hassan', 'hassen', 'hassle', 'haste', 'hastie', 'hastily', 'hastings', 'hasty', 'hasumi', 'hatch', 'hatchet', 'hatchi', 'hate', 'hateeeee', 'hatefilled', 'hateful', 'hatefulness', 'hateit', 'hatena', 'hatepolitics', 'hater', 'hatered', 'hath', 'hatin', 'hatless', 'hatm', 'hatr', 'hatred', 'hatrick', 'hattiesburg', 'hattrick', 'haul', 'haunt', 'hauntings', 'hausa', 'haute', 'hav', 'havard', 'havasu', 'havefaith', 'havent', 'haverbrook', 'haveth', 'havin', 'havnt', 'havoc', 'havve', 'haw', 'hawai', 'hawaii', 'hawaiian', 'hawk', 'hawke', 'hawkins', 'hawt', 'hawwd', 'hayden', 'hayek', 'hayes', 'hayfever', 'hayfork', 'hayi', 'hayley', 'hayner', 'haynes', 'hayo', 'hayoung', 'hazard', 'haze', 'hazel', 'hazelgrove', 'hazlenut', 'hazmat', 'hazy', 'hazzard', 'hb', 'hbd', 'hbdmaheshbabu', 'hbdsuperstarmahesh', 'hbmshawks', 'hbo', 'hbp', 'hc', 'hcp', 'hcsmsa', 'hd', 'hdb', 'hddhd', 'hdh', 'hdhdhd', 'hdjdjsnd', 'hdjskd', 'hdksbf', 'hdksjjs', 'hdm', 'hdmfnsk', 'hdmi', 'hdmsmsmsmsm', 'hdndhd', 'hdtv', 'heaaa', 'head', 'headacche', 'headache', 'headass', 'headassery', 'headasses', 'headband', 'headbang', 'headbutt', 'headcanon', 'headedhome', 'header', 'headfirst', 'headingv', 'headless', 'headlight', 'headline', 'headlock', 'headphone', 'headquarters', 'headset', 'headship', 'headshot', 'headsinthesand', 'headspace', 'headstone', 'headtilt', 'heady', 'heal', 'healer', 'healin', 'heals', 'health', 'healthadvocacytgd', 'healthandwellness', 'healthcare', 'healthier', 'healthiest', 'healthily', 'healthy', 'healthyfaith', 'healthyyyy', 'healty', 'heap', 'hear', 'heard', 'heardinmyoffice', 'hearin', 'hearing', 'hearr', 'hearrrr', 'hears', 'hearse', 'hearst', 'hearstian', 'heart', 'heartache', 'heartbeat', 'heartbreak', 'heartbreaking', 'heartbroken', 'hearted', 'heartedly', 'hearteyes', 'heartfelt', 'heartily', 'heartland', 'heartless', 'heartthe', 'heartthrob', 'heartwarming', 'hearty', 'heat', 'heater', 'heath', 'heathen', 'heathenous', 'heather', 'heathrow', 'heating', 'heatstroke', 'heaux', 'heauxs', 'heave', 'heaven', 'heavenly', 'heavier', 'heaviest', 'heavily', 'heavy', 'heavydinosaur', 'heavyweight', 'heay', 'heber', 'hebrew', 'hebron', 'hecc', 'hecho', 'heck', 'hectic', 'hector', 'heddanewman', 'hedge', 'hediot', 'hee', 'heebie', 'heebs', 'heechul', 'heed', 'heeeellllppsknskxnx', 'heeeey', 'heeeeyy', 'heehe', 'heel', 'heenan', 'heesoo', 'hefty', 'hegazi', 'heh', 'hehe', 'heheeh', 'heheh', 'hehehe', 'hehehehehe', 'heheheheheehe', 'hehehehehehe', 'heheheheheheehheheehehehe', 'hehehehehehehehe', 'hehehehh', 'hehehheheheheheh', 'hehez', 'hehfhhfhfhf', 'heidegger', 'heidelberg', 'heidi', 'heifer', 'height', 'heighten', 'heightens', 'hein', 'heinous', 'heinz', 'heir', 'heirloom', 'heist', 'heize', 'hek', 'hekima', 'hel', 'helaenyra', 'helath', 'helbindi', 'held', 'helen', 'helicopter', 'hell', 'hella', 'hellcat', 'hellen', 'hellion', 'hellish', 'hellll', 'helllloooo', 'hello', 'hellofresh', 'hellolovedxbpremiere', 'hellolovegoobye', 'hellolovegoodbye', 'hellooo', 'hellraiser', 'hellscape', 'hellsing', 'hellsite', 'helluva', 'helm', 'helmet', 'helmholtz', 'help', 'helper', 'helpful', 'helpless', 'helpnadvice', 'helpp', 'helprefugeesinindonesia', 'helpsjakjs', 'helsinki', 'helter', 'hemingway', 'hemiptera', 'hemisphere', 'hemmings', 'hemmingsen', 'hemoglobin', 'hemorrhage', 'hemorrhoid', 'hemp', 'hen', 'hence', 'henceforward', 'henchman', 'henderson', 'hendersons', 'hendrix', 'henley', 'hennessy', 'henny', 'hennyfest', 'henrico', 'henrik', 'henry', 'hentai', 'hepatitis', 'hepburn', 'heptan', 'herald', 'heraldry', 'herb', 'herbert', 'hercules', 'herd', 'herdsflood', 'hereby', 'hereditary', 'hereeee', 'herer', 'hererra', 'heresy', 'heretical', 'heretofore', 'herewego', 'herewegobrownies', 'heri', 'heritage', 'hermanita', 'hermann', 'hermano', 'hermes', 'hermione', 'hermit', 'hermosa', 'hernandez', 'herndon', 'hernia', 'herny', 'hero', 'heroic', 'heroin', 'heroine', 'herondale', 'heroooo', 'herpes', 'herrera', 'herrmann', 'herron', 'herrrreeee', 'hershel', 'hershey', 'hertel', 'hertz', 'hesitant', 'hesitate', 'hesitation', 'hesse', 'hessenshiar', 'heston', 'hetero', 'heterophobia', 'heterophobic', 'heteros', 'heterosexual', 'hets', 'heughan', 'hewwo', 'hex', 'hexyz', 'hey', 'heydi', 'heyer', 'heyo', 'heyparis', 'heyyy', 'heyyyy', 'hez', 'hfbsjfhjs', 'hfhfhdhdb', 'hfuherjejjd', 'hfz', 'hg', 'hgbhhdguoehu', 'hgjfkg', 'hh', 'hhahahah', 'hhahahaha', 'hhgtb', 'hhh', 'hhhh', 'hhhhh', 'hhhhhh', 'hhhhhhh', 'hhhhhhhhhes', 'hhhhhyeahokaywhat', 'hhhmm', 'hhn', 'hhores', 'hi', 'hia', 'hialeah', 'hian', 'hiatus', 'hibachi', 'hibbbing', 'hibernate', 'hibernation', 'hiccup', 'hice', 'hick', 'hickey', 'hickies', 'hicksville', 'hid', 'hidan', 'hidden', 'hiddleston', 'hide', 'hideo', 'hideous', 'hideout', 'hiding', 'hieland', 'hiep', 'hierarchy', 'hifumi', 'higdon', 'higgins', 'higgledy', 'high', 'highball', 'highbeams', 'highbridge', 'highend', 'highered', 'highjacker', 'highkey', 'highland', 'highley', 'highlight', 'highlineproud', 'highly', 'highnote', 'highonlife', 'highschool', 'highway', 'hignfy', 'higu', 'higuchi', 'higurashi', 'hihi', 'hii', 'hiiiii', 'hiiiiiiighhhhhhh', 'hijab', 'hijack', 'hijbul', 'hijinks', 'hijjah', 'hikage', 'hikari', 'hike', 'hikusi', 'hilarious', 'hilariously', 'hilary', 'hilaryslifeadventure', 'hilda', 'hilfiger', 'hill', 'hillary', 'hillbot', 'hilliard', 'hilltop', 'hilly', 'hilo', 'hilson', 'hilt', 'hima', 'himbo', 'himmelgod', 'himym', 'hinata', 'hind', 'hinder', 'hindi', 'hindko', 'hindrance', 'hindu', 'hine', 'hines', 'hinge', 'hinode', 'hint', 'hinteregger', 'hinterland', 'hio', 'hip', 'hipaa', 'hiphop', 'hipped', 'hippest', 'hippie', 'hippopotomonstrosesquippedaliophobia', 'hippy', 'hipster', 'hirai', 'hire', 'hiro', 'hirono', 'hiroshima', 'hispanic', 'hiss', 'hissy', 'hist', 'histoire', 'historian', 'historic', 'historical', 'historically', 'history', 'hit', 'hitachi', 'hitbox', 'hitboxes', 'hitch', 'hitchcock', 'hitchiker', 'hither', 'hitler', 'hitman', 'hitmix', 'hitomi', 'hitreg', 'hitta', 'hitted', 'hitter', 'hittin', 'hiv', 'hive', 'hizzie', 'hj', 'hjalte', 'hjsports', 'hk', 'hkttf', 'hlgsdhkkdwagkljfcc', 'hm', 'hmc', 'hml', 'hmm', 'hmmm', 'hmmmm', 'hmmmmm', 'hmph', 'hmstyletoplay', 'hmu', 'hnnnn', 'hoa', 'hoagie', 'hoah', 'hoard', 'hoarder', 'hoax', 'hoaxed', 'hoaxer', 'hobbs', 'hobby', 'hobi', 'hobo', 'hoboken', 'hoc', 'hockey', 'hocus', 'hodges', 'hodgkin', 'hodl', 'hodor', 'hoed', 'hoekstra', 'hoely', 'hoera', 'hoez', 'hof', 'hofer', 'hoffman', 'hog', 'hogaak', 'hogan', 'hogaya', 'hogg', 'hoggfather', 'hogspringa', 'hogveng', 'hogwarts', 'hogwash', 'hoh', 'hoirls', 'hokage', 'hokey', 'hoky', 'hol', 'hola', 'holbrook', 'holcomb', 'hold', 'holder', 'holdin', 'hole', 'holeymoley', 'holg', 'holibobs', 'holiday', 'holidaygoals', 'holier', 'holiness', 'holla', 'holland', 'holler', 'hollerin', 'holli', 'hollister', 'hollow', 'holly', 'hollyoaks', 'hollyweird', 'hollywierd', 'hollywood', 'holmes', 'holo', 'holocaust', 'hologram', 'holographic', 'holp', 'holst', 'holt', 'holupp', 'holy', 'holychild', 'holyfield', 'holyshit', 'holyspiritjesuschrist', 'holyyy', 'homare', 'home', 'homebase', 'homeboy', 'homebrew', 'homecoming', 'homefield', 'homegirl', 'homegrown', 'homeland', 'homelander', 'homeless', 'homelessness', 'homelywoodxsaintsup', 'homemade', 'homer', 'homerun', 'homeschooled', 'homeschooling', 'homescreen', 'homesense', 'homeslice', 'homestyle', 'hometown', 'homeward', 'homework', 'homey', 'homi', 'homicidal', 'homicide', 'homie', 'homies', 'homme', 'homo', 'homocidal', 'homophobe', 'homophobia', 'homophobic', 'homosexuality', 'honda', 'honduran', 'honduras', 'hone', 'honest', 'honestly', 'honesty', 'honey', 'honeybee', 'honeyboy', 'honeyhair', 'honeymoon', 'honeysuckle', 'hong', 'hongbin', 'honge', 'hongjoong', 'hongkong', 'honies', 'honk', 'honky', 'honnin', 'honor', 'honorable', 'honorary', 'honorbound', 'honoree', 'honorin', 'honour', 'honourable', 'honstely', 'hoo', 'hoobae', 'hooboi', 'hooch', 'hood', 'hoodie', 'hoodies', 'hoodini', 'hoodoo', 'hoodrat', 'hoofed', 'hooha', 'hook', 'hookah', 'hookas', 'hooked', 'hooker', 'hookup', 'hooligan', 'hooman', 'hooovvvyyy', 'hoop', 'hooper', 'hoopers', 'hooray', 'hoosier', 'hoot', 'hooter', 'hooterville', 'hootin', 'hoover', 'hop', 'hope', 'hopeful', 'hopefully', 'hopeless', 'hopelessly', 'hopelessness', 'hopewell', 'hopfully', 'hopkins', 'hopped', 'hopper', 'horas', 'horcrux', 'hordak', 'horde', 'hording', 'hore', 'horgabost', 'horizon', 'horizonte', 'horizonzerodawn', 'hormone', 'horn', 'hornet', 'horniest', 'horniness', 'hornworm', 'horny', 'horoscope', 'horrable', 'horrendous', 'horrible', 'horribley', 'horribly', 'horrid', 'horrific', 'horrify', 'horror', 'horrorcore', 'horrorshow', 'horse', 'horsefaces', 'horseman', 'horseshit', 'horseshoe', 'horsewoman', 'horus', 'hose', 'hoseok', 'hoseteams', 'hosie', 'hosmer', 'hosp', 'hospital', 'hospitalfonzie', 'hospitality', 'hospitalize', 'host', 'hostage', 'hostel', 'hoster', 'hostess', 'hostia', 'hostile', 'hostility', 'hot', 'hotass', 'hotboysummernights', 'hotdiggitydemon', 'hotdog', 'hote', 'hoteldiablo', 'hotelmiramarbournemouth', 'hoteps', 'hotgirl', 'hotgirlsummer', 'hotline', 'hotlines', 'hotones', 'hotpot', 'hots', 'hotspot', 'hotta', 'hotter', 'hottest', 'hotthoth', 'hotties', 'hottublife', 'hou', 'houdini', 'houghton', 'houlahan', 'hound', 'hour', 'hourly', 'house', 'houseguest', 'household', 'househunters', 'housekeep', 'housemate', 'housewife', 'housewivesherstory', 'housework', 'housing', 'houston', 'houstontexans', 'houthis', 'houts', 'houvsgb', 'hov', 'hover', 'hoverboard', 'howard', 'howd', 'howdy', 'howell', 'however', 'howhave', 'howl', 'howold', 'howrude', 'hows', 'howser', 'hoy', 'hoyer', 'hoyse', 'hoyyyy', 'hozier', 'hp', 'hpa', 'hpd', 'hphm', 'hpv', 'hpy', 'hq', 'hr', 'hrbt', 'hrc', 'hrm', 'hrvy', 'hs', 'hsakifn', 'hsakka', 'hshhhhshshhhshh', 'hsm', 'hssnsns', 'htafc', 'html', 'htown', 'httr', 'httyd', 'htw', 'hu', 'huang', 'huawei', 'hub', 'hubbie', 'hubby', 'hubert', 'huberts', 'hubris', 'hud', 'huddersfield', 'huddle', 'hudgens', 'hudson', 'hue', 'huegel', 'huevones', 'huey', 'huff', 'huffed', 'hufflepuff', 'hug', 'huge', 'hugeconvention', 'hugeeee', 'hugely', 'hugger', 'hugh', 'hughed', 'hughes', 'hugo', 'huh', 'huhh', 'huhhhh', 'huhu', 'huhuhu', 'huhuhuhuhu', 'hui', 'hujaaj', 'huji', 'hujjaj', 'hula', 'hulk', 'hull', 'hulu', 'hulust', 'hum', 'human', 'humanatm', 'humane', 'humanism', 'humanist', 'humanitarian', 'humanity', 'humanityfirst', 'humanizes', 'humanly', 'humanreco', 'humbl', 'humble', 'humbler', 'humblest', 'hume', 'humid', 'humidity', 'humiliate', 'humiliation', 'humility', 'hummingbird', 'hummus', 'humom', 'humor', 'humorless', 'humorous', 'humour', 'hump', 'humper', 'humphrey', 'humphries', 'hunch', 'huncho', 'huncle', 'hundley', 'hundos', 'hundred', 'hundredt', 'hung', 'hunger', 'hungover', 'hungry', 'hungrybox', 'hunhun', 'hunk', 'hunnas', 'hunni', 'hunnie', 'hunnnnney', 'hunny', 'hunt', 'hunter', 'huntington', 'huntsville', 'hurd', 'hurdle', 'hurl', 'hurme', 'hurns', 'hurray', 'hurricane', 'hurrttssss', 'hurry', 'hurryyy', 'hurst', 'hursts', 'hurt', 'hurtful', 'hurtgenwald', 'hurtin', 'hurtle', 'hus', 'husband', 'husbandry', 'hush', 'huskers', 'husky', 'hussain', 'hussein', 'hussle', 'husslin', 'hust', 'hustle', 'hustler', 'hut', 'hutong', 'hutt', 'huuhhh', 'hux', 'huxley', 'hv', 'hval', 'hve', 'hw', 'hwang', 'hwangeum', 'hwangmini', 'hwanhee', 'hwhsushshs', 'hwo', 'hwy', 'hxetz', 'hxh', 'hyanggi', 'hybrid', 'hybridedu', 'hydra', 'hydrangea', 'hydrate', 'hydro', 'hydroflask', 'hydrogender', 'hyejeong', 'hyejin', 'hyejoo', 'hyena', 'hyesung', 'hyewon', 'hygge', 'hygiene', 'hygienist', 'hyman', 'hymn', 'hynes', 'hynny', 'hyoyeon', 'hype', 'hyped', 'hyper', 'hyperbolic', 'hyperlexia', 'hyperlink', 'hyperloops', 'hyperventilate', 'hypevertise', 'hyphen', 'hyphenate', 'hypnosis', 'hypnotic', 'hypnotically', 'hypnotize', 'hypocalcified', 'hypochristian', 'hypocrisy', 'hypocrit', 'hypocrite', 'hypocritical', 'hypotenuse', 'hypothesis', 'hypothetical', 'hyrule', 'hyspanic', 'hysterectomy', 'hysteria', 'hysterical', 'hysterically', 'hyuck', 'hyuk', 'hyun', 'hyunbin', 'hyung', 'hyungkyun', 'hyungwon', 'hyunjin', 'hyvee', 'hz', 'iaian', 'iam', 'iamcx', 'iamd', 'iamsoexcited', 'ian', 'iasocialstudies', 'ib', 'ibadan', 'iban', 'ibinoculars', 'ibiza', 'ibm', 'ibn', 'ibrahim', 'ibsen', 'ibus', 'ic', 'icant', 'icardi', 'icarly', 'icarus', 'icb', 'icc', 'ice', 'iceberg', 'iceblock', 'icebox', 'icecream', 'iced', 'icefrog', 'iceicebaby', 'iceland', 'icelandic', 'iceman', 'iceraids', 'iceraidsms', 'ichigo', 'ichiro', 'icicle', 'icm', 'icnd', 'icommai', 'icon', 'iconic', 'icp', 'icphs', 'icr', 'icrush', 'icx', 'icy', 'icyhot', 'icymi', 'id', 'ida', 'idaho', 'idc', 'idccccccc', 'ide', 'idea', 'ideal', 'idealise', 'idealism', 'ideally', 'idealprotein', 'idec', 'ideia', 'ideias', 'idek', 'ident', 'identical', 'identifiable', 'identification', 'identifies', 'identify', 'identity', 'ideology', 'idf', 'idfk', 'idgaf', 'idgafff', 'idhar', 'idiocracy', 'idiocy', 'idiot', 'idiotic', 'idk', 'idkhow', 'idledale', 'idler', 'idlib', 'idly', 'idm', 'idol', 'idolize', 'idolm', 'idolmaster', 'idontcaredoyou', 'idonthaveone', 'idpol', 'idrc', 'idrees', 'idris', 'idrk', 'idu', 'ie', 'ieee', 'ieuan', 'ifb', 'iffy', 'ifg', 'ifgaf', 'ifhsoiusfdvidfsuivohdfilkuhgjvufdvhufs', 'ifkr', 'iflb', 'ifrit', 'ifs', 'ifwat', 'ifyoubuildittheywillcome', 'ig', 'iga', 'igaf', 'igbo', 'igcse', 'iger', 'igf', 'igglesdon', 'iggy', 'iggys', 'ight', 'ign', 'ignatz', 'ignoramus', 'ignorance', 'ignorant', 'ignorants', 'ignore', 'ignores', 'igo', 'igottheblueprint', 'igotu', 'igsdjgksgkfklglkdfg', 'ihahatid', 'ihatemetoo', 'iheart', 'ihen', 'ihop', 'ihopeyousmile', 'ihra', 'iidx', 'iight', 'iii', 'iiiiit', 'iiitns', 'iike', 'iirc', 'ijs', 'ikago', 'ikanti', 'ike', 'ikea', 'ikeja', 'ikemen', 'ikenna', 'iko', 'ikon', 'ikonics', 'ikonik', 'ikr', 'ikumi', 'ilachat', 'ilan', 'ilealive', 'ilegal', 'ileya', 'ilgladiatore', 'ilhan', 'illegal', 'illegally', 'illegals', 'illegaly', 'illegitimate', 'illegitimatepresident', 'illegitiment', 'illenium', 'illest', 'illinios', 'illinois', 'illiteracy', 'illiterate', 'illlearn', 'illmatic', 'illness', 'illogical', 'illumalid', 'illuminate', 'illuminati', 'illumination', 'illusion', 'illusive', 'illustrate', 'illustration', 'illustrator', 'illustrious', 'ilove', 'iloveyou', 'iloveyoudede', 'iloveyounowdie', 'ilp', 'ilu', 'ilupeju', 'iluvs', 'ily', 'ilym', 'ilyn', 'ilysm', 'ima', 'imaan', 'image', 'imagens', 'imaginando', 'imaginary', 'imagination', 'imaginative', 'imagine', 'imaginegreengeneration', 'imam', 'iman', 'imax', 'imbbs', 'imbecile', 'imbed', 'imbicil', 'imbokododay', 'imbue', 'imdb', 'imdhsjncnvjdjdjdndjjdkd', 'imdoingwell', 'imdontai', 'ime', 'imehdjsks', 'imessage', 'imet', 'imf', 'imfact', 'imfbsnxsk', 'img', 'imho', 'imimpressed', 'imirrelevant', 'imisho', 'imissuu', 'imitate', 'imitation', 'imitator', 'imm', 'imma', 'immaculate', 'immature', 'immaturity', 'immeasurable', 'immediate', 'immediately', 'immediatly', 'immemorial', 'immense', 'immensely', 'immerse', 'immigrant', 'immigrantion', 'immigration', 'imminent', 'immobilize', 'immoral', 'immortal', 'immune', 'immunity', 'immutable', 'imo', 'imogen', 'imovie', 'imp', 'impact', 'impactfellows', 'impactful', 'impacto', 'impactoptimize', 'impala', 'impartial', 'impasse', 'impatience', 'impatient', 'impd', 'impeach', 'impeachbarr', 'impeachdonaldtrumpnow', 'impeachment', 'impeachmentinquiry', 'impeachmentinquirynow', 'impeachofdonaldtrumpfinally', 'impeachthemf', 'impeachtrump', 'impeachtrumpnow', 'impeccable', 'impede', 'impend', 'imperfect', 'imperfection', 'imperial', 'imperialism', 'impersonate', 'impersonation', 'impersonator', 'impetus', 'impingement', 'implant', 'implement', 'implementation', 'implicate', 'implication', 'implies', 'implode', 'implodes', 'implore', 'imply', 'impolite', 'import', 'importance', 'important', 'importantly', 'impose', 'imposible', 'impossibility', 'impossible', 'impossibly', 'imposter', 'impostor', 'impotence', 'impotent', 'impractical', 'impracticaljokers', 'impregnate', 'impregnation', 'impress', 'impressed', 'impression', 'impressionable', 'impressive', 'imprint', 'imprison', 'imprisonment', 'improbable', 'impromptu', 'impropertemperatures', 'improve', 'improvement', 'improves', 'improvise', 'improvisin', 'impugn', 'impulse', 'impulsively', 'impunity', 'impute', 'imran', 'imysm', 'ina', 'inability', 'inaccuracy', 'inaccurate', 'inaction', 'inactive', 'inadvertently', 'inane', 'inang', 'inanimate', 'inapplicable', 'inappropriate', 'inappropriately', 'inara', 'inaugural', 'inaugurate', 'inbound', 'inboundmarketing', 'inbox', 'inbread', 'inc', 'incalculable', 'incapable', 'incarcerate', 'incarceration', 'incarnate', 'incarnation', 'incase', 'incel', 'incels', 'incendiary', 'incense', 'incentive', 'inception', 'incessant', 'incest', 'inch', 'inched', 'incident', 'incidentally', 'incinerate', 'incinerator', 'incineroar', 'incite', 'incitement', 'incites', 'inclement', 'inclination', 'inclined', 'include', 'inclusion', 'inclusive', 'inclusivity', 'incognito', 'income', 'incoming', 'incompatible', 'incompetence', 'incompetent', 'incomplete', 'incompleteness', 'incompletion', 'incompletions', 'incomprehensibility', 'incomprehensible', 'inconclusion', 'inconsiderate', 'inconsistency', 'inconsistent', 'inconsistently', 'inconvenience', 'inconvenienced', 'inconvienance', 'inconvient', 'incorporate', 'incorporation', 'incorrect', 'incorrectly', 'increase', 'increasessccgl', 'increasingly', 'incredible', 'incredibles', 'incredibly', 'incredulous', 'incriminate', 'incubation', 'incumbent', 'incursion', 'inda', 'indak', 'indakday', 'indaksatagulan', 'indar', 'indebted', 'indecision', 'indecisive', 'indeed', 'indefensible', 'indefinitely', 'independence', 'independent', 'independently', 'indescribable', 'index', 'india', 'indian', 'indiana', 'indiawantscrypto', 'indica', 'indicate', 'indicates', 'indication', 'indicative', 'indicator', 'indictment', 'indie', 'indifferent', 'indigenous', 'indigo', 'indira', 'indirect', 'indirectly', 'indirects', 'indiscriminate', 'indispensable', 'indisputable', 'individual', 'individuality', 'individually', 'individuate', 'indivisible', 'indo', 'indomitable', 'indonesia', 'indoor', 'indoors', 'indtsgram', 'induce', 'induced', 'induct', 'indulge', 'indulgent', 'industrial', 'industrialize', 'industrious', 'industry', 'indvsbuf', 'indy', 'indya', 'indycar', 'ine', 'inebriate', 'ineffablehusbands', 'inept', 'ineptitude', 'inequality', 'inevitable', 'inevitably', 'inexcusable', 'inexhaustibly', 'inexpensive', 'inexplicable', 'inf', 'infact', 'infamous', 'infant', 'infantacide', 'infared', 'infatuate', 'infect', 'infection', 'infectious', 'inferior', 'inferno', 'infertility', 'infest', 'infestation', 'infield', 'infielder', 'infighting', 'infiltrate', 'infiltrator', 'infinite', 'infinitely', 'infinity', 'infinitytrain', 'infinty', 'infj', 'inflatable', 'inflate', 'inflation', 'inflection', 'inflexibility', 'inflict', 'infliction', 'influence', 'influencer', 'influencial', 'influential', 'influx', 'info', 'inform', 'informal', 'informant', 'information', 'informative', 'informer', 'informs', 'infowars', 'infp', 'infrastructure', 'infringe', 'infringement', 'infringes', 'infront', 'infuriate', 'infuriates', 'infuse', 'infuses', 'infustruction', 'ing', 'ingathi', 'ingenuity', 'ingersoll', 'ingest', 'ingham', 'ingold', 'ingraham', 'ingrahamangle', 'ingrain', 'ingram', 'ingredient', 'ingrid', 'ings', 'inhabit', 'inhabitant', 'inhabits', 'inhale', 'inhaler', 'inhales', 'inherently', 'inherit', 'inheritance', 'inhg', 'inhighschool', 'inhuman', 'inhumane', 'inhumans', 'inidolo', 'inimitable', 'initial', 'initially', 'initiate', 'initiative', 'inject', 'injection', 'injects', 'injoy', 'injunction', 'injure', 'injured', 'injury', 'injustice', 'ink', 'inkaholics', 'inki', 'inkling', 'inkonni', 'inland', 'inlet', 'inlove', 'inmate', 'inmon', 'inna', 'innards', 'inner', 'innermost', 'inners', 'innes', 'inning', 'innit', 'innner', 'innnnn', 'innocence', 'innocent', 'innocently', 'innocuous', 'innovate', 'innovation', 'innovative', 'innuendo', 'ino', 'inoculum', 'inoffensive', 'inoubliable', 'inox', 'input', 'inquire', 'inquires', 'inquiry', 'inquisition', 'inquisitively', 'insane', 'insanely', 'insanity', 'insatiable', 'inscribed', 'insect', 'insecure', 'insecurity', 'insensitive', 'insensitivity', 'inseparable', 'insert', 'insertion', 'insha', 'inshaallah', 'inshallah', 'inside', 'insider', 'insidious', 'insight', 'insightful', 'insincere', 'insincerity', 'insinuate', 'insipid', 'insist', 'insistent', 'insists', 'inslee', 'insley', 'insomnia', 'insomniac', 'insparity', 'inspect', 'inspection', 'inspector', 'inspiration', 'inspirational', 'inspirationquotes', 'inspire', 'inspiredbytrueevents', 'inspires', 'inspite', 'inspo', 'insta', 'instagram', 'instagramers', 'instahusband', 'instal', 'install', 'installation', 'installment', 'instalment', 'instance', 'instant', 'instantaneous', 'instantly', 'instead', 'instigate', 'instigator', 'instil', 'instill', 'instinct', 'institute', 'institution', 'institutional', 'institutionalize', 'institutionally', 'instragram', 'instruction', 'instructor', 'instrument', 'instrumental', 'instrumentalist', 'insturmental', 'insufficient', 'insulate', 'insulation', 'insulin', 'insult', 'insurance', 'insure', 'insurmountable', 'insurrection', 'int', 'intact', 'intake', 'intamin', 'intanet', 'integrate', 'integrates', 'integration', 'integrative', 'integrity', 'intel', 'intellect', 'intellectual', 'intellectually', 'intelligence', 'intelligent', 'intend', 'intense', 'intensely', 'intensity', 'intent', 'intention', 'intentional', 'intentionally', 'inter', 'interact', 'interaction', 'interactive', 'interacts', 'intercept', 'interception', 'interchange', 'intercom', 'interconnect', 'intercourse', 'interent', 'interest', 'interested', 'interface', 'interfere', 'interference', 'interior', 'interjection', 'interlects', 'interloper', 'intermediate', 'intermittent', 'intern', 'internal', 'internalize', 'internally', 'international', 'internationalcatday', 'internationalcatdaypic', 'internationally', 'internationalspacestation', 'internet', 'internship', 'interpret', 'interpretation', 'interqting', 'interracial', 'interractions', 'interrail', 'interrogate', 'interrogation', 'interrupt', 'interruption', 'intersect', 'intersectionality', 'interstate', 'interval', 'intervention', 'interventional', 'interview', 'interviewed', 'interviewer', 'interviewwithconfidence', 'interweb', 'intestine', 'intetesting', 'inthink', 'intimacy', 'intimate', 'intimidate', 'intimidates', 'intimidation', 'intocable', 'intolerance', 'intolerant', 'intothebadlands', 'intoxicate', 'intramural', 'intramuros', 'intrested', 'intrests', 'intricacy', 'intrigue', 'intro', 'introduce', 'introduces', 'introduction', 'introspection', 'introspective', 'introvert', 'intrude', 'intruder', 'ints', 'intuition', 'intuitive', 'inv', 'invade', 'invader', 'invalid', 'invalidate', 'invaluable', 'invasion', 'invent', 'invention', 'inventor', 'inventory', 'inverness', 'inverter', 'invest', 'investigate', 'investigates', 'investigation', 'investigative', 'investigator', 'investment', 'investor', 'invests', 'invi', 'invictafc', 'invincible', 'invincibles', 'invisible', 'invitation', 'invitational', 'invite', 'invoice', 'invoke', 'involuntarily', 'involve', 'involvement', 'involves', 'inward', 'inwx', 'iodine', 'iok', 'iol', 'ion', 'ionnidas', 'iont', 'iot', 'iota', 'ious', 'iove', 'iowa', 'iowan', 'iowastatefair', 'ip', 'ipa', 'ipad', 'ipadgames', 'ipads', 'ipcc', 'iphone', 'iphones', 'iplayer', 'ipop', 'ipraythatthisyeargoesbysmoothly', 'ipswich', 'ipy', 'iq', 'ir', 'ira', 'iran', 'iranian', 'iraq', 'iraqi', 'irate', 'ire', 'ireland', 'irelia', 'irene', 'irilyn', 'iris', 'irise', 'irish', 'irishfeast', 'irk', 'irks', 'irl', 'irls', 'iroh', 'iron', 'ironclad', 'ironic', 'ironically', 'ironman', 'irony', 'irradiation', 'irrational', 'irrationally', 'irredeemable', 'irredeemably', 'irregular', 'irrelevance', 'irrelevant', 'irreplaceable', 'irresistibly', 'irresponsible', 'irresponsibly', 'irritant', 'irritate', 'irritated', 'irritates', 'irritatin', 'irritation', 'irs', 'iruka', 'irwin', 'isa', 'isaac', 'isabel', 'isac', 'isae', 'isaev', 'isaf', 'isaiah', 'isaias', 'isaidyes', 'isak', 'isapawithfeelings', 'isce', 'isco', 'isf', 'ish', 'ishamel', 'isheep', 'ishii', 'ishotanarrowthroughtheair', 'ishotanarrowthrowtheair', 'isiah', 'isko', 'islam', 'islamabad', 'islamic', 'islamist', 'islamophobia', 'island', 'islandbrain', 'islander', 'isle', 'isloo', 'ism', 'ismail', 'isnt', 'isolate', 'isolated', 'isolation', 'isomerism', 'isometric', 'isp', 'israel', 'israeli', 'israelite', 'isreal', 'issa', 'issac', 'issei', 'issis', 'issit', 'issokay', 'issue', 'issy', 'istandwithprestrump', 'istandwithvic', 'istg', 'istikhara', 'itachi', 'ital', 'italian', 'italy', 'itc', 'itch', 'ite', 'item', 'itens', 'itf', 'itfc', 'ith', 'ithith', 'itis', 'itisaugust', 'itll', 'ito', 'itookagambleon', 'itorero', 'itot', 'itp', 'itsa', 'itsaprocess', 'itsasin', 'itsmorefuninthephillipines', 'itsnicetobenice', 'itsourgame', 'itsstatus', 'itstoodamnhot', 'itsuki', 'ittle', 'ittt', 'itttt', 'itttttttt', 'itty', 'ittybittytittycomittee', 'ittybittytittycommittee', 'ittyt', 'itunes', 'itv', 'itw', 'itzy', 'iu', 'iud', 'iunno', 'iv', 'ivan', 'ivanka', 'ivannia', 'ive', 'iver', 'ivern', 'ives', 'ivins', 'ivo', 'ivory', 'ivw', 'ivy', 'iwa', 'iwaizumi', 'iwanna', 'iwannahearyoursong', 'iwere', 'iwobi', 'iwobinho', 'iwobis', 'ix', 'ixbuzz', 'iyrtitl', 'izafa', 'ize', 'izuchi', 'izuku', 'izukumidoriya', 'izzy', 'jaaammmm', 'jab', 'jabami', 'jabariyajodi', 'jabber', 'jabra', 'jabroni', 'jace', 'jacinda', 'jack', 'jackal', 'jackass', 'jackboy', 'jackdouches', 'jacked', 'jacket', 'jackevictionparty', 'jackey', 'jackie', 'jackieainapalette', 'jacking', 'jackj', 'jackkkson', 'jackman', 'jackoff', 'jackpot', 'jackrabbit', 'jacksevictionparty', 'jackson', 'jacksonville', 'jacksonwang', 'jacksonwangjourneyinusa', 'jacky', 'jackye', 'jacob', 'jacoby', 'jacqui', 'jacueline', 'jacuzzi', 'jade', 'jadegoody', 'jaden', 'jadens', 'jadine', 'jadon', 'jae', 'jaebeom', 'jaebum', 'jaehwan', 'jaehyun', 'jaemin', 'jaewhan', 'jaeyoon', 'jaga', 'jagad', 'jagerbomb', 'jagged', 'jaggy', 'jagmeet', 'jagoffforfree', 'jagoffs', 'jaguar', 'jah', 'jahari', 'jaheim', 'jahrome', 'jai', 'jail', 'jailbreak', 'jailor', 'jain', 'jaina', 'jairus', 'jairy', 'jaishriram', 'jaisi', 'jaja', 'jajsjaka', 'jak', 'jaka', 'jakarta', 'jake', 'jakeem', 'jakes', 'jakey', 'jakk', 'jakobi', 'jakurai', 'jalanjalanin', 'jalape', 'jalapeno', 'jalen', 'jalianwala', 'jalisco', 'jallow', 'jalynn', 'jam', 'jamaal', 'jamahl', 'jamaica', 'jamaican', 'jamal', 'jamalkhashoggi', 'jamba', 'jambinai', 'jameel', 'james', 'jameshetfield', 'jameson', 'jamie', 'jamil', 'jamlaisdasquad', 'jammie', 'jammies', 'jammin', 'jamming', 'jammmm', 'jammu', 'jammuandkashmir', 'jamo', 'jampot', 'jamuul', 'jan', 'jana', 'janaf', 'janarion', 'janasainiks', 'jane', 'janemba', 'janet', 'janethevirgin', 'janfam', 'jang', 'jani', 'janice', 'janie', 'janiece', 'janine', 'janita', 'janitor', 'jank', 'janky', 'janna', 'jannah', 'jannie', 'jano', 'janpath', 'january', 'jap', 'japan', 'japanese', 'japass', 'jaquan', 'jar', 'jaraya', 'jare', 'jareau', 'jared', 'jaree', 'jaren', 'jarjar', 'jarmo', 'jarom', 'jarrell', 'jarrett', 'jarring', 'jarrod', 'jaruma', 'jarvis', 'jas', 'jase', 'jasie', 'jasmine', 'jason', 'jasper', 'jasperanderrol', 'jass', 'jatelo', 'jaundice', 'jaunt', 'jaut', 'javanese', 'javascript', 'javier', 'javon', 'javy', 'jaw', 'jawill', 'jawlines', 'jawn', 'jawns', 'jawnz', 'jax', 'jaxon', 'jaxvsbal', 'jay', 'jaylen', 'jaylon', 'jaymee', 'jayz', 'jazlyn', 'jazmin', 'jazmine', 'jazz', 'jazzed', 'jazzy', 'jb', 'jbalvin', 'jbco', 'jbj', 'jbl', 'jbrown', 'jc', 'jcaho', 'jcc', 'jcl', 'jd', 'jdakfjalfjsjjg', 'jdbdj', 'jdbdjd', 'jdeleon', 'jdfksdhf', 'jdfksjd', 'jdjdjd', 'jdjdjdjdjs', 'jdjjdj', 'jdjsjs', 'jdksjsj', 'jdlsid', 'jdm', 'jdndjsjsn', 'jdrama', 'jea', 'jealous', 'jealously', 'jealousy', 'jean', 'jeani', 'jeanine', 'jebus', 'jedd', 'jedi', 'jeebies', 'jeebs', 'jeebus', 'jeeesh', 'jeep', 'jeeting', 'jeez', 'jeezy', 'jeff', 'jefferey', 'jefferies', 'jefferson', 'jeffree', 'jeffreexmorphe', 'jeffrey', 'jeffries', 'jehovah', 'jeith', 'jekyll', 'jela', 'jelay', 'jellicle', 'jello', 'jelly', 'jellyfish', 'jemele', 'jemmy', 'jen', 'jena', 'jenelle', 'jenifer', 'jenkins', 'jenkinson', 'jenko', 'jenn', 'jenna', 'jenner', 'jenni', 'jennie', 'jennifer', 'jennings', 'jenny', 'jeno', 'jens', 'jensen', 'jeokdanghi', 'jeon', 'jeong', 'jeongguk', 'jeopardy', 'jepsen', 'jeralt', 'jeremiah', 'jeremih', 'jeremy', 'jericho', 'jerk', 'jerked', 'jerker', 'jerkin', 'jerking', 'jerky', 'jermaine', 'jermainekearse', 'jerneesha', 'jerry', 'jersey', 'jerseyshorefamilyvacation', 'jerusalem', 'jery', 'jerymiah', 'jes', 'jess', 'jesse', 'jessica', 'jessie', 'jest', 'jester', 'jesuit', 'jesus', 'jet', 'jeter', 'jetsvsgiants', 'jett', 'jettison', 'jevon', 'jew', 'jewel', 'jeweler', 'jewelry', 'jewish', 'jezebel', 'jezer', 'jfc', 'jfdkkdkd', 'jfk', 'jfkdkd', 'jfkslaldjda', 'jfm', 'jgx', 'jgy', 'jhi', 'jhin', 'jhope', 'jhs', 'jiang', 'jiao', 'jieqiong', 'jig', 'jigaboo', 'jiggle', 'jiggy', 'jigsaw', 'jihad', 'jihadist', 'jiho', 'jihoon', 'jihope', 'jihyo', 'jijo', 'jikook', 'jikookers', 'jikookies', 'jill', 'jillian', 'jills', 'jillstein', 'jimbei', 'jimenez', 'jimi', 'jimin', 'jimins', 'jimmson', 'jimmy', 'jimmykimmel', 'jimothy', 'jims', 'jin', 'jingle', 'jingled', 'jingyi', 'jinhoo', 'jinhyuk', 'jinkook', 'jinnah', 'jinvette', 'jinwoo', 'jinx', 'jinxed', 'jinyoung', 'jipsabu', 'jisoo', 'jisung', 'jit', 'jits', 'jittery', 'jive', 'jiwon', 'jiwonictionary', 'jiyeon', 'jizz', 'jizzle', 'jizzy', 'jj', 'jjba', 'jjj', 'jjk', 'jk', 'jkahsd', 'jkjkjk', 'jkonic', 'jkonics', 'jks', 'jkt', 'jlc', 'jm', 'jmac', 'jmu', 'jn', 'joachim', 'joakim', 'joan', 'joana', 'joani', 'joanne', 'joaophobic', 'joaqu', 'joaquin', 'job', 'jobless', 'jobro', 'jobros', 'jobtips', 'joburg', 'joce', 'jock', 'jockey', 'jocking', 'jockstrap', 'jodi', 'jodie', 'jody', 'joe', 'joel', 'joelinton', 'joes', 'joestar', 'joey', 'joffrey', 'jogged', 'jogger', 'jogging', 'jogo', 'joh', 'johannesburg', 'john', 'johnandmattie', 'johnathan', 'johnboy', 'johnctzen', 'johndo', 'johnlennon', 'johnny', 'johnnystreamingparty', 'johnso', 'johnson', 'johnston', 'johnwilsonorchestra', 'johny', 'join', 'joint', 'jojen', 'jojo', 'jojoontheradio', 'jojos', 'joke', 'joked', 'joker', 'jokey', 'jokic', 'joking', 'jokingly', 'jolesch', 'joli', 'jolibee', 'jolie', 'joliet', 'jollibee', 'jolloficating', 'jolly', 'jollybee', 'jollyrancher', 'jolom', 'joltin', 'jolting', 'jomal', 'jon', 'jonah', 'jonahc', 'jonas', 'jonathan', 'jonaxxktdkab', 'jones', 'jonesy', 'jonezy', 'jong', 'jongdae', 'jongho', 'jonghyun', 'jongin', 'joni', 'jonny', 'jonsing', 'jonsonland', 'jooheon', 'jools', 'joon', 'joonas', 'joong', 'joonie', 'joooob', 'jooor', 'jor', 'jorah', 'joram', 'jordan', 'jordyn', 'jorge', 'jorges', 'jorginho', 'jorja', 'jorts', 'jose', 'josee', 'joseon', 'joseph', 'josephine', 'josh', 'joshi', 'joshu', 'joshua', 'joshusexuals', 'joss', 'josuhan', 'josuke', 'jot', 'jotaro', 'jotun', 'jouissance', 'jour', 'journal', 'journaling', 'journalism', 'journalist', 'journalistic', 'journey', 'journos', 'joust', 'jovial', 'jovon', 'jovovich', 'jovybaby', 'jowa', 'joy', 'joyce', 'joycon', 'joyful', 'joyfully', 'joyless', 'joyner', 'joystick', 'joywavers', 'jozef', 'jozi', 'jozo', 'jp', 'jpp', 'jps', 'jquill', 'jr', 'jre', 'jrjwisnegu', 'jrueth', 'jsafrjklbgfds', 'jsfamilyvacation', 'jshsjssj', 'jsjdjdh', 'jsjfs', 'jsjjsjssj', 'jsjsjsj', 'jsjskskksksksks', 'jsjskskssk', 'jsksj', 'jso', 'jssksjsks', 'jst', 'jstone', 'jsu', 'jt', 'jtv', 'jual', 'juan', 'juanya', 'jubilee', 'juda', 'judaism', 'judas', 'judd', 'juddering', 'juddernaut', 'judds', 'jude', 'judeo', 'judge', 'judged', 'judgement', 'judgemental', 'judgerinder', 'judging', 'judgment', 'judgmental', 'judgy', 'judicial', 'judiciary', 'judicious', 'judiciousness', 'judson', 'judy', 'juevesfilosofico', 'jug', 'jugar', 'juggalo', 'juggernaut', 'juggling', 'jugo', 'juice', 'juicebox', 'juicer', 'juicing', 'juicy', 'juithy', 'juju', 'juke', 'jukebox', 'jul', 'jules', 'julia', 'julian', 'juliass', 'julie', 'juliechen', 'julien', 'juliet', 'julio', 'july', 'jumbo', 'jumip', 'jummahmubarak', 'jumo', 'jump', 'jumped', 'jumper', 'jumpin', 'jumping', 'jumpman', 'jumpscare', 'jumpshot', 'jumpsuit', 'junction', 'june', 'jung', 'jungkgkkn', 'jungkook', 'jungkooks', 'jungle', 'jungler', 'jungmo', 'jungooooooo', 'jungwoo', 'junhee', 'junhoe', 'junhui', 'junior', 'juniper', 'junk', 'junkie', 'junmyeon', 'junot', 'junto', 'jupiter', 'jurassic', 'jurg', 'juri', 'jurina', 'jururawat', 'jury', 'juryduty', 'jus', 'jusr', 'juss', 'jussie', 'justblowitalreadytwins', 'juste', 'justen', 'justforyou', 'justice', 'justification', 'justified', 'justify', 'justin', 'justinbieber', 'justine', 'justise', 'juston', 'justplainstupid', 'justsayin', 'justsaying', 'justt', 'jusy', 'jut', 'juul', 'juuling', 'juuls', 'juuuust', 'juuuuuust', 'juve', 'juvenile', 'juventus', 'juventusfc', 'juvia', 'juwanna', 'juyeon', 'jv', 'jvaughansports', 'jvc', 'jw', 'jwanesburg', 'jwoprom', 'jwow', 'jwr', 'jwu', 'jyan', 'jynaia', 'jyp', 'jzjfjs', 'jzjxjd', 'ka', 'kaaaaant', 'kaare', 'kabat', 'kabdksbfjd', 'kabuki', 'kadie', 'kael', 'kaep', 'kaepernick', 'kaepernik', 'kaffis', 'kafka', 'kag', 'kaga', 'kagame', 'kagamine', 'kagan', 'kagiso', 'kagura', 'kah', 'kahaanhumkahaantum', 'kahfi', 'kahit', 'kahnle', 'kahraba', 'kai', 'kaiba', 'kaidan', 'kaidy', 'kailangan', 'kainis', 'kains', 'kairi', 'kaitlin', 'kaito', 'kaji', 'kakaki', 'kakao', 'kakashi', 'kakooskavin', 'kalan', 'kalat', 'kaleb', 'kali', 'kalili', 'kallian', 'kaluuya', 'kam', 'kamala', 'kamalaharris', 'kamalaharrisdestroyed', 'kamalasucks', 'kamara', 'kamm', 'kampala', 'kampong', 'kamradts', 'kamui', 'kanata', 'kanato', 'kanban', 'kandajha', 'kane', 'kaneki', 'kang', 'kangana', 'kangdaniel', 'kangin', 'kanji', 'kankur', 'kanna', 'kano', 'kanpur', 'kansa', 'kante', 'kanue', 'kanye', 'kao', 'kaon', 'kaori', 'kaoru', 'kaos', 'kaoseth', 'kap', 'kapelavaster', 'kapernick', 'kapit', 'kapitel', 'kapler', 'kapoor', 'kappa', 'kara', 'karad', 'karaoke', 'karasuno', 'kard', 'kardashian', 'kardashians', 'kare', 'karebelion', 'kareem', 'karen', 'karenintensifies', 'karina', 'karl', 'karma', 'karnak', 'karnataka', 'karo', 'karolina', 'kart', 'karting', 'karty', 'kasa', 'kasambulwa', 'kash', 'kashmi', 'kashmir', 'kashmirbleeds', 'kashmiri', 'kashmirirs', 'kashuu', 'kasi', 'kaso', 'kasper', 'kassam', 'kat', 'katai', 'katana', 'katappreciationday', 'kate', 'katelin', 'kath', 'katherine', 'kathniel', 'kathryn', 'kathy', 'katic', 'katie', 'katrina', 'katropa', 'katsuragi', 'katt', 'katy', 'katya', 'katycats', 'kaur', 'kause', 'kavanaugh', 'kavinsky', 'kawaii', 'kawhi', 'kawhii', 'kawi', 'kaworu', 'kay', 'kaya', 'kayak', 'kayal', 'kayce', 'kaycee', 'kayla', 'kaylani', 'kaylas', 'kaylee', 'kayni', 'kayo', 'kayode', 'kays', 'kazama', 'kaze', 'kazooie', 'kazuki', 'kazumi', 'kb', 'kbbq', 'kbc', 'kc', 'kcamexico', 'kcmcjdj', 'kcon', 'kd', 'kda', 'kdb', 'kdjakdje', 'kdr', 'kdrama', 'keal', 'kean', 'keano', 'keanu', 'kearny', 'kearse', 'keaton', 'kebab', 'kecks', 'ked', 'kedar', 'kee', 'keed', 'keef', 'keein', 'keeley', 'keely', 'keem', 'keemstar', 'keemun', 'keen', 'keenum', 'keep', 'keeper', 'keepfits', 'keepgrinding', 'keepin', 'keeppounding', 'keepspreadinglove', 'kefka', 'keg', 'keglers', 'kehlani', 'kei', 'keima', 'keiran', 'keit', 'keita', 'keith', 'keito', 'keke', 'kekeke', 'kelan', 'kelfjslcjcpxjckxnx', 'kelk', 'keller', 'kellerman', 'kelley', 'kelli', 'kellie', 'kelly', 'kellyann', 'kellyanne', 'kellyish', 'kellyreilly', 'keloid', 'kelsea', 'keluarr', 'kelvi', 'kemba', 'kemi', 'kemiafp', 'kemp', 'kempele', 'ken', 'kenai', 'kendal', 'kendall', 'kendra', 'kendrick', 'kendricks', 'keneally', 'kenedy', 'kenkey', 'kenmeri', 'kennedy', 'kennel', 'kenneth', 'kenny', 'kenosha', 'kent', 'kentuckian', 'kentucky', 'kenwood', 'kenya', 'kenyan', 'kenyon', 'kenyons', 'kenzie', 'kepa', 'kepler', 'kepo', 'kept', 'kerala', 'keralarain', 'keralites', 'kerblam', 'keri', 'keria', 'kerin', 'kermit', 'kernel', 'kerorofact', 'kerri', 'kerrigan', 'kerrith', 'kerry', 'kerryon', 'kes', 'kesari', 'kessler', 'ketan', 'ketchup', 'keto', 'kettle', 'kettlekun', 'ketua', 'keuchel', 'keurig', 'kev', 'kevin', 'kevy', 'key', 'keyboard', 'keyboardist', 'keychain', 'keychains', 'keydish', 'keyhole', 'keynesian', 'keynote', 'keyring', 'keyser', 'keyshia', 'keyshias', 'keywords', 'kf', 'kfans', 'kfc', 'kfcislyfe', 'kfjsjfjsfn', 'kfjsn', 'kfox', 'kg', 'kglfjsbdfx', 'kh', 'khabib', 'khachanov', 'khadim', 'khaffi', 'khaffy', 'khafi', 'khafis', 'khafs', 'khaif', 'khaki', 'khaled', 'khalid', 'khalidiyah', 'khalifa', 'khalil', 'khamilaroman', 'khan', 'kharab', 'khary', 'khashoggi', 'khasoot', 'khattab', 'khaydid', 'khc', 'khedira', 'khelaifi', 'kheyda', 'khive', 'khlas', 'khlo', 'khloe', 'khol', 'kholvadia', 'khote', 'khud', 'khule', 'khullie', 'khun', 'khusri', 'kia', 'kiano', 'kiara', 'kiazi', 'kiba', 'kibum', 'kick', 'kickback', 'kickball', 'kickdown', 'kicker', 'kickin', 'kickoff', 'kickout', 'kickstart', 'kickstarts', 'kid', 'kidd', 'kiddng', 'kiddo', 'kiddos', 'kiddy', 'kiddz', 'kidnap', 'kidnapper', 'kidnapping', 'kidney', 'kidslit', 'kidsy', 'kidura', 'kiera', 'kieran', 'kierkegaard', 'kierra', 'kiervi', 'kihno', 'kihyun', 'kik', 'kiki', 'kikiki', 'kiko', 'kilas', 'kilbeat', 'kilgo', 'kilgore', 'kill', 'killable', 'killer', 'killerman', 'killery', 'killifornia', 'killin', 'killing', 'killjoy', 'killmonger', 'killua', 'killurself', 'killy', 'kilo', 'kilogram', 'kilometer', 'kilt', 'kimberley', 'kimichi', 'kimmel', 'kimmi', 'kimoprah', 'kimphorah', 'kims', 'kin', 'kind', 'kinda', 'kinder', 'kindergarten', 'kindergartener', 'kindest', 'kindle', 'kindly', 'kindness', 'kindred', 'king', 'kingdom', 'kingdomcome', 'kingery', 'kingfisher', 'kingpin', 'kingpower', 'kingsbury', 'kingsguard', 'kingsley', 'kingsman', 'kingston', 'kink', 'kinky', 'kinley', 'kinne', 'kinnie', 'kino', 'kinoc', 'kinsella', 'kintama', 'kintoki', 'kinzy', 'kipling', 'kipmoore', 'kipperbangs', 'kir', 'kirakira', 'kiran', 'kirby', 'kirk', 'kirkintilloch', 'kirkland', 'kirksey', 'kirky', 'kiro', 'kirsten', 'kirstin', 'kirt', 'kirth', 'kirubi', 'kiryu', 'kise', 'kiser', 'kishimoto', 'kislyak', 'kismet', 'kiss', 'kisser', 'kissesandninangshoot', 'kissesdelavin', 'kissies', 'kissin', 'kissinger', 'kisumu', 'kit', 'kitchen', 'kitchenless', 'kith', 'kithes', 'kitmap', 'kitne', 'kitov', 'kitten', 'kittenmomlife', 'kitters', 'kitty', 'kittynet', 'kiwi', 'kiyosaki', 'kizer', 'kj', 'kjv', 'kk', 'kkk', 'kkkbootcamp', 'kkkkk', 'kkkkkk', 'kkkkkkkkk', 'kkkkkkkkkkkk', 'kkonic', 'kkonics', 'kl', 'klan', 'klana', 'klansman', 'klatch', 'klaus', 'klavier', 'klay', 'klear', 'kleck', 'kleenex', 'klein', 'klentak', 'kleptocracy', 'kliff', 'klingon', 'klobuchar', 'klooper', 'klopp', 'kltv', 'klub', 'klugh', 'km', 'kmand', 'kme', 'kmg', 'kmmbs', 'kmt', 'kn', 'knack', 'knackered', 'knacking', 'knapp', 'knaresborough', 'knead', 'knee', 'kneecap', 'kneed', 'kneel', 'knell', 'knew', 'knicker', 'knicks', 'knife', 'knifecontrol', 'knifecrime', 'knifings', 'knight', 'knk', 'knkw', 'knm', 'kno', 'knob', 'knock', 'knockdown', 'knocker', 'knockles', 'knockoff', 'knockout', 'knoll', 'knooo', 'knoooooo', 'knoooow', 'knorr', 'knot', 'knotless', 'know', 'knower', 'knowhfhfh', 'knowin', 'knowingly', 'knowledge', 'knowledgeable', 'knoww', 'knowww', 'knowwww', 'knox', 'knoxville', 'knuckle', 'knucklehead', 'knw', 'kny', 'koala', 'kobayashi', 'kobbarimatta', 'kobe', 'kobeforhm', 'kobolds', 'koch', 'kochva', 'kock', 'koda', 'kodak', 'kodos', 'kodwa', 'koeltl', 'koerner', 'koffee', 'kofi', 'kofis', 'kofotwn', 'koftas', 'kohinoor', 'kohl', 'kohli', 'koi', 'koichi', 'kokama', 'koko', 'kokonte', 'kokoro', 'kolaigaran', 'kolasinac', 'kole', 'kolhapur', 'kolla', 'kombat', 'komfo', 'komhrnf', 'kommer', 'komodo', 'kompany', 'kona', 'konan', 'kone', 'koneko', 'kong', 'kongu', 'konics', 'konkonsa', 'konoha', 'kook', 'kookie', 'kookily', 'kool', 'koolaid', 'koopa', 'kopi', 'kora', 'koran', 'korea', 'koreaboo', 'korean', 'korg', 'kori', 'korn', 'korra', 'kosam', 'koscielny', 'kosher', 'kosmo', 'kostas', 'kosters', 'kota', 'kotd', 'kothukela', 'kotor', 'kottadraaa', 'kou', 'kouichi', 'koulibaly', 'kourtney', 'kovacic', 'kovu', 'kow', 'koya', 'kp', 'kpele', 'kpensh', 'kph', 'kpoop', 'kpop', 'kpoppies', 'kpoptown', 'kprofiles', 'kr', 'kraa', 'kracken', 'kraft', 'kraftykeri', 'kraken', 'kranz', 'krasinski', 'kratom', 'krazy', 'kream', 'krecker', 'kree', 'kreider', 'kreme', 'kremlin', 'krennic', 'krept', 'kreuger', 'krgn', 'krieger', 'krill', 'kripto', 'kris', 'krishna', 'krispies', 'krispy', 'kristen', 'kristoff', 'kristy', 'krit', 'kro', 'kroenke', 'kroger', 'kruger', 'kruise', 'kruse', 'kryptonian', 'kryptonite', 'krystal', 'ksa', 'ksfnsk', 'kshdjajdj', 'kshit', 'kshs', 'ksjsk', 'ksjsksksk', 'kskdjskdkdkskd', 'kskdks', 'ksksksks', 'ksmdhdndhhd', 'kst', 'kstrong', 'kt', 'ktbffh', 'kthanks', 'kthnx', 'kthxbye', 'ktl', 'ktm', 'ktov', 'ktown', 'ku', 'kubernetes', 'kubrick', 'kuder', 'kudos', 'kudrow', 'kuechel', 'kuhn', 'kuhu', 'kuji', 'kukithila', 'kuku', 'kullum', 'kultural', 'kum', 'kuma', 'kumata', 'kumble', 'kumerow', 'kunfused', 'kung', 'kuntry', 'kupo', 'kurarubot', 'kurd', 'kurdish', 'kurdistan', 'kurena', 'kurls', 'kurosaki', 'kurosawa', 'kurt', 'kuru', 'kurzweil', 'kush', 'kushner', 'kuutte', 'kuuuuuuuhn', 'kuvene', 'kuya', 'kuyafana', 'kuz', 'kuzma', 'kv', 'kvia', 'kvn', 'kwa', 'kwane', 'kweku', 'kweli', 'kwenzeke', 'kwesecc', 'kwit', 'kwjdnakdka', 'kwl', 'kwon', 'kxckdn', 'ky', 'kya', 'kyana', 'kye', 'kylan', 'kyle', 'kyler', 'kylie', 'kyo', 'kyojin', 'kyokushin', 'kyoto', 'kyrie', 'kyubey', 'kyuhyun', 'kyun', 'kyungsoo', 'kzn', 'laacc', 'laascaanood', 'lab', 'laban', 'labcoat', 'label', 'labeouf', 'labette', 'labg', 'labium', 'lable', 'labor', 'laboratory', 'labour', 'labourer', 'labourhypocrisy', 'labrinth', 'labyrinth', 'laca', 'lacan', 'lacazette', 'lace', 'lacey', 'lachargers', 'lack', 'lackawanna', 'lacketh', 'lackey', 'lackin', 'lackluster', 'lacko', 'lackwit', 'lacosse', 'lacroix', 'lacrosse', 'lactate', 'lactose', 'lacvsaz', 'lad', 'ladae', 'ladak', 'ladakh', 'ladder', 'laddie', 'laden', 'ladiesyouknow', 'ladin', 'lady', 'laettner', 'lafayette', 'lafeu', 'lafleur', 'lag', 'lagalaxy', 'lager', 'laggy', 'laght', 'lago', 'lagoon', 'lagos', 'lagte', 'lahat', 'lahi', 'lahore', 'lahren', 'lai', 'laid', 'laila', 'lailinha', 'lair', 'laito', 'laive', 'lake', 'lakeland', 'laker', 'lakers', 'lakeshore', 'lakeshow', 'lakh', 'lala', 'lalaco', 'lalas', 'lallana', 'lalove', 'lam', 'lamar', 'lamb', 'lambda', 'lambeau', 'lambie', 'lambo', 'lamborghini', 'lambrusco', 'lame', 'lament', 'lamestream', 'lammy', 'lamp', 'lampard', 'lamune', 'lan', 'lana', 'lanas', 'lancashire', 'lancashirehour', 'lancaster', 'lance', 'lancelot', 'lancer', 'lancet', 'land', 'landa', 'landcon', 'landcruiser', 'landen', 'landline', 'landlord', 'landmark', 'lando', 'landon', 'landry', 'landscape', 'landslide', 'landslidevictory', 'lane', 'laneswitch', 'laney', 'lanez', 'lanfear', 'lang', 'lange', 'langg', 'langga', 'langleben', 'langley', 'langston', 'language', 'lani', 'lania', 'lanie', 'lankans', 'lanky', 'lanlord', 'lantern', 'lany', 'lanyard', 'lanz', 'lanzini', 'lao', 'laparoscopy', 'lapd', 'lapel', 'lapho', 'lapierre', 'lapis', 'laplace', 'lapse', 'laptop', 'lara', 'laredo', 'large', 'largely', 'largesse', 'larissa', 'larkin', 'larp', 'larri', 'larry', 'lars', 'larsen', 'larson', 'larva', 'laryngitis', 'larz', 'lasagna', 'lasen', 'laser', 'laserfocus', 'lash', 'lashkar', 'lasik', 'lasky', 'lasparks', 'lass', 'last', 'lastchristmastrailer', 'lastima', 'lastimarme', 'lastminutelevy', 'lastname', 'lastnight', 'lastword', 'lastyear', 'lasvegas', 'latch', 'late', 'lately', 'latenight', 'later', 'lateral', 'lateralis', 'lateshow', 'latex', 'lather', 'latias', 'latin', 'latina', 'latinamerica', 'latinas', 'latinasfortrump', 'latino', 'latoya', 'latte', 'latter', 'lattimore', 'lattin', 'lauer', 'laufhed', 'laugh', 'laughable', 'laughably', 'laughinf', 'laughingstock', 'laughter', 'launch', 'launcher', 'launder', 'laundering', 'laundry', 'launghing', 'laura', 'lauras', 'laurel', 'lauren', 'laurence', 'laurie', 'lauriver', 'lauryn', 'lautaro', 'lava', 'laval', 'lavalin', 'lavender', 'laver', 'lavigne', 'lavington', 'law', 'lawbreaker', 'lawd', 'lawdddd', 'lawdy', 'lawful', 'lawfulness', 'lawless', 'lawlessness', 'lawmaker', 'lawn', 'lawngreen', 'lawnmowers', 'lawrence', 'lawschool', 'lawson', 'lawsuit', 'lawwell', 'lawyer', 'lawyering', 'lax', 'laxus', 'lay', 'laybor', 'layer', 'layf', 'layman', 'layout', 'layup', 'lazard', 'lazazette', 'lazer', 'lazily', 'laziness', 'lazy', 'lazzeri', 'lb', 'lbvs', 'lc', 'lcaa', 'lcdp', 'lcfc', 'lck', 'lcm', 'lcs', 'lct', 'ld', 'lds', 'lea', 'lead', 'leadah', 'leader', 'leaderboard', 'leadership', 'leadershipcapital', 'leadoff', 'leaf', 'leafeon', 'league', 'leah', 'leaing', 'leak', 'lean', 'leander', 'leandro', 'leap', 'learn', 'learner', 'learnin', 'learns', 'learnt', 'learnwelsh', 'lease', 'leash', 'least', 'leather', 'leauge', 'leaugue', 'leave', 'leaveamarkontheworld', 'lebanon', 'leboga', 'lebouf', 'lebowski', 'lebron', 'lebrun', 'lech', 'lectionary', 'lecture', 'lecturer', 'led', 'leda', 'ledge', 'ledgendary', 'ledger', 'lee', 'leech', 'leeds', 'leeh', 'leejinhyuk', 'lef', 'lefafa', 'left', 'leftcaths', 'leftenan', 'leftist', 'leftover', 'leftwing', 'lefty', 'leg', 'lega', 'legacy', 'legal', 'legalisation', 'legalise', 'legality', 'legalization', 'legalize', 'legally', 'legend', 'legendaries', 'legendary', 'legged', 'legging', 'leggo', 'leghorn', 'legia', 'legible', 'legion', 'legislate', 'legislation', 'legislative', 'legislator', 'legislature', 'legit', 'legitimate', 'legitimately', 'legitimize', 'legitly', 'legitps', 'lego', 'legume', 'lehigh', 'leicester', 'leigi', 'leik', 'leipzig', 'leisurely', 'lekin', 'lele', 'leleyi', 'leli', 'lem', 'lemahieu', 'lemao', 'lemming', 'lemoine', 'lemon', 'lemonade', 'lemoning', 'lempicka', 'lemurian', 'len', 'lena', 'lend', 'lending', 'length', 'lengthen', 'lengthy', 'lenient', 'lenihan', 'lenin', 'leninist', 'lennox', 'lenny', 'lenox', 'lenpiko', 'lens', 'lense', 'lent', 'lentil', 'lenxoliver', 'leo', 'leon', 'leona', 'leonard', 'leonardo', 'leone', 'leonie', 'leopard', 'lep', 'leppards', 'leppings', 'leprosy', 'lerch', 'lerook', 'leroy', 'lesbian', 'lesbianism', 'lesbo', 'leshan', 'lesley', 'leslie', 'lesnar', 'less', 'lessa', 'lessen', 'lesser', 'lesson', 'lester', 'lesus', 'let', 'letak', 'letchu', 'lethal', 'letmefindout', 'leto', 'letsdance', 'letsgobigblue', 'letsgobluejays', 'letsgobribucs', 'letsgomountaineers', 'letter', 'letterkenny', 'lettin', 'lettuce', 'leukemia', 'levein', 'level', 'leveling', 'leverage', 'levi', 'levine', 'leviste', 'levitate', 'levitre', 'levy', 'lew', 'lewan', 'lewandowski', 'lewd', 'lewin', 'lewinsky', 'lewis', 'lewks', 'lex', 'lexa', 'lexaeus', 'lexapro', 'lexi', 'lexie', 'lexus', 'ley', 'leydenpride', 'lf', 'lfc', 'lfcs', 'lfg', 'lfgm', 'lfhshs', 'lfie', 'lft', 'lg', 'lgbt', 'lgbtq', 'lgm', 'lh', 'lhat', 'lhp', 'lia', 'liability', 'liable', 'liam', 'liamftw', 'lian', 'liar', 'liarformoney', 'lib', 'libby', 'libdem', 'libdestroyer', 'libel', 'libelous', 'liberal', 'liberalism', 'liberalismisamentaldisorder', 'liberate', 'liberia', 'libero', 'libertarian', 'libertarianism', 'libertchat', 'liberty', 'libido', 'libirals', 'libra', 'librarian', 'library', 'librocubicularist', 'libs', 'libtard', 'libtards', 'libya', 'licence', 'license', 'licensing', 'lich', 'lichfield', 'lick', 'licken', 'licker', 'lickers', 'licorice', 'lid', 'lidcombe', 'liddle', 'lidia', 'lidl', 'lie', 'lieee', 'lier', 'life', 'lifeaftertrump', 'lifeee', 'lifeguard', 'lifelesson', 'lifelong', 'lifenis', 'lifeofpegasus', 'lifer', 'lifespan', 'lifestyle', 'lifetime', 'lift', 'lifw', 'liga', 'ligature', 'ligeet', 'liggins', 'light', 'lightasafeather', 'lightband', 'lightbody', 'lightcyan', 'lighten', 'lighter', 'lightfoot', 'lightheadedness', 'lighthizer', 'lighthouse', 'lighting', 'lightly', 'lightning', 'lightsaber', 'lightskin', 'lightskyblue', 'lightstick', 'ligon', 'ligue', 'liiiiittle', 'lijiye', 'likable', 'like', 'likeable', 'likeee', 'likeeee', 'likelihood', 'likely', 'likeness', 'likenim', 'likenzmmzzmmzmzm', 'likepleasedo', 'likers', 'likewise', 'likkle', 'lil', 'lilac', 'lile', 'lili', 'lilith', 'lillard', 'lillia', 'lillie', 'lilliman', 'lilly', 'lilo', 'lilqp', 'lilsexysoul', 'lily', 'lilywhites', 'limb', 'limbaugh', 'lime', 'limelight', 'liminal', 'limit', 'limitation', 'limited', 'limitless', 'limitlessness', 'limo', 'limonade', 'limoncello', 'limp', 'limpinaintez', 'linchens', 'linchpin', 'lincoln', 'linda', 'lindas', 'lindelof', 'lindenwood', 'lindo', 'lindsay', 'lindsey', 'lindseygrahamresign', 'line', 'lineage', 'linear', 'lineart', 'linebacker', 'linecon', 'lineman', 'liner', 'lineup', 'ling', 'lingard', 'lingatd', 'linger', 'lingerie', 'lingers', 'lingo', 'lingus', 'linhardt', 'linhardts', 'link', 'linkedin', 'linkinpark', 'linkup', 'linnone', 'linseed', 'linux', 'liok', 'lion', 'lionel', 'lioness', 'lionheart', 'lip', 'lipasallian', 'lipgloss', 'lipglosses', 'lipped', 'lipstick', 'lipsync', 'liq', 'lique', 'liquid', 'liquidity', 'liquify', 'liquor', 'lira', 'lisa', 'lisanations', 'lisatweetsfromtheroad', 'lisbon', 'lisdbekind', 'lisp', 'list', 'lista', 'listen', 'listener', 'listenibg', 'listens', 'listentoyourmoms', 'listing', 'lit', 'lita', 'lite', 'litecoin', 'liter', 'literacy', 'literal', 'literally', 'literarylizzo', 'literature', 'literslly', 'litetally', 'lithograph', 'lithonia', 'lithuania', 'lithuanian', 'litigate', 'litigation', 'litmus', 'litre', 'litte', 'littell', 'litter', 'little', 'littleleague', 'littleleagueworldseries', 'littlewomenla', 'litty', 'liturgy', 'liv', 'livable', 'livanos', 'live', 'liveaction', 'livelarge', 'livelier', 'livelihood', 'liveloungemonth', 'lively', 'livemusic', 'livepd', 'liver', 'livered', 'liverish', 'liverpool', 'livestock', 'livestream', 'livestreamed', 'livestreaming', 'livetweet', 'livid', 'livin', 'living', 'livingthedream', 'livingthedreamwithsomizi', 'livingwith', 'livnor', 'liye', 'liz', 'lizard', 'lizzie', 'lizzo', 'lizzy', 'lj', 'ljoeljoe', 'ljs', 'lk', 'llc', 'lled', 'lleri', 'lll', 'lllmmffaaoooo', 'llorona', 'llove', 'lloyd', 'lls', 'llv', 'llws', 'llythyra', 'lm', 'lmaaaoooooo', 'lmaaoo', 'lmaaooo', 'lmaaooooo', 'lmao', 'lmaoo', 'lmaoodkkdjdjd', 'lmaooo', 'lmaoooo', 'lmaooooo', 'lmaoooooo', 'lmaooooooo', 'lmaoooooooimdeadassoooooo', 'lmaoooooooo', 'lmaooooooooo', 'lmaooooooooooo', 'lmaoooooooooooooo', 'lmaooooooooooooooooo', 'lmbo', 'lmbooo', 'lmc', 'lmfaaooooo', 'lmfao', 'lmfaoaoo', 'lmfaoo', 'lmfaooo', 'lmfaoooo', 'lmfaooooo', 'lmfaoooooo', 'lmfaooooooo', 'lmfaoooooooo', 'lmfaooooooooo', 'lmfaooooooooooo', 'lmfaoooooooooooo', 'lmfaoooooooooooooo', 'lmfaoooooooooooooooooo', 'lmfaooooooooooooooooooooooooo', 'lmfkaidifn', 'lmk', 'lmkk', 'lml', 'lmsr', 'lmzjsksk', 'ln', 'lnc', 'lner', 'lng', 'lnp', 'load', 'loader', 'loadstar', 'loaf', 'loan', 'loathe', 'loathsome', 'lob', 'lobatan', 'lobb', 'lobby', 'lobbyist', 'lobo', 'lobos', 'lobotomised', 'lobotomite', 'lobotomy', 'lobster', 'lobsterness', 'loc', 'local', 'localise', 'locally', 'locate', 'location', 'locator', 'locced', 'loch', 'lock', 'lockbox', 'locker', 'locket', 'lockhart', 'lockhimup', 'lockscreen', 'locksmith', 'lockstep', 'lockup', 'lockwood', 'loco', 'locs', 'locust', 'lodge', 'loe', 'loeb', 'lofi', 'loft', 'lofty', 'log', 'logan', 'loganalwayscomesoutsmellinglikearose', 'logansj', 'logarithmic', 'logic', 'logical', 'logically', 'logik', 'login', 'logistics', 'logo', 'logon', 'logwood', 'loin', 'loiter', 'lok', 'loke', 'loki', 'loko', 'lokos', 'loksatta', 'lol', 'lola', 'lolaaoalslsls', 'loled', 'loli', 'loling', 'loll', 'lolla', 'lollipop', 'lolll', 'lollll', 'lolllll', 'lolllllll', 'lolly', 'lolo', 'lolol', 'lololol', 'lolololol', 'lololololol', 'lols', 'lolz', 'loma', 'lomax', 'lombardi', 'lomg', 'loml', 'lomo', 'lon', 'londo', 'london', 'lone', 'loneliness', 'lonely', 'loner', 'lonestar', 'long', 'longa', 'longer', 'longersky', 'longevity', 'longggg', 'longing', 'longnecks', 'longshot', 'longstaff', 'longtime', 'longview', 'lonjas', 'lonnie', 'lonnnnnngggg', 'lonzo', 'loo', 'loob', 'loofah', 'look', 'looker', 'lookin', 'lookinthemirror', 'lookout', 'lookup', 'lool', 'loom', 'loomked', 'loon', 'loona', 'looney', 'loong', 'loony', 'loook', 'loool', 'loooll', 'looolll', 'looool', 'loooolllllll', 'loooong', 'loooool', 'looooool', 'looooooool', 'loooooooool', 'loooooooove', 'loooooooveeee', 'loooooove', 'looooove', 'loooove', 'looosh', 'looouis', 'loop', 'looper', 'loophole', 'loose', 'loosening', 'looser', 'loosey', 'loot', 'lootcrates', 'looter', 'lopapeysas', 'lopez', 'lopsided', 'lopu', 'lora', 'lord', 'lorddd', 'lordddd', 'lorddddddd', 'lorde', 'lordoftheflies', 'lordsandgenerals', 'lordy', 'lore', 'loren', 'lorenzo', 'lori', 'loriano', 'lorna', 'lorrie', 'lose', 'loser', 'losertales', 'loses', 'losin', 'losingourusa', 'losliya', 'loss', 'lostghosts', 'lot', 'lotion', 'lotm', 'loto', 'lotr', 'lots', 'lotsa', 'lott', 'lotta', 'lotte', 'lotterer', 'lottery', 'lotto', 'lottttts', 'lotttttttt', 'lotus', 'lou', 'louboutins', 'loud', 'louden', 'louder', 'loudly', 'loudre', 'loui', 'louie', 'louis', 'louise', 'louisiana', 'louisville', 'lounge', 'loup', 'louse', 'lousy', 'lov', 'lovable', 'lovato', 'love', 'loveable', 'lovebug', 'lovechild', 'loveddd', 'loveeee', 'loveeeeeeeee', 'loveeternal', 'loveisand', 'loveisland', 'loveit', 'loveless', 'lovelibertylife', 'lovely', 'lovelyz', 'loveovercomes', 'lover', 'loverin', 'loverrr', 'loveseenocolor', 'loveshot', 'lovesounds', 'lovette', 'lovey', 'loveyou', 'loveyourself', 'lovin', 'lovingly', 'lovve', 'low', 'lowain', 'lowdown', 'lowe', 'lower', 'lowercase', 'lowkey', 'lowlife', 'lowrie', 'loyal', 'loyalist', 'loyalty', 'lp', 'lpd', 'lpn', 'lpo', 'lqbtq', 'lr', 'lrnchat', 'lrt', 'lrts', 'lse', 'lsoing', 'lssc', 'lsu', 'lt', 'ltd', 'ltdwsomizi', 'lte', 'ltimas', 'ltns', 'ltr', 'lub', 'lubbock', 'lube', 'lubed', 'lubricate', 'lubrication', 'lubys', 'luca', 'lucas', 'lucci', 'lucent', 'lucia', 'lucian', 'luciana', 'lucid', 'lucie', 'lucier', 'lucifer', 'lucifurr', 'lucio', 'luck', 'lucki', 'luckily', 'luckkk', 'luckly', 'lucknow', 'lucky', 'luckyyyy', 'lucrative', 'lucretia', 'lucroy', 'lucu', 'lucy', 'lucybulcroft', 'ludicrous', 'ludwig', 'luffy', 'lug', 'lugar', 'luggage', 'luh', 'luhan', 'luigi', 'luii', 'luis', 'luise', 'luiz', 'luka', 'lukaku', 'luke', 'lukewarm', 'lukhanyo', 'lul', 'lula', 'lullaby', 'lulu', 'lulz', 'lumbridge', 'lumet', 'lumines', 'lump', 'lumpy', 'luna', 'lunar', 'lunaria', 'lunatic', 'lunazul', 'lunch', 'lunchables', 'lunchbox', 'lunchroom', 'lundin', 'luneta', 'lung', 'lungbuster', 'lunge', 'lungisa', 'lunny', 'lup', 'lupe', 'lupillo', 'lupin', 'luque', 'lurch', 'lure', 'lurgan', 'lurk', 'luscious', 'lush', 'lust', 'lustea', 'lustrous', 'lut', 'luther', 'lutheran', 'luthwhore', 'luv', 'luvs', 'luvvv', 'luvvvvvv', 'luxembourg', 'luxuriant', 'luxurious', 'luxury', 'lv', 'lvcas', 'lvcdebate', 'lvg', 'lvl', 'lvoe', 'lw', 'lwj', 'lxc', 'ly', 'lyblessed', 'lydia', 'lyfe', 'lyft', 'lyfters', 'lyin', 'lyle', 'lymphoma', 'lyn', 'lynch', 'lynching', 'lynda', 'lyndis', 'lynn', 'lynne', 'lyra', 'lyre', 'lyric', 'lyrical', 'lyrically', 'lyricist', 'lyris', 'lysithea', 'lysl', 'lysol', 'lyt', 'lyttonsdiary', 'lz', 'maaaaaan', 'maaan', 'maaate', 'maad', 'maahn', 'maam', 'maan', 'maana', 'maany', 'maaraa', 'maatches', 'mabari', 'mabel', 'mac', 'maca', 'macabeso', 'macadamia', 'macaroni', 'macaulay', 'macbeth', 'macbook', 'maccabees', 'macchiato', 'maccies', 'macdonald', 'mace', 'maced', 'macgregor', 'mach', 'machado', 'machan', 'machel', 'machete', 'machi', 'machiavelli', 'machievelli', 'machina', 'machine', 'machinegun', 'machiparu', 'macho', 'macintosh', 'mack', 'mackenzie', 'mackerel', 'mackeroly', 'mackie', 'macklemore', 'maclaine', 'macmiller', 'macomb', 'macon', 'macphail', 'macri', 'macro', 'macromedia', 'macron', 'maction', 'macworld', 'macy', 'macys', 'mad', 'madam', 'madame', 'madamex', 'madara', 'madcow', 'madd', 'maddd', 'madden', 'maddenseason', 'maddie', 'maddison', 'maddow', 'maddox', 'maddy', 'madeley', 'madeline', 'maden', 'madeofgold', 'madethe', 'madge', 'madhav', 'madhubala', 'madine', 'madison', 'madluh', 'madly', 'madman', 'madmoney', 'madness', 'madoka', 'madonna', 'madre', 'madrid', 'madrigal', 'mads', 'madtweets', 'madurai', 'maduro', 'mae', 'maelor', 'maelstrom', 'maester', 'mafia', 'mafs', 'maftown', 'mag', 'magallanes', 'magaluf', 'magaminions', 'magandang', 'magandangbuhay', 'magas', 'magashooter', 'magat', 'magatruck', 'magats', 'magazine', 'magcon', 'magdala', 'mage', 'magellan', 'magenta', 'mages', 'maggage', 'maggie', 'maggot', 'magherafelt', 'magic', 'magical', 'magically', 'magician', 'magikarp', 'magiranger', 'magistrate', 'magitek', 'magjowa', 'magna', 'magnesium', 'magnetic', 'magnificent', 'magnificient', 'magnitude', 'magnolia', 'magnum', 'magnus', 'magpuyat', 'magsaysay', 'maguire', 'magviolin', 'magz', 'magzgtv', 'mah', 'maha', 'mahalia', 'maharashtra', 'maharashtrarains', 'maharshi', 'maharshtra', 'mahatma', 'mahawker', 'maheen', 'mahesh', 'maheshbabu', 'mahindra', 'mahn', 'mahone', 'mahr', 'maicie', 'maid', 'maiden', 'mail', 'mailata', 'mailbag', 'mailchimp', 'maile', 'mailman', 'main', 'mainaandkingangi', 'maind', 'maine', 'maineasmara', 'mainemendoza', 'mainer', 'mainguy', 'mainland', 'mainline', 'mainly', 'mainstream', 'maintain', 'maintains', 'maintenance', 'maitland', 'maizie', 'majestic', 'majesty', 'majeure', 'majima', 'major', 'majora', 'majoras', 'majority', 'mak', 'makarov', 'makati', 'make', 'makeadentleadership', 'makeamericasmartagain', 'makeca', 'makelele', 'makeover', 'maker', 'makeup', 'makeuptutorials', 'making', 'makinson', 'maknae', 'mako', 'makoto', 'makr', 'makwa', 'mal', 'malaa', 'malala', 'malamar', 'malaria', 'malarkey', 'malarky', 'malay', 'malaysia', 'malaysian', 'malcolm', 'malcontent', 'maldives', 'male', 'malefice', 'maleficent', 'malek', 'maleni', 'malevolence', 'malfeasance', 'malfunction', 'malibu', 'malice', 'malicious', 'maligator', 'malign', 'malignant', 'malik', 'malina', 'maling', 'malkmus', 'mall', 'mallard', 'mallorie', 'mallu', 'malpractice', 'malroth', 'malt', 'maltreatment', 'mam', 'mama', 'mamajuana', 'mamamoo', 'mames', 'mami', 'mamma', 'mammal', 'mammatus', 'mammoth', 'mammy', 'manaa', 'manafort', 'manage', 'manageable', 'management', 'manager', 'managerccd', 'manages', 'manakin', 'manbat', 'manc', 'mancala', 'manchester', 'manchild', 'manchurian', 'mancini', 'mancity', 'mancz', 'manda', 'mandaluyong', 'mandarin', 'mandate', 'mandatory', 'mandem', 'mandou', 'mandzukic', 'mane', 'maneater', 'maneeee', 'manford', 'manfree', 'manga', 'mangabeiras', 'mangai', 'mangaka', 'mangala', 'manged', 'manger', 'mangle', 'mango', 'mangok', 'mangonada', 'manhattan', 'manhood', 'manhua', 'manhwa', 'mani', 'mania', 'maniac', 'maniacal', 'manic', 'manicure', 'manifest', 'manifestation', 'manifesto', 'manifestosplaining', 'manila', 'manip', 'manipulate', 'manipulation', 'manipulative', 'manipulator', 'mankind', 'manking', 'manlook', 'manly', 'manmadhudu', 'manmadudu', 'mann', 'mannaa', 'mannarino', 'mannequin', 'manner', 'mannerless', 'mannie', 'mannn', 'mannnn', 'mannnnn', 'mannnnnn', 'mannnnnnnn', 'mannone', 'manny', 'mannyhalasan', 'manong', 'manor', 'mansion', 'manson', 'mansplain', 'mansplaining', 'mantooth', 'mantra', 'manual', 'manually', 'manudharma', 'manuel', 'manuela', 'manufacture', 'manufacturer', 'manure', 'manuscript', 'manusky', 'manutd', 'manwsqft', 'many', 'manydemocrats', 'manz', 'manziel', 'manzoor', 'mao', 'maod', 'maori', 'map', 'mapdixon', 'maphorisa', 'maple', 'mapped', 'mapping', 'marah', 'maran', 'maraschino', 'marathon', 'marathoned', 'marble', 'marblelympics', 'marc', 'marca', 'marcel', 'marcela', 'marcella', 'march', 'marcha', 'marcia', 'marcos', 'marcus', 'mare', 'mareo', 'marg', 'margaret', 'margarita', 'margate', 'marge', 'margin', 'marginal', 'marginalise', 'marginalization', 'marginalize', 'marginally', 'margot', 'margs', 'mari', 'maria', 'mariah', 'mariam', 'mariana', 'marianne', 'mariannewilliamson', 'marie', 'marihuana', 'marijuana', 'marika', 'mariko', 'marilyn', 'marin', 'marina', 'marinade', 'marinara', 'marinaruybarbosa', 'marinate', 'marine', 'marineris', 'marino', 'mario', 'mariola', 'marion', 'marionette', 'mariota', 'mariposa', 'marisa', 'mariscos', 'maritime', 'marito', 'maritoni', 'mark', 'marked', 'markelle', 'marken', 'marker', 'market', 'marketdays', 'marketh', 'marketing', 'marketplace', 'markhyuck', 'markiplier', 'markle', 'markoff', 'markus', 'marky', 'marley', 'marlians', 'marlin', 'marlon', 'marlton', 'marmalade', 'marmelade', 'marnie', 'maroda', 'maroney', 'maroon', 'marquee', 'marquette', 'marquise', 'marra', 'marriage', 'married', 'marriedatfirstsight', 'marries', 'marrow', 'marry', 'marsh', 'marshall', 'marshland', 'marshmallow', 'marshmello', 'marshon', 'marspie', 'marspies', 'marsupial', 'mart', 'marten', 'marth', 'martha', 'marthasvineyard', 'marti', 'martial', 'martin', 'martinelli', 'martinellies', 'martinez', 'martinho', 'martini', 'marton', 'martti', 'marty', 'martyr', 'marvel', 'marvelous', 'marvin', 'marx', 'marxist', 'mary', 'maryamnawaz', 'maryland', 'marylebone', 'marysa', 'marysville', 'maryum', 'masakit', 'masarap', 'masc', 'mascara', 'mascot', 'masculine', 'masculinity', 'mase', 'maserati', 'mash', 'mashi', 'mashup', 'masia', 'mask', 'masked', 'maskeen', 'maski', 'maso', 'masochism', 'masochistically', 'mason', 'masood', 'masquerade', 'mass', 'massachusetts', 'massacre', 'massacremitch', 'massacremoscowmitch', 'massage', 'masseuse', 'masshootings', 'massif', 'massion', 'massive', 'massively', 'mast', 'mastafi', 'master', 'mastercards', 'masterchef', 'masterclass', 'masterful', 'mastermind', 'masterpiece', 'mastery', 'masterychat', 'masticates', 'mastodon', 'masturbate', 'masturbates', 'masturbation', 'mat', 'matarrita', 'matatauhan', 'matatu', 'match', 'matcha', 'matchbox', 'matchmaker', 'matchmaking', 'matchup', 'matchworns', 'mate', 'mateiz', 'mateo', 'mater', 'material', 'materialise', 'materialistic', 'materializes', 'maternity', 'matey', 'math', 'matha', 'mathematically', 'mathematics', 'mathiang', 'matiangi', 'matic', 'matie', 'matilda', 'matinee', 'matitibag', 'matlab', 'matladathadu', 'matoran', 'matpat', 'matram', 'matri', 'matrix', 'matt', 'matta', 'matter', 'matthew', 'mattis', 'mattpats', 'mattress', 'matty', 'mature', 'matures', 'maturity', 'maudy', 'maui', 'maulan', 'maurice', 'mauritius', 'mauvelous', 'mav', 'maverick', 'mavs', 'maw', 'mawa', 'mawma', 'mawra', 'max', 'maxed', 'maxi', 'maxie', 'maxim', 'maximally', 'maximize', 'maximum', 'maximus', 'maxipriest', 'maxo', 'maxwell', 'may', 'maya', 'mayajaal', 'mayan', 'mayank', 'mayb', 'maybach', 'maybe', 'maybenot', 'maybin', 'maye', 'mayfield', 'mayhaps', 'mayhem', 'maymayentrata', 'mayne', 'mayo', 'mayonnaise', 'mayopete', 'mayor', 'mayorpete', 'mayosapiens', 'mayowa', 'mayward', 'mayweather', 'maza', 'mazda', 'maze', 'mazi', 'mazie', 'mazza', 'mb', 'mbappe', 'mbat', 'mbb', 'mbbs', 'mbe', 'mbf', 'mbidde', 'mbmbam', 'mbn', 'mbo', 'mbta', 'mbtc', 'mc', 'mca', 'mcbath', 'mcc', 'mccabe', 'mccain', 'mccaine', 'mccarron', 'mccarthy', 'mcclintock', 'mcclinton', 'mccloud', 'mcclure', 'mccollum', 'mcconnel', 'mcconnell', 'mccordsville', 'mccourt', 'mccown', 'mccoy', 'mcd', 'mcda', 'mcdavid', 'mcdermott', 'mcdo', 'mcdolan', 'mcdonald', 'mcdonalds', 'mcdonnell', 'mcds', 'mcedrowski', 'mcelroy', 'mcfarlane', 'mcflurry', 'mcgilchrist', 'mcginn', 'mcgloven', 'mcgollum', 'mcgonagall', 'mcgrawmonday', 'mcgregor', 'mcgruder', 'mcguire', 'mchale', 'mckayla', 'mckellen', 'mckenna', 'mckenton', 'mckinney', 'mckinnon', 'mcknight', 'mckola', 'mcl', 'mclaurin', 'mcm', 'mcmahon', 'mcmg', 'mcmillan', 'mcmuffin', 'mcnabb', 'mcnamara', 'mcpence', 'mcqueen', 'mcquiston', 'mcr', 'mcsorley', 'mctominay', 'mcturtle', 'mcu', 'mcvay', 'md', 'mdf', 'mdlny', 'mdma', 'mdoge', 'mdrrr', 'mdt', 'mdzs', 'meadow', 'meadowski', 'meagan', 'meal', 'mean', 'meangingful', 'meanie', 'meaning', 'meaningful', 'meaningless', 'meanness', 'meannn', 'meannnn', 'meant', 'meantime', 'meanwhile', 'mearly', 'measles', 'measly', 'measurable', 'measurables', 'measure', 'measurement', 'meat', 'meatball', 'meathead', 'meatheads', 'meatless', 'meatloaf', 'meatsauce', 'meaty', 'mecca', 'mech', 'mecha', 'mechanic', 'mechanical', 'mechanically', 'mechanism', 'mechs', 'medal', 'meddling', 'mededchat', 'medena', 'medialit', 'median', 'medic', 'medicaid', 'medical', 'medically', 'medicare', 'medicate', 'medication', 'medicinal', 'medicinally', 'medicine', 'medico', 'medieval', 'medinah', 'mediocre', 'mediocrity', 'meditate', 'meditation', 'mediterranean', 'medium', 'medley', 'medlock', 'medschool', 'medtwitter', 'medusa', 'meduza', 'medy', 'mee', 'meee', 'meeee', 'meeeee', 'meeeeeee', 'meehan', 'meek', 'meekmill', 'meep', 'meerkat', 'meet', 'meeting', 'meetingttump', 'meetup', 'mega', 'megaaaan', 'megalol', 'megalomaniac', 'megamind', 'megan', 'megaphone', 'megastore', 'megatron', 'meghan', 'megna', 'meh', 'mehendi', 'mehl', 'mehn', 'mehndi', 'meia', 'meilani', 'meilyr', 'meizoahxjr', 'mejos', 'mek', 'meki', 'mel', 'melai', 'melan', 'melanated', 'melancholic', 'melancholy', 'melania', 'melanias', 'melanin', 'melanoma', 'melatonin', 'melba', 'melbourne', 'melee', 'meli', 'melifonwu', 'melissa', 'mellie', 'mellifluous', 'mellofact', 'mellow', 'melly', 'melo', 'melodic', 'melodious', 'melodrama', 'melody', 'melon', 'melrose', 'melt', 'meltan', 'meltdown', 'melter', 'meltzer', 'melville', 'melvin', 'mem', 'mema', 'memba', 'member', 'memberfact', 'membership', 'meme', 'memeber', 'memeng', 'memo', 'memoir', 'memoji', 'memorable', 'memorial', 'memorize', 'memory', 'memphis', 'menace', 'menagerie', 'menards', 'menchie', 'mencia', 'mend', 'mendacity', 'mendes', 'mendesarmy', 'mendoza', 'mendy', 'menendfgm', 'meng', 'menggay', 'menial', 'menina', 'meninmaroon', 'menopause', 'menorah', 'mensch', 'menstrual', 'menstruates', 'menstruation', 'mental', 'mentalhealthawareness', 'mentalillness', 'mentality', 'mentall', 'mentally', 'mentaur', 'mention', 'mentiras', 'mentor', 'menu', 'meow', 'meowchi', 'mep', 'mepad', 'mephone', 'mepolitics', 'mer', 'mera', 'mercari', 'mercato', 'merced', 'mercedes', 'mercenary', 'mercer', 'merch', 'merchandise', 'merchandising', 'merchant', 'mercified', 'merciful', 'mercifully', 'merciless', 'mercu', 'mercury', 'mercy', 'mercyforthemoney', 'mercylambo', 'mere', 'meredith', 'meredy', 'merely', 'meremere', 'merge', 'merger', 'merica', 'merit', 'merkel', 'merle', 'merlin', 'mermaid', 'mero', 'merona', 'merrifield', 'merrily', 'merritt', 'merry', 'mersey', 'mertz', 'meryem', 'meryl', 'mescaline', 'mesh', 'meshe', 'meshlife', 'mesin', 'mesmerize', 'mesprit', 'mess', 'message', 'messege', 'messenger', 'messi', 'messiah', 'messier', 'messojinystec', 'messy', 'meta', 'metabolism', 'metabolize', 'metabones', 'metagross', 'metagrosses', 'metal', 'metallica', 'metamorphosis', 'metaphor', 'metaphorical', 'metaphorically', 'metaphysical', 'metaphysics', 'metatron', 'meteor', 'meteorologist', 'meter', 'metformin', 'meth', 'metheny', 'methinks', 'method', 'methodenstreit', 'methodist', 'metlife', 'metre', 'metric', 'metro', 'metroid', 'metronome', 'metropolitan', 'mets', 'mettaton', 'mew', 'mewtwo', 'mex', 'mexican', 'mexico', 'mexifornia', 'mexikodro', 'meyer', 'meyers', 'mezzanine', 'mf', 'mfa', 'mfcking', 'mfer', 'mfers', 'mfethu', 'mfing', 'mfk', 'mfkn', 'mfks', 'mfn', 'mft', 'mfz', 'mg', 'mga', 'mgk', 'mgma', 'mgmnfn', 'mgmt', 'mgowo', 'mgsu', 'mh', 'mha', 'mhm', 'mhmm', 'mhmmm', 'miam', 'miami', 'miamidolphins', 'miani', 'mianite', 'mic', 'mica', 'micah', 'micaiah', 'michael', 'michaelrooks', 'micheal', 'michel', 'michelada', 'michelangelo', 'michele', 'michelle', 'michi', 'michie', 'michigan', 'michiganman', 'michy', 'mick', 'mickey', 'micro', 'microbit', 'microfame', 'micromachines', 'micromanaged', 'micromasters', 'microphone', 'microsd', 'microsecond', 'microsoft', 'microwave', 'mics', 'mid', 'midas', 'midday', 'middle', 'middlesbrough', 'middleschool', 'middlesex', 'middleton', 'middletown', 'midfield', 'midfielder', 'midfielders', 'midget', 'midi', 'midieval', 'midland', 'midler', 'midleton', 'midlife', 'midnight', 'mids', 'midseason', 'midsize', 'midsommar', 'midsouth', 'midst', 'midsummer', 'midterm', 'midtjylland', 'midtown', 'midway', 'midwest', 'midwesterners', 'midwestlife', 'mieexpert', 'mielle', 'miga', 'miggs', 'might', 'mightily', 'mighty', 'mignogna', 'mignolet', 'migraine', 'migraining', 'migrant', 'migrate', 'migration', 'migratory', 'miguel', 'miguna', 'mii', 'mijando', 'miju', 'mika', 'mikaelson', 'mikasa', 'mikayla', 'mike', 'mikebrownforever', 'mikethesituation', 'mikey', 'mikleo', 'miko', 'miku', 'mil', 'mila', 'milan', 'milano', 'milburn', 'mild', 'mildly', 'milds', 'mile', 'milestone', 'miley', 'milf', 'milford', 'milfs', 'military', 'militia', 'milk', 'milkmaid', 'milkshake', 'milksuke', 'milky', 'mill', 'milla', 'millenial', 'millenials', 'millenium', 'millennial', 'millennials', 'millennium', 'miller', 'milli', 'millie', 'milliner', 'milling', 'million', 'millionaire', 'millon', 'millonario', 'milne', 'miloudi', 'milton', 'milwaukee', 'mim', 'mimi', 'mimic', 'mimick', 'mimothee', 'minaj', 'minami', 'minanawe', 'minari', 'mince', 'mind', 'mindbodythoughts', 'mindful', 'mindfulness', 'mindless', 'mindset', 'mindyourbusiness', 'minecraft', 'miner', 'mineral', 'minghao', 'mingi', 'mingiiii', 'mingle', 'mingo', 'mingyu', 'minhee', 'minho', 'minhyuk', 'minhyun', 'minhyunie', 'mini', 'miniaoc', 'miniature', 'miniboss', 'minicomics', 'minifigures', 'minigame', 'minigames', 'minimal', 'minimalistic', 'minimin', 'minimize', 'minimum', 'mining', 'minion', 'minister', 'ministerial', 'ministry', 'minitrue', 'mink', 'minna', 'minneapolis', 'minnelli', 'minnesota', 'minnesotan', 'minnflavor', 'minnie', 'minnow', 'minor', 'minorites', 'minority', 'minseok', 'minshew', 'mintgreen', 'minus', 'minute', 'minutos', 'mios', 'miqo', 'mira', 'miracle', 'miraculous', 'miraculousladybug', 'miraculously', 'mirage', 'miranda', 'mire', 'miri', 'mirio', 'mirokros', 'mirracle', 'mirrallis', 'mirren', 'mirror', 'miruku', 'mirza', 'misadventuresofromesh', 'misaki', 'misakibot', 'misandrist', 'misbehavior', 'miscalculate', 'miscarriage', 'mischievous', 'miscolouration', 'misconduct', 'misdeed', 'misdemeanor', 'miseducation', 'miserable', 'miserably', 'miseric', 'misery', 'misfire', 'misfit', 'misfortune', 'misgendered', 'misgendering', 'misguide', 'misheard', 'mishely', 'mishima', 'mishna', 'misinfo', 'misinformation', 'misinterpret', 'misinterpretation', 'mislead', 'mismanagement', 'miso', 'misogony', 'misogynist', 'misogynistic', 'misogyny', 'mispelled', 'misplace', 'mispricing', 'mispronounce', 'mispronounciations', 'misquote', 'misread', 'misrepresent', 'misrepresentation', 'miss', 'missaid', 'missandei', 'missee', 'missile', 'missinglink', 'missingno', 'mission', 'missionary', 'mississippi', 'mississippian', 'mississippiraids', 'missnamed', 'missouri', 'misspeak', 'misspell', 'misspoken', 'misstep', 'missuboo', 'missus', 'missy', 'mist', 'mista', 'mistake', 'mistaken', 'mister', 'mistery', 'mistook', 'mistrallton', 'mistranslation', 'mistreat', 'mistreatment', 'mistress', 'mistrz', 'misty', 'misunderstand', 'misunderstood', 'misuse', 'mitb', 'mitch', 'mitchell', 'mite', 'mitford', 'mitigate', 'mitre', 'mitri', 'mitski', 'mitsuru', 'mitty', 'miu', 'miw', 'mix', 'mixed', 'mixer', 'mixerretweet', 'mixerstreamer', 'mixin', 'mixla', 'mixon', 'mixtape', 'mixtapes', 'mixture', 'mixups', 'miz', 'mizz', 'mizzou', 'mizzy', 'mj', 'mjolnir', 'mjolo', 'mjs', 'mk', 'mkay', 'mkhi', 'mkhitaryan', 'mkhize', 'mkleo', 'mkultra', 'ml', 'mlas', 'mlb', 'mlbtonight', 'mlg', 'mlk', 'mlm', 'mlp', 'mlsishere', 'mm', 'mma', 'mmff', 'mmhhmm', 'mmm', 'mmmaveces', 'mmmkay', 'mmmm', 'mmmmm', 'mmmmmh', 'mmmmmm', 'mmmmmmmm', 'mmo', 'mmos', 'mmrs', 'mn', 'mnaachana', 'mnet', 'mnf', 'mntana', 'mnts', 'mntwins', 'mnufc', 'mo', 'moan', 'moana', 'moat', 'mob', 'mobbed', 'mobil', 'mobile', 'mobility', 'mobilize', 'mobole', 'mobster', 'moby', 'moca', 'mocha', 'mochi', 'mock', 'mocked', 'mockery', 'mockingbird', 'mocktails', 'mockups', 'moda', 'modders', 'mode', 'model', 'modem', 'moderate', 'moderately', 'moderation', 'modern', 'modernist', 'modernization', 'modernize', 'modernwarfare', 'modernwarfarebeta', 'modesto', 'modesty', 'modi', 'modicum', 'modify', 'modimama', 'modinationaladdress', 'modishah', 'moe', 'moeen', 'mofo', 'mofos', 'mofuckas', 'mog', 'mogul', 'moh', 'mohale', 'mohamed', 'mohammed', 'mohr', 'moines', 'moir', 'moira', 'moirakill', 'moireyes', 'moise', 'moist', 'moisture', 'moisturizer', 'moked', 'mokuasi', 'mola', 'mold', 'mole', 'molecule', 'molest', 'molestation', 'molester', 'molex', 'molitor', 'moliver', 'mollie', 'molly', 'molotov', 'molyko', 'mom', 'mombee', 'moment', 'momentarily', 'momentary', 'momento', 'momentofbliss', 'momentously', 'momentum', 'momish', 'momlife', 'momma', 'mommy', 'momo', 'momoa', 'momomoto', 'momota', 'momvemnt', 'mona', 'monada', 'monados', 'monami', 'monarch', 'monarchy', 'monastery', 'monat', 'monbebe', 'monbebes', 'moncada', 'mondae', 'monday', 'mondayyyyyy', 'mondo', 'monestary', 'monetarily', 'monetary', 'money', 'moneycometh', 'moneyheist', 'mong', 'mongeau', 'monger', 'mongolia', 'mongolian', 'mongraal', 'monica', 'monifah', 'monika', 'monimolimnion', 'monique', 'monitor', 'monitoring', 'monk', 'monkees', 'monkey', 'monki', 'monky', 'monmouth', 'mono', 'monochromatic', 'monocle', 'monogamy', 'monolith', 'monologue', 'monoma', 'mononucleosis', 'monopolize', 'monopolosed', 'monopoly', 'monotonous', 'monotreme', 'monsoon', 'monsta', 'monstax', 'monstaxinla', 'monster', 'monsterrrrr', 'monstersunderthebed', 'monstrosity', 'monstrous', 'mont', 'montag', 'montage', 'montana', 'montanarocks', 'montblanc', 'monterey', 'montgomery', 'month', 'monthend', 'monthly', 'monthsary', 'montoya', 'montoyo', 'montr', 'montreal', 'montse', 'monty', 'monument', 'monxx', 'monzo', 'moo', 'moobs', 'moochie', 'mood', 'moody', 'moog', 'moogle', 'mooji', 'mookie', 'mooks', 'moom', 'moomin', 'moon', 'moonberry', 'mooney', 'moongeesefacts', 'moonin', 'moonlight', 'moonpie', 'moonrise', 'moonves', 'moonwalk', 'mooooood', 'mooove', 'moore', 'moorim', 'moose', 'moot', 'mooy', 'mop', 'moped', 'morality', 'morally', 'morass', 'mordred', 'moreee', 'morehead', 'moreland', 'morell', 'morelos', 'morenewscoming', 'moreno', 'moreover', 'moreso', 'morethananathlete', 'morgan', 'morgana', 'morganas', 'morgue', 'moriarty', 'morioh', 'morir', 'morley', 'mormon', 'morn', 'morneau', 'mornin', 'morning', 'morninggg', 'morningstar', 'moro', 'morocco', 'moron', 'moroni', 'moronic', 'morpeko', 'morph', 'morphe', 'morphine', 'morr', 'morris', 'morrisey', 'morrison', 'morrissey', 'morrow', 'morsel', 'morshi', 'mort', 'mortal', 'mortar', 'morten', 'mortenson', 'mortgage', 'morticia', 'mortician', 'mortify', 'mortimer', 'morton', 'morty', 'moschino', 'mosco', 'moscow', 'moscowmich', 'moscowmitch', 'moscowmitchmcconnell', 'moscowmitchmctreason', 'moscowmitchresign', 'moscowmitchtraitor', 'moses', 'mosh', 'moshang', 'moshi', 'moshiri', 'mosque', 'mosquito', 'mosquitto', 'moss', 'mossad', 'mossley', 'mostley', 'mostly', 'mosu', 'mosy', 'motel', 'moth', 'motha', 'mothafuckin', 'mothball', 'mother', 'motherfuckaaas', 'motherfucker', 'motherfuckin', 'motherfucking', 'motherhood', 'motherland', 'motherly', 'mothing', 'mothman', 'mothmando', 'mothpiece', 'moti', 'motif', 'motion', 'motivate', 'motivatedliving', 'motivates', 'motivation', 'motivational', 'motivator', 'motive', 'motley', 'motm', 'moto', 'motogp', 'motor', 'motorbike', 'motorcar', 'motorcycle', 'motorist', 'motorize', 'motormouth', 'motorsport', 'motorway', 'motown', 'motsoaledi', 'motte', 'motto', 'mou', 'mouf', 'mould', 'mouldy', 'mound', 'mounir', 'mount', 'mountain', 'moura', 'mourinho', 'mourn', 'mourner', 'mouse', 'mousepad', 'mousetrap', 'moustache', 'mouth', 'mouthful', 'mouthpiece', 'mov', 'move', 'moveee', 'moveeeeee', 'movement', 'movethechains', 'movethemountain', 'movie', 'movieeee', 'movin', 'movingoutthisbitch', 'mow', 'mowbray', 'mower', 'moxie', 'moxy', 'moynihan', 'mozart', 'mozeliak', 'mp', 'mpd', 'mph', 'mpigs', 'mpls', 'mpn', 'mpontshe', 'mpreg', 'mr', 'mrbeast', 'mrbig', 'mrdalekjd', 'mrgameshark', 'mrgolf', 'mri', 'mrng', 'mrnotsir', 'mroctober', 'mrpoints', 'mrsmojays', 'msa', 'msaa', 'msbnasty', 'msg', 'msged', 'msgop', 'msi', 'msm', 'msmbookclub', 'msmsksksksksk', 'msnbc', 'msnotteacher', 'msp', 'mst', 'msu', 'msy', 'mt', 'mtb', 'mtchwww', 'mtis', 'mtn', 'mtnupdate', 'mto', 'mtpdaily', 'mtr', 'mtv', 'mtvhottest', 'mtvhotttest', 'mtx', 'mtz', 'muah', 'muahahah', 'muahahaha', 'mubank', 'much', 'mucha', 'muchhhh', 'muchhhhhh', 'muchly', 'muchneeded', 'mucinex', 'mucus', 'mud', 'mudamudamudamudamudamudamudamudamuuuuuuuuuda', 'mudbricks', 'muddle', 'muddler', 'mudrer', 'mudslinging', 'mududu', 'mueller', 'muellerhearing', 'mufasa', 'mufc', 'muffin', 'muffle', 'mug', 'mugabe', 'muggle', 'mugshot', 'muh', 'muhajir', 'muhammed', 'muhfuckas', 'muir', 'mujahiddin', 'mujahideen', 'muk', 'mukasa', 'mukbangs', 'mukherjee', 'muki', 'mukou', 'mukuro', 'mule', 'mulgrew', 'mulholland', 'mulive', 'mullah', 'mullen', 'mullet', 'multibags', 'multicoloured', 'multiculturalism', 'multimillionaire', 'multiplayer', 'multiple', 'multiplication', 'multiply', 'multisac', 'multiship', 'multistage', 'multitracks', 'multitude', 'multiverse', 'mulvaney', 'mum', 'mumbai', 'mumble', 'mumbler', 'mumlife', 'mummy', 'mumu', 'mun', 'munch', 'munchies', 'munchkin', 'muncy', 'mundane', 'mundo', 'mune', 'muneeras', 'muni', 'munich', 'municipal', 'municipality', 'munii', 'munk', 'munny', 'munsimar', 'munsters', 'mup', 'mupfumira', 'muppet', 'muppets', 'mura', 'murah', 'murai', 'mural', 'muramasa', 'murda', 'murder', 'murderer', 'murderino', 'murderous', 'murdoc', 'murdoch', 'murdock', 'murk', 'murkin', 'murlegasta', 'murloc', 'murmur', 'murph', 'murphy', 'murray', 'murrill', 'murugan', 'musalla', 'muscle', 'muscular', 'muse', 'museu', 'museum', 'musgrove', 'mush', 'mushahid', 'musher', 'mushie', 'mushroom', 'mushu', 'music', 'musical', 'musician', 'musicislife', 'musing', 'musiq', 'musk', 'musketeer', 'musky', 'muslim', 'muslum', 'musou', 'mussolini', 'must', 'musta', 'mustache', 'mustachioed', 'mustafi', 'mustang', 'mustard', 'mustbe', 'muster', 'mustipher', 'musty', 'mustyness', 'mut', 'mutant', 'mutation', 'mute', 'muth', 'mutha', 'muthafucka', 'muthafuckin', 'muthafucking', 'muties', 'mutsuki', 'mutt', 'mutter', 'mutual', 'mutually', 'mutuals', 'muu', 'muyina', 'muzaffar', 'muzzle', 'muzzy', 'mv', 'mva', 'mvc', 'mvn', 'mvp', 'mw', 'mwd', 'mwilu', 'mwizi', 'mwlistens', 'mws', 'mx', 'mxl', 'mxm', 'mxtx', 'mya', 'myast', 'mybex', 'mybody', 'mycockiner', 'mycroft', 'mydayinyalirlcea', 'mydays', 'mydebtfreejourney', 'myers', 'myfitnesspal', 'mygenerationtoyoirs', 'mygm', 'myheroacedemia', 'myk', 'mykal', 'myke', 'myleague', 'myles', 'myonevice', 'myopic', 'mypark', 'mypillow', 'myplayer', 'mypost', 'myqb', 'myra', 'myrna', 'mysef', 'myselffff', 'myselftalk', 'mysidia', 'myspace', 'mysterihoe', 'mysterio', 'mysterious', 'mystery', 'mystic', 'mysticfennec', 'mysticism', 'mystify', 'mystique', 'myswlf', 'mysympathy', 'myszko', 'myth', 'mythical', 'mythybo', 'myuri', 'myweather', 'myyyyy', 'naa', 'naaa', 'naaaa', 'naaaaah', 'naaah', 'naaawoo', 'naah', 'naam', 'naani', 'nab', 'nabi', 'nabj', 'nabokov', 'naby', 'nacho', 'nacked', 'nadal', 'nade', 'nadeshot', 'nadi', 'nadia', 'nadie', 'nadine', 'nadir', 'nadler', 'nadricks', 'nadu', 'naeisha', 'naeto', 'nafta', 'nag', 'nagasaki', 'nagelsmann', 'nagger', 'nagkamali', 'nagpur', 'nahh', 'nahhh', 'nahhhh', 'nahsville', 'nahyuta', 'naiax', 'naija', 'naijahairwitch', 'nail', 'nailsbyseanpham', 'nailshop', 'nailtech', 'naina', 'naiquma', 'naira', 'nairn', 'nairobi', 'naismith', 'naito', 'naive', 'naiyakkkk', 'nak', 'nakamoto', 'nakamura', 'naked', 'nakhi', 'nakies', 'nakuru', 'nal', 'nala', 'naledi', 'nall', 'naluluha', 'naman', 'namaskar', 'namaste', 'nameless', 'namely', 'namesake', 'namesearching', 'namimiss', 'namis', 'namjin', 'namjoom', 'namjoon', 'namjoons', 'namkook', 'namoral', 'namrata', 'namtiddies', 'nan', 'nana', 'nanana', 'nanas', 'nancy', 'nandi', 'nani', 'nanjing', 'nanlsn', 'nanna', 'nanny', 'nano', 'nantucket', 'nao', 'naoki', 'naomi', 'naoroji', 'nap', 'napalm', 'nape', 'napier', 'napkin', 'napol', 'napoleon', 'nappy', 'naquin', 'nar', 'narcissism', 'narcissist', 'narcissistic', 'narcissisticabuse', 'narcissus', 'narcos', 'narcotic', 'nardi', 'nardwuar', 'narender', 'narendra', 'narices', 'narrate', 'narration', 'narrative', 'narrator', 'narrow', 'narthex', 'naruto', 'nasa', 'nasal', 'nascar', 'nasdaq', 'nash', 'nashville', 'naske', 'nasl', 'nassr', 'nastier', 'nastiness', 'nasty', 'nasuga', 'nat', 'natal', 'natalie', 'natasha', 'natch', 'natchitoches', 'nateyyyy', 'nathan', 'nathi', 'nation', 'national', 'nationaldaysingapore', 'nationalism', 'nationalist', 'nationality', 'nationwide', 'native', 'natively', 'nato', 'natra', 'nats', 'natsu', 'nattie', 'natty', 'natural', 'naturalize', 'naturally', 'naturday', 'nature', 'natured', 'naturedly', 'natureverse', 'naturopathy', 'natzi', 'natzis', 'nau', 'naughty', 'naughtylist', 'naughtyrachel', 'nauseate', 'nauseous', 'nauta', 'nav', 'naval', 'navarro', 'navdeep', 'navigate', 'navigator', 'navillera', 'navy', 'navypride', 'naw', 'nawa', 'nawaki', 'nawaz', 'nawt', 'nawtin', 'nawwwwwwwwwwwww', 'naxalite', 'nay', 'nayeon', 'naylor', 'nayoung', 'nazi', 'nb', 'nba', 'nbc', 'nbcsn', 'nbcsports', 'nbd', 'nbn', 'nbsfrontline', 'nbsupdates', 'nc', 'ncaa', 'ncat', 'nch', 'nct', 'nctzenselcaday', 'nd', 'nda', 'ndamendment', 'ndas', 'ndeah', 'nden', 'nder', 'nderappreciated', 'nderstand', 'ndes', 'ndi', 'ndim', 'ndirangu', 'ndithi', 'ndn', 'ndom', 'ndombele', 'ndp', 'ndsu', 'ndtv', 'ndy', 'neaely', 'neal', 'neanderthal', 'neapolitan', 'near', 'nearby', 'nearly', 'nearrrrr', 'neasden', 'neat', 'nebraska', 'neccesary', 'necessarily', 'necessary', 'necessity', 'neck', 'neckbeard', 'neckdeep', 'necklace', 'neckline', 'necktie', 'necromunda', 'necrosis', 'nectar', 'nectarine', 'nedbank', 'neds', 'nee', 'need', 'needa', 'needful', 'needham', 'needin', 'needle', 'needlessly', 'needtogotobed', 'needy', 'neeed', 'neeeddddd', 'neeeed', 'neeeeed', 'neek', 'neeko', 'neeky', 'neel', 'nefarious', 'negate', 'negates', 'negative', 'negativity', 'negguus', 'neglect', 'nego', 'negotiate', 'negotiation', 'negovanlis', 'negro', 'neh', 'nehmind', 'nehru', 'neice', 'neighbor', 'neighborhood', 'neighbour', 'neighbourhood', 'neil', 'neither', 'neji', 'nejm', 'nela', 'nellie', 'nelly', 'nelson', 'nelward', 'nemesis', 'nendo', 'nendoroids', 'neny', 'neo', 'neoliberal', 'neoliberalism', 'neolithic', 'neon', 'neopets', 'neoprene', 'neow', 'neowww', 'nep', 'nepal', 'nephew', 'nepotism', 'neptune', 'nerd', 'nerdy', 'nerf', 'nerfed', 'nerfing', 'nerkondapaarvai', 'nerkondapaarvaiblockbuster', 'nerkondapaarvaiday', 'nerkondaparvai', 'nero', 'nerofest', 'nerve', 'nervewrecking', 'nervous', 'nervously', 'nervousness', 'nervy', 'nesha', 'nesquik', 'ness', 'nest', 'nesta', 'nestel', 'nestl', 'nestle', 'nestlethoughts', 'net', 'netcode', 'netflix', 'netflixing', 'nether', 'netherlands', 'netizen', 'nett', 'network', 'networking', 'neumann', 'neuro', 'neurodiverse', 'neurology', 'neuron', 'neurosurgery', 'neurotic', 'neuter', 'neutral', 'neutron', 'nev', 'neva', 'nevada', 'never', 'neveragain', 'neverfold', 'nevergiveup', 'neverletanyonedullyoursparkle', 'nevermind', 'neverreallyover', 'neverrr', 'neversettle', 'nevertheless', 'neverwhere', 'neville', 'nevsdet', 'nevv', 'new', 'newark', 'newbie', 'newborn', 'newbridge', 'newbs', 'newburyport', 'newcasle', 'newcastle', 'newcomb', 'newcomer', 'newday', 'newdivide', 'newer', 'newfan', 'newfound', 'newfoundland', 'newfriends', 'newgenerationproblems', 'newgrounds', 'newjersey', 'newlywed', 'newman', 'newmar', 'newmayorsameshit', 'newnham', 'newport', 'newprofilepic', 'newrd', 'newrelease', 'news', 'newsagent', 'newscast', 'newsflash', 'newsgang', 'newsgh', 'newsies', 'newsletter', 'newsnight', 'newsom', 'newsome', 'newspaper', 'newspeak', 'newsprint', 'newsworthy', 'newsyoucanuse', 'newt', 'newton', 'newtown', 'newwiee', 'newyork', 'nex', 'nexon', 'next', 'nextdoor', 'nextflix', 'nextlevel', 'nextup', 'nexus', 'ney', 'neymar', 'nez', 'nezha', 'nezu', 'nf', 'nfccg', 'nffc', 'nfl', 'nflpreseason', 'nflstreams', 'nflu', 'nflx', 'nfn', 'nfndjdkd', 'nfr', 'nfs', 'nft', 'nfw', 'ng', 'nga', 'ngaire', 'ngamazinyo', 'ngannou', 'ngarian', 'ngathi', 'ngaun', 'ngayon', 'ngeke', 'ngi', 'ngibusy', 'ngimkhone', 'nginx', 'ngisho', 'ngl', 'nglllll', 'ngo', 'nguvu', 'nh', 'nhi', 'nhibill', 'nhk', 'nhote', 'nia', 'niagara', 'niall', 'niallofficial', 'nibbas', 'nibble', 'nic', 'nicaragua', 'niccas', 'nicclaus', 'niccolo', 'nice', 'niceeee', 'nicely', 'niceness', 'nicer', 'niche', 'nicho', 'nicholas', 'nichols', 'nick', 'nicked', 'nickel', 'nickelback', 'nickelodeon', 'nicker', 'nicki', 'nickixmeg', 'nickixmegan', 'nickname', 'nicky', 'nico', 'nicola', 'nicolas', 'nicole', 'nicolle', 'nicotine', 'nicu', 'nicve', 'nidalee', 'niece', 'niellie', 'nier', 'nieto', 'niffty', 'nifty', 'nigel', 'nigeria', 'nigeriaissick', 'nigerian', 'nigga', 'niggah', 'nigganova', 'niggaz', 'nigger', 'niggerdom', 'nigggaaaaa', 'nigha', 'night', 'nightclub', 'nighter', 'nighters', 'nightfall', 'nightlife', 'nightly', 'nightmare', 'nightmarish', 'nightshade', 'nightshift', 'nightskinguy', 'nightswithzweli', 'nightttt', 'nigo', 'nigs', 'nihilist', 'niiiiice', 'niiiiiight', 'nijman', 'nik', 'nikado', 'nikah', 'nike', 'nikeverse', 'nikevvaru', 'nikita', 'nikkas', 'nikki', 'nikla', 'nikola', 'nila', 'nile', 'nim', 'nimble', 'nimblequotes', 'nimby', 'nimmo', 'nimo', 'nin', 'nina', 'nincompoop', 'nine', 'ninety', 'ninian', 'ninja', 'ninny', 'nino', 'nintendo', 'nintendoland', 'nintendoswitch', 'ninth', 'nip', 'nipclub', 'nipped', 'nipper', 'nipple', 'nippy', 'nipsey', 'niqqa', 'niqqas', 'nir', 'niro', 'nirvana', 'nishanth', 'nishiki', 'nissan', 'nit', 'nite', 'nitrado', 'nitrile', 'nitro', 'nitrogen', 'nitty', 'nitwit', 'nix', 'nixon', 'niyo', 'nj', 'njgga', 'njpw', 'nk', 'nka', 'nkelebek', 'nkemdiche', 'nketamine', 'nketiah', 'nko', 'nkp', 'nkpearthshatteringresponse', 'nkrumah', 'nkunzi', 'nl', 'nm', 'nmn', 'nmsmskksksk', 'nna', 'nnc', 'nneka', 'nnk', 'nnl', 'nnnn', 'nnogga', 'nnw', 'noah', 'nobama', 'nobel', 'nobernie', 'nobhead', 'noble', 'noboday', 'nobody', 'nobodyyy', 'nobodyyyy', 'noc', 'nochanceofwinning', 'nock', 'noct', 'noctis', 'nocturnal', 'nod', 'nodal', 'node', 'noel', 'nofilter', 'nofoghorn', 'nogizaka', 'noh', 'nohr', 'noire', 'noise', 'noisy', 'nojumper', 'nojusticeforkids', 'nokia', 'nokxl', 'nola', 'nolan', 'nolife', 'nom', 'nomad', 'nomeansno', 'nomedia', 'nomercynopepper', 'nomin', 'nominal', 'nominate', 'nomination', 'nominee', 'nomo', 'nomore', 'noms', 'nona', 'nonalcoholic', 'noname', 'nonamers', 'nonary', 'nonblack', 'nonce', 'nonchalance', 'nonchalant', 'noncolor', 'noncreature', 'nondescript', 'none', 'noneanddone', 'nonesense', 'nonetheless', 'nonexistent', 'nono', 'nonono', 'nonononon', 'nononononoooooo', 'nonprofit', 'nonsense', 'nonsensical', 'nonstop', 'nonylbicyclo', 'noo', 'noobs', 'noodies', 'noodle', 'noodly', 'noon', 'noona', 'noone', 'nooo', 'noooo', 'nooooo', 'nooooonsssknssnsfb', 'noooooo', 'nooooooo', 'nooooooooo', 'nooooooooooo', 'noooooooooooo', 'noooot', 'noooow', 'nooor', 'noora', 'noose', 'nooz', 'nop', 'nopardon', 'nope', 'nopee', 'nora', 'norcal', 'nore', 'norfolk', 'nori', 'norie', 'noriko', 'norm', 'norma', 'normal', 'normality', 'normalization', 'normalize', 'normally', 'norman', 'normani', 'norology', 'noronha', 'norris', 'norse', 'norsenation', 'norseup', 'north', 'northampton', 'northantshour', 'northbound', 'northcutt', 'northeast', 'northeaster', 'northeastern', 'norther', 'northern', 'northerner', 'northhxij', 'northlane', 'northrc', 'northridge', 'northside', 'northstar', 'northwestern', 'norton', 'norvina', 'norway', 'norwegian', 'norwich', 'nose', 'nosebleed', 'nosey', 'nosh', 'nosorrow', 'nostalgia', 'nostalgic', 'nosy', 'notaro', 'notation', 'notch', 'notcrying', 'note', 'notebook', 'notepad', 'notfitforoffice', 'notguilty', 'nother', 'nothin', 'nothing', 'nothingbetter', 'nothingisgonnahappen', 'nothingness', 'nothyperbole', 'notice', 'noticeable', 'noticeably', 'notif', 'notification', 'notifs', 'notify', 'notigang', 'notinmyname', 'notion', 'notjustpsychicontv', 'notme', 'notmyconvener', 'notmypresident', 'notoriety', 'notorious', 'notourdestiny', 'nott', 'notthesameoldbrowns', 'nottimberwolf', 'nottinghillcarnival', 'nottotinos', 'notts', 'notttt', 'nottttt', 'notvon', 'nought', 'nouha', 'noun', 'nov', 'nova', 'novacane', 'novak', 'novel', 'novelist', 'novelty', 'november', 'novena', 'novice', 'novio', 'nowadays', 'nowaynowaynowaynoway', 'nowdays', 'nowhere', 'nownot', 'nowplaying', 'nowplayingongnsg', 'nowt', 'nowunited', 'noww', 'nowww', 'nowwww', 'nowwwww', 'nozomi', 'np', 'npc', 'npd', 'npf', 'npl', 'npr', 'nq', 'nra', 'nrabloodmoney', 'nrabloodmoneykills', 'nraisaterroristorganization', 'nramitch', 'nraownstrump', 'nrasbitch', 'nrcc', 'nris', 'nrl', 'nrlpantherssharks', 'nsa', 'nsaid', 'nsbc', 'nsfw', 'nshkhe', 'nsng', 'nso', 'nsp', 'nstachat', 'nster', 'nsu', 'nsula', 'nsw', 'nsync', 'nt', 'ntana', 'ntdebate', 'ntes', 'ntf', 'nth', 'ntn', 'ntrance', 'nty', 'nuance', 'nub', 'nuclear', 'nude', 'nudity', 'nufc', 'nuff', 'nuffin', 'nuge', 'nugget', 'nuggs', 'nugs', 'nugus', 'nuh', 'nuhhh', 'nuisance', 'nuke', 'null', 'nullification', 'numb', 'number', 'numbered', 'numberphile', 'numbr', 'numeral', 'numericals', 'numero', 'numerous', 'numpty', 'nunca', 'nunes', 'nung', 'nunya', 'nuremberg', 'nurk', 'nurse', 'nursery', 'nursing', 'nurture', 'nusra', 'nut', 'nutcase', 'nutcracker', 'nutella', 'nuthin', 'nuthouse', 'nutjobs', 'nutmeg', 'nutrient', 'nutrition', 'nutritionals', 'nutritious', 'nutshack', 'nutshell', 'nutter', 'nutty', 'nuvey', 'nuzlocke', 'nuzzle', 'nuzzles', 'nv', 'nvm', 'nvr', 'nvt', 'nw', 'nwa', 'nwora', 'nwosu', 'nwts', 'nxggas', 'nxjzjd', 'nxt', 'nxttakeover', 'nxtuk', 'ny', 'nya', 'nyaaa', 'nyambe', 'nyame', 'nyc', 'nycf', 'nycfc', 'nycs', 'nycvhou', 'nye', 'nyeahhh', 'nyet', 'nyg', 'nygiants', 'nyj', 'nyjets', 'nyjvsnyg', 'nyke', 'nyle', 'nylon', 'nym', 'nyo', 'nyquil', 'nyra', 'nysc', 'nytimes', 'nyx', 'nyyvstor', 'nz', 'oa', 'oadf', 'oae', 'oahu', 'oak', 'oakland', 'oakley', 'oan', 'oann', 'oasis', 'oasisnet', 'oath', 'oatmeal', 'obama', 'obamacare', 'obamas', 'obamaville', 'obedience', 'obedient', 'obelisk', 'obey', 'obeyed', 'obeys', 'obi', 'obie', 'obili', 'obito', 'obituary', 'obj', 'object', 'objective', 'objectively', 'objectivity', 'objs', 'oblate', 'obligate', 'obligation', 'oblige', 'oblique', 'obliterate', 'oblivion', 'oblivious', 'obnoxious', 'oboro', 'obp', 'obscure', 'obscures', 'obscurity', 'observant', 'observation', 'observational', 'observe', 'observer', 'obsess', 'obsession', 'obsessive', 'obsessively', 'obsolescence', 'obsolete', 'obspmammamia', 'obssesion', 'obstacle', 'obstagoon', 'obstruct', 'obstruction', 'obstructionist', 'obtain', 'obtuse', 'obv', 'obvious', 'obviously', 'obvs', 'oc', 'ocarina', 'ocassionally', 'occasion', 'occasional', 'occasionally', 'occult', 'occultist', 'occupancy', 'occupant', 'occupation', 'occupy', 'occur', 'occurrence', 'oce', 'ocean', 'oceanfront', 'oceanography', 'ocho', 'ochosk', 'ochre', 'ocht', 'oconee', 'ocracoke', 'ocs', 'oct', 'octagoncollab', 'octavia', 'octo', 'october', 'octogon', 'octopath', 'octopus', 'octopussies', 'oculolinctus', 'odb', 'odblwhxksnx', 'odd', 'oddly', 'oddness', 'oddparents', 'odds', 'ode', 'odell', 'odessa', 'odhran', 'odi', 'odinga', 'odisha', 'odni', 'odom', 'odoo', 'odourless', 'oduduwa', 'odunsi', 'odyssey', 'oecd', 'oem', 'ofc', 'ofcourse', 'ofe', 'offbeat', 'offence', 'offend', 'offender', 'offends', 'offense', 'offensive', 'offer', 'offering', 'offert', 'offfff', 'offffff', 'offfffff', 'offhandedly', 'office', 'officeetiquettefordummies', 'officer', 'official', 'officially', 'officiate', 'offline', 'offload', 'offs', 'offseason', 'offset', 'offshore', 'offside', 'offspring', 'ofmm', 'ofnamor', 'often', 'ofwono', 'og', 'oga', 'ogata', 'ogbeni', 'ogdenville', 'ogno', 'ogs', 'ogwal', 'ogwumike', 'ogzpine', 'oh', 'ohanian', 'ohh', 'ohhh', 'ohhhh', 'ohhhhh', 'ohhhhhhh', 'ohio', 'ohm', 'ohmygod', 'ohmygosh', 'ohmyhod', 'ohmymgjx', 'oho', 'ohoh', 'ohp', 'ohr', 'ohrhejhrjdhf', 'ohrs', 'ohshit', 'ohuru', 'ohwx', 'oi', 'oic', 'oil', 'oiler', 'oily', 'oingo', 'oink', 'ointment', 'oitnb', 'oitnbseason', 'oj', 'ojiro', 'ojo', 'ojoro', 'oju', 'ok', 'oka', 'okaayyy', 'okaayyyyyy', 'okaga', 'okanye', 'okay', 'okaydjsudj', 'okayy', 'okayyy', 'okayyyy', 'okayyyyyyy', 'okc', 'okd', 'okder', 'okeh', 'okem', 'okie', 'okirika', 'okk', 'okkaayyy', 'okkay', 'okkk', 'okkkk', 'okla', 'oklahoma', 'okocha', 'okon', 'okpa', 'okus', 'ol', 'ola', 'olaba', 'olaf', 'olamide', 'old', 'olde', 'oldham', 'oldie', 'oldman', 'oldtimer', 'oled', 'olfactory', 'olha', 'olicity', 'oligarch', 'oligarchy', 'oligopoly', 'olimar', 'oline', 'olive', 'oliver', 'olivia', 'olivias', 'ollie', 'ollison', 'olmen', 'olmos', 'olone', 'ols', 'olsson', 'olympic', 'olympics', 'olympus', 'oma', 'omaha', 'omake', 'oman', 'omar', 'omarosa', 'omashola', 'omazing', 'ombr', 'ombre', 'omd', 'omds', 'ome', 'omega', 'omegle', 'omelette', 'omen', 'omf', 'omfg', 'omfgggg', 'omg', 'omgg', 'omggg', 'omgggfdf', 'omgggg', 'omgggggg', 'omgomg', 'omi', 'ominous', 'omit', 'omllll', 'omm', 'omniscient', 'omnisphere', 'omo', 'omoshola', 'omosholas', 'omr', 'omurice', 'omw', 'onahole', 'onboard', 'onceagooner', 'onceuponatimeinhollywood', 'oncoming', 'ondre', 'onec', 'onehdheju', 'onemetacom', 'onenote', 'onepride', 'oneself', 'onesie', 'onetermthom', 'onewomanmanyguitars', 'onf', 'onfur', 'ong', 'ongodnem', 'ongoing', 'onhwys', 'onika', 'onion', 'onionrings', 'onision', 'onitsha', 'online', 'onlined', 'onlyfan', 'onlyfans', 'onlyinnewengland', 'onlyknownforbeinggay', 'onlyslightlyexaggerating', 'onmagandangbuhay', 'onmb', 'onna', 'onnn', 'onnnn', 'onnnnn', 'onnnnnn', 'onomatopoeia', 'onpoli', 'onscreen', 'onset', 'onslaught', 'onstage', 'ontapsea', 'ontario', 'ontheair', 'onthisday', 'onto', 'ontologically', 'onuanews', 'onus', 'onward', 'onwards', 'onwidhwd', 'onws', 'onye', 'onyenekwu', 'oo', 'ooc', 'ood', 'oodles', 'oof', 'oogie', 'ooh', 'oohhhh', 'oohhhhh', 'ooioo', 'ooker', 'oomf', 'oomfies', 'oomfs', 'ooo', 'ooof', 'ooofffff', 'ooofta', 'oooh', 'ooohhh', 'oookay', 'oooo', 'oooof', 'ooooh', 'oooohhh', 'ooookay', 'ooooo', 'oooooh', 'ooooooh', 'ooooook', 'ooooooo', 'oooooooo', 'oooooooooooohhh', 'oooooouuuuu', 'ooooops', 'ooops', 'ooot', 'ooouu', 'ooozing', 'oop', 'ooph', 'oops', 'oopsies', 'oor', 'oot', 'ooyodo', 'ooze', 'opal', 'ope', 'open', 'opencarry', 'opener', 'openheim', 'opening', 'openion', 'openly', 'openness', 'opera', 'operate', 'operates', 'operating', 'operation', 'operational', 'operative', 'ophelia', 'opiate', 'opine', 'opinion', 'opinionated', 'opinon', 'opinyon', 'opiods', 'opioid', 'opioidcrisis', 'opium', 'opm', 'opondo', 'oppa', 'oppo', 'opponent', 'opponets', 'opportunism', 'opportunist', 'opportunity', 'oppose', 'opposite', 'opposition', 'oppoxbbn', 'oppress', 'oppression', 'oppressive', 'oppressor', 'opps', 'oppurtunity', 'oprah', 'ops', 'opt', 'optic', 'optimal', 'optimise', 'optimism', 'optimist', 'optimistic', 'optimizes', 'optimum', 'option', 'optional', 'optioned', 'opty', 'opus', 'oracle', 'oraclec', 'oral', 'orange', 'oranged', 'orangeisthenewequinox', 'orangered', 'orangeville', 'oras', 'orb', 'orbit', 'orc', 'orchard', 'orchestra', 'orchestrate', 'orchestrates', 'orchid', 'ordeal', 'order', 'orderly', 'ordinary', 'ore', 'oregon', 'oren', 'oreo', 'oresident', 'orf', 'org', 'orgam', 'organ', 'organge', 'organic', 'organically', 'organisation', 'organise', 'organiser', 'organism', 'organization', 'organizational', 'organize', 'organizer', 'orgasm', 'orgasmic', 'orgeron', 'orgs', 'orgy', 'orher', 'oriano', 'oriely', 'orientate', 'orientation', 'origami', 'origi', 'origin', 'original', 'originally', 'originate', 'originator', 'orignal', 'orileys', 'oriole', 'orita', 'ork', 'orkin', 'orl', 'orlando', 'orleans', 'orn', 'ornstein', 'oroblem', 'orochimaru', 'orochimarus', 'ororo', 'orotitec', 'orourke', 'oroville', 'orphan', 'orrh', 'orrrrrr', 'ort', 'ortho', 'orthodox', 'orthodoxy', 'orthognathic', 'ortiz', 'orubebe', 'orwell', 'oryx', 'orz', 'osaka', 'osama', 'osboombox', 'oscar', 'osdok', 'ose', 'oshsi', 'oslo', 'osman', 'osmani', 'osment', 'osomatsu', 'ost', 'ostapenko', 'osteen', 'ostensibly', 'ostracise', 'ostracize', 'ostrich', 'osu', 'osx', 'ot', 'otae', 'otaku', 'otakurei', 'otakuthon', 'otb', 'otc', 'otedola', 'otfa', 'otgw', 'othatsgood', 'othe', 'othello', 'otherhood', 'otherr', 'others', 'otherwise', 'otherwood', 'otherworld', 'otherworldy', 'otis', 'otome', 'otp', 'otrb', 'otsego', 'ottavino', 'ottawa', 'otteamwa', 'otter', 'ottolino', 'otw', 'ouatih', 'ouch', 'oud', 'ough', 'ought', 'oughta', 'oui', 'ounce', 'ourgovermentwasbehindsept', 'ourhighlinestory', 'ourself', 'oursummer', 'ous', 'oust', 'outa', 'outage', 'outbound', 'outbreak', 'outburst', 'outcast', 'outcha', 'outcome', 'outdated', 'outdaughtered', 'outdid', 'outdo', 'outdone', 'outdoor', 'outer', 'outfield', 'outfielder', 'outfit', 'outfoxed', 'outgo', 'outgrew', 'outhere', 'outhouse', 'outing', 'outkast', 'outlander', 'outlast', 'outlaw', 'outlet', 'outlier', 'outline', 'outlive', 'outlook', 'outloud', 'outnumber', 'outperforms', 'outplay', 'output', 'outrage', 'outrageous', 'outrank', 'outreach', 'outright', 'outro', 'outros', 'outrun', 'outscore', 'outscores', 'outshine', 'outside', 'outsider', 'outsmart', 'outsource', 'outspoken', 'outstanding', 'outta', 'outtake', 'outted', 'outttta', 'outttttt', 'outttttttt', 'outweigh', 'outweighs', 'outwork', 'outyobody', 'ouuttjzshsdjkfh', 'ouuu', 'ouuuuut', 'ov', 'oval', 'ovariancancer', 'ovary', 'ovation', 'ovee', 'oven', 'overachievement', 'overachiever', 'overact', 'overall', 'overbear', 'overboard', 'overburden', 'overcame', 'overcare', 'overcast', 'overcharge', 'overclock', 'overcome', 'overcook', 'overdid', 'overdose', 'overdrafted', 'overdrawn', 'overdrive', 'overdue', 'overeaten', 'overestimation', 'overfeed', 'overflow', 'overfly', 'overhead', 'overhear', 'overheard', 'overheat', 'overkill', 'overlap', 'overlay', 'overload', 'overlook', 'overlord', 'overlove', 'overly', 'overmeld', 'overnight', 'overpaid', 'overpass', 'overpay', 'overpopulation', 'overpower', 'overprice', 'overqualified', 'overrate', 'overreach', 'overreact', 'overreaction', 'override', 'overrule', 'overrun', 'overseas', 'oversee', 'overseer', 'oversees', 'oversensitive', 'overshadow', 'oversharing', 'oversight', 'oversize', 'oversized', 'oversleep', 'overstayed', 'overstays', 'overstreet', 'overt', 'overtake', 'overthink', 'overthinking', 'overthrew', 'overthrow', 'overthrown', 'overtime', 'overtire', 'overtly', 'overtrust', 'overturn', 'overuse', 'overview', 'overwatch', 'overwatchleague', 'overweight', 'overwhelm', 'overwhelmed', 'overwhelms', 'overwork', 'overworld', 'overzealous', 'ovi', 'ovo', 'ovum', 'ovviamente', 'ow', 'owain', 'owambe', 'owari', 'owe', 'owen', 'owes', 'owl', 'owly', 'owner', 'ownership', 'owngoal', 'ownself', 'ownyouro', 'owo', 'owt', 'ox', 'oxenfree', 'oxford', 'oxi', 'oxtail', 'oxygen', 'oxymoron', 'oy', 'oyebandhu', 'oyr', 'oyster', 'oz', 'ozarksfirst', 'ozcas', 'ozil', 'ozk', 'ozuna', 'ozzie', 'ozzy', 'paa', 'paas', 'pablo', 'pac', 'pacc', 'pace', 'pacemaker', 'pacer', 'pachighway', 'pacific', 'pacifist', 'pacino', 'pack', 'package', 'packaging', 'packed', 'packer', 'packet', 'packisback', 'packski', 'pact', 'pad', 'padam', 'paddle', 'paddleboard', 'paddlefish', 'paddlesurfing', 'paddy', 'padm', 'padmasana', 'padr', 'padre', 'padresing', 'padresrulefollowertwitter', 'paedophile', 'paella', 'pagan', 'page', 'pageant', 'pager', 'pagherete', 'paglipoali', 'paid', 'paige', 'pain', 'painful', 'painfully', 'painkiller', 'painless', 'paint', 'painter', 'painting', 'pair', 'pairing', 'paisa', 'paislee', 'paisley', 'pajama', 'paki', 'pakistan', 'pakistani', 'pakistanstandswithmaryam', 'pakr', 'pakra', 'pal', 'palabras', 'palace', 'paladin', 'palatable', 'palate', 'palavras', 'pale', 'paleontology', 'palestine', 'palestinian', 'palestinianstate', 'palette', 'palillo', 'palin', 'palindromic', 'palladium', 'palm', 'palma', 'palmer', 'palmyra', 'palmyradelran', 'palmyrenes', 'palomitas', 'palpable', 'palpitation', 'palz', 'pam', 'pamela', 'pamelamiser', 'pammy', 'pampanga', 'pamper', 'pan', 'panache', 'panado', 'panaginip', 'panama', 'panamgames', 'panas', 'panatag', 'pancake', 'pancho', 'panda', 'pandafandom', 'pandanda', 'pandaren', 'pandemic', 'pander', 'panderer', 'pandita', 'pandits', 'pandora', 'pandoraandtheflyingdutchman', 'paneer', 'panel', 'panera', 'pang', 'panganay', 'pangea', 'panhandle', 'panic', 'panicked', 'panicky', 'panik', 'panini', 'pannetone', 'pano', 'pansexual', 'pansy', 'pant', 'pantenealt', 'panther', 'panthic', 'pantie', 'pantry', 'pantshitting', 'panty', 'pantyhose', 'panza', 'pao', 'paolini', 'paolo', 'pap', 'papa', 'papacy', 'papadisthekey', 'papakenway', 'papal', 'paparazzo', 'papasito', 'papatalo', 'paper', 'paperback', 'paperboy', 'paperclip', 'papercut', 'papertiger', 'paperwork', 'papi', 'papo', 'papoose', 'paprika', 'papua', 'papuntang', 'paq', 'parable', 'parabola', 'paracetamol', 'parachute', 'paracord', 'parade', 'paradigm', 'paradise', 'paradolia', 'paradox', 'paradoxically', 'paragon', 'paragraph', 'paraguay', 'paralegal', 'parallel', 'paralysis', 'paralyze', 'paralyzes', 'parameter', 'paramount', 'paranoia', 'paranoid', 'paranthropus', 'paraphernalia', 'paraphrase', 'parasaran', 'parasite', 'parce', 'parcel', 'parch', 'pardon', 'parens', 'parent', 'parental', 'parentals', 'parenthesis', 'parenthood', 'parentscakes', 'parianas', 'paris', 'parish', 'park', 'parker', 'parkey', 'parkeys', 'parking', 'parkland', 'parkour', 'parkoured', 'parler', 'parliament', 'parliamentry', 'parlor', 'parm', 'parmesan', 'parnell', 'parody', 'parole', 'parow', 'parrot', 'parrothead', 'parsee', 'parsley', 'parsnip', 'part', 'partay', 'partial', 'partially', 'participant', 'participate', 'participation', 'participle', 'particle', 'particular', 'particularly', 'partier', 'partigiani', 'partisan', 'partly', 'partments', 'partner', 'partnership', 'parton', 'partridge', 'party', 'partyin', 'partynextdoor', 'partyyyyy', 'parx', 'pasadena', 'pasay', 'pascal', 'pasco', 'pasd', 'pashteen', 'pashtonistan', 'paso', 'pass', 'passable', 'passage', 'passando', 'passcode', 'passenger', 'passer', 'passing', 'passion', 'passionate', 'passionately', 'passiton', 'passive', 'passivity', 'passport', 'password', 'past', 'pasta', 'paste', 'pastel', 'pastelitos', 'paster', 'pastime', 'pastlives', 'pastlivestherapy', 'pastor', 'pastoral', 'pastry', 'pasture', 'pasty', 'pat', 'patch', 'patd', 'pate', 'patent', 'paterson', 'path', 'pathetic', 'pathetically', 'pathfinder', 'pathologist', 'pathology', 'pathway', 'patience', 'patient', 'patiently', 'patio', 'patna', 'pato', 'patootie', 'patram', 'patreon', 'patriarchal', 'patriarchy', 'patrice', 'patricia', 'patrician', 'patrick', 'patriot', 'patriotic', 'patriotism', 'patriotsawakened', 'patriotsnation', 'patristics', 'patrizia', 'patroclus', 'patrol', 'patron', 'patronage', 'patronize', 'pattambi', 'patter', 'pattern', 'patti', 'pattinson', 'patton', 'pattonville', 'patty', 'paul', 'paula', 'paulding', 'pauley', 'paulie', 'pauline', 'paulister', 'paulo', 'pauly', 'pause', 'pav', 'pave', 'pavement', 'pavlich', 'pavlovian', 'pavon', 'pavros', 'pavus', 'paw', 'pawan', 'pawfficer', 'pawhuska', 'pawn', 'pax', 'paxman', 'paxton', 'paxwest', 'pay', 'payback', 'paycheck', 'payday', 'payed', 'payee', 'payer', 'payinequity', 'payitforward', 'payload', 'payment', 'payne', 'paynews', 'payoff', 'payout', 'paypal', 'paypig', 'paypigslave', 'payrise', 'payroll', 'paytas', 'payton', 'paytoplay', 'paywall', 'pb', 'pba', 'pbb', 'pbj', 'pblchat', 'pbnfastest', 'pbr', 'pbt', 'pbu', 'pc', 'pch', 'pco', 'pcos', 'pcp', 'pcrpftata', 'pct', 'pcvb', 'pd', 'pdc', 'pdp', 'pdt', 'pdufa', 'pduts', 'pdx', 'pea', 'peace', 'peacearch', 'peacefmoline', 'peaceful', 'peacefullness', 'peacefully', 'peacekeeper', 'peacemaker', 'peaceworks', 'peach', 'peachy', 'peacock', 'peak', 'peaked', 'peaky', 'peale', 'peanut', 'peanutbutter', 'peanutbutterandjelly', 'pear', 'pearl', 'pearly', 'pearson', 'peasant', 'peasantry', 'peaterson', 'pebble', 'pec', 'pecial', 'pecifically', 'peck', 'peckpalitchoke', 'ped', 'pedal', 'pedantic', 'peddle', 'peddles', 'pederson', 'pedestrian', 'pedi', 'pediatric', 'pedicure', 'pedifiles', 'pedo', 'pedophile', 'pedophilia', 'pedos', 'pedowood', 'pedro', 'peds', 'pee', 'peed', 'peegue', 'peek', 'peel', 'peele', 'peeling', 'peep', 'peeped', 'peepee', 'peepin', 'peer', 'peerie', 'peeve', 'peewee', 'peg', 'pegasus', 'pegboard', 'pegged', 'peggy', 'peggymcccoll', 'pegi', 'pegis', 'pehaps', 'pehle', 'peice', 'pekinexpress', 'pele', 'pelican', 'peligrosa', 'pellegrino', 'pellet', 'pelne', 'pelosi', 'peluche', 'pema', 'pemdas', 'pen', 'penaldo', 'penalty', 'penatly', 'pencil', 'pendant', 'pendegrass', 'pendeja', 'pendejaas', 'pending', 'pendragon', 'penetrate', 'penetrates', 'peng', 'pengest', 'penguin', 'penile', 'penis', 'penito', 'penn', 'pennant', 'penney', 'pennie', 'pennsylvania', 'pennsylvanian', 'penny', 'pennywise', 'pense', 'pension', 'pensive', 'penta', 'pentagon', 'pentalty', 'pentatonix', 'pentecostal', 'pentultimate', 'penultimate', 'peole', 'peon', 'peony', 'people', 'peoplecry', 'peopleeeeeeee', 'peoplelisten', 'peoplesrepresentative', 'peoplest', 'peoplewithdisabilities', 'pep', 'pepe', 'pepole', 'peppa', 'pepper', 'pepperdine', 'pepperidge', 'peppermint', 'pepperoni', 'pepperty', 'peppy', 'pepsi', 'pequenas', 'peralta', 'peraltiago', 'peraza', 'perc', 'percent', 'percentage', 'perception', 'perceptive', 'perch', 'percocet', 'percolator', 'percs', 'percussion', 'percy', 'perdition', 'perdue', 'pereira', 'perez', 'perfect', 'perfectharmony', 'perfection', 'perfectionist', 'perfectly', 'perfecttt', 'perfert', 'perfidy', 'perform', 'performance', 'performative', 'performer', 'performs', 'perfume', 'perhaps', 'perhapsnresidents', 'perhimpunan', 'peril', 'perimeter', 'perine', 'period', 'periodically', 'periodt', 'periodtttt', 'periscope', 'periscoping', 'perish', 'perk', 'perkins', 'perkovich', 'perky', 'perm', 'perma', 'permanence', 'permanent', 'permanently', 'permeate', 'permissible', 'permission', 'permit', 'perogies', 'peroni', 'peroxide', 'perp', 'perpendicular', 'perpetrate', 'perpetrator', 'perpetually', 'perpetuate', 'perpetuates', 'perplexed', 'perps', 'perra', 'perrie', 'perriod', 'perry', 'persecution', 'perseverance', 'persevere', 'persia', 'persimmon', 'persion', 'persist', 'persistence', 'persistent', 'persists', 'persnal', 'person', 'persona', 'personal', 'personalise', 'personality', 'personalize', 'personally', 'personification', 'personify', 'personnel', 'perspective', 'persuade', 'persuing', 'pertain', 'perth', 'pertinent', 'perturbed', 'peru', 'peruse', 'peruzzi', 'perv', 'pervades', 'perverse', 'pervert', 'pervs', 'pervy', 'pesaleli', 'pesci', 'pesky', 'pessimism', 'pessimistic', 'pessoa', 'pestle', 'pesto', 'petal', 'petaluma', 'petco', 'peteforamerica', 'peterlilley', 'peterman', 'petersburg', 'peterson', 'peterstrzok', 'petey', 'petite', 'petition', 'petra', 'petri', 'petrichor', 'petrie', 'petrify', 'petro', 'petrol', 'petsitter', 'petsmart', 'pettersson', 'pettiness', 'pettis', 'petty', 'pettyg', 'petulant', 'peu', 'pew', 'pewdiepie', 'pewds', 'peyton', 'pf', 'pfa', 'pff', 'pffffft', 'pfffft', 'pfffttt', 'pffptpf', 'pfft', 'pfl', 'pfm', 'pfp', 'pg', 'pga', 'pgh', 'ph', 'phailure', 'phair', 'phakthoonistan', 'phallocentric', 'phan', 'phannies', 'phantom', 'phantomhive', 'pharaoh', 'pharisee', 'pharma', 'pharmaceutical', 'pharmacist', 'phase', 'phasechanges', 'phat', 'phbtpt', 'phd', 'pheebs', 'phelps', 'phenomal', 'phenomenal', 'phenomenon', 'pheobe', 'phew', 'phewomanal', 'pheww', 'phewwwwwww', 'phi', 'phil', 'philadelphia', 'philanthropic', 'philcomebackplease', 'philharmagic', 'philharmonic', 'philip', 'philippe', 'philippian', 'philippine', 'phillies', 'phillip', 'phillipe', 'phillips', 'phillpotts', 'philly', 'phillyproud', 'philosopher', 'philosophy', 'philosophying', 'phils', 'phins', 'phinsup', 'phishing', 'phixos', 'phlegm', 'pho', 'phoebe', 'phoenix', 'phone', 'phonecall', 'phoneless', 'phonetics', 'phonics', 'phony', 'phooey', 'photo', 'photobomb', 'photobook', 'photobooks', 'photobooth', 'photobucket', 'photocard', 'photocards', 'photocopy', 'photog', 'photogenic', 'photograph', 'photographer', 'photographic', 'photography', 'photoop', 'photoshoot', 'photoshop', 'photoshopped', 'photoshopping', 'photosynthesis', 'php', 'phrase', 'phrasel', 'phrenology', 'phuck', 'phv', 'phwx', 'phx', 'phylactery', 'phyllis', 'phylogenetic', 'physic', 'physical', 'physically', 'physicals', 'physician', 'physicist', 'physiotherapy', 'physiotherapycouncil', 'physique', 'pi', 'pianist', 'piano', 'piaso', 'picasso', 'pice', 'pichu', 'pick', 'pickaxe', 'picked', 'picker', 'pickering', 'picket', 'pickguard', 'pickin', 'pickins', 'pickle', 'pickler', 'pickpocket', 'pickpocketed', 'pickup', 'picky', 'picnic', 'picrew', 'picsart', 'picse', 'picture', 'pictureperfectmysteries', 'picturesque', 'pide', 'pie', 'piece', 'pied', 'piedmont', 'pieley', 'piemaker', 'pier', 'pierce', 'piercings', 'piero', 'pierre', 'pieterse', 'pif', 'pig', 'pigeon', 'piggledy', 'piggy', 'piggybank', 'pigment', 'pigness', 'pigtail', 'pika', 'pikachu', 'pike', 'pikeman', 'pikin', 'pikmin', 'pil', 'pile', 'pilgrim', 'pilgrimage', 'pill', 'pillar', 'pilled', 'pilling', 'pillow', 'pilot', 'pimenta', 'pimms', 'pimp', 'pimpin', 'pimple', 'pin', 'pinapple', 'pinch', 'pinder', 'pine', 'pineapple', 'pineiro', 'pinero', 'ping', 'pink', 'pinkie', 'pinkinatics', 'pinkwhitneys', 'pinky', 'pinnacle', 'pinpoint', 'pinsbeflyin', 'pinscher', 'pinstripe', 'pinstripepride', 'pint', 'pinterest', 'pinthouse', 'piola', 'piolo', 'pioneer', 'piority', 'pious', 'pip', 'pipe', 'pipecase', 'pipeline', 'piper', 'pippen', 'pippin', 'pique', 'piranha', 'pirate', 'piri', 'piroba', 'pirro', 'pisces', 'pish', 'pishposh', 'pislamists', 'piss', 'pissy', 'pistachio', 'pistol', 'pit', 'pitbull', 'pitch', 'pitcher', 'pitchfork', 'pitchin', 'pithon', 'pitiful', 'pitmasters', 'pitt', 'pittsburg', 'pittsburgh', 'pittsfield', 'pitty', 'pity', 'pitzer', 'pivot', 'pivotal', 'pivv', 'pix', 'pixar', 'pixel', 'pixelated', 'pixie', 'pizca', 'pizookie', 'pizza', 'pizzi', 'pj', 'pjo', 'pk', 'pkmn', 'pks', 'pl', 'plaas', 'placate', 'place', 'placebo', 'placeholder', 'placemat', 'placement', 'plagiarism', 'plagiarize', 'plague', 'plaid', 'plain', 'plainsite', 'plainville', 'plan', 'plane', 'planet', 'plank', 'planked', 'planner', 'planning', 'plano', 'plant', 'plantain', 'plantation', 'plantbased', 'plante', 'planter', 'plantinum', 'plaque', 'plasma', 'plaster', 'plastic', 'plat', 'plate', 'platform', 'platformers', 'platinum', 'platinumgoals', 'platonic', 'platonically', 'platt', 'platter', 'plattered', 'platypus', 'plauge', 'plavix', 'play', 'playa', 'playback', 'playboi', 'playbook', 'playcalling', 'playdate', 'played', 'player', 'playercam', 'playful', 'playfully', 'playground', 'playin', 'playlist', 'playm', 'playmaker', 'playmaking', 'playoff', 'playskullgirls', 'playstation', 'playstyle', 'playthrough', 'playthru', 'playtime', 'playtos', 'playwright', 'playyyyyyy', 'plaza', 'plea', 'pleaaaaase', 'pleaaaaseee', 'plead', 'pleae', 'pleasant', 'pleasantly', 'please', 'pleasebekindandrewind', 'pleased', 'pleaseeee', 'pleaseeeee', 'pleaseeeeee', 'pleasekrk', 'pleaseplease', 'pleaser', 'pleasssse', 'pleasure', 'pleasured', 'pleaxe', 'plebada', 'pledge', 'pledis', 'pleeaaasssseeeee', 'pleeeeeeeeeease', 'pleiku', 'plenary', 'plenteous', 'plentiful', 'plenty', 'ples', 'plesac', 'plethora', 'plexed', 'plexiglas', 'plezzzzze', 'plier', 'plini', 'plis', 'pliskova', 'pll', 'plo', 'plonker', 'plot', 'plotline', 'plottwist', 'plow', 'ploy', 'pls', 'plt', 'plth', 'pluck', 'plucked', 'pluckers', 'pluem', 'plug', 'plugg', 'pluggs', 'plugin', 'plum', 'plumber', 'plumbing', 'plummet', 'plunder', 'plunge', 'plur', 'plural', 'plus', 'plush', 'plushie', 'plushy', 'plusle', 'pluto', 'plutotv', 'plutus', 'plymouth', 'plynch', 'plz', 'plzz', 'plzzz', 'pm', 'pmb', 'pmfg', 'pmik', 'pmlive', 'pmln', 'pmo', 'pmsl', 'png', 'pnp', 'pnr', 'pnw', 'poa', 'poach', 'poacher', 'poc', 'pocahontas', 'poch', 'pocket', 'pocus', 'podcast', 'podcaster', 'podcasts', 'podium', 'podted', 'poe', 'poem', 'poeple', 'poet', 'poetic', 'poetry', 'pogba', 'pogo', 'pohlad', 'poi', 'point', 'pointer', 'pointless', 'pointtt', 'pointy', 'poise', 'poisioning', 'poison', 'poisoning', 'poisonous', 'poject', 'pok', 'poke', 'pokeball', 'pokeballs', 'poked', 'pokemaning', 'pokemon', 'pokemongo', 'pokemons', 'pokeporn', 'poker', 'pokestop', 'pokey', 'pokharn', 'pokwithindia', 'pol', 'poland', 'polanski', 'polar', 'polaroid', 'pole', 'poleon', 'police', 'policeman', 'policy', 'policymakers', 'polio', 'poliominos', 'polish', 'polished', 'polishvodkaformendes', 'polite', 'politely', 'politeness', 'politic', 'political', 'politically', 'politician', 'politicize', 'politico', 'politics', 'politicslive', 'poliwag', 'polk', 'polka', 'polkwaytop', 'poll', 'pollak', 'pollard', 'pollinate', 'polling', 'polliver', 'pollo', 'pollute', 'polly', 'polo', 'polonius', 'poltergeist', 'polumbus', 'polution', 'poly', 'polyamorous', 'polyamory', 'polygamy', 'polyglot', 'polygon', 'polyp', 'polyrhythms', 'polystyrene', 'polythene', 'polytrack', 'pom', 'pomkes', 'pompeoresign', 'pompous', 'pond', 'ponder', 'pone', 'pong', 'ponoka', 'pontefract', 'pontificate', 'pony', 'ponyo', 'ponytail', 'ponzi', 'poo', 'pooch', 'poodle', 'poof', 'poofing', 'pooh', 'pooja', 'pook', 'pookie', 'pool', 'pooltoys', 'poon', 'poont', 'poop', 'pooped', 'pooper', 'poopie', 'pooping', 'poopsplosions', 'poopy', 'poor', 'poorer', 'poorest', 'poorly', 'poot', 'pop', 'popcast', 'popcorn', 'popcorntrick', 'pope', 'popeye', 'popeyes', 'popipa', 'popis', 'poplar', 'popo', 'poppa', 'popped', 'popper', 'poppin', 'poppy', 'popsicle', 'popsocket', 'poptarts', 'popul', 'popular', 'popularity', 'popularize', 'populate', 'population', 'populist', 'populrity', 'porch', 'pore', 'porfile', 'porg', 'poristani', 'pork', 'pormise', 'porn', 'pornbots', 'porndemic', 'pornhub', 'porno', 'pornographer', 'pornographic', 'pornography', 'pornstar', 'pornstars', 'porridge', 'porsche', 'porsha', 'port', 'porta', 'portabella', 'portable', 'portal', 'portales', 'portaloos', 'porter', 'portfolio', 'portillo', 'portion', 'portland', 'portlandia', 'portman', 'portmanteau', 'portofmiami', 'portrait', 'portray', 'portrayal', 'portrayed', 'portrays', 'portsmouth', 'portugal', 'portuguese', 'pose', 'posefx', 'poseidon', 'poser', 'posh', 'posibility', 'posie', 'posit', 'position', 'positional', 'positive', 'positively', 'positivity', 'posse', 'possesions', 'possess', 'possession', 'possessive', 'possibility', 'possible', 'possibly', 'possum', 'post', 'postal', 'postcard', 'postcode', 'postdate', 'postdoc', 'poster', 'posterior', 'posterize', 'postgame', 'postin', 'postion', 'postive', 'postmates', 'postnuptial', 'poston', 'postpartum', 'postpone', 'postseason', 'postseasons', 'posture', 'posty', 'potate', 'potato', 'potatoed', 'potencial', 'potent', 'potential', 'potentially', 'potently', 'pothead', 'pothole', 'potion', 'potluck', 'potna', 'potnas', 'potomac', 'potrayed', 'potter', 'potty', 'potus', 'poubelle', 'pouch', 'poultice', 'poultry', 'pounce', 'pound', 'pounder', 'pours', 'poussey', 'pout', 'pov', 'poverty', 'povtorenie', 'pow', 'powder', 'powell', 'power', 'powerade', 'powerbi', 'powerbottom', 'powerexcel', 'powerful', 'powerfully', 'powerhouse', 'powerless', 'powerlifter', 'powerpoint', 'powlison', 'powwow', 'powys', 'poxyyy', 'poyb', 'poz', 'pp', 'ppc', 'ppe', 'ppg', 'pphhheeewwww', 'ppl', 'pple', 'ppls', 'ppm', 'ppp', 'ppr', 'ppt', 'pqp', 'pr', 'pra', 'prabhash', 'practical', 'practically', 'practice', 'practise', 'prada', 'praet', 'praise', 'praisedbe', 'pram', 'prana', 'prank', 'prat', 'prata', 'prater', 'pravda', 'pravin', 'prawn', 'praxis', 'pray', 'prayed', 'prayer', 'prayerful', 'prayerpoint', 'prayerslow', 'prayforbloomingdale', 'prayforournation', 'prayin', 'pre', 'preaaaach', 'preaaachhh', 'preach', 'preacher', 'preaches', 'preachy', 'preamble', 'precautionary', 'precedence', 'precedent', 'precedes', 'precendent', 'precent', 'prechorus', 'preciate', 'precinct', 'precious', 'precipice', 'precise', 'precisely', 'preciso', 'precocious', 'precursor', 'predate', 'predates', 'predator', 'predatory', 'predecessor', 'predessors', 'predicament', 'predict', 'predictable', 'prediction', 'predicts', 'predominantly', 'pree', 'preeetty', 'preempt', 'preemptive', 'preemptively', 'preen', 'preexist', 'prefect', 'prefer', 'preferable', 'preferably', 'preference', 'preferential', 'prefers', 'prefix', 'pregame', 'pregnancy', 'pregnant', 'prego', 'pregui', 'preinterval', 'prejudge', 'prejudice', 'prelim', 'preliminary', 'preloaded', 'preloved', 'prem', 'premades', 'premarital', 'premature', 'prematurely', 'preme', 'premi', 'premier', 'premiere', 'premierleague', 'premiership', 'premios', 'premise', 'premium', 'premonition', 'prenuptial', 'preorder', 'preordered', 'preorderers', 'preordering', 'prep', 'preparation', 'prepard', 'prepare', 'prepared', 'preparedness', 'prepares', 'prepon', 'prepped', 'prepping', 'preppy', 'preptalklive', 'prequel', 'prequels', 'prerequisite', 'prerna', 'prerogative', 'pres', 'presage', 'presale', 'presales', 'preschool', 'preschooler', 'prescott', 'prescribe', 'prescribed', 'prescription', 'preseason', 'preseasonfootball', 'preseasontweets', 'presence', 'present', 'presentation', 'presenter', 'presentlaughter', 'presently', 'preservation', 'preserve', 'presets', 'preshow', 'preside', 'presidency', 'president', 'presidential', 'presidenting', 'presley', 'press', 'pressboxrumbler', 'presser', 'pressfield', 'pressure', 'prestada', 'presto', 'preston', 'prestwick', 'presumably', 'presume', 'presumptuous', 'preteen', 'pretend', 'pretense', 'pretentious', 'pretext', 'prettie', 'prettier', 'prettiest', 'pretty', 'prettylittleliars', 'prettymuch', 'pretzel', 'prevail', 'prevalence', 'prevalent', 'prevent', 'preventable', 'preventative', 'prevention', 'prevents', 'prevet', 'preview', 'previewed', 'previous', 'previously', 'prewashed', 'prey', 'prez', 'prezach', 'price', 'priceless', 'pricey', 'prick', 'prickliness', 'pride', 'pridelondon', 'priest', 'priesthood', 'priff', 'prilvage', 'prim', 'primal', 'primalinstinct', 'primanti', 'primarch', 'primarily', 'primark', 'primary', 'prime', 'primer', 'primetime', 'primevideo', 'primitive', 'primo', 'primrose', 'prince', 'princemaheshbabu', 'princess', 'princeton', 'principal', 'principally', 'principle', 'pringle', 'pringles', 'print', 'printer', 'printing', 'printout', 'prior', 'prioritize', 'prioritizegod', 'priority', 'prision', 'prism', 'prismatic', 'prison', 'prisoner', 'prisonstorm', 'prissy', 'pristin', 'pristine', 'prius', 'priv', 'privacy', 'private', 'privatize', 'privilege', 'privileged', 'privy', 'priyanka', 'prize', 'pro', 'proactively', 'prob', 'probability', 'probable', 'probably', 'probation', 'problem', 'problematic', 'problemmm', 'probly', 'probs', 'proccesing', 'procedure', 'proceed', 'proceeding', 'proceeds', 'process', 'processing', 'procession', 'processor', 'proclaim', 'proclaims', 'proclamation', 'procrastinate', 'procrastination', 'procrastinator', 'procreate', 'proctor', 'procure', 'prod', 'prodigal', 'prodigy', 'produce', 'producer', 'product', 'production', 'productive', 'productively', 'productivity', 'prof', 'profanity', 'profession', 'professional', 'professionalism', 'professionally', 'professor', 'proff', 'proficiency', 'profile', 'profit', 'profitability', 'profitable', 'profitcenters', 'profiteer', 'profound', 'profusely', 'prog', 'progeny', 'prognosis', 'program', 'programadamaisa', 'programme', 'programmed', 'programmer', 'progress', 'progression', 'progressive', 'progressively', 'progrock', 'progrum', 'progs', 'prohibit', 'proj', 'project', 'projectile', 'projection', 'projector', 'projeto', 'prolapse', 'proletariat', 'proli', 'prolific', 'prolly', 'prologue', 'prolong', 'prom', 'prombles', 'promenade', 'prometheus', 'prominent', 'promiscuous', 'promise', 'promising', 'promisse', 'promnis', 'promo', 'promos', 'promote', 'promoter', 'promotes', 'promotin', 'promotion', 'promotional', 'prompt', 'promptly', 'promsie', 'prone', 'prong', 'pronoun', 'pronounce', 'pronounces', 'pronunciation', 'proof', 'proofread', 'proofreader', 'prop', 'propaganda', 'propagandist', 'propagator', 'proper', 'properganda', 'properly', 'property', 'propgeticblessing', 'prophecy', 'prophet', 'prophete', 'proportion', 'proportional', 'proposal', 'propose', 'proposes', 'proposition', 'propper', 'proprietary', 'prosciutto', 'prose', 'prosecco', 'prosecute', 'prosecution', 'prosecutor', 'proshop', 'prosise', 'prospect', 'prosper', 'prosperity', 'prosperous', 'prospers', 'prostate', 'prostitute', 'protag', 'protagonist', 'protags', 'protect', 'protection', 'protective', 'protector', 'protects', 'protein', 'protend', 'protest', 'protestant', 'protestantism', 'protester', 'protestors', 'protestution', 'protip', 'proto', 'protocol', 'proton', 'prototype', 'proud', 'prouder', 'proudest', 'proudly', 'proudmama', 'proudofyouvivoree', 'proust', 'prove', 'proven', 'proverb', 'proverbial', 'provi', 'provide', 'providence', 'providencehigh', 'provider', 'province', 'provincetown', 'provision', 'provocation', 'provocative', 'provoke', 'provolone', 'provoriverwoods', 'proximity', 'proxy', 'prozac', 'pruitt', 'prv', 'pry', 'pryed', 'psa', 'psalm', 'pseudo', 'pseudoscience', 'psg', 'pshh', 'pshhhh', 'psn', 'psni', 'psst', 'pst', 'psunrivaled', 'psv', 'psvita', 'psvue', 'psych', 'psyche', 'psyched', 'psychedelic', 'psychedelics', 'psychiatric', 'psychiatrist', 'psychic', 'psycho', 'psychological', 'psychologically', 'psychologist', 'psychology', 'psychometric', 'psychopath', 'psychopathic', 'psychopathy', 'psychosis', 'psychotic', 'pt', 'pta', 'pter', 'pti', 'pto', 'ptoof', 'ptop', 'ptr', 'ptsd', 'ptx', 'pty', 'pu', 'puan', 'pub', 'puberty', 'pubes', 'pubg', 'pubic', 'public', 'publication', 'publicity', 'publicize', 'publiclands', 'publicly', 'publish', 'publisher', 'publishing', 'publix', 'pubstompers', 'pubsub', 'pubsubs', 'pucci', 'puck', 'pud', 'pudding', 'puddle', 'pudge', 'pudong', 'pueblo', 'puedo', 'puerto', 'puertorico', 'puff', 'puffer', 'puffin', 'puffy', 'pug', 'puh', 'puig', 'pujols', 'puke', 'pulaski', 'pulento', 'pull', 'pullin', 'pullman', 'pulp', 'pulpit', 'pulse', 'pum', 'pumasok', 'pump', 'pumped', 'pumper', 'pumphrey', 'pumpkin', 'pumpkinseason', 'pumpum', 'punblic', 'punch', 'punchable', 'punchline', 'punctuation', 'puncture', 'pundit', 'pune', 'pungent', 'punguzamzigoflaws', 'punish', 'punisher', 'punishes', 'punishment', 'punjabi', 'punk', 'punked', 'punt', 'punta', 'punter', 'puntersarepeopletoo', 'pup', 'pupil', 'pupp', 'pupper', 'pupperoni', 'puppers', 'puppet', 'puppeteer', 'puppy', 'pupreciate', 'pur', 'purchase', 'purchasing', 'purdue', 'pure', 'purebred', 'purely', 'purest', 'purgatory', 'purge', 'purify', 'puritanism', 'purity', 'purlee', 'purpesly', 'purple', 'purport', 'purpose', 'purposefully', 'purposeless', 'purposely', 'purr', 'purrcent', 'purse', 'pursue', 'pursuit', 'purveyor', 'purview', 'purvsdom', 'pus', 'push', 'pusha', 'pusher', 'pushin', 'pushkin', 'pushover', 'pushy', 'pusillanimous', 'puss', 'pussccs', 'pussy', 'pussygrabber', 'put', 'puta', 'pute', 'puth', 'puthy', 'putin', 'putinpuppet', 'putinsgop', 'putinspuppet', 'putitdafuckback', 'putmurderbryanincherry', 'putrid', 'putsch', 'putter', 'puttin', 'putty', 'putyourselfonthelist', 'putz', 'puurrlayer', 'puuuusssaay', 'puzzle', 'pv', 'pvbounce', 'pve', 'pvp', 'pvuncut', 'pw', 'pwede', 'pwetty', 'pwr', 'pyaar', 'pyjama', 'pyle', 'pym', 'pyramid', 'pyrocynical', 'pythagoras', 'python', 'pziza', 'qanda', 'qanon', 'qaq', 'qarmy', 'qaulity', 'qav', 'qb', 'qba', 'qbochat', 'qbs', 'qc', 'qcm', 'qcp', 'qdoba', 'qe', 'qf', 'qfs', 'qhile', 'qi', 'qin', 'qld', 'qmorons', 'qoam', 'qotd', 'qp', 'qpr', 'qq', 'qsjradio', 'qsl', 'qt', 'qteam', 'qtips', 'qtna', 'qtspat', 'qua', 'quad', 'quada', 'quadrilogy', 'quadruple', 'quaeda', 'quail', 'quaint', 'quaitee', 'quake', 'quaker', 'qualification', 'qualifier', 'qualifies', 'qualify', 'quality', 'qualitycontent', 'quan', 'quandria', 'quaner', 'quantity', 'quantum', 'quarantine', 'quarenta', 'quarrel', 'quart', 'quarter', 'quarterback', 'quarterfinal', 'quarterlife', 'quartz', 'quasi', 'quasia', 'qudoba', 'quebec', 'queda', 'queeeen', 'queeen', 'queefing', 'queen', 'queenfamilia', 'queenie', 'queenofthesouth', 'queensland', 'queensugar', 'queer', 'queerbaiting', 'queerbating', 'queermiserating', 'quench', 'quenches', 'quenepa', 'quentin', 'queremos', 'queria', 'querl', 'query', 'quesadilla', 'quesion', 'queso', 'quest', 'question', 'questionable', 'questlove', 'questpro', 'queue', 'quez', 'quibble', 'quiche', 'quick', 'quicker', 'quickie', 'quickly', 'quickmart', 'quickness', 'quicksand', 'quickscopes', 'quicksilver', 'quid', 'quierooo', 'quiet', 'quietcodingmix', 'quietest', 'quietly', 'quiff', 'quilett', 'quillette', 'quims', 'quin', 'quinci', 'quincy', 'quinn', 'quintessence', 'quintessential', 'quintet', 'quinton', 'quip', 'quirell', 'quirk', 'quirky', 'quit', 'quite', 'quits', 'quitter', 'quiver', 'quiz', 'quizlet', 'quiznos', 'quizz', 'quizzy', 'qulesema', 'quo', 'quoi', 'quorin', 'quota', 'quote', 'quoteoftheday', 'quotethemikenevermore', 'quoth', 'quran', 'quranhour', 'quuiiick', 'qv', 'qvc', 'qween', 'qwhite', 'qwq', 'qwqqq', 'ra', 'raaab', 'raad', 'raakah', 'raas', 'raawan', 'raazi', 'rabb', 'rabbani', 'rabbinical', 'rabbit', 'rabbitears', 'rabbithole', 'rabid', 'rac', 'raccoon', 'race', 'racebaiting', 'racer', 'rachael', 'rachel', 'rachtompkins', 'racial', 'racially', 'raciest', 'racism', 'racismisreal', 'racist', 'racistinchief', 'racisttoryskynews', 'racisttrump', 'rack', 'racket', 'racketeering', 'rackz', 'racon', 'radar', 'radiate', 'radiates', 'radiation', 'radical', 'radicalize', 'radio', 'radioboy', 'radioed', 'radish', 'radke', 'radleigh', 'radley', 'radmacher', 'radnich', 'radqueef', 'radrizzani', 'radz', 'rae', 'raegan', 'raekwon', 'rael', 'raelynn', 'rafa', 'rafaam', 'rafael', 'raffle', 'raffy', 'raft', 'rag', 'rage', 'rageeee', 'ragetage', 'raggedy', 'ragnarok', 'ragnos', 'ragol', 'ragu', 'ragy', 'rah', 'raha', 'raheem', 'rahul', 'rai', 'raichur', 'raid', 'raider', 'raidernation', 'rail', 'railriders', 'railroad', 'railway', 'raiment', 'raimi', 'raimy', 'rain', 'rainbow', 'raincoat', 'raindrop', 'rainfall', 'rainn', 'raintree', 'rainwings', 'rainy', 'raise', 'raisin', 'raisingdion', 'raisman', 'rajamouli', 'rajdeep', 'rajini', 'rak', 'rakam', 'rake', 'rakhi', 'rakim', 'raksha', 'ral', 'raleigh', 'rally', 'rallybrowns', 'rallytogether', 'ralo', 'ralph', 'ralts', 'ram', 'ramada', 'ramadan', 'ramaphosa', 'ramasedj', 'ramble', 'ramblings', 'ramcharan', 'ramdev', 'ramen', 'ramik', 'ramirez', 'rammstein', 'ramon', 'ramona', 'ramones', 'ramons', 'ramos', 'ramp', 'rampage', 'rampant', 'rampantly', 'ramsay', 'ramsey', 'ramuda', 'ramune', 'ramus', 'ramzan', 'ran', 'ranch', 'rancher', 'rancho', 'rand', 'rando', 'random', 'randomfact', 'randomise', 'randomitem', 'randomly', 'randomness', 'randoms', 'randos', 'randy', 'rang', 'range', 'ranger', 'rangersfc', 'ranh', 'rank', 'ranked', 'ranking', 'ranko', 'ranma', 'ranpo', 'ransom', 'ransphobia', 'rant', 'ranting', 'rap', 'rape', 'rapey', 'raph', 'rapid', 'rapidly', 'rapist', 'rapline', 'rapped', 'rapper', 'raptor', 'rapture', 'raquel', 'rare', 'rarely', 'rarest', 'rarity', 'ras', 'rascal', 'rascist', 'rascon', 'rash', 'rashaad', 'rashaan', 'rashan', 'rashard', 'rashford', 'rask', 'rasmussen', 'raspberry', 'rassing', 'rasul', 'rat', 'ratable', 'ratanji', 'ratatoing', 'ratbags', 'ratchet', 'ratchford', 'ratchicity', 'rate', 'rath', 'rather', 'rating', 'ratio', 'ratioed', 'ration', 'rational', 'rationale', 'rationalize', 'rationally', 'ratna', 'rattle', 'rattrap', 'rattray', 'raul', 'raunchy', 'rav', 'ravage', 'ravager', 'rave', 'raven', 'ravenclaw', 'ravensflock', 'ravensnation', 'raver', 'ravioli', 'raviolo', 'ravish', 'raw', 'rawa', 'rawalpindi', 'rawest', 'rawr', 'ray', 'raye', 'rayllum', 'rayman', 'raymond', 'rayne', 'rayquanza', 'rayquaza', 'rayrays', 'raytheon', 'raza', 'raze', 'razer', 'raziel', 'razneesh', 'razones', 'razor', 'razorback', 'razzy', 'rb', 'rba', 'rbg', 'rbi', 'rbit', 'rc', 'rcb', 'rccgconvention', 'rcognize', 'rcpc', 'rd', 'rdboc', 'rdia', 'rdm', 'rdp', 'rdr', 'rds', 'reaaaaaaaaaally', 'reaaaally', 'reach', 'reachable', 'reachnow', 'reachoverthenoise', 'react', 'reaction', 'reactionary', 'reactivate', 'reactor', 'reacts', 'read', 'readathon', 'reader', 'readership', 'readi', 'readily', 'reading', 'readme', 'readons', 'ready', 'readyornot', 'readyyyyyy', 'reagan', 'reagin', 'real', 'realator', 'realdonaldtrump', 'realeased', 'realer', 'realest', 'realestate', 'realisation', 'realise', 'realist', 'realistic', 'realistically', 'reality', 'realization', 'realize', 'realizes', 'realizin', 'reallg', 'reallifegshyt', 'reallll', 'realllll', 'reallllll', 'reallllllllllly', 'reallllyyyy', 'reallt', 'really', 'reallyyyy', 'realm', 'realme', 'realmuto', 'realness', 'realpolitik', 'realremyboy', 'realtime', 'realtimebgl', 'realtor', 'realty', 'rean', 'reani', 'reap', 'reaper', 'reaps', 'rear', 'rearrange', 'rearview', 'reasearch', 'reason', 'reasonable', 'reasonably', 'reassess', 'reassign', 'reassignment', 'reassurance', 'reassure', 'reavey', 'reawaken', 'rebate', 'rebeca', 'rebecca', 'rebekah', 'rebel', 'rebellion', 'rebirth', 'reblog', 'rebook', 'reboot', 'reboots', 'rebound', 'rebrand', 'rebuild', 'rebuilt', 'rebutnik', 'rebuttal', 'rebuy', 'rec', 'recall', 'recap', 'recapture', 'recast', 'reccomends', 'recede', 'receipt', 'receive', 'receiver', 'receives', 'recent', 'recently', 'reception', 'receptionist', 'recess', 'recession', 'rechain', 'rechall', 'recharge', 'recieving', 'recipe', 'recipient', 'reciprocal', 'reciprocate', 'reciprocity', 'recircle', 'recital', 'recitation', 'recite', 'reckless', 'reckon', 'reclaim', 'recliner', 'recluse', 'recodo', 'recognise', 'recognition', 'recognizable', 'recognize', 'recognizes', 'recoil', 'recollection', 'recommend', 'recommendation', 'recommends', 'recommmend', 'recompense', 'recon', 'reconciles', 'reconnecting', 'reconsider', 'reconvene', 'record', 'recording', 'recored', 'recount', 'recourse', 'recover', 'recovers', 'recovery', 'recreate', 'recreation', 'recreational', 'recreationally', 'recruit', 'recruiter', 'recruiting', 'recruitment', 'recs', 'rectal', 'rectalexam', 'rectangular', 'rectify', 'rectus', 'recuit', 'recuperate', 'recur', 'recurrent', 'recuse', 'recycle', 'recycles', 'red', 'redact', 'redaction', 'redbull', 'redd', 'redden', 'reddit', 'redeem', 'redefine', 'redelivery', 'redemption', 'redesign', 'redevelopment', 'redeye', 'redfield', 'redflaglaws', 'redhats', 'redhead', 'redick', 'redirect', 'redirection', 'redirects', 'redistribute', 'redistribution', 'redition', 'rediwhip', 'redmond', 'redneck', 'redo', 'redone', 'redownload', 'redownloaded', 'redraw', 'redrawing', 'redress', 'redseas', 'redshirt', 'redshirtguy', 'redshite', 'redskin', 'redsox', 'reduce', 'reduces', 'reduction', 'redundant', 'redzone', 'ree', 'reece', 'reed', 'reeeee', 'reef', 'reefbreak', 'reefer', 'reek', 'reel', 'reelect', 'reelin', 'reem', 'reenact', 'reenea', 'reep', 'reese', 'reevaluate', 'ref', 'refer', 'referee', 'reference', 'referendum', 'referral', 'refers', 'refill', 'refinance', 'refine', 'refit', 'reflect', 'reflection', 'reflex', 'reflexively', 'reflux', 'refollow', 'refollows', 'reform', 'reformer', 'refound', 'refrain', 'refrence', 'refresco', 'refresh', 'refresher', 'refrigerate', 'refrigerator', 'refuge', 'refugee', 'refund', 'refuse', 'refutation', 'refute', 'reg', 'rega', 'regain', 'regal', 'regalia', 'regan', 'regard', 'regardless', 'regency', 'regenerate', 'regerts', 'reggae', 'reggaeton', 'reggie', 'regifted', 'regime', 'regimen', 'regina', 'region', 'regional', 'regionals', 'regis', 'register', 'registration', 'registry', 'regning', 'regress', 'regret', 'regretful', 'regrettes', 'regs', 'regular', 'regularly', 'regulate', 'regulation', 'regulator', 'regulatory', 'rehab', 'rehearsal', 'rehearse', 'reheat', 'rehman', 'rehydrate', 'rei', 'reich', 'reichenbach', 'reichert', 'reid', 'reify', 'reigen', 'reigisa', 'reign', 'reik', 'reilly', 'reimagined', 'reimburse', 'reimbursement', 'rein', 'reincarnate', 'reincarnation', 'reinforce', 'reinnovate', 'reinstate', 'reinstatement', 'reinvest', 'reinvested', 'reiss', 'reiterate', 'reject', 'rejection', 'rejoice', 'rejoin', 'rejuvenate', 'rek', 'rekindle', 'rekordbox', 'rel', 'relatable', 'relate', 'related', 'relates', 'relation', 'relationship', 'relative', 'relatively', 'relavant', 'relax', 'relaxation', 'relaxationin', 'relaxed', 'relaxes', 'relaxxxxxxx', 'relay', 'release', 'releaseddddd', 'releasethesnydercut', 'relegate', 'relegation', 'relent', 'relentless', 'relentlessly', 'relepoted', 'relevance', 'relevancy', 'relevant', 'relevantly', 'relfection', 'reliability', 'reliable', 'reliant', 'relic', 'relief', 'relies', 'relieve', 'reliever', 'religion', 'religious', 'religiously', 'religous', 'relish', 'relistening', 'relistin', 'relive', 'reload', 'relocate', 'relton', 'reluctant', 'reluctantly', 'rely', 'rem', 'remade', 'remain', 'remainder', 'remains', 'remake', 'remark', 'remarkable', 'remarkably', 'remaster', 'remastering', 'rematch', 'remeber', 'remedy', 'remember', 'remembers', 'remembrance', 'remi', 'reminbi', 'remind', 'reminder', 'reminds', 'remined', 'reminisce', 'remit', 'remix', 'remixed', 'remixes', 'remixing', 'remnant', 'remoaner', 'remodel', 'remorse', 'remortgaged', 'remote', 'remotely', 'remotion', 'remoulade', 'removal', 'remove', 'remover', 'remus', 'remy', 'ren', 'rename', 'renata', 'renatured', 'render', 'rendition', 'rendum', 'rene', 'renee', 'renege', 'renew', 'renewableenergy', 'renewables', 'renewal', 'renews', 'renewtheoa', 'renfaire', 'renfroes', 'renjirenn', 'renjun', 'renner', 'reno', 'renovation', 'rent', 'rental', 'rentcontrolnow', 'renter', 'renttoown', 'reoccurring', 'reopen', 'reorder', 'rep', 'repair', 'reparation', 'repay', 'repayment', 'repeal', 'repealamend', 'repealthe', 'repear', 'repeat', 'repeatcoming', 'repeatedly', 'repellant', 'repent', 'repertoire', 'repetition', 'repetitive', 'rephrase', 'repierce', 'replace', 'replaceable', 'replacement', 'replaces', 'replay', 'replica', 'replicate', 'reply', 'repo', 'repopulated', 'report', 'reportedly', 'reporter', 'reporting', 'reposition', 'repository', 'repost', 'reposted', 'reppin', 'repping', 'reprehensible', 'represent', 'representation', 'representative', 'reprieve', 'reprimand', 'reprise', 'reproduce', 'reproduction', 'reprogram', 'reprogramming', 'repsonsible', 'reptar', 'repub', 'republic', 'republican', 'repubs', 'repugnant', 'repulsive', 'repurpose', 'reputation', 'repute', 'reputedly', 'request', 'require', 'requirement', 'requirementsz', 'requisite', 'requite', 'reread', 'rereads', 'rerelease', 'rerouting', 'rerported', 'rerun', 'resale', 'reschedule', 'rescue', 'rescuer', 'research', 'researcher', 'resemblance', 'resend', 'resent', 'resentment', 'reserruct', 'reservation', 'reserve', 'reservoir', 'reset', 'reshad', 'resharing', 'reside', 'residence', 'residency', 'resident', 'residuum', 'resign', 'resignation', 'resigns', 'resiliency', 'resin', 'resisgn', 'resist', 'resistance', 'resistancerpg', 'resistant', 'resister', 'reslife', 'resolution', 'resolv', 'resolve', 'resonate', 'resort', 'resound', 'resource', 'resourcing', 'respect', 'respectable', 'respecter', 'respectful', 'respectfully', 'respectthequeen', 'respeito', 'respek', 'respiratory', 'respond', 'responda', 'responder', 'responds', 'responsabilities', 'response', 'responsibility', 'responsible', 'responsibly', 'responsive', 'responsiveregulation', 'resposta', 'rest', 'restarant', 'restart', 'restate', 'restaurant', 'restless', 'restock', 'restoration', 'restorationwings', 'restore', 'restores', 'restrain', 'restraint', 'restrict', 'restriction', 'restroom', 'restructure', 'resturant', 'result', 'resum', 'resume', 'resupply', 'resurface', 'resurfaces', 'resurgence', 'resurrect', 'resync', 'retagging', 'retail', 'retailer', 'retain', 'retainer', 'retake', 'retaliate', 'retaliation', 'retard', 'retargeting', 'retarted', 'reteeet', 'retention', 'rethefuckwind', 'rethink', 'retire', 'retiredin', 'retiree', 'retirement', 'retires', 'retort', 'retrace', 'retract', 'retraction', 'retrain', 'retreat', 'retribution', 'retriever', 'retrieves', 'retro', 'retroactively', 'retrograde', 'retrograds', 'retrospect', 'retrospective', 'retroverb', 'return', 'returner', 'returners', 'retw', 'retweet', 'retweeted', 'retweeting', 'retweets', 'reunion', 'reunite', 'reunites', 'reuploading', 'reusable', 'reuse', 'rev', 'reva', 'revamp', 'revange', 'reveal', 'revealer', 'reveals', 'revel', 'revelation', 'revenge', 'revenue', 'reverberates', 'revere', 'reverence', 'reverend', 'reversal', 'reverse', 'revictimizing', 'review', 'reviewd', 'reviewer', 'revise', 'revision', 'revisionist', 'revisit', 'revitalization', 'revival', 'revive', 'revo', 'revoke', 'revokea', 'revolt', 'revolut', 'revolution', 'revolutionary', 'revolutionise', 'revolutionize', 'revolutionnow', 'revolve', 'revolvpink', 'revulsion', 'reward', 'rewatch', 'rewatched', 'rewatching', 'rewind', 'rewinding', 'rewire', 'rework', 'rewound', 'rewrite', 'rex', 'rey', 'reyes', 'reynauds', 'reynolds', 'rez', 'reza', 'rf', 'rfc', 'rfid', 'rg', 'rgb', 'rgiii', 'rgm', 'rh', 'rhack', 'rhaenyra', 'rhags', 'rhapsody', 'rhc', 'rhe', 'rhea', 'rhetoric', 'rhetorical', 'rhett', 'rhghr', 'rhi', 'rhianna', 'rhiannon', 'rhinestoned', 'rhink', 'rhino', 'rhinoceros', 'rhl', 'rhobh', 'rhoc', 'rhonda', 'rhony', 'rhop', 'rhyl', 'rhyme', 'rhys', 'rhysand', 'rhythm', 'ri', 'ria', 'rias', 'rib', 'ribbon', 'ribcage', 'ribrianne', 'ric', 'rica', 'rican', 'ricard', 'ricardo', 'rice', 'ricecakes', 'rich', 'richard', 'richards', 'richdad', 'richer', 'richland', 'richly', 'richmond', 'rick', 'rickster', 'ricky', 'rico', 'rid', 'rida', 'riddance', 'riddel', 'ridden', 'riddle', 'ride', 'rideable', 'rider', 'ridge', 'ridgell', 'ridgemont', 'ridgeway', 'ridgewood', 'ridicule', 'ridiculos', 'ridiculous', 'ridiculously', 'ridiculus', 'ridin', 'ridingincarswithboys', 'ridley', 'ridney', 'riegan', 'riego', 'riele', 'ries', 'riesling', 'riff', 'riffle', 'rifle', 'rig', 'rigel', 'righ', 'righs', 'right', 'righteous', 'righteousness', 'rightful', 'rightfully', 'rightly', 'rightness', 'righttt', 'rightttt', 'rigid', 'rigor', 'rigour', 'rih', 'rihanna', 'riii', 'riiii', 'riiiiiiiight', 'riku', 'riley', 'rilke', 'rim', 'rin', 'rina', 'ring', 'ringer', 'ringless', 'ringneck', 'ringo', 'ringpop', 'ringthebell', 'ringtone', 'rini', 'rink', 'rinku', 'rino', 'rinse', 'rio', 'riot', 'rioting', 'rip', 'ripcraigmack', 'ripdavidberman', 'ripe', 'ripen', 'ripeness', 'ripoff', 'ripped', 'ripper', 'rippimpc', 'ripul', 'rise', 'risen', 'riser', 'riseup', 'rishabh', 'rishi', 'rishikesh', 'risk', 'risky', 'risner', 'risotto', 'risp', 'rit', 'rita', 'rite', 'ritsu', 'ritual', 'ritualist', 'ritz', 'riunite', 'riv', 'rival', 'rivalry', 'river', 'rivera', 'riverdale', 'rivero', 'riverrrrrrr', 'rivet', 'riya', 'riyadh', 'rizvi', 'rizzle', 'rizzo', 'rj', 'rk', 'rko', 'rl', 'rlc', 'rld', 'rlly', 'rly', 'rm', 'rmb', 'rmk', 'rmt', 'rmv', 'rn', 'rna', 'rnb', 'rnbfridayslive', 'rnda', 'rne', 'rnrnrnnrnrnrn', 'rnt', 'rny', 'rnz', 'ro', 'roach', 'road', 'roadmap', 'roadshowlagos', 'roadtofourever', 'roadtrip', 'roadtripswitholdblackfolk', 'roadway', 'roam', 'roanoke', 'roar', 'roarientation', 'roast', 'rob', 'robbed', 'robber', 'robbery', 'robbie', 'robbins', 'robbo', 'robby', 'robe', 'robert', 'roberta', 'roberto', 'robertpattinson', 'robertson', 'robie', 'robin', 'robinson', 'roblox', 'robo', 'robocall', 'robot', 'robotics', 'robott', 'robron', 'robs', 'robust', 'robux', 'robuxs', 'roc', 'rocco', 'rochester', 'rock', 'rockaway', 'rocker', 'rocket', 'rocketsup', 'rockford', 'rockies', 'rockin', 'rockinguhomeingrandstyle', 'rocko', 'rockport', 'rockst', 'rockstar', 'rockvale', 'rockwall', 'rocky', 'rocreal', 'rod', 'roddy', 'rode', 'rodeo', 'rodgers', 'rodin', 'rodisgod', 'rodney', 'rodriguez', 'rodriquez', 'roff', 'rofl', 'rofll', 'rogan', 'rogelio', 'roger', 'rogers', 'rogerscup', 'rogowsky', 'rogue', 'roh', 'rohingya', 'rohit', 'roi', 'roil', 'roit', 'rojo', 'roku', 'role', 'roleplay', 'roll', 'rollback', 'rollbars', 'roller', 'rollerbades', 'rollercoaster', 'rollercoasters', 'rollercoater', 'rollie', 'rollin', 'rollins', 'rollout', 'rollscots', 'rollthetapes', 'rollups', 'rolodex', 'rom', 'romaine', 'roman', 'romance', 'romani', 'romania', 'romanian', 'romantic', 'romantica', 'romantically', 'romanticize', 'romcom', 'romcoms', 'rome', 'romelu', 'romeo', 'romita', 'romney', 'romo', 'romp', 'romper', 'romu', 'ron', 'rona', 'ronald', 'ronaldinho', 'ronaldo', 'ronan', 'ronburgundy', 'rondo', 'rong', 'ronit', 'ronna', 'ronnie', 'ronso', 'roof', 'roofie', 'rooftop', 'rook', 'rooker', 'rookie', 'room', 'roomate', 'roomba', 'roomie', 'roommate', 'roomy', 'rooney', 'roooock', 'roosevelt', 'roosh', 'roost', 'rooster', 'root', 'rooti', 'rootin', 'rootstechlondon', 'ropa', 'rope', 'roped', 'ror', 'rorschach', 'rory', 'rosa', 'rosalina', 'rosanna', 'rosario', 'rosary', 'rosbercon', 'roscoe', 'rosd', 'rose', 'rosebowl', 'rosemary', 'rosen', 'rosenstein', 'rosetta', 'roshan', 'rosholt', 'rosie', 'rosmah', 'ross', 'rosskemplivingwith', 'rossum', 'roster', 'rostered', 'rot', 'rotate', 'rotation', 'rotational', 'rotf', 'rothbard', 'rotherham', 'rothschild', 'roti', 'rotisserie', 'rottach', 'rotten', 'rottenerestt', 'rottenest', 'rotton', 'roty', 'rouge', 'rough', 'rougher', 'roughhhhhh', 'roughhouse', 'roughly', 'roughrider', 'rouguelike', 'roulette', 'round', 'rounder', 'roundhouse', 'rourke', 'rouse', 'rousey', 'route', 'router', 'routine', 'routinely', 'rover', 'row', 'rowdy', 'rowe', 'rowena', 'rowling', 'roxane', 'roxanne', 'roxas', 'roxbury', 'roxy', 'roy', 'royal', 'royalist', 'royally', 'royalty', 'royce', 'rozay', 'rozayy', 'rp', 'rpers', 'rpg', 'rpgs', 'rping', 'rps', 'rqod', 'rr', 'rrade', 'rrcognized', 'rrent', 'rrrr', 'rrrrr', 'rrrrrr', 'rsa', 'rse', 'rsgames', 'rsjc', 'rst', 'rstudio', 'rt', 'rte', 'rted', 'rtf', 'rtg', 'rth', 'rti', 'rtid', 'rting', 'rtmmcu', 'rts', 'rtthe', 'ru', 'rub', 'rubbed', 'rubber', 'rubbery', 'rubbish', 'ruben', 'rubi', 'rubik', 'rubix', 'ruby', 'ruc', 'ruck', 'ruckus', 'rudd', 'ruddock', 'rude', 'rudeee', 'rudefilms', 'rudeness', 'rudiger', 'rudock', 'rudy', 'rue', 'ruel', 'ruff', 'ruffalo', 'ruffini', 'ruffle', 'rufford', 'ruffus', 'rug', 'rugby', 'rugged', 'rui', 'ruidoso', 'ruim', 'ruin', 'ruinin', 'ruiz', 'ruki', 'rule', 'rulebook', 'rulebreakers', 'ruler', 'ruling', 'rum', 'rumble', 'rumi', 'ruminate', 'rumor', 'rumour', 'rump', 'rumph', 'run', 'runaround', 'runaway', 'runback', 'runbeck', 'rundle', 'rundown', 'rune', 'runer', 'runforrestrun', 'runner', 'runneth', 'runnin', 'runny', 'runtz', 'runway', 'runzas', 'ruocco', 'rupertmurdoch', 'rupi', 'rur', 'rural', 'rus', 'ruse', 'rush', 'rusher', 'rushibot', 'rushmore', 'rusia', 'ruskin', 'russe', 'russell', 'russels', 'russia', 'russiahoax', 'russian', 'russianstyle', 'russki', 'russo', 'rust', 'rustic', 'rustle', 'rusty', 'rut', 'rutabaga', 'ruth', 'ruthless', 'ruthven', 'ruto', 'ruuuude', 'ruuuuuunnnn', 'rv', 'rvb', 'rvr', 'rvus', 'rw', 'rwanda', 'rwd', 'rx', 'ryan', 'ryanair', 'rydee', 'ryder', 'rye', 'ryleigh', 'rylin', 'ryodan', 'ryoko', 'ryu', 'ryuji', 'ryuko', 'ryusoul', 'ryuu', 'ryzen', 'ryzsie', 'rz', 'rza', 'saa', 'saaaaame', 'saaaaamzees', 'saaaame', 'saab', 'saad', 'saag', 'saanlae', 'sab', 'sabanearlos', 'sabans', 'sabarimala', 'sabat', 'sabc', 'saben', 'saber', 'saberface', 'sabermetrics', 'sabes', 'sabha', 'sabi', 'sabihin', 'sable', 'sabonis', 'sabotage', 'saboteur', 'sabr', 'sabre', 'sabrina', 'sac', 'sacai', 'sacha', 'sack', 'sacrafice', 'sacraficed', 'sacrament', 'sacramento', 'sacred', 'sacrifice', 'sacrificial', 'sad', 'sada', 'saddam', 'sadddd', 'sadden', 'saddens', 'sadder', 'saddest', 'saddle', 'saddness', 'sade', 'sadest', 'sadie', 'sadio', 'sadiq', 'sadist', 'sadistic', 'sadly', 'sadness', 'sadnights', 'sado', 'sadopopulism', 'sae', 'saf', 'safaree', 'safdie', 'safe', 'safeco', 'safely', 'safer', 'safesport', 'safest', 'safety', 'saff', 'sag', 'saga', 'sagaftramembers', 'sagar', 'sagauli', 'sagawa', 'sage', 'saggy', 'sagittarius', 'sahab', 'saharan', 'saheb', 'sahuc', 'saigon', 'sail', 'sailing', 'sailor', 'sainsbury', 'saint', 'saintsfc', 'saintsup', 'sais', 'saison', 'saitama', 'saith', 'sajid', 'saka', 'sakata', 'sake', 'sakic', 'sakoon', 'sakuma', 'sakura', 'sal', 'salad', 'salah', 'salary', 'salazar', 'salem', 'saleman', 'salesman', 'salesperson', 'salford', 'saliba', 'salice', 'salina', 'salisbury', 'saliva', 'sally', 'sallyroberts', 'salmankhan', 'salmon', 'salomo', 'salon', 'saloon', 'saloudre', 'salsa', 'salsadecolombia', 'salsaparatodos', 'salt', 'saltgang', 'saltine', 'salto', 'salty', 'saluda', 'salute', 'salvador', 'salvage', 'salvation', 'salve', 'salvini', 'salvo', 'sam', 'samaina', 'samantha', 'samaritan', 'samberg', 'sambo', 'sambuca', 'sambucky', 'sameee', 'sameeee', 'sameeeee', 'samey', 'sami', 'sammy', 'samny', 'samoan', 'sampaio', 'sampdoria', 'sample', 'samsho', 'samsora', 'samsung', 'samthesavior', 'samuel', 'samurai', 'samus', 'san', 'sanada', 'sanchez', 'sancho', 'sanctify', 'sanctimonious', 'sanction', 'sanctuary', 'sand', 'sandal', 'sandalphon', 'sandbox', 'sander', 'sanderson', 'sandiego', 'sandler', 'sandman', 'sandpaper', 'sandusky', 'sandwhich', 'sandwich', 'sandy', 'sane', 'sanellhi', 'saner', 'sanfl', 'sang', 'sangali', 'sanger', 'sangyeon', 'sanhelli', 'sanic', 'sanitary', 'sanity', 'sanjivani', 'sanjuan', 'sank', 'sanllehi', 'sanni', 'sano', 'sanrio', 'sans', 'sant', 'santa', 'santamonica', 'santana', 'santiago', 'santiagoachagatrendy', 'santis', 'santorini', 'sanvers', 'sao', 'saod', 'sap', 'sapper', 'sapphic', 'sapphire', 'saptaozona', 'saqoun', 'saquan', 'saquon', 'sara', 'sarabi', 'sarafoster', 'sarah', 'saranghae', 'saratoga', 'sarcasm', 'sarcastic', 'sardar', 'sardars', 'sardesai', 'sardine', 'sargeant', 'sarileru', 'sarileruneekevaru', 'sarileruneekevvaru', 'sarileruneekevvarufirstlook', 'sarina', 'sarindre', 'sark', 'sarkar', 'sarkicist', 'sarlacc', 'sarr', 'sarra', 'sars', 'sartre', 'sas', 'sasa', 'sasabihin', 'sascha', 'sasha', 'sashimi', 'sask', 'saskatoon', 'sasquatch', 'sass', 'sassiness', 'sassy', 'sasuke', 'sat', 'satan', 'satanic', 'satanism', 'satanist', 'satara', 'sate', 'satellite', 'sater', 'sath', 'satin', 'satire', 'satirize', 'satirizes', 'satisfaction', 'satisfied', 'satisfy', 'satisfyingly', 'satoshi', 'saturate', 'saturation', 'saturday', 'saturdaytrivia', 'saturn', 'saturndelivers', 'saubert', 'sauce', 'saucy', 'saudi', 'saug', 'saul', 'saulbot', 'sault', 'sauna', 'saurbraten', 'sauron', 'sausage', 'saute', 'sauvage', 'sav', 'savage', 'savannah', 'savant', 'savarkar', 'save', 'saveassociatesanonymous', 'savekashmirfrommodi', 'saver', 'savescorpion', 'savetheoa', 'savetimeless', 'saville', 'savin', 'saving', 'savingfor', 'savior', 'saviour', 'savour', 'savvy', 'savy', 'saw', 'saweetie', 'saweetieeeee', 'sawubaweli', 'sawyer', 'sax', 'say', 'saybit', 'sayin', 'saynt', 'sayo', 'sayoc', 'sayy', 'sayyy', 'sb', 'sbabyboy', 'sbout', 'sbsnsnskak', 'sbz', 'sc', 'scab', 'scabbard', 'scalability', 'scalar', 'scald', 'scale', 'scalise', 'scallion', 'scalp', 'scalper', 'scam', 'scammed', 'scammer', 'scammin', 'scamming', 'scammmm', 'scampi', 'scan', 'scandal', 'scandalous', 'scanneralert', 'scantily', 'scapegoat', 'scapegoating', 'scar', 'scaramuccis', 'scarborough', 'scarce', 'scare', 'scarecrow', 'scaredd', 'scarf', 'scarface', 'scarier', 'scariest', 'scarin', 'scarjo', 'scarlet', 'scarlett', 'scarlxrd', 'scaroused', 'scarriest', 'scary', 'scaryyyyyyy', 'scat', 'scatman', 'scatter', 'scavenger', 'scavino', 'scazy', 'scbwi', 'sccc', 'scenario', 'scene', 'scenery', 'scenic', 'scent', 'scepter', 'sceptical', 'scffggvbxszs', 'sch', 'schadenfreude', 'schafer', 'schafly', 'scharping', 'schatz', 'schaub', 'sched', 'schedual', 'schedule', 'scheer', 'scheernonsense', 'schefter', 'scheme', 'schenn', 'scheuneman', 'schiff', 'schizophrenia', 'schlatt', 'schlong', 'schmidt', 'schmissues', 'schmuck', 'schnee', 'schneiderman', 'schnitzel', 'schnozz', 'scholar', 'scholarship', 'school', 'schoolboy', 'schooler', 'schoolers', 'schoology', 'schoolpsychologist', 'schoolyard', 'schotty', 'schreiber', 'schrodinger', 'schuab', 'schuler', 'schulman', 'schultzie', 'schumer', 'schwans', 'schwarber', 'schwarzenegger', 'schwarzer', 'schweitzer', 'sci', 'science', 'scientific', 'scientifically', 'scientist', 'scientology', 'scion', 'scissor', 'scissors', 'scnadal', 'scnvolumehigh', 'sco', 'scoff', 'scoffed', 'scone', 'scoob', 'scooby', 'scoop', 'scootaloo', 'scooter', 'scopa', 'scoped', 'scorbunny', 'scorch', 'score', 'scoreboard', 'scorecard', 'scoreless', 'scorer', 'scorn', 'scorpia', 'scorpio', 'scorpion', 'scot', 'scotch', 'scotland', 'scott', 'scottie', 'scottish', 'scotus', 'scour', 'scouser', 'scout', 'scp', 'scrabble', 'scram', 'scramble', 'scranton', 'scrap', 'scrapbook', 'scrape', 'scratch', 'scratchy', 'scrawny', 'screadathon', 'scream', 'screamer', 'screamgang', 'screaminnnggggg', 'screamish', 'screamo', 'screamphone', 'screech', 'screechong', 'screen', 'screener', 'screening', 'screenplay', 'screenshot', 'screenshots', 'screenshotted', 'screentime', 'screetshots', 'screw', 'screwball', 'screwdriver', 'scribe', 'scrim', 'scrimmage', 'script', 'scripture', 'scrivener', 'scroll', 'scrollin', 'scrotrotica', 'scrotum', 'scrub', 'scrubber', 'scruff', 'scruffy', 'scrumptious', 'scrunchies', 'scrupulum', 'scrutiny', 'sctop', 'scuba', 'scudetto', 'scuf', 'scuffle', 'sculptor', 'sculpture', 'scum', 'scumbag', 'scumbum', 'scummiest', 'scummy', 'scurred', 'scurry', 'scuttley', 'scythe', 'sd', 'sdcc', 'sdfdsd', 'sdk', 'sdl', 'sdlkhgdsf', 'sdny', 'sdr', 'seafood', 'seagull', 'seahawk', 'seahawks', 'seal', 'seam', 'seaman', 'seance', 'seaons', 'seapigeons', 'search', 'searchin', 'searchlight', 'sears', 'seashell', 'seashore', 'seasick', 'season', 'seasonal', 'seasonless', 'seat', 'seatbelt', 'seatin', 'seaton', 'seattle', 'seawater', 'seb', 'sebastian', 'sebastien', 'seberg', 'sec', 'sechler', 'seclude', 'seclusion', 'secof', 'second', 'secondary', 'secondly', 'secret', 'secretary', 'secretly', 'secretos', 'secretteacher', 'sect', 'section', 'sectret', 'secular', 'secularism', 'secure', 'securetheborder', 'security', 'sedate', 'sedative', 'sedentary', 'sedg', 'sedih', 'sedition', 'seduce', 'see', 'seed', 'seedattle', 'seee', 'seeeeeeeee', 'seeepers', 'seein', 'seek', 'seeker', 'seekha', 'seelie', 'seem', 'seemingly', 'seenitherefirst', 'seeps', 'seesaw', 'seethe', 'sef', 'sefo', 'sega', 'segalink', 'seger', 'segment', 'segno', 'segragation', 'segregation', 'seguin', 'seh', 'sehun', 'sehyoon', 'seige', 'seiji', 'seijuurou', 'seinfeld', 'seiros', 'seishomaru', 'seisiaaa', 'seiten', 'seiyuu', 'seize', 'seizure', 'sejeong', 'sekai', 'selangor', 'selby', 'selca', 'seldom', 'select', 'selection', 'selective', 'selects', 'selena', 'selenium', 'self', 'selfevaluatingartwork', 'selfff', 'selfie', 'selfies', 'selfish', 'selfishly', 'selfishness', 'selfless', 'selig', 'sell', 'seller', 'sellin', 'sellout', 'selmon', 'seltzer', 'sema', 'semana', 'semantically', 'sematary', 'semen', 'semester', 'semetic', 'semi', 'semifinal', 'seminar', 'seminary', 'seminole', 'semite', 'semitic', 'semureloa', 'senat', 'senate', 'senator', 'send', 'sendejo', 'sender', 'sendlindseyhome', 'sends', 'seneca', 'sengar', 'senial', 'senile', 'senior', 'senjougahara', 'senku', 'senneker', 'senorita', 'senpai', 'sens', 'sensation', 'sensational', 'sensationalist', 'sense', 'senseless', 'sensibility', 'sensible', 'sensitive', 'sensitivity', 'sensor', 'sensory', 'sensual', 'sent', 'sentai', 'sentence', 'sentiment', 'sentimental', 'sentio', 'sentireeee', 'sento', 'sentosa', 'sentry', 'senzel', 'seok', 'seokjin', 'seokmin', 'seol', 'seonaid', 'seonghwa', 'seongwu', 'seoul', 'sep', 'separate', 'separately', 'separation', 'separatist', 'seperate', 'sephiroth', 'sepia', 'seppuku', 'sept', 'september', 'septic', 'septum', 'seq', 'sequal', 'sequel', 'sequence', 'sequin', 'sequitur', 'sequoia', 'seraph', 'serb', 'serbia', 'seren', 'serena', 'serene', 'serengeti', 'serenity', 'serf', 'serfdom', 'serge', 'sergeant', 'sergey', 'sergio', 'serial', 'serie', 'series', 'serious', 'seriously', 'seriousness', 'seriousssss', 'serivice', 'serizawa', 'serkis', 'sermon', 'serotonin', 'serpent', 'serum', 'servant', 'serve', 'server', 'servere', 'serverless', 'service', 'serviceable', 'serviceman', 'servitude', 'sesame', 'sesh', 'sess', 'sessegnon', 'session', 'sessioners', 'set', 'setback', 'setembro', 'seteth', 'seth', 'sethbling', 'sethlehem', 'sethrollins', 'setlist', 'seto', 'setteth', 'setting', 'settle', 'settler', 'setup', 'seulgi', 'seumanutafa', 'seun', 'seunghun', 'seungkwan', 'seungri', 'seungwoo', 'seungyoun', 'seuss', 'sevco', 'seven', 'seventeen', 'seventeenth', 'seventh', 'sever', 'several', 'severe', 'severely', 'severeweather', 'severity', 'severs', 'seville', 'sew', 'sewage', 'sewer', 'sewn', 'sex', 'sexarella', 'sexey', 'sexia', 'sexie', 'sexier', 'sexiest', 'sexism', 'sexist', 'sextet', 'sextette', 'sexting', 'sexual', 'sexuality', 'sexualize', 'sexually', 'sexxii', 'sexy', 'seyfried', 'seyi', 'sf', 'sfadsdshdhs', 'sfblocked', 'sfgiants', 'sfo', 'sfop', 'sfsu', 'sfv', 'sg', 'sgeuropa', 'sgrhos', 'sgsgdfsgsa', 'sgt', 'sh', 'sha', 'shaa', 'shaadi', 'shaan', 'shack', 'shackle', 'shade', 'shadeee', 'shadesofgrey', 'shadiest', 'shadow', 'shadoweaver', 'shadowhunters', 'shadowman', 'shadowverse', 'shadowy', 'shady', 'shaffer', 'shaft', 'shag', 'shah', 'shahbaz', 'shahid', 'shahjahan', 'shaina', 'shajirat', 'shake', 'shakedown', 'shaken', 'shaker', 'shakespeare', 'shakespearean', 'shakey', 'shakha', 'shakily', 'shakinfjdjsnsb', 'shakira', 'shaks', 'shaku', 'shaky', 'shall', 'shallow', 'shalom', 'shalot', 'shalt', 'shalwar', 'sham', 'shaman', 'shamble', 'shame', 'shamee', 'shameful', 'shameless', 'shamelessly', 'shamila', 'shamity', 'shampoo', 'shamrock', 'shanahan', 'shandy', 'shane', 'shang', 'shanghai', 'shangri', 'shania', 'shank', 'shannon', 'shant', 'shantae', 'shante', 'shanti', 'shaodwhunters', 'shape', 'shapely', 'shaper', 'shapeshifter', 'shapiro', 'shapo', 'shaq', 'shaqiri', 'shard', 'share', 'sharechuu', 'sharedmvp', 'shareholder', 'shari', 'sharia', 'sharif', 'shark', 'sharkbot', 'sharkeez', 'sharknado', 'sharmon', 'sharon', 'sharp', 'sharpen', 'sharpest', 'sharpie', 'sharpner', 'sharpton', 'shat', 'shatta', 'shattenkirk', 'shatter', 'shattereddd', 'shatters', 'shaun', 'shave', 'shaw', 'shawlessia', 'shawmila', 'shawn', 'shawnmendesbirthday', 'shawnna', 'shawols', 'shawty', 'shawzin', 'shay', 'shaykh', 'shayo', 'shaytaan', 'shazam', 'shb', 'shciwjjcs', 'shd', 'shdjdkks', 'shea', 'shead', 'sheard', 'shearer', 'sheath', 'sheck', 'shed', 'shedly', 'sheeeeesh', 'sheeeesh', 'sheeesh', 'sheehy', 'sheeit', 'sheen', 'sheena', 'sheep', 'sheepdog', 'sheepish', 'sheer', 'sheeran', 'sheesh', 'sheet', 'sheewwwt', 'sheffield', 'sheik', 'sheikh', 'sheila', 'sheit', 'shelbows', 'shelby', 'shelf', 'shelia', 'shell', 'shelley', 'shellie', 'shelter', 'shelton', 'shelve', 'shenanigan', 'shep', 'shepard', 'shepherd', 'sheppychomo', 'shera', 'sheraseason', 'sheraton', 'sherbet', 'shereen', 'sheriff', 'sherlock', 'sheryl', 'shes', 'shesagod', 'shesfreaky', 'shesshh', 'shet', 'shey', 'shft', 'shgurr', 'shh', 'shhh', 'shhheeesh', 'shhhhh', 'shhhhhhh', 'shhhht', 'shi', 'shia', 'shiba', 'shibboleth', 'shibuya', 'shid', 'shidd', 'shiddd', 'shidi', 'shield', 'shieren', 'shift', 'shiftless', 'shifty', 'shigaraki', 'shigure', 'shih', 'shii', 'shiiet', 'shiiiiii', 'shiiiiiiiit', 'shiiiiiit', 'shiiiiiz', 'shiiit', 'shiit', 'shiitt', 'shikari', 'shilique', 'shill', 'shiloh', 'shimamura', 'shin', 'shindig', 'shindings', 'shindler', 'shine', 'shinee', 'shiney', 'shingeki', 'shingle', 'shinichi', 'shinin', 'shinji', 'shink', 'shinkai', 'shino', 'shinsou', 'shiny', 'shior', 'ship', 'shipley', 'shipment', 'shipp', 'shippear', 'shipper', 'shipping', 'shippy', 'shipyard', 'shirai', 'shire', 'shirikodama', 'shirkey', 'shirley', 'shiro', 'shirou', 'shirry', 'shirt', 'shirtless', 'shisha', 'shit', 'shitbag', 'shite', 'shitest', 'shithappens', 'shithead', 'shithole', 'shitholes', 'shithouse', 'shithouses', 'shitload', 'shitmongers', 'shitperson', 'shitpost', 'shitposting', 'shitposts', 'shitshow', 'shitt', 'shittest', 'shitties', 'shittiest', 'shittinn', 'shitts', 'shittt', 'shitttist', 'shitttt', 'shittttt', 'shitty', 'shiv', 'shiva', 'shizaya', 'shizhole', 'shiznet', 'shizui', 'shizun', 'shkds', 'shlaps', 'shld', 'shlda', 'shlick', 'shmear', 'shnoz', 'sho', 'shoate', 'shock', 'shocker', 'shockingly', 'shoe', 'shoebox', 'shoelace', 'shoelift', 'shoey', 'shokrn', 'shonda', 'shondaland', 'shonen', 'shoneys', 'shoo', 'shook', 'shoot', 'shooter', 'shooting', 'shootingstars', 'shootout', 'shop', 'shophmore', 'shopkvlly', 'shoplifter', 'shopmycloset', 'shoppe', 'shopper', 'shoppin', 'shopping', 'shordy', 'shore', 'shoreline', 'shoriwa', 'short', 'shortage', 'shortcake', 'shortcut', 'shorten', 'shortens', 'shorter', 'shortest', 'shorties', 'shortish', 'shortlist', 'shortly', 'shortness', 'shorty', 'shot', 'shotgun', 'shotgunned', 'shoto', 'shottas', 'shotters', 'shoulda', 'shoulder', 'shouldnt', 'shouldve', 'shouls', 'shounen', 'shout', 'shouta', 'shoutdrive', 'shoutirc', 'shoutout', 'shove', 'shovel', 'show', 'showbiz', 'showbusiness', 'showcase', 'showcased', 'showcasing', 'showdown', 'shower', 'showgirl', 'showgrounds', 'showin', 'showman', 'shownu', 'showtime', 'showtimebidangbida', 'shrama', 'shred', 'shredder', 'shrek', 'shrew', 'shrewd', 'shrewdness', 'shri', 'shrieky', 'shrilly', 'shrimp', 'shrine', 'shrink', 'shrivel', 'shrivels', 'shroud', 'shrug', 'shrunk', 'shshsh', 'shsjshavahagaha', 'shsjshsbssj', 'shsl', 'shsu', 'sht', 'shts', 'shu', 'shubman', 'shud', 'shudder', 'shuddup', 'shuffle', 'shuga', 'shui', 'shulder', 'shulk', 'shun', 'shuns', 'shure', 'shurmur', 'shuru', 'shush', 'shut', 'shuta', 'shutdown', 'shutdownthenra', 'shutout', 'shuts', 'shuttle', 'shutup', 'shutupsksk', 'shuuuut', 'shxt', 'shy', 'shyly', 'shyt', 'shyyyy', 'siamese', 'sib', 'siberia', 'sibling', 'sic', 'sica', 'sicc', 'sicilian', 'sick', 'sicken', 'sickeninggggg', 'sickens', 'sickest', 'sickkk', 'sickkkkk', 'sickle', 'sickness', 'sickning', 'sicknote', 'sicko', 'sid', 'siddu', 'side', 'sidebar', 'sideburn', 'sidecar', 'sideee', 'sidehustlechat', 'sidekick', 'sideline', 'sidenote', 'sideroxylon', 'sideshow', 'sidewalk', 'sideways', 'sidibe', 'sidney', 'sidon', 'sidsquiz', 'siege', 'siegfried', 'siem', 'siemian', 'siempre', 'siena', 'sienkiewicz', 'sienna', 'sierra', 'sierranevada', 'sif', 'sigeh', 'siggy', 'sigh', 'sighhh', 'sight', 'sigi', 'sigler', 'sigma', 'sigmoira', 'sign', 'signal', 'signature', 'significance', 'significant', 'significantly', 'signify', 'signing', 'signless', 'signup', 'signwriting', 'siguro', 'sih', 'sihanoukvi', 'sihks', 'sihyuk', 'siii', 'sijui', 'sike', 'sikh', 'sila', 'silberman', 'silence', 'silent', 'silently', 'silhouette', 'silicon', 'silicone', 'silk', 'silkiest', 'silkk', 'silky', 'silkyloona', 'sill', 'silliest', 'silly', 'silva', 'silver', 'silverisbetter', 'silverseed', 'sim', 'simba', 'similar', 'similarity', 'similarly', 'simmer', 'simmmm', 'simmo', 'simmons', 'simo', 'simon', 'simone', 'simopuppu', 'simp', 'simple', 'simpler', 'simplest', 'simpleton', 'simplicity', 'simplify', 'simplistic', 'simply', 'simps', 'simpson', 'sims', 'simulator', 'simultaneously', 'simultaniously', 'sinaaaa', 'since', 'sincere', 'sincerely', 'sinclair', 'sincos', 'sindhi', 'sing', 'singapore', 'singer', 'singgg', 'singh', 'singin', 'single', 'singlehandedly', 'singlet', 'singletary', 'singleuseplastic', 'sings', 'singular', 'singularity', 'sinise', 'sink', 'sinkhole', 'sinking', 'sinner', 'sinnoh', 'sinus', 'sinusitis', 'sinve', 'siobhan', 'sioux', 'siouxsie', 'sip', 'sipon', 'sipp', 'sippin', 'sippy', 'sippys', 'sir', 'sirdee', 'sirdick', 'sire', 'siren', 'siri', 'sirius', 'sirji', 'sirloin', 'siruthai', 'sirve', 'sis', 'sisi', 'sisisi', 'sisper', 'sissified', 'sissoko', 'sissy', 'sista', 'sister', 'sistershower', 'sistine', 'sitc', 'sitcom', 'site', 'sith', 'siti', 'sits', 'sitter', 'sittin', 'sitting', 'situate', 'situation', 'siva', 'sivan', 'siwon', 'six', 'sixer', 'sixteen', 'sixth', 'sixtones', 'siya', 'size', 'sizzle', 'sizzloz', 'sizzy', 'sj', 'sjava', 'sjdhdj', 'sjdj', 'sjdjd', 'sjdjdj', 'sjdjdjd', 'sjdndjdj', 'sjdnjssj', 'sjhdjs', 'sjhejeheeusjdidbsusbe', 'sjksj', 'sjoke', 'sjquote', 'sjsj', 'sjsjjd', 'sjsjjssn', 'sjskks', 'sjsksjsks', 'sjssjdjdjd', 'sjw', 'sjws', 'sk', 'ska', 'skag', 'skai', 'skam', 'skarlet', 'skarma', 'skarsgard', 'skate', 'skateboard', 'skater', 'skdjgslkfjskhfg', 'skdkdjdkdkdkdkdk', 'skdkdkd', 'skdkdkdkskdsk', 'skdkdks', 'skdkkcnsjdsj', 'skdks', 'skdlskdhdks', 'skdskwjsj', 'skeeter', 'skeleton', 'skeppy', 'skepta', 'skeptical', 'sket', 'sketch', 'sketchbook', 'sketchnotes', 'sketchy', 'skets', 'skew', 'skfjfjc', 'skfns', 'skhanda', 'ski', 'skid', 'skier', 'skiing', 'skill', 'skilled', 'skiller', 'skillet', 'skillz', 'skim', 'skimp', 'skin', 'skincare', 'skinhead', 'skinner', 'skinny', 'skinnyyyy', 'skint', 'skip', 'skipper', 'skirmish', 'skirt', 'skit', 'skiumah', 'skl', 'skol', 'skooma', 'skosko', 'skraight', 'skrapped', 'skressful', 'skrillex', 'skrt', 'sksbdk', 'skshhdjdbf', 'skshskjssj', 'sksjs', 'sksjsjdj', 'sksjsks', 'sksjsksj', 'skskdksn', 'skskk', 'skskksjs', 'skskksks', 'sksks', 'sksksj', 'sksksjdks', 'sksksk', 'skskskk', 'skskskks', 'skskskkss', 'sksksks', 'sksksksks', 'sksksksksk', 'skull', 'skunk', 'sky', 'skydome', 'skyhook', 'skylar', 'skylark', 'skyleap', 'skyler', 'skyline', 'skypapers', 'skype', 'skyrim', 'skyrocket', 'skyscraper', 'skyway', 'skz', 'sl', 'sla', 'slack', 'slacker', 'slag', 'slake', 'slam', 'slame', 'slander', 'slanderous', 'slang', 'slant', 'slap', 'slapdicks', 'slapper', 'slartibartfast', 'slash', 'slasher', 'slat', 'slate', 'slater', 'slather', 'slattery', 'slaughter', 'slaughterhouse', 'slave', 'slaver', 'slavery', 'slay', 'slayed', 'slayer', 'sleaze', 'sleaziest', 'sleazy', 'sled', 'sledge', 'sleeep', 'sleek', 'sleep', 'sleeper', 'sleepeth', 'sleepin', 'sleepless', 'sleeponme', 'sleepover', 'sleepy', 'sleesh', 'sleeve', 'sleeved', 'sleeveless', 'sleevenotes', 'sleigh', 'slender', 'slepp', 'slept', 'slew', 'slice', 'slicer', 'slick', 'slid', 'slide', 'slideeeeee', 'slider', 'slight', 'slightest', 'slightly', 'sliiiiiiide', 'slim', 'slimani', 'slimdaddy', 'slime', 'slimeb', 'slimeball', 'slimey', 'slimy', 'sling', 'slingin', 'slingshot', 'slinky', 'slip', 'slipknot', 'slippage', 'slipper', 'slipperiness', 'slippery', 'slippin', 'slit', 'sliver', 'slizer', 'slkgnrhd', 'sloan', 'slob', 'slog', 'slogan', 'slop', 'slope', 'sloppy', 'slot', 'slough', 'slovakia', 'slow', 'slowdown', 'slowest', 'slowey', 'slowly', 'slowmotion', 'slows', 'slsiwi', 'slsllsdl', 'slug', 'slugger', 'slumber', 'slumerican', 'slump', 'slur', 'slurp', 'slush', 'slushees', 'slushie', 'slushies', 'slushy', 'slut', 'slutfluff', 'slv', 'sly', 'slye', 'slytherin', 'sm', 'smaccing', 'smack', 'smackdown', 'smackin', 'smackkkk', 'smade', 'small', 'smallbiz', 'smallness', 'smalltalk', 'smallwood', 'smarmy', 'smart', 'smarta', 'smartdecision', 'smarter', 'smartest', 'smarthome', 'smartmodel', 'smartphone', 'smartrise', 'smartupdates', 'smartwood', 'smarty', 'smash', 'smashcon', 'smasher', 'smashultimate', 'smatter', 'smc', 'smd', 'smdh', 'smeagol', 'smear', 'smeg', 'smehow', 'smell', 'smellically', 'smelly', 'smelt', 'smeltzer', 'smfh', 'smh', 'smhh', 'smhhhh', 'smidge', 'smile', 'smilesfornialls', 'smilesrfreealways', 'smiley', 'smirk', 'smirky', 'smirnoff', 'smirnoffs', 'smite', 'smith', 'smithereens', 'smitten', 'smitty', 'smme', 'smn', 'smoak', 'smoke', 'smokea', 'smokedalbacoretuna', 'smokehouse', 'smoker', 'smokescreen', 'smokey', 'smokin', 'smoking', 'smoky', 'smol', 'smoll', 'smollet', 'smollett', 'smolsprout', 'smooch', 'smoosh', 'smooth', 'smoother', 'smoothest', 'smoothie', 'smoothly', 'smoothness', 'smoothy', 'smores', 'smother', 'smplive', 'smt', 'smth', 'smthn', 'smtwon', 'smu', 'smudge', 'smug', 'smuggle', 'smuggler', 'smunsa', 'smurf', 'smurfsvillage', 'smushed', 'smut', 'sn', 'snaccu', 'snack', 'snacxxx', 'snag', 'snail', 'snake', 'snap', 'snapbacks', 'snapchat', 'snapchats', 'snapcube', 'snappandrew', 'snare', 'snarky', 'snatch', 'snatcher', 'snd', 'sndnsj', 'snead', 'sneak', 'sneaker', 'sneakily', 'sneaky', 'sneer', 'sneeze', 'snes', 'snf', 'snfdjfjdhdhdh', 'sng', 'snhn', 'snicker', 'sniff', 'sniffed', 'sniffle', 'snipe', 'sniper', 'snippet', 'snitch', 'snivel', 'snjdnmfgnklmgffvnkasd', 'snl', 'snob', 'snobbery', 'snog', 'snoh', 'snoop', 'snoopybowl', 'snooty', 'snooze', 'snore', 'snorkel', 'snorlax', 'snort', 'snot', 'snotty', 'snow', 'snowball', 'snowboard', 'snowcones', 'snowden', 'snowflake', 'snowman', 'snowshoe', 'snowsos', 'snowy', 'snp', 'snsd', 'snsjsk', 'snsksk', 'snubbed', 'snuck', 'snuff', 'snug', 'snuggle', 'snugglemane', 'snyder', 'snydercut', 'soak', 'soaktron', 'soannoying', 'soap', 'soapbox', 'soar', 'sob', 'sobbed', 'sober', 'sobra', 'sobrang', 'sobriety', 'soca', 'socal', 'soccer', 'soccery', 'socci', 'social', 'socialigamd', 'socialism', 'socialismsucks', 'socialist', 'socialize', 'socially', 'socialmedia', 'socialservices', 'societal', 'society', 'sociology', 'sociooathic', 'sociopath', 'sociopathic', 'sociopathinchief', 'sock', 'socket', 'sockman', 'sockpuppets', 'socorrooo', 'socrates', 'socratis', 'socute', 'sod', 'soda', 'sodha', 'sodium', 'sodomy', 'soen', 'sof', 'sofa', 'sofine', 'sofroh', 'soft', 'softball', 'softblock', 'softcore', 'soften', 'softer', 'softest', 'softie', 'softly', 'softness', 'software', 'sogginess', 'soggy', 'soil', 'soir', 'sojourn', 'sojourner', 'soju', 'sokka', 'sokratis', 'sol', 'solace', 'solar', 'solaris', 'solder', 'soldier', 'sole', 'soledad', 'soleil', 'solely', 'solemn', 'solemnly', 'solicit', 'solid', 'solidarity', 'solidity', 'solinski', 'solitaire', 'solitary', 'solitude', 'solkar', 'solksjaer', 'sollu', 'sollux', 'solo', 'soloist', 'solskj', 'solskjaer', 'solstice', 'solum', 'solution', 'solve', 'solway', 'somali', 'somalia', 'somber', 'sombody', 'sombrero', 'somebody', 'someday', 'somedays', 'somehing', 'somehow', 'someome', 'someomes', 'someone', 'someonee', 'someonewere', 'somepeopleskids', 'someplace', 'somersethour', 'somet', 'somethin', 'something', 'somethings', 'sometime', 'sometimes', 'sometimesgod', 'someway', 'somewhat', 'somewhere', 'somizi', 'somone', 'somthing', 'somthn', 'somtimes', 'somuch', 'sona', 'sonbing', 'sone', 'soneone', 'song', 'songbird', 'songco', 'songggggggggg', 'songo', 'songstress', 'songwriter', 'songwriting', 'sonia', 'sonic', 'sonny', 'sonnysignsoff', 'sony', 'sonya', 'soo', 'soobin', 'soolo', 'soompiawards', 'soon', 'sooner', 'soonest', 'soonhoons', 'soonkyu', 'soonyoung', 'sooo', 'soook', 'sooon', 'soooo', 'sooooo', 'soooooo', 'sooooooo', 'sooooooooo', 'soooorry', 'soothe', 'soothes', 'sootopolis', 'sooubway', 'sooyoung', 'sop', 'sope', 'soph', 'sophie', 'sophisticated', 'sophomore', 'soprano', 'sora', 'sorabot', 'sorbet', 'sorcery', 'sore', 'sorely', 'sorey', 'soriano', 'soribada', 'sorority', 'soros', 'sorrow', 'sorrryyy', 'sorry', 'sort', 'sorta', 'sosa', 'sosfam', 'sososo', 'sothis', 'sotw', 'soty', 'soufend', 'soug', 'soul', 'soulbox', 'soulcalibur', 'soulchild', 'soulcycle', 'souled', 'soulesscycle', 'soulfood', 'soulja', 'soulless', 'soulmate', 'soulmates', 'soulsearching', 'soulsonic', 'sound', 'soundboard', 'soundchecking', 'soundcloud', 'soundly', 'soundtrack', 'soup', 'soupy', 'sour', 'source', 'sourdough', 'sourgrapes', 'sourpuss', 'south', 'southampton', 'southaven', 'southbound', 'southeast', 'southern', 'southerncharm', 'southerncharmnola', 'southerner', 'southfield', 'southpoint', 'southshow', 'southside', 'southward', 'southwest', 'souuubbwayyy', 'sovereign', 'sovereignty', 'soviet', 'sow', 'sowmya', 'sown', 'sowwy', 'sox', 'soxs', 'soya', 'soyboy', 'soycialists', 'soz', 'soze', 'sozialist', 'sp', 'spa', 'space', 'spacecraft', 'spacedoutradio', 'spacefest', 'spacemuseum', 'spaceship', 'spacestartshere', 'spacesuit', 'spacetime', 'spacex', 'spacious', 'spacylounge', 'spade', 'spader', 'spaetzle', 'spag', 'spaghetti', 'spaghetto', 'spagnebob', 'spain', 'spake', 'spam', 'spammed', 'spamming', 'span', 'spanch', 'spandex', 'spanglish', 'spaniard', 'spaniel', 'spanish', 'spank', 'spankin', 'spanking', 'spanky', 'spanx', 'spar', 'sparclones', 'spare', 'spark', 'sparkin', 'sparkle', 'sparkly', 'sparky', 'sparrow', 'spartan', 'spasm', 'spastic', 'spat', 'spatula', 'spawn', 'spay', 'spaz', 'spazzed', 'spazzy', 'spcl', 'speading', 'speak', 'speaker', 'speaks', 'spear', 'spec', 'special', 'specialguest', 'specialise', 'specialises', 'specialist', 'speciality', 'specialized', 'specializes', 'specialty', 'specie', 'specific', 'specifically', 'specify', 'specimen', 'speck', 'spectacle', 'spectaculat', 'spectator', 'spectral', 'spectre', 'spectrum', 'speculation', 'speech', 'speechless', 'speed', 'speedboat', 'speedlab', 'speedo', 'speedojuniornationals', 'speedrun', 'speedster', 'speedway', 'speedy', 'speeeeeeeeed', 'spell', 'spellbound', 'spellman', 'spelt', 'spence', 'spencer', 'spences', 'spend', 'spending', 'spendiola', 'spends', 'spent', 'spera', 'sperm', 'spermies', 'spew', 'spews', 'spex', 'spf', 'spheroid', 'sphincter', 'sphinx', 'spice', 'spiciest', 'spicoli', 'spicy', 'spicychickennuggets', 'spider', 'spiderearlplot', 'spiderman', 'spidermouthes', 'spiderverse', 'spidey', 'spiel', 'spiele', 'spielen', 'spieth', 'spike', 'spill', 'spilll', 'spilt', 'spin', 'spinach', 'spinal', 'spine', 'spineless', 'spiner', 'spinner', 'spinoff', 'spiral', 'spiralizes', 'spirit', 'spiritedness', 'spiritual', 'spiritually', 'spit', 'spitballing', 'spite', 'spiteful', 'spitefully', 'spitfire', 'spitter', 'spivi', 'spl', 'splaning', 'splash', 'splashdown', 'splashtown', 'splashy', 'splatfest', 'splatoon', 'splatter', 'splendid', 'splendor', 'spliff', 'split', 'splitter', 'splitting', 'sploitation', 'spmt', 'spn', 'spock', 'spoil', 'spoiler', 'spoilt', 'spokane', 'spoke', 'spoken', 'spokesman', 'spokesperson', 'spokeswoman', 'spong', 'sponge', 'spongebob', 'spongebobs', 'spongeboy', 'sponsor', 'sponsorship', 'spontaneous', 'spontaneously', 'spoof', 'spook', 'spookaroni', 'spookier', 'spooky', 'spoon', 'spoonful', 'spoonie', 'spoonz', 'spore', 'spork', 'sport', 'sportsball', 'sportsbet', 'sportsmanship', 'sporty', 'spose', 'spot', 'spotify', 'spotless', 'spotlight', 'spotty', 'spouse', 'spout', 'spr', 'sprain', 'spraint', 'spray', 'sprayed', 'sprayer', 'spraypaint', 'spread', 'spreadable', 'spreader', 'spreadsheet', 'spree', 'sprews', 'spring', 'springer', 'springfield', 'springst', 'sprinkle', 'sprint', 'sprinter', 'sprite', 'spritz', 'sproles', 'sprout', 'spryte', 'spsm', 'spudnuts', 'spun', 'spur', 'spurgeon', 'spurt', 'sputter', 'spx', 'spy', 'spygate', 'spyro', 'sq', 'sqq', 'squabble', 'squad', 'squalo', 'squalor', 'squander', 'square', 'squarely', 'squarepants', 'squashies', 'squat', 'squawk', 'squawka', 'squawker', 'squeak', 'squeakys', 'squeal', 'squealer', 'squeel', 'squeeze', 'squid', 'squidward', 'squidy', 'squiggle', 'squint', 'squinty', 'squintz', 'squire', 'squirm', 'squirrel', 'squirrelbred', 'squirt', 'squirtbottle', 'squirtle', 'squish', 'squishiest', 'squishy', 'squog', 'squre', 'sr', 'sra', 'sreaming', 'srebrenica', 'sri', 'srinagar', 'sriracha', 'srkatlatrobe', 'srpt', 'srry', 'srsly', 'srt', 'sry', 'ss', 'ssc', 'sschat', 'ssd', 'sseulgi', 'ssg', 'ssh', 'sshhh', 'sshhhh', 'ssi', 'ssion', 'ssm', 'ssmb', 'ssn', 'ssooooo', 'ssr', 'ssri', 'ssx', 'st', 'stab', 'stabbed', 'stabber', 'stabbings', 'stability', 'stable', 'stabler', 'stacc', 'stacey', 'staciecoker', 'stack', 'stacy', 'stadium', 'staff', 'staffer', 'stafford', 'staffordshire', 'stag', 'stage', 'stagflation', 'stagger', 'stagnant', 'stahppp', 'stain', 'stainless', 'stair', 'staircase', 'stairmaster', 'stairway', 'stairwell', 'stake', 'stale', 'staleys', 'stalin', 'stalk', 'stalker', 'stalkerish', 'stall', 'stallion', 'stallone', 'stamen', 'stamendment', 'stamford', 'stammer', 'stamp', 'stampede', 'stampeders', 'stan', 'stance', 'stand', 'standard', 'standby', 'standee', 'standing', 'standoffish', 'standout', 'standpoint', 'standup', 'standwithiraqirefugees', 'standwithkashmir', 'stanfill', 'stanford', 'stanhope', 'stank', 'stanky', 'stanley', 'stanned', 'stannies', 'stanning', 'stannis', 'stans', 'stanton', 'staple', 'stapler', 'staplesstudio', 'stapp', 'star', 'starboy', 'starbucks', 'starch', 'stard', 'stardew', 'stardust', 'stare', 'starfire', 'starfox', 'stark', 'starkel', 'starkid', 'starkist', 'starlet', 'starlight', 'starseeker', 'starship', 'starski', 'starspangledbanner', 'start', 'startee', 'starter', 'startin', 'startle', 'startrek', 'startsa', 'startup', 'starvation', 'starve', 'starwars', 'stasi', 'stasis', 'stat', 'statcast', 'state', 'statement', 'stater', 'statesman', 'statesmanship', 'statham', 'static', 'station', 'stationary', 'statisfies', 'statist', 'statistic', 'statistical', 'statistically', 'statment', 'statpad', 'stats', 'statue', 'status', 'statusquojoe', 'statutory', 'staubac', 'stawell', 'stawpppp', 'stay', 'staycation', 'stayed', 'stayhealthy', 'stayreddy', 'staythirstmyfriends', 'staywoke', 'stayyy', 'std', 'stdaywithkisses', 'stead', 'steadily', 'steady', 'steagall', 'steak', 'steal', 'stealin', 'stealth', 'stealthy', 'steam', 'steamdrills', 'steamy', 'stedfastbaptistchurch', 'steeet', 'steel', 'steelbook', 'steele', 'steeler', 'steelers', 'steep', 'steeple', 'steer', 'steezey', 'stef', 'stefan', 'stefani', 'stefano', 'steffen', 'steffi', 'stefflon', 'steffy', 'steggy', 'stegosaurus', 'steinman', 'steinmart', 'stella', 'stellan', 'stellar', 'stelter', 'stem', 'stench', 'stenographer', 'stentorian', 'step', 'stepdaughter', 'stepford', 'steph', 'stephanie', 'stephen', 'stephenson', 'stephon', 'stepmom', 'stepmother', 'steppe', 'steppin', 'steppping', 'steptoe', 'stereo', 'stereotype', 'stereotypical', 'sterling', 'steroid', 'stetoscope', 'steve', 'steven', 'stevenross', 'stevens', 'stevenson', 'steveross', 'stevia', 'stevie', 'stew', 'steward', 'stewart', 'stewie', 'steyer', 'stfu', 'stg', 'stgrade', 'sth', 'sthulinger', 'sti', 'stick', 'sticker', 'stickered', 'stickerino', 'stickly', 'stickup', 'sticky', 'stidham', 'stidman', 'stiff', 'stigated', 'stigma', 'stigmatize', 'stikny', 'stil', 'stiletto', 'still', 'stillahoedoe', 'stiller', 'stilllll', 'stillwell', 'stimulate', 'stin', 'sting', 'stingy', 'stink', 'stinkbridge', 'stinker', 'stinkmeaner', 'stinky', 'stir', 'stitch', 'stitcher', 'stiull', 'stl', 'stleger', 'stmainesary', 'stmarysnorthcote', 'stochastic', 'stock', 'stockbroker', 'stocker', 'stockholm', 'stocking', 'stocky', 'stoic', 'stoke', 'stole', 'stomach', 'stomachache', 'stomp', 'stompin', 'stone', 'stoneman', 'stonemason', 'stoner', 'stony', 'stood', 'stooge', 'stool', 'stoop', 'stoopid', 'stoopp', 'stop', 'stopacta', 'stopbrexit', 'stopfundingnpr', 'stopit', 'stoppard', 'stopper', 'stoppgkfjfjfjjf', 'stoppp', 'stopspending', 'stopthebias', 'storage', 'store', 'storied', 'storm', 'stormblood', 'stormcloaks', 'stormy', 'stormzy', 'story', 'storyboarding', 'storyline', 'storyteller', 'storytelling', 'storzk', 'stout', 'stove', 'stow', 'stp', 'str', 'stradivarius', 'strahovski', 'straight', 'straightassholeness', 'straightedge', 'straighten', 'straightforward', 'strain', 'strait', 'strand', 'strange', 'strangely', 'stranger', 'strangerly', 'strangersthings', 'strangerthings', 'strangest', 'strangezero', 'strangle', 'strap', 'strat', 'strategicon', 'strategy', 'stratus', 'strauss', 'straw', 'strawberry', 'stray', 'straykatz', 'streak', 'streaker', 'streaky', 'stream', 'streamer', 'streamlabs', 'streamline', 'streep', 'street', 'streetcar', 'streetlight', 'streetwear', 'strenf', 'strength', 'strengthen', 'strengthens', 'strenuous', 'strep', 'stress', 'stresser', 'stressful', 'stressin', 'stretch', 'stricken', 'strict', 'stricter', 'strictions', 'strictly', 'stricture', 'stride', 'strident', 'strief', 'strike', 'strikeout', 'strikepacking', 'striker', 'string', 'stringer', 'strip', 'stripe', 'stripling', 'stripper', 'strive', 'strke', 'stroh', 'stroke', 'stroll', 'stroller', 'stroman', 'stromgald', 'strong', 'strongertogether', 'stronghold', 'strongly', 'stroooong', 'strozk', 'stru', 'struck', 'structural', 'structure', 'struggle', 'strugglin', 'strummers', 'strumpet', 'stryker', 'strzok', 'stu', 'stuart', 'stub', 'stubble', 'stubborn', 'stubbornness', 'stubbs', 'stucc', 'stuck', 'stucture', 'stud', 'studders', 'student', 'studio', 'study', 'stuff', 'stuffed', 'stuffer', 'stuffy', 'stuiped', 'stumble', 'stump', 'stun', 'stunk', 'stunt', 'stuntin', 'stupid', 'stupided', 'stupider', 'stupidest', 'stupidity', 'stupidly', 'sturmabteilung', 'stutter', 'stutting', 'stutts', 'style', 'stylings', 'stylise', 'stylish', 'stylist', 'stzok', 'suarez', 'suave', 'suavest', 'suavetown', 'subaru', 'subashchandrabose', 'subbed', 'subbies', 'subconscious', 'subconsciously', 'subcontractor', 'subdue', 'subes', 'subforum', 'subfunded', 'subha', 'subin', 'subir', 'subject', 'subjective', 'subke', 'sublease', 'sublime', 'submarine', 'submerge', 'submission', 'submissive', 'submit', 'submits', 'subnautica', 'subordinate', 'subpeonas', 'subplot', 'subpoena', 'subprime', 'subramanium', 'subreddit', 'subsaharan', 'subscribe', 'subscribed', 'subscriber', 'subscription', 'subsequent', 'subservient', 'subset', 'subside', 'subsides', 'subsidise', 'subsidize', 'subsidy', 'substance', 'substantial', 'substantially', 'substantiate', 'substitute', 'subtext', 'subtitle', 'subtle', 'subtlety', 'subtly', 'subtract', 'subtweet', 'subtweeting', 'subtweets', 'subunit', 'suburb', 'suburban', 'subversive', 'subway', 'succc', 'succeed', 'succesful', 'succesfully', 'success', 'successful', 'successfully', 'succubus', 'succumb', 'sucha', 'suck', 'suckas', 'sucker', 'suckerrrrrs', 'suckertuckercarlson', 'suckin', 'sucymoon', 'sudafed', 'sudden', 'suddenly', 'suddenness', 'sudfeld', 'suede', 'suegbe', 'suegordon', 'sufc', 'suffer', 'suffers', 'suffice', 'sufficient', 'suffolk', 'sufjan', 'suga', 'sugar', 'sugarcoat', 'sugard', 'sugarloaf', 'sugary', 'suge', 'sugeremix', 'suggar', 'suggest', 'suggestion', 'suggestive', 'suggests', 'suggs', 'suh', 'suicidal', 'suicide', 'suicideawareness', 'suicideprevention', 'suicidology', 'suiciiiiideeeeeee', 'suit', 'suitable', 'suitcase', 'suite', 'suitor', 'suitsfinalseason', 'suju', 'suk', 'sukitte', 'sulby', 'sulky', 'sullen', 'sullivan', 'sully', 'sum', 'suma', 'sumburn', 'sumeragi', 'sumlin', 'summ', 'summa', 'summarize', 'summary', 'summer', 'summercampisland', 'summerell', 'summerslam', 'summertime', 'summerunderthestars', 'summin', 'summit', 'summitt', 'summmerrr', 'summon', 'summons', 'sumn', 'sumo', 'sumone', 'sumthin', 'sun', 'sunbae', 'sunbum', 'suncare', 'sundae', 'sunday', 'sundayservice', 'sundaythoughts', 'sundown', 'sundowning', 'sundress', 'suneeth', 'sunfire', 'sunflower', 'sung', 'sunggyu', 'sungj', 'sungjin', 'sunglass', 'sungmin', 'sungwoong', 'sunk', 'sunken', 'sunlight', 'sunmerslam', 'sunmi', 'sunny', 'sunnyvale', 'sunrise', 'sunscreen', 'sunset', 'sunshine', 'sunspot', 'suoh', 'sup', 'super', 'superactive', 'superb', 'superbowl', 'superbowls', 'supercat', 'supercell', 'supercharge', 'supercut', 'superdeluxe', 'superdrivetimeshow', 'superfan', 'superflex', 'superfluous', 'superfruit', 'supergroupdisbandparty', 'superhero', 'superheroe', 'superheroes', 'superheros', 'superhi', 'superimpose', 'superior', 'superiorfire', 'superiority', 'superjuniorm', 'superm', 'superman', 'supermariomaker', 'supermarket', 'supermdebuteparty', 'supermodel', 'supernatural', 'supernecessary', 'supernova', 'superpower', 'superpredators', 'supersedes', 'supersoldiers', 'supersonic', 'superstar', 'superstarfansrage', 'superstarmaheshbabu', 'superstition', 'superstore', 'superted', 'supervillain', 'supervision', 'supervisor', 'suplexed', 'supper', 'supple', 'supplement', 'supplicate', 'supply', 'suppor', 'support', 'supporter', 'supportive', 'supporttheculture', 'suppose', 'supposedly', 'suppository', 'suppost', 'suppotive', 'suppress', 'suppression', 'suprabhat', 'supremacism', 'supremacist', 'supremacy', 'supreme', 'supremecy', 'supremes', 'supremist', 'suprise', 'suprised', 'suprises', 'sure', 'surely', 'suren', 'suresh', 'surf', 'surface', 'surfboard', 'surfed', 'surfer', 'surge', 'surgeon', 'surgery', 'surgical', 'surin', 'surmise', 'surmount', 'surpass', 'surplus', 'surprise', 'surprised', 'surprising', 'surprisingly', 'surreal', 'surrender', 'surrey', 'surround', 'surroundings', 'surveillance', 'survey', 'survival', 'survive', 'survives', 'survivor', 'survivorsa', 'surya', 'susan', 'susceptible', 'sushi', 'sushmaji', 'suspect', 'suspend', 'suspender', 'suspends', 'suspense', 'suspension', 'suspicion', 'suspicious', 'suspiciously', 'sussex', 'sustain', 'sustainability', 'sustainable', 'sustenance', 'susu', 'suts', 'sutton', 'suuuper', 'suuure', 'suuuuper', 'suuuuto', 'suuuuuper', 'suuuuuuck', 'suuuuuuper', 'suv', 'sux', 'suz', 'suzi', 'suziquatro', 'suzuki', 'svg', 'svreakodnwoxns', 'svs', 'svsc', 'svt', 'svtfoe', 'svu', 'svurewatch', 'svvtf', 'sw', 'swab', 'swaddle', 'swag', 'swagger', 'swallow', 'swami', 'swamp', 'swamy', 'swan', 'swanee', 'swanqueen', 'swanson', 'swap', 'swarm', 'swarovski', 'swarthy', 'swastika', 'swat', 'swatching', 'sway', 'swayed', 'swear', 'swearrrr', 'swears', 'sweary', 'sweat', 'sweater', 'sweaties', 'sweatpants', 'sweatshirt', 'sweatsuit', 'sweaty', 'sweden', 'swedish', 'sweeet', 'sweeney', 'sweeneytakeover', 'sweep', 'sweepstakes', 'sweet', 'sweetarts', 'sweetbitter', 'sweetener', 'sweeter', 'sweetest', 'sweetheart', 'sweetie', 'sweetly', 'sweetness', 'sweetpea', 'sweettweets', 'sweety', 'swell', 'swept', 'swerve', 'swfc', 'swgalw', 'swhat', 'swiffer', 'swifiteblinks', 'swift', 'swiftie', 'swifties', 'swiftly', 'swiftness', 'swiggy', 'swill', 'swim', 'swimsuit', 'swimwear', 'swindle', 'swindon', 'swine', 'swing', 'swinney', 'swipe', 'swirl', 'swirly', 'swisher', 'swishers', 'swiss', 'switch', 'switzerland', 'swivel', 'swo', 'swollen', 'swoon', 'swoop', 'swoosh', 'sword', 'swordartonline', 'swordmaster', 'swordmasters', 'swordsman', 'swordswoman', 'swore', 'sworn', 'swp', 'swt', 'swung', 'swwwwwear', 'sx', 'sy', 'syau', 'sycophant', 'sycophantic', 'sydney', 'sydneytrains', 'sye', 'syempre', 'syllable', 'syllabus', 'sylleblossom', 'syllogism', 'sylph', 'sylvain', 'sylveon', 'symbol', 'symbolic', 'symbolique', 'symbolize', 'symmetric', 'symmetrical', 'symmetrybreakfast', 'symone', 'sympathetic', 'sympathise', 'sympathize', 'sympathizer', 'sympathy', 'symphony', 'symposium', 'symptom', 'sync', 'synchronize', 'syncophant', 'syndrome', 'synergist', 'synergy', 'synesthesia', 'synonym', 'synonymous', 'syntax', 'synth', 'synthesis', 'synthesize', 'synthie', 'synthwave', 'sypher', 'syracuse', 'syria', 'syrup', 'system', 'systemic', 'syzygy', 'sza', 'szn', 'szns', 'szrok', 'taa', 'tab', 'tabitha', 'table', 'tablet', 'tabloid', 'taboo', 'tabor', 'tacha', 'tachas', 'tachi', 'tachycardia', 'tackle', 'tacky', 'taco', 'tacobell', 'tacoma', 'tacs', 'tact', 'tactic', 'tactical', 'tactically', 'tad', 'tadka', 'tae', 'taegijin', 'taehyun', 'taehyung', 'taehyuns', 'taeil', 'taejoon', 'taekook', 'taekookweek', 'taem', 'taemin', 'taemins', 'taetiddies', 'taeyang', 'taeyeon', 'taeyeonxiu', 'taeyong', 'tag', 'tagalog', 'tage', 'tagline', 'tagteam', 'taguel', 'tahari', 'taht', 'taif', 'taika', 'tail', 'tailgate', 'tailibout', 'taillon', 'tailor', 'taint', 'tainy', 'taiwan', 'taiyaki', 'takagi', 'takaiwa', 'takanuva', 'takao', 'takasugi', 'takeabreathnowandthen', 'takeaway', 'takedown', 'takeflight', 'takeitback', 'takenn', 'takeout', 'takeover', 'taker', 'taketh', 'takin', 'takis', 'takk', 'takumi', 'talaga', 'talc', 'talent', 'talented', 'talentless', 'talesbot', 'taliban', 'talk', 'talkative', 'talker', 'talkin', 'talkless', 'talksport', 'talky', 'tall', 'tallahassee', 'tallboy', 'taller', 'tallest', 'tallstar', 'tally', 'tallywacker', 'tallyyyy', 'talm', 'talmbout', 'talon', 'talus', 'tam', 'tama', 'tamad', 'tamahome', 'tamaki', 'tamale', 'tamatea', 'tamaulipas', 'tambourine', 'tame', 'tamika', 'tamil', 'tamilnadu', 'tamizhans', 'tammi', 'tammie', 'tammy', 'tampa', 'tamper', 'tampon', 'tamsin', 'tamu', 'tan', 'tana', 'tangent', 'tangential', 'tangerian', 'tangerine', 'tangible', 'tangina', 'tangle', 'tania', 'tanith', 'tanja', 'tanjiro', 'tank', 'tanked', 'tanley', 'tannehill', 'tanner', 'tanney', 'tantamount', 'tantas', 'tantrum', 'tanyaslays', 'tanzania', 'tao', 'taoism', 'tap', 'tape', 'taped', 'taper', 'tapos', 'tapped', 'tapper', 'taproom', 'taqeria', 'taquitos', 'tar', 'tara', 'taraba', 'tarantino', 'tarantula', 'taranza', 'tarasenko', 'tardigrade', 'tardis', 'tardy', 'tare', 'targaryen', 'target', 'tari', 'tariff', 'tarkoradi', 'tarl', 'tarmac', 'tarnish', 'tarnished', 'taron', 'tarot', 'tarp', 'tarpit', 'tarrier', 'tarrus', 'tart', 'tartan', 'tartar', 'tarver', 'tarwiyah', 'tarzan', 'tascosa', 'tased', 'taser', 'tasers', 'tasha', 'task', 'tasked', 'tasleem', 'taste', 'tasteful', 'tasteless', 'tastier', 'tastiest', 'tastleless', 'tasty', 'tasya', 'tat', 'tata', 'tate', 'tater', 'tati', 'tatnell', 'tatoo', 'tatoos', 'tatsumi', 'tatt', 'tattered', 'tattoo', 'tattooddysy', 'tattooed', 'tattooist', 'tattooo', 'tatts', 'tatum', 'taty', 'tauch', 'tauchman', 'taught', 'taunt', 'taurus', 'taurusgang', 'tav', 'tavha', 'tavs', 'tax', 'taxable', 'taxation', 'taxi', 'taxicab', 'taxman', 'taxpayer', 'tay', 'taye', 'tayeba', 'taylor', 'taylorswiftongma', 'tayo', 'taywan', 'tayyyyy', 'taz', 'tb', 'tbats', 'tbe', 'tbell', 'tbf', 'tbh', 'tbhh', 'tbk', 'tbm', 'tbqh', 'tbr', 'tbsps', 'tbt', 'tbz', 'tc', 'tca', 'tcas', 'tch', 'tchami', 'tchrs', 'tcmparty', 'tcrwp', 'td', 'tdhl', 'tdi', 'tdl', 'tdm', 'tdr', 'tds', 'tea', 'teabagger', 'teach', 'teacher', 'teachershelpingteachers', 'teachertip', 'teaching', 'teacup', 'teagan', 'teal', 'team', 'teamaaron', 'teambossygals', 'teambut', 'teamchasity', 'teamchrisbrown', 'teamduke', 'teamenkay', 'teamer', 'teamers', 'teamesther', 'teamexo', 'teamflipphone', 'teamfollowback', 'teamgedoni', 'teamhuevos', 'teamkandm', 'teamlegends', 'teammabel', 'teammate', 'teammercy', 'teammixlr', 'teammm', 'teammom', 'teamomashola', 'teampete', 'teamputney', 'teamsparkle', 'teamtacha', 'teamtotal', 'teamwine', 'teanna', 'teapot', 'tear', 'teardrop', 'tearjerker', 'tearrrrs', 'tease', 'teaser', 'tebow', 'tec', 'tech', 'techfest', 'techie', 'technical', 'technically', 'technician', 'technique', 'techno', 'technological', 'technology', 'techtalksdc', 'tecmo', 'ted', 'teddy', 'tedious', 'tedtalk', 'tee', 'teeey', 'teef', 'teejayx', 'teemo', 'teen', 'teena', 'teenage', 'teenagedating', 'teenager', 'teenchoice', 'teenmomog', 'teeny', 'teeside', 'teespring', 'teet', 'teeth', 'teethe', 'tefy', 'teg', 'tegu', 'tehehehe', 'tei', 'teige', 'teils', 'teirney', 'teirs', 'teito', 'tejada', 'tejasswiprakashinkkk', 'tek', 'tekashi', 'tekken', 'tekno', 'tekwars', 'tel', 'telecaster', 'telegraph', 'telekinesis', 'telemarketer', 'telepathically', 'telephone', 'teleport', 'teleportation', 'teleports', 'teleprompter', 'telescope', 'teletubbies', 'televise', 'television', 'tell', 'teller', 'tellin', 'telll', 'telstra', 'temp', 'temper', 'temperament', 'temperature', 'template', 'temple', 'tempo', 'temporarily', 'temporary', 'temporize', 'tempt', 'temptation', 'ten', 'tenacity', 'tenant', 'tend', 'tendency', 'tender', 'tendies', 'tendril', 'tends', 'tenebrous', 'tener', 'teni', 'tenko', 'tennant', 'tenner', 'tennessee', 'tennis', 'tenor', 'tenrose', 'tense', 'tension', 'tent', 'tentacled', 'tentative', 'tenth', 'tenure', 'tenvsphi', 'teotfw', 'tepublicans', 'tequila', 'tequlia', 'tercera', 'teresa', 'terez', 'term', 'terminal', 'terminate', 'termination', 'terminator', 'terminei', 'terminology', 'tern', 'terno', 'terra', 'terrace', 'terrain', 'terrance', 'terrarium', 'terre', 'terrence', 'terrestrial', 'terri', 'terrible', 'terribles', 'terribly', 'terrie', 'terrier', 'terrific', 'terrifies', 'terrify', 'territory', 'terror', 'terrorise', 'terrorism', 'terrorist', 'terroristic', 'terroristmitch', 'terrorization', 'terrorize', 'terrortrump', 'terry', 'tertiary', 'terushima', 'tesco', 'tesda', 'tesla', 'tessa', 'tessy', 'test', 'testament', 'tester', 'testicle', 'testify', 'testimonial', 'testimony', 'testin', 'testis', 'testosterone', 'testpilot', 'tetefon', 'tetri', 'teue', 'teuk', 'tevez', 'tevfik', 'tevin', 'tex', 'texan', 'texansgameday', 'texas', 'texon', 'texplain', 'text', 'textbook', 'texted', 'texter', 'texting', 'texture', 'tey', 'teyana', 'teyi', 'tez', 'tezoclock', 'tf', 'tfb', 'tfcc', 'tffff', 'tfi', 'tfl', 'tfo', 'tft', 'tftv', 'tfw', 'tg', 'tgats', 'tgcf', 'tge', 'tgi', 'tgif', 'tgs', 'th', 'tha', 'thaaaaank', 'thaaaanks', 'thaaaat', 'thai', 'thailand', 'thairo', 'thala', 'thalaajith', 'thalassic', 'thamendment', 'thames', 'thancred', 'thang', 'thangs', 'thanh', 'thank', 'thankaveteran', 'thankdkds', 'thankful', 'thankfully', 'thanks', 'thanksfully', 'thanksgiving', 'thanku', 'thankyou', 'thankyoucbnforkia', 'thankyoupewdiepie', 'thankyouu', 'thankyouuuu', 'thankyouwhiskeycavalier', 'thanos', 'thant', 'thanx', 'thapki', 'tharki', 'thas', 'thassa', 'thassie', 'thasss', 'thatbullshit', 'thatcher', 'thatconference', 'thatd', 'thatll', 'thats', 'thatscountrybro', 'thatssoblakchris', 'thay', 'thays', 'thea', 'thealogy', 'thealphasnerd', 'thearchers', 'theartofracingintherain', 'theater', 'theatre', 'theatrical', 'theatrics', 'theaviators', 'thebalancesmb', 'thebeat', 'thebigday', 'thebillymafisonshow', 'theboys', 'thecampingrusher', 'thechain', 'thecheckin', 'thechopstars', 'thedailydope', 'thedemocrats', 'thedreamteam', 'thee', 'theedgeofthehedge', 'theere', 'thefive', 'theflash', 'theft', 'thegaymafia', 'thegirl', 'thegoldengirls', 'thegooddoctor', 'thegoodplace', 'thegreenshirtguy', 'thegrind', 'thehills', 'thehillsnewbeginnings', 'thehitchuation', 'thehituation', 'thehungergames', 'theism', 'theisman', 'theives', 'thekillers', 'thekitchen', 'thelionking', 'thelist', 'thelostboy', 'thelotusareonnathan', 'themadness', 'theman', 'themar', 'thematic', 'thematically', 'thembo', 'theme', 'themensclub', 'themidnightcompass', 'themightyhash', 'themmmmmm', 'themovie', 'thems', 'themself', 'themselfs', 'thenightbefore', 'theo', 'theocho', 'theodor', 'theodore', 'theology', 'theorem', 'theoretical', 'theoretically', 'theorist', 'theorize', 'theory', 'theoutpost', 'theowupjg', 'theproblemwiththetories', 'thequeenmzansi', 'ther', 'therapeutic', 'therapist', 'therapy', 'theread', 'thereby', 'thereeee', 'therefore', 'therein', 'theresa', 'theresabedintheloonybinforyou', 'theresistance', 'thermometer', 'thermostat', 'theroyalfamily', 'thesaurus', 'theshadowsofdeath', 'theshowispoppin', 'thesis', 'thesk', 'thesociopathicbusinessmodel', 'thesonicfox', 'thesoundofmusic', 'thesquad', 'thessalonian', 'thestandnyc', 'thetenthousanddoorsofjanuary', 'thetezoclockshow', 'thetrumpcrimefamily', 'theu', 'theuntamed', 'thevarside', 'thevbag', 'thevelvetunderground', 'thevirtues', 'thevoicebrasil', 'thewalkingdead', 'thewickedking', 'thewlis', 'theygotcaught', 'theyll', 'theyre', 'thezonecast', 'thfc', 'thiago', 'thibk', 'thic', 'thicc', 'thick', 'thicken', 'thicker', 'thicketford', 'thickness', 'thief', 'thielen', 'thiem', 'thier', 'thierry', 'thieve', 'thigh', 'thiiis', 'thimble', 'thin', 'thina', 'thing', 'thinga', 'thingggg', 'thingie', 'thingies', 'thingsclientssay', 'thingsihatemost', 'thingstoundrstnd', 'thingy', 'think', 'thinkaboutit', 'thinker', 'thinkig', 'thinkin', 'thinkingpositive', 'thinkkkk', 'thinly', 'thinner', 'thinnest', 'thins', 'thinspo', 'third', 'thirst', 'thirstiest', 'thirsty', 'thirstyassnigga', 'thirteen', 'thirteenth', 'thirty', 'thisbotlovesyou', 'thisclose', 'thisfreakingteam', 'thisisnotiowa', 'thisnisy', 'thiss', 'thisss', 'thissss', 'thistle', 'thiswayup', 'thix', 'thje', 'thlle', 'thnks', 'thnx', 'tho', 'thode', 'thods', 'thoight', 'thom', 'thomas', 'thomasmiddleditch', 'thommo', 'thompson', 'thon', 'thong', 'thoo', 'thooo', 'thooooo', 'thor', 'thora', 'thorax', 'thoreau', 'thorn', 'thornberrys', 'thornton', 'thorough', 'thoroughblade', 'thoroughbred', 'thoroughly', 'thorpe', 'thorson', 'thot', 'thots', 'thotumn', 'thou', 'though', 'thought', 'thoughtful', 'thoughtfulness', 'thousa', 'thousand', 'thouse', 'thoust', 'thr', 'thrash', 'thre', 'thread', 'threat', 'threaten', 'threatens', 'three', 'threesome', 'threeyearswithblackpink', 'thregionalnaoconvention', 'threhfhduksbaf', 'threshold', 'threw', 'thrice', 'thrift', 'thrifting', 'thrill', 'thriller', 'thrive', 'thro', 'throat', 'throb', 'throd', 'throne', 'throng', 'throttle', 'throu', 'throughout', 'throw', 'throwback', 'throwbackthrowdown', 'throwed', 'throwin', 'thrown', 'thru', 'thruple', 'thrus', 'thruthhurts', 'thry', 'thst', 'tht', 'thts', 'thu', 'thug', 'thugger', 'thuggggggggs', 'thuggin', 'thuggish', 'thumb', 'thumbin', 'thumbnail', 'thumbprint', 'thump', 'thunder', 'thunderbolt', 'thunderdome', 'thunderstorm', 'thunk', 'thur', 'thurday', 'thurl', 'thursday', 'thursdaymotivation', 'thursdaythoughts', 'thursdayvibes', 'thursdayyyyy', 'thus', 'thw', 'thwart', 'thweeksary', 'thwipped', 'thwnd', 'thx', 'thxs', 'thy', 'thyme', 'thyroid', 'thyself', 'thzilhajj', 'tia', 'tiana', 'tiara', 'tibarn', 'tibby', 'tibet', 'tic', 'tick', 'ticket', 'ticketfairy', 'tickey', 'tickle', 'ticonderoga', 'tid', 'tidbit', 'tiddie', 'tiddies', 'tiddy', 'tide', 'tidier', 'tidus', 'tidy', 'tie', 'tiebreak', 'tieed', 'tieeedddd', 'tier', 'tierlists', 'tierney', 'tierra', 'tiff', 'tiffany', 'tig', 'tigannnnnn', 'tiger', 'tight', 'tighten', 'tighter', 'tightest', 'tightie', 'tightness', 'tights', 'tighty', 'tigoddiri', 'tigray', 'tigreress', 'tihar', 'tiiiiirreedd', 'tiiiime', 'tijuana', 'tik', 'tiki', 'tiktok', 'tiktoks', 'tilaluha', 'tiller', 'tillerson', 'tillery', 'tilly', 'tilt', 'tiltrotors', 'tim', 'timbaland', 'timbalands', 'timberlake', 'timberwolf', 'timberwolves', 'timbo', 'time', 'timeeee', 'timefortierney', 'timeframe', 'timeless', 'timeline', 'timeloop', 'timely', 'timeout', 'timepoints', 'timer', 'timescale', 'timeshare', 'timeskip', 'timesnews', 'timestamp', 'timetable', 'timetofly', 'timetoletthegasout', 'timewhen', 'timezone', 'timidity', 'timing', 'timm', 'timmees', 'timmins', 'timmons', 'timmy', 'timoth', 'timothee', 'timothy', 'tims', 'timvisionletskamitfree', 'tin', 'tina', 'tinasnow', 'tinder', 'tinfoil', 'ting', 'tingle', 'tink', 'tinka', 'tinker', 'tinkerbell', 'tinnitus', 'tinny', 'tino', 'tint', 'tintin', 'tintinandsnowy', 'tiny', 'tinytrump', 'tione', 'tip', 'tipically', 'tipped', 'tipper', 'tipsy', 'tiptoe', 'tire', 'tiredt', 'tiref', 'tireless', 'tiresias', 'tiresome', 'tirmidhi', 'tirsdag', 'tisimo', 'tissue', 'tit', 'tita', 'titan', 'titania', 'titanic', 'titanium', 'titanup', 'titas', 'titfer', 'tithing', 'title', 'tito', 'titter', 'tittie', 'titty', 'tiwari', 'tix', 'tixr', 'tixx', 'tiyad', 'tiyani', 'tj', 'tjanks', 'tjay', 'tje', 'tjlogan', 'tjp', 'tk', 'tke', 'tkeeping', 'tko', 'tl', 'tlc', 'tldr', 'tle', 'tlg', 'tlna', 'tloss', 'tm', 'tmac', 'tmcseries', 'tmi', 'tmr', 'tmrrw', 'tmrw', 'tmz', 'tn', 'tne', 'tng', 'tnhmb', 'tnt', 'tnx', 'toad', 'toafrica', 'toast', 'toaster', 'toastie', 'toasty', 'tobacco', 'tobey', 'tobi', 'tobight', 'tobio', 'tobit', 'toby', 'toc', 'toca', 'tocchet', 'tock', 'tod', 'todae', 'today', 'todayinhistory', 'todaywasagooddayicecubevoice', 'todayyyy', 'todd', 'toddler', 'toddlerlife', 'toddlersandtiaras', 'toddy', 'todibo', 'todoroki', 'toe', 'toenail', 'toffee', 'toga', 'togepi', 'together', 'togethers', 'togetherweswarm', 'togo', 'tohkabot', 'tohught', 'toilet', 'toiletry', 'tojo', 'tok', 'token', 'toking', 'toks', 'tokwa', 'tokyo', 'tokyodisney', 'tokyodisneyresort', 'tola', 'told', 'toledo', 'toledomassacre', 'tolerable', 'tolerance', 'tolerant', 'tolerate', 'tolerates', 'tolilio', 'tolkien', 'toll', 'tollywood', 'tolop', 'tom', 'toma', 'tomaeso', 'tomato', 'tomb', 'tomboy', 'tombstone', 'tome', 'tomi', 'tomlinson', 'tommen', 'tommie', 'tommo', 'tommorow', 'tommy', 'tomo', 'tomorow', 'tomorrow', 'tomorrowland', 'tomoz', 'tompkins', 'tone', 'tonevender', 'tongue', 'toni', 'tonight', 'tonightshow', 'tonite', 'tonk', 'tonks', 'tonmight', 'tonno', 'tonsillitis', 'tony', 'tonya', 'tonyan', 'tonycon', 'toofunny', 'tool', 'toolband', 'toolbox', 'toolchest', 'toomi', 'toon', 'toonami', 'tooo', 'toooo', 'tooooo', 'toor', 'toot', 'tooth', 'toothache', 'toothbrush', 'toothpaste', 'toothpick', 'tootsie', 'tooty', 'toowoomba', 'top', 'topanga', 'toph', 'topic', 'topical', 'topless', 'topmast', 'topo', 'topp', 'topped', 'topper', 'topple', 'topshelf', 'toque', 'tor', 'torah', 'toral', 'torch', 'torched', 'tord', 'tore', 'toreira', 'toria', 'torikelly', 'torimodose', 'toriyama', 'torment', 'tormund', 'torn', 'tornado', 'toro', 'toronto', 'torpedo', 'torreira', 'torrent', 'torrential', 'torres', 'torreto', 'torrid', 'torso', 'torterra', 'tortilla', 'tortimer', 'tortoise', 'torture', 'torturous', 'torus', 'tory', 'toryboy', 'tos', 'tosh', 'tosha', 'toshi', 'tosin', 'toss', 'tosser', 'tostitosthursday', 'total', 'totalitarian', 'totally', 'totallynormal', 'totaly', 'tote', 'totin', 'totino', 'totinos', 'toto', 'totoally', 'totoo', 'totp', 'tottenham', 'toty', 'toubib', 'touch', 'touchable', 'touchdown', 'touchnick', 'touchpad', 'touchy', 'touchytoes', 'toudou', 'tough', 'tougher', 'toughest', 'toughhhh', 'toughhhhh', 'toughness', 'touhou', 'touitou', 'touma', 'tounchdown', 'tounge', 'tour', 'tourette', 'tourism', 'tourist', 'touristy', 'tournament', 'tournamentxd', 'tourney', 'tout', 'towa', 'toward', 'towards', 'towel', 'tower', 'towerka', 'towie', 'town', 'townhouse', 'township', 'tox', 'toxic', 'toxicity', 'toxictami', 'toy', 'toya', 'toyed', 'toyota', 'tp', 'tpab', 'tpain', 'tpc', 'tphonline', 'tpuched', 'tpwk', 'tr', 'trace', 'traceinbenin', 'tracey', 'traci', 'track', 'tracked', 'tracklist', 'tracksuit', 'tracksuits', 'tract', 'traction', 'tractor', 'tracy', 'trad', 'tradable', 'trade', 'trademark', 'trader', 'traderbyte', 'trading', 'tradingpsychology', 'tradition', 'traditional', 'traditionally', 'traffic', 'trafficked', 'trafficker', 'trafford', 'tragedy', 'tragic', 'tragically', 'tragus', 'trail', 'trailblazing', 'trailer', 'train', 'trainee', 'trainer', 'training', 'trainingcamp', 'trainor', 'trainwreck', 'trait', 'traitor', 'traitorship', 'trajectory', 'tram', 'trama', 'tramadol', 'tramp', 'trampa', 'trample', 'trampoline', 'trana', 'trance', 'tranmere', 'tranquility', 'tranquilizer', 'trans', 'transaction', 'transcend', 'transcendence', 'transcript', 'transers', 'transfer', 'transferable', 'transferdeadline', 'transferdeadlineday', 'transfernews', 'transferwindow', 'transform', 'transformation', 'transformee', 'transformer', 'transforms', 'transgender', 'transgress', 'transgression', 'transit', 'transition', 'translate', 'translates', 'translation', 'translator', 'transmission', 'transmit', 'transmountain', 'transparency', 'transparent', 'transphobes', 'transphobia', 'transphobic', 'transplant', 'transport', 'transportation', 'trap', 'trapp', 'trappin', 'trapson', 'trapsoul', 'tras', 'trash', 'trashbag', 'trashcans', 'trashpopshindig', 'trashy', 'trauma', 'traumatic', 'traumatize', 'traumatizes', 'travel', 'traveler', 'travelin', 'traveller', 'traverse', 'travesty', 'travis', 'travistritt', 'trax', 'tray', 'tre', 'tread', 'treadmill', 'treason', 'treasonousturtle', 'treasure', 'treasurer', 'treat', 'treatment', 'treaty', 'treavor', 'treble', 'tree', 'treepin', 'treintava', 'trejo', 'trek', 'tremble', 'tremendous', 'tremor', 'trench', 'trenchcoat', 'trend', 'trendsetter', 'trendy', 'trendythursday', 'trent', 'trento', 'trenton', 'tres', 'trespass', 'trespasser', 'tresvant', 'trevino', 'trevor', 'trey', 'trezl', 'trezz', 'triad', 'triage', 'trial', 'triangle', 'triangular', 'tribal', 'tribalism', 'tribe', 'tribunal', 'tribute', 'trice', 'tricentis', 'triceps', 'tricia', 'trick', 'trickes', 'trickle', 'trickly', 'trickshot', 'trickster', 'tricky', 'tricycle', 'trifecta', 'trifle', 'trigger', 'trigun', 'trillent', 'trillion', 'trilogy', 'trim', 'trimble', 'trimester', 'trin', 'trina', 'tring', 'trini', 'trinians', 'trinidad', 'trinity', 'trio', 'trip', 'triple', 'triplet', 'triplicate', 'tripped', 'trippen', 'trippie', 'trippier', 'trippies', 'trippin', 'tripple', 'trippy', 'tris', 'trish', 'trisha', 'triste', 'triston', 'triump', 'triumph', 'triumphant', 'trivia', 'trixie', 'trl', 'trn', 'trockener', 'troha', 'trojan', 'troll', 'trolley', 'trolleybus', 'trollim', 'tron', 'troop', 'trope', 'trophy', 'tropical', 'troprock', 'troprockmusic', 'trostani', 'trot', 'trouble', 'troubled', 'troublemaker', 'troubleshoot', 'troublesome', 'trough', 'troupe', 'trouper', 'trouser', 'trout', 'trove', 'troy', 'troydan', 'troye', 'troyes', 'trqhard', 'tru', 'truant', 'truarch', 'trubinsky', 'trubisky', 'truck', 'truckin', 'truckload', 'trucy', 'trudeau', 'trudeauliberallies', 'trudeaumustgo', 'true', 'trueeee', 'trueeeee', 'truelove', 'truely', 'truer', 'truest', 'truestory', 'truffle', 'trujillo', 'trul', 'trulieve', 'trully', 'truly', 'trum', 'trumbo', 'truml', 'trump', 'trumpadministration', 'trumpcession', 'trumpcolluded', 'trumpcrimefamily', 'trumpderangementsyndrome', 'trumpdoesnotcareatall', 'trumpeffect', 'trumper', 'trumpers', 'trumpet', 'trumpisarat', 'trumpism', 'trumpist', 'trumpista', 'trumpisunfit', 'trumplandslide', 'trumplicans', 'trumplies', 'trumplieseverytimehespeaks', 'trumploss', 'trumpmustgo', 'trumpnis', 'trumpobstructed', 'trumpolini', 'trumpresignnow', 'trumprussia', 'trumpskillorder', 'trumpsterrorists', 'trumpsters', 'trumptortureofchildren', 'trumpy', 'truncatable', 'trunk', 'truss', 'trussell', 'trust', 'trustee', 'trustin', 'trustthat', 'trustworthy', 'trusty', 'truth', 'truthbomb', 'truther', 'truthering', 'truthful', 'truthfully', 'truuue', 'truuust', 'trx', 'try', 'tryin', 'tryna', 'trynna', 'trynto', 'tryon', 'tryout', 'trytophan', 'tsa', 'tschink', 'tschunk', 'tsd', 'tshirt', 'tshirts', 'tsismis', 'tsk', 'tskimg', 'tsla', 'tslaq', 'tsm', 'tsp', 'tsps', 'tsquare', 'tsr', 'tss', 'tsu', 'tsubasa', 'tsuchinoko', 'tsuchinoto', 'tsunade', 'tsunami', 'tsundere', 'tsurupettan', 'tsw', 'tt', 'ttears', 'ttexxy', 'ttm', 'ttr', 'ttump', 'ttvfazeproplayz', 'tub', 'tuba', 'tube', 'tubercolosis', 'tubman', 'tubthumping', 'tuca', 'tuck', 'tucked', 'tucker', 'tuckerkkkcarlson', 'tucson', 'tucsontrain', 'tudder', 'tudo', 'tueh', 'tues', 'tuesday', 'tuff', 'tuffff', 'tug', 'tuggle', 'tuh', 'tuhhh', 'tuition', 'tulip', 'tullahan', 'tullos', 'tulog', 'tulsa', 'tulsi', 'tum', 'tumble', 'tumbler', 'tumbleweed', 'tumblr', 'tumini', 'tummy', 'tumor', 'tumour', 'tun', 'tuna', 'tundra', 'tune', 'tunein', 'tunisian', 'tunnel', 'tuoyo', 'tupac', 'tupperware', 'turban', 'turbo', 'turbotax', 'turbulence', 'turbulent', 'turd', 'turdbucketry', 'turf', 'turgidly', 'turkey', 'turkish', 'turmoil', 'turn', 'turnaround', 'turner', 'turnip', 'turnout', 'turnover', 'turnpike', 'turnstile', 'turnt', 'turret', 'turtelino', 'turth', 'turtle', 'turtleman', 'tuscon', 'tusk', 'tut', 'tutelage', 'tutor', 'tutorial', 'tutu', 'tux', 'tuxdresses', 'tuxedo', 'tv', 'tvd', 'tvgold', 'tvjringgames', 'tvnz', 'tvxq', 'tw', 'twab', 'twaddle', 'twain', 'twanky', 'twas', 'twat', 'twatter', 'twattter', 'twd', 'tweak', 'tweaked', 'tweakin', 'tweeminists', 'tweenk', 'tweens', 'tweeps', 'tweet', 'tweetbeat', 'tweetchoir', 'tweetdraw', 'tweeter', 'tweetfight', 'tweethearts', 'tweetin', 'tweetit', 'tweett', 'tweetup', 'tweety', 'twelfth', 'twelve', 'twentieth', 'twenty', 'twerk', 'twerkin', 'twerking', 'twewy', 'twice', 'twiiter', 'twiitter', 'twilight', 'twin', 'twinge', 'twink', 'twinkie', 'twinks', 'twinnie', 'twirl', 'twist', 'twistedness', 'twister', 'twisty', 'twit', 'twitch', 'twitchcon', 'twiter', 'twitlonger', 'twitmo', 'twitter', 'twitterafterdark', 'twitterbestfandom', 'twitterbitches', 'twitterblueroom', 'twitterbot', 'twitterbox', 'twitterclarets', 'twitterownup', 'twitterphilanthropy', 'twitterstorians', 'twitterverse', 'twix', 'twizzler', 'twnety', 'two', 'twomad', 'twork', 'twosentencehorrorstories', 'twow', 'twp', 'twt', 'twtr', 'twts', 'twttiee', 'twuck', 'tx', 'txst', 'txt', 'txtin', 'ty', 'tyangiiieee', 'tyanna', 'tyce', 'tydolla', 'tydus', 'tyga', 'tylbrown', 'tyler', 'tyner', 'typa', 'type', 'typed', 'typewriter', 'typhoon', 'typical', 'typically', 'typing', 'typo', 'typology', 'tyranitar', 'tyrannical', 'tyranny', 'tyrant', 'tyre', 'tyree', 'tyreek', 'tyrese', 'tyrod', 'tyron', 'tyroy', 'tys', 'tysm', 'tysmmmm', 'tyson', 'tyt', 'tytlive', 'tyty', 'tyvm', 'tzu', 'tzugolas', 'tzuyu', 'ual', 'uber', 'ubereats', 'ubers', 'ubiquitous', 'ubisoft', 'ubk', 'ublock', 'ubmit', 'ubo', 'uboa', 'uc', 'ucav', 'ucd', 'ucheniya', 'uchenna', 'uchiha', 'ucl', 'ucsb', 'udairy', 'uday', 'udemy', 'udfa', 'udina', 'udlpower', 'uefaawards', 'uel', 'uey', 'ufc', 'ufcuruguay', 'uff', 'ufo', 'uforia', 'uforialatinomixlive', 'ug', 'uga', 'uganda', 'uggggh', 'uggghhh', 'ugghhh', 'uggs', 'ugh', 'ughdhdjdjkdkd', 'ughh', 'ughhh', 'ughhhh', 'ughhhhhh', 'uglebarnbys', 'ugli', 'uglier', 'ugliest', 'uglify', 'ugliness', 'ugly', 'uglydolls', 'ugo', 'ugochukwu', 'uh', 'uhh', 'uhhh', 'uhhhh', 'uhhhhggffghhhhh', 'uhhhhh', 'uhhhhhh', 'uhhhhhhhh', 'uhleli', 'uhm', 'uhmmm', 'uhmmmmmmm', 'uhn', 'uhr', 'uhuh', 'uhura', 'ui', 'uic', 'uighur', 'uil', 'ujj', 'uk', 'ukase', 'uke', 'ukele', 'ukraine', 'ukrainian', 'ukrunchat', 'ukulele', 'ukwinehour', 'uldum', 'ulit', 'ull', 'ult', 'ulta', 'ultima', 'ultimate', 'ultimatebig', 'ultimately', 'ultimatum', 'ultimo', 'ultra', 'ultraman', 'ultraphonix', 'ultrastudio', 'ultron', 'ults', 'ululation', 'umair', 'umalis', 'umar', 'umay', 'umbilical', 'umbrella', 'umi', 'umm', 'ummah', 'ummer', 'ummm', 'ummmm', 'ummmmm', 'ummmmmm', 'ump', 'umpire', 'umpteenth', 'umrah', 'umriger', 'unable', 'unacceptable', 'unaccountable', 'unadded', 'unadulterated', 'unaffected', 'unaffordable', 'unafraid', 'unagongwa', 'unai', 'unalienable', 'unam', 'unambiguous', 'unanimous', 'unannounced', 'unanswered', 'unapologetically', 'unappreciated', 'unapproachable', 'unarmed', 'unattractive', 'unauthorized', 'unavailable', 'unaware', 'unbalance', 'unbalanced', 'unbearable', 'unbeatable', 'unbelief', 'unbelievable', 'unbelievably', 'unbelieveable', 'unbiased', 'unblock', 'unblockable', 'unblocked', 'unbonded', 'unborn', 'unbothered', 'unbox', 'unbreakable', 'unbroken', 'unbutton', 'unbuttoned', 'uncancelled', 'uncanny', 'uncap', 'uncensored', 'unceremoniously', 'uncertain', 'uncertainty', 'unchained', 'unchanged', 'uncharacteristic', 'uncharted', 'unclaimed', 'uncle', 'unclear', 'unclog', 'uncoiled', 'uncomfortable', 'uncomfortably', 'uncompensated', 'unconditional', 'unconditionally', 'unconditionaly', 'unconfirmed', 'unconscionable', 'unconscious', 'unconsciously', 'unconstitutional', 'uncontrollable', 'uncontrollably', 'unconventional', 'uncool', 'uncouth', 'uncoverable', 'uncovered', 'uncrc', 'uncrustables', 'uncultured', 'undead', 'undecided', 'undefeated', 'undefined', 'undemocratic', 'underage', 'underaged', 'underappreciated', 'underboob', 'underboobs', 'underclass', 'undercover', 'underdeveloped', 'underdog', 'underestimate', 'underestimated', 'undergo', 'undergrad', 'undergraduate', 'underground', 'underhanded', 'underhyped', 'underlies', 'underline', 'underlords', 'underneath', 'underpaid', 'underrated', 'unders', 'undershirt', 'understa', 'understamd', 'understand', 'understandable', 'understandably', 'understandbthe', 'understands', 'understated', 'understatement', 'understimulated', 'understood', 'understudy', 'undertaker', 'undertale', 'underthe', 'underthrow', 'undervalue', 'underwater', 'underway', 'underwear', 'underwhelming', 'underwood', 'underworld', 'underwrite', 'underwriter', 'undeserved', 'undestroy', 'undet', 'undies', 'undirected', 'undisciplined', 'undisclosed', 'undiscovered', 'undisputably', 'undisturbed', 'undo', 'undocumented', 'undone', 'undoubtedly', 'undrafted', 'undressed', 'undried', 'undue', 'undying', 'unearthed', 'uneasy', 'unedited', 'uneducated', 'unelected', 'unemployed', 'unemployment', 'unending', 'unequipped', 'unequivocally', 'unethical', 'uneven', 'uneventful', 'unexpected', 'unexpectedly', 'unf', 'unfair', 'unfairly', 'unfairness', 'unfaithful', 'unfamiliar', 'unfathomable', 'unfavorable', 'unfinished', 'unfit', 'unfitness', 'unflatteringly', 'unfold', 'unfoldment', 'unfollow', 'unfollowed', 'unfollowing', 'unforced', 'unforgettable', 'unforgivable', 'unforgiveable', 'unforms', 'unfortunate', 'unfortunately', 'unfriended', 'unfriendly', 'unfrosted', 'unfuckwithable', 'unfunny', 'unfurled', 'ungodly', 'ungrateful', 'unguarded', 'unhandled', 'unhappy', 'unharmed', 'unhaul', 'unhealthy', 'unhinged', 'unholy', 'unhorny', 'unhype', 'uni', 'unibol', 'unibrow', 'unicorn', 'uniform', 'uniformed', 'unify', 'unilag', 'unilaterally', 'unimaginable', 'unimportance', 'unimportant', 'unimpressed', 'uninformed', 'uninhabitable', 'uninitiated', 'uninstall', 'uninsured', 'unintended', 'unintentional', 'uninterested', 'uninterests', 'union', 'unionised', 'unionism', 'uniq', 'unique', 'unironic', 'unironically', 'unis', 'unisex', 'unison', 'unit', 'unitah', 'unitary', 'unitas', 'unite', 'united', 'uniters', 'unites', 'unity', 'universal', 'universally', 'universe', 'university', 'univision', 'unjust', 'unjustified', 'unjustly', 'unkind', 'unknown', 'unkown', 'unlawfully', 'unlce', 'unlearn', 'unleash', 'unleashed', 'unleeessssssss', 'unless', 'unlesss', 'unlike', 'unlikely', 'unlikelyjeopardycategories', 'unlimited', 'unlink', 'unload', 'unloaded', 'unlock', 'unlocked', 'unlovable', 'unloveable', 'unloved', 'unlucky', 'unmanageable', 'unmanaged', 'unmarked', 'unmatch', 'unmatched', 'unmeasurable', 'unmitigated', 'unnamed', 'unnatural', 'unnavigable', 'unnecessarily', 'unnecessary', 'unneeded', 'unnerve', 'unnoticeable', 'unnoticed', 'unopened', 'unpack', 'unpacked', 'unpaid', 'unparalleled', 'unpin', 'unplanned', 'unplayable', 'unpleasant', 'unpleasantly', 'unplug', 'unplugged', 'unpopular', 'unpredictable', 'unprepared', 'unpresidential', 'unprincipled', 'unproblematic', 'unproductive', 'unprofessional', 'unprotected', 'unprovoked', 'unqualified', 'unquantifiable', 'unquenchable', 'unquestionably', 'unravel', 'unread', 'unreadable', 'unreal', 'unrealeased', 'unrealistic', 'unreasonable', 'unreasonably', 'unreciprocated', 'unrecognizable', 'unregistred', 'unrelated', 'unreleased', 'unrenovated', 'unrequited', 'unresolved', 'unrest', 'unrestrainable', 'unring', 'unsafe', 'unsanctioned', 'unsanitary', 'unsaon', 'unsatisfied', 'unsay', 'unscear', 'unscientific', 'unscip', 'unscop', 'unscramble', 'unscrambletowin', 'unscrew', 'unseal', 'unsealepstein', 'unseasoned', 'unseat', 'unsee', 'unseeing', 'unseen', 'unsent', 'unsettle', 'unsettled', 'unshaven', 'unskippable', 'unsolicited', 'unspeakable', 'unspoken', 'unsportsmanlike', 'unstable', 'unstan', 'unstanned', 'unstapabol', 'unsteady', 'unstoppable', 'unsubscribe', 'unsubstantiated', 'unsure', 'unsurprisingly', 'unsustainable', 'unt', 'untamed', 'unthinkable', 'untill', 'untimely', 'untitled', 'unto', 'untold', 'untouchable', 'untrained', 'untroubled', 'untroubling', 'untrue', 'untrusting', 'untrustworthy', 'untruthful', 'untuktabungharituasughaya', 'ununited', 'unusable', 'unusual', 'unusually', 'unvc', 'unveiled', 'unveils', 'unwanted', 'unwashed', 'unwatchable', 'unwell', 'unwilling', 'unwillingness', 'unwise', 'unwittingly', 'unworthy', 'unwrap', 'unxibe', 'unyielding', 'uo', 'uofa', 'uofm', 'uot', 'upa', 'upacameno', 'upamecano', 'upamencano', 'upandan', 'upbringing', 'upcoming', 'update', 'updog', 'upeleke', 'upgrade', 'upgraded', 'uphill', 'uphold', 'upholds', 'uplift', 'upload', 'uploaded', 'uploadeou', 'uploads', 'upmarket', 'upmost', 'upon', 'upper', 'upperclassmen', 'uppercut', 'uppp', 'uppppp', 'upregulate', 'upright', 'uprise', 'uproar', 'uprooted', 'ups', 'upset', 'upsetti', 'upsettingly', 'upshdjfj', 'upside', 'upstairs', 'upstate', 'uptheunited', 'upthevilla', 'upto', 'upton', 'uptown', 'upu', 'upvotes', 'upward', 'ur', 'uranium', 'uranus', 'uratex', 'urban', 'urbana', 'urbannaxals', 'ure', 'urge', 'urgency', 'urgent', 'urgently', 'urgh', 'urhobo', 'uria', 'urinal', 'urinate', 'url', 'urm', 'uropa', 'urrgh', 'ursehla', 'urself', 'urshela', 'urstrulymahesh', 'ursula', 'us', 'usa', 'usable', 'usada', 'usage', 'usathana', 'usatoday', 'usausausa', 'usb', 'usc', 'uscs', 'usd', 'usda', 'use', 'useable', 'useful', 'usefully', 'useless', 'user', 'username', 'usernames', 'usgymchamps', 'usher', 'ushiten', 'usless', 'usm', 'usmc', 'usnt', 'uso', 'usos', 'usps', 'ussa', 'ussop', 'ussy', 'ustvratings', 'usual', 'usually', 'usuals', 'usui', 'uswnt', 'utah', 'utahime', 'utang', 'utapri', 'utau', 'utc', 'utd', 'utds', 'utell', 'utensil', 'uterred', 'uterus', 'utft', 'utility', 'utilization', 'utilize', 'utmost', 'utopia', 'utopian', 'utter', 'uttered', 'utterly', 'uttermost', 'utv', 'utywala', 'uu', 'uuggghhhh', 'uuuhhhhh', 'uuuu', 'uuuuhhhh', 'uuuuiii', 'uuuuuh', 'uuuuuuuuu', 'uv', 'uvula', 'uwm', 'uws', 'uwu', 'ux', 'uyavuka', 'uysk', 'uzi', 'uzumaki', 'vac', 'vaca', 'vacancy', 'vacant', 'vacate', 'vacation', 'vacay', 'vaccinate', 'vaccination', 'vaccine', 'vaccinessavelives', 'vacetheteam', 'vacuum', 'vade', 'vader', 'vagabond', 'vagex', 'vagina', 'vague', 'vaguely', 'vagueness', 'vaiko', 'vain', 'vair', 'vaitai', 'vakkai', 'val', 'valcockpit', 'vale', 'valentine', 'valerie', 'valguero', 'valhalla', 'valiant', 'valid', 'validate', 'validation', 'valjean', 'valkyrie', 'vallal', 'valle', 'valles', 'valley', 'vallos', 'vally', 'valor', 'valorizo', 'valtteri', 'valuable', 'valuation', 'value', 'valve', 'vamos', 'vamp', 'vampire', 'vampiro', 'vampiros', 'vampz', 'vancouver', 'vandalism', 'vander', 'vanderwaal', 'vandriel', 'vandross', 'vandy', 'vanek', 'vanessa', 'vanguard', 'vanilla', 'vanish', 'vanished', 'vanishingly', 'vanita', 'vanity', 'vannoy', 'vanquish', 'vansh', 'vape', 'vapid', 'vaping', 'vapor', 'varamahalakshmi', 'varane', 'varela', 'variability', 'variable', 'variant', 'variation', 'varied', 'varien', 'varies', 'variety', 'various', 'varnish', 'varsace', 'varsity', 'vary', 'varys', 'vasectomy', 'vaseline', 'vast', 'vastly', 'vaswani', 'vat', 'vatican', 'vauge', 'vaulkes', 'vault', 'vaultage', 'vautoir', 'vav', 'vax', 'vaynerchuk', 'vbs', 'vc', 'vcat', 'vcc', 'vcjawn', 'vcr', 'vctwitter', 'vdb', 'vdds', 'veary', 'vechain', 'vector', 'veda', 'vedic', 'vedvik', 'veeiinnsss', 'veep', 'veer', 'veezy', 'veg', 'vega', 'vegan', 'veganism', 'veganrecipehour', 'vegaslife', 'vegeta', 'vegetable', 'vegetarian', 'vegetta', 'veggie', 'vehemently', 'vehicle', 'veil', 'vein', 'velazquez', 'vellore', 'velocity', 'velour', 'velvet', 'velveteen', 'velya', 'ven', 'venable', 'vencida', 'vend', 'vendetta', 'vendo', 'vendor', 'venezuela', 'venezuelan', 'venge', 'vengeance', 'vengeful', 'venice', 'venir', 'venita', 'venmo', 'venom', 'venomous', 'vent', 'venter', 'ventless', 'ventra', 'ventrecanard', 'ventriloquist', 'ventura', 'venture', 'ventus', 'venue', 'venus', 'ver', 'vera', 'veracity', 'veranda', 'verb', 'verbal', 'verbally', 'verdean', 'verdict', 'verdon', 'verdun', 'verdur', 'vereena', 'vergas', 'verge', 'vergil', 'vergobretas', 'verifiable', 'verification', 'verify', 'verily', 'veritable', 'verity', 'verizon', 'verlander', 'verma', 'vermin', 'vermont', 'vermonter', 'vernacular', 'vernon', 'vero', 'veronica', 'veronicamars', 'verrrrry', 'verry', 'versa', 'versailles', 'versatile', 'versatility', 'verse', 'version', 'versus', 'vertical', 'vertigo', 'vertonghen', 'verty', 'vesarius', 'veskondi', 'vesperia', 'vessel', 'vest', 'vet', 'veteran', 'veteransday', 'veto', 'vettingbernie', 'veulta', 'veuve', 'vex', 'vexed', 'vey', 'vez', 'vezes', 'vezzy', 'vfw', 'vgk', 'vh', 'vhkgt', 'vhs', 'via', 'viable', 'viacom', 'viagra', 'viascum', 'vibe', 'vibin', 'vibinnnnn', 'vibrant', 'vibrate', 'vibration', 'vibrato', 'vibrator', 'vic', 'vicariously', 'vice', 'viceland', 'vicente', 'vicinity', 'vicious', 'vick', 'vickie', 'vicky', 'vickys', 'vicoden', 'victim', 'victimhood', 'victimization', 'victimize', 'viction', 'victoms', 'victon', 'victor', 'victoria', 'victoriagms', 'victorian', 'victorious', 'victorvale', 'victory', 'vidalia', 'vidcon', 'video', 'videogames', 'vids', 'vienna', 'viet', 'vietnam', 'vietnamese', 'vietnamvethomeagain', 'view', 'viewer', 'viewership', 'viewing', 'viewpoint', 'vig', 'vigeland', 'viggo', 'vigil', 'vigilant', 'vigilante', 'vigorous', 'vii', 'vijay', 'vikas', 'viking', 'vile', 'vileness', 'vilify', 'villa', 'village', 'villain', 'villaindeku', 'villainess', 'villainizing', 'villanelle', 'villars', 'villian', 'villiers', 'vimeo', 'vin', 'vince', 'vincent', 'vincentian', 'vinci', 'vindicate', 'vindictive', 'vine', 'vinegar', 'vineyard', 'vinland', 'vinny', 'vins', 'vintage', 'vintagechael', 'vinyl', 'viola', 'violate', 'violates', 'violation', 'violence', 'violent', 'violentliberals', 'violently', 'violet', 'violetta', 'violin', 'violinist', 'vip', 'viral', 'virar', 'virat', 'virgen', 'virgenes', 'virgil', 'virgin', 'virginia', 'virginity', 'virgo', 'virk', 'virtual', 'virtualenv', 'virtually', 'virtue', 'virus', 'visa', 'visalia', 'viscera', 'visceral', 'viscosity', 'visibility', 'visibilty', 'visible', 'visibly', 'vision', 'visionary', 'visit', 'visitor', 'visor', 'vista', 'visual', 'visualization', 'visualize', 'visually', 'visuals', 'viswasam', 'vit', 'vita', 'vitae', 'vital', 'vitale', 'vitamin', 'vitesse', 'vito', 'vittu', 'viv', 'viva', 'vivalajacks', 'vivalareapz', 'vive', 'vivekanand', 'vivi', 'vivian', 'vivica', 'vividly', 'vivoree', 'vivoreeesclito', 'vixen', 'vixx', 'viz', 'viznideo', 'vj', 'vlad', 'vladdy', 'vladimir', 'vladmir', 'vlive', 'vlog', 'vlogs', 'vlr', 'vm', 'vma', 'vmc', 'vmworld', 'vn', 'vnity', 'vo', 'voc', 'vocabulary', 'vocal', 'vocala', 'vocalist', 'vocalize', 'vociferous', 'vod', 'vodafone', 'vodafoneindia', 'vodka', 'vogue', 'voice', 'voiced', 'voicemail', 'void', 'voight', 'voilence', 'voit', 'vokes', 'vol', 'volatile', 'volcano', 'voldermort', 'voldy', 'volibear', 'volkswagen', 'volley', 'volta', 'voltage', 'voltaire', 'voltron', 'volume', 'volumetric', 'voluminous', 'volumn', 'voluntarily', 'voluntary', 'volunteer', 'volvo', 'vomit', 'vonnegut', 'voodoo', 'voss', 'vote', 'voteblue', 'votebluenomatterwho', 'votedemsout', 'votegopout', 'votehimout', 'voter', 'votewithyourwallet', 'voting', 'vouch', 'vow', 'vowed', 'vowel', 'vox', 'voy', 'voyager', 'voyd', 'vp', 'vpn', 'vr', 'vra', 'vrchat', 'vries', 'vriska', 'vrmmo', 'vrother', 'vrotherhood', 'vsco', 'vt', 'vtm', 'vu', 'vue', 'vuelve', 'vuelvo', 'vuitton', 'vulgar', 'vulgate', 'vulkan', 'vulnerability', 'vulnerable', 'vulpix', 'vvd', 'vvip', 'vvv', 'vvvv', 'vw', 'vy', 'vybe', 'vyner', 'wa', 'waa', 'waaaaaay', 'waaaaay', 'waaaay', 'waaah', 'waaarrrmmmm', 'waaay', 'waaayyy', 'waan', 'wach', 'wachowskis', 'wack', 'wackk', 'wacky', 'waco', 'wad', 'waddle', 'waddy', 'wade', 'wae', 'waec', 'wafer', 'waffle', 'wag', 'wage', 'wager', 'wagon', 'wagyu', 'wahahaha', 'wahala', 'waheed', 'wahhh', 'wahlyy', 'wahoo', 'wahooo', 'waht', 'waifu', 'waifus', 'waiiiiiittttttttt', 'waikiki', 'wail', 'wailer', 'waist', 'waistband', 'waistline', 'wait', 'waiter', 'waitin', 'waitingondortch', 'waititi', 'waitley', 'waitlists', 'waitor', 'waitress', 'waitttt', 'waittttt', 'waive', 'waiver', 'waka', 'wakanda', 'wake', 'waken', 'wakeup', 'wakituambia', 'wako', 'wal', 'wala', 'walahi', 'walang', 'walangmayor', 'walangpasok', 'walcott', 'waldo', 'wale', 'waledchat', 'walesa', 'walgreens', 'walk', 'walka', 'walkaway', 'walkawayfromdemocrats', 'walker', 'walketh', 'walki', 'walkoff', 'walkon', 'walkout', 'walkurpurpose', 'wall', 'wallace', 'wallad', 'wallahi', 'wallaroos', 'wallen', 'waller', 'wallet', 'wallner', 'wallow', 'wallpaper', 'walmart', 'walmarts', 'walmartwalkout', 'walnut', 'walsh', 'walshaw', 'walt', 'walter', 'walton', 'waltz', 'wam', 'wamekuwa', 'wammy', 'wamt', 'wamuu', 'wan', 'wana', 'wand', 'wanda', 'wander', 'wanderer', 'wanders', 'wane', 'wang', 'wank', 'wanker', 'wanma', 'wannabe', 'wannables', 'wantin', 'wanton', 'wanty', 'wanyama', 'wap', 'wapo', 'wappen', 'warbys', 'warcraft', 'ward', 'warden', 'wardrobe', 'ware', 'warehouse', 'warfare', 'wargs', 'wario', 'warla', 'warlock', 'warm', 'warmack', 'warmer', 'warmind', 'warmly', 'warms', 'warmth', 'warmups', 'warn', 'warner', 'warning', 'warnock', 'warp', 'warrant', 'warren', 'warri', 'warrington', 'warrior', 'warsaw', 'warship', 'wary', 'warzone', 'wasd', 'wash', 'washdc', 'washer', 'washington', 'washroom', 'washy', 'wasnt', 'wasp', 'wassuo', 'wassup', 'wassuppp', 'waste', 'wasteful', 'wasteland', 'wastemytime', 'wasvscle', 'wata', 'watcg', 'watcging', 'watch', 'watcher', 'watchin', 'watchlist', 'watchword', 'water', 'waterboarded', 'waterboarding', 'waterboy', 'waterfall', 'waterfallin', 'waterford', 'waterislife', 'waterloo', 'watermark', 'watermelon', 'waterpark', 'waterslide', 'watersports', 'watertowers', 'watertown', 'waterworld', 'watery', 'wateva', 'watever', 'wating', 'watkins', 'watp', 'wats', 'watson', 'watt', 'watting', 'wattpad', 'waun', 'wav', 'wave', 'waveee', 'waver', 'wavy', 'waw', 'wawa', 'wawanesa', 'wawawa', 'wax', 'waxahachie', 'waxed', 'waxedballs', 'waxers', 'way', 'wayans', 'wayell', 'waymaker', 'wayment', 'wayne', 'waynelapierreisacrook', 'waypoints', 'waytooearlyanalysis', 'wayv', 'wayward', 'wayy', 'wayyy', 'wayyyy', 'wayyyyy', 'wayyyyyy', 'wayyyyyyy', 'waz', 'waze', 'wb', 'wba', 'wbchat', 'wbk', 'wby', 'wc', 'wcause', 'wccb', 'wccr', 'wcf', 'wcm', 'wcpw', 'wcseduclimber', 'wcw', 'wcws', 'wd', 'wda', 'wdc', 'wdelgard', 'wdh', 'wdogm', 'wdul', 'wdw', 'wdyl', 'wdym', 'weaboostories', 'weak', 'weaken', 'weaker', 'weakness', 'wealth', 'wealthy', 'wean', 'weapon', 'weaponization', 'weaponize', 'weaponizedprojection', 'weaponry', 'weaponsmithy', 'wear', 'wearefamily', 'wearenotyourkind', 'wearer', 'wearesaints', 'wearetexans', 'wearethearsenal', 'wearin', 'weary', 'weasel', 'weather', 'weatheratlanta', 'weatherlight', 'weatherman', 'weathy', 'weave', 'weaver', 'web', 'webapp', 'webb', 'webbie', 'webd', 'webdollar', 'weber', 'webflow', 'webinar', 'webkins', 'webringitfresh', 'website', 'webster', 'webtoon', 'wecandothis', 'wed', 'wedding', 'wedgafradio', 'wedge', 'wedgie', 'wednesday', 'wee', 'weeaboo', 'weeaboos', 'weebee', 'weebles', 'weebs', 'weed', 'weeeeak', 'weeeeed', 'weeeeeeed', 'weeeeelllllllll', 'weeeiiird', 'weeek', 'week', 'weekday', 'weekend', 'weekly', 'weeknd', 'weeknightwriters', 'weel', 'weems', 'weenie', 'weep', 'weepy', 'weetabix', 'weetie', 'weeuh', 'weevil', 'weezer', 'weezing', 'weezy', 'wegmans', 'wehat', 'wehh', 'wehu', 'wei', 'weigh', 'weighs', 'weight', 'weird', 'weirdddddd', 'weirder', 'weirdly', 'weirdness', 'weirdo', 'weisman', 'weissy', 'wel', 'welbeck', 'welch', 'welcome', 'welcomebackkaoseth', 'welcometocalimayward', 'weld', 'welder', 'weldon', 'welfare', 'well', 'wellbeing', 'wellbutrin', 'wellfare', 'wellies', 'wellington', 'welll', 'wellll', 'welllll', 'welllllllllllll', 'wellness', 'wellqualifiedto', 'wellwisher', 'weloveafuckboy', 'weloveyouariana', 'welp', 'welppp', 'welsh', 'wembley', 'wemelsfelder', 'wemissmyers', 'wemisszo', 'wen', 'wena', 'wenatchee', 'wendall', 'wendell', 'wendi', 'wendy', 'wendys', 'wenger', 'wenne', 'wentworth', 'wentz', 'weover', 'wept', 'werbenjagermanjensen', 'werent', 'werewolf', 'werey', 'werid', 'werk', 'werner', 'wernt', 'werth', 'werts', 'wes', 'wesley', 'wessel', 'wesson', 'west', 'westbrook', 'westchestermile', 'western', 'westi', 'westlife', 'westminster', 'weston', 'westover', 'westworld', 'westywest', 'wet', 'wethechampions', 'wethenorth', 'wethepeople', 'wethepeoplemarch', 'wether', 'wetin', 'weve', 'wevy', 'wew', 'wewantabback', 'wexford', 'wexler', 'wey', 'weyre', 'wez', 'wfhb', 'wg', 'wga', 'wgat', 'wgaworldwide', 'wgn', 'wh', 'wha', 'whaaa', 'whaaaaa', 'whaaaaat', 'whaaaat', 'whaaat', 'whaat', 'whack', 'whackadoodle', 'whacko', 'whaddup', 'whadja', 'whalberg', 'whale', 'whalen', 'whaler', 'whaley', 'whallopped', 'whant', 'whants', 'whare', 'whatabout', 'whataburger', 'whataplayer', 'whatcha', 'whatdy', 'whateva', 'whatevaa', 'whatever', 'whateverworks', 'whatevs', 'whatiamman', 'whatisschool', 'whatnot', 'whats', 'whatsapp', 'whatsbetterthaniloveyou', 'whatsdrivingyou', 'whatsggs', 'whatshisface', 'whatsoever', 'whatsoldisnewagain', 'whatta', 'whattt', 'whatttt', 'whattttt', 'whatwomenwant', 'whatz', 'whaun', 'whauuut', 'whdjsjc', 'wheat', 'wheaties', 'wheatley', 'wheaton', 'whedon', 'wheeeeeels', 'wheeeew', 'wheel', 'wheelchair', 'wheeler', 'wheelhouse', 'wheeze', 'whelans', 'whenbeingwhiteadjacentcomesbacktobite', 'whence', 'whenever', 'whenharrymetsally', 'whenimbrokeaf', 'whenisthevote', 'whens', 'whent', 'whenua', 'whenveer', 'wher', 'whereabouts', 'whereee', 'wherefore', 'whereisdadiyata', 'whereohwherehavenicksstorylinesgone', 'wheres', 'wheresmitch', 'wheretheworldcomestoplay', 'wherever', 'wherrs', 'whether', 'whew', 'wheww', 'whewwweee', 'whewwww', 'whhile', 'whichever', 'whicho', 'whiff', 'whilpets', 'whilst', 'whim', 'whimper', 'whimsical', 'whine', 'whiney', 'whinging', 'whinne', 'whiny', 'whip', 'whiplash', 'whippersnapper', 'whippin', 'whirl', 'whirlwind', 'whirlybird', 'whisk', 'whisker', 'whiskey', 'whiskeycavalier', 'whisky', 'whisper', 'whisphered', 'whiss', 'whistle', 'whistleblower', 'whit', 'white', 'whiteboards', 'whiteclaw', 'whitehair', 'whitehallwatch', 'whitehaven', 'whitemales', 'whiten', 'whitenationalistsproblems', 'whiteness', 'whitesboro', 'whiteside', 'whitestone', 'whitesupremacist', 'whitesupremacistinchief', 'whitesupremacistterrorism', 'whitesupremacy', 'whitetail', 'whitewash', 'whitey', 'whities', 'whitley', 'whitlock', 'whitney', 'whitneyhouston', 'whittaker', 'whittier', 'whittwood', 'whoa', 'whoaaa', 'whoah', 'whobis', 'whoever', 'whole', 'wholee', 'wholeheartedly', 'wholesome', 'wholly', 'whomever', 'whomst', 'whoo', 'whooaaaa', 'whoohoo', 'whoooooo', 'whoop', 'whoopings', 'whoopins', 'whooptie', 'whop', 'whopper', 'whore', 'whose', 'whosoever', 'whp', 'wht', 'whtchu', 'whule', 'whydontwe', 'whydontwemusic', 'whyllin', 'whynotboth', 'whyte', 'whyy', 'whyyte', 'whyyy', 'whyyyyyy', 'wi', 'wiavinda', 'wic', 'wich', 'wichita', 'wick', 'wicked', 'wickedness', 'wickedwitchoftheleft', 'wicker', 'wicketkeeper', 'wickman', 'wid', 'wide', 'widebody', 'widely', 'widen', 'wider', 'widespread', 'widget', 'widow', 'widowmaker', 'width', 'wierdtweet', 'wierszykiow', 'wiese', 'wif', 'wife', 'wifee', 'wifely', 'wifey', 'wifi', 'wifing', 'wig', 'wigan', 'wiggg', 'wiggle', 'wigglebutts', 'wight', 'wigwam', 'wii', 'wika', 'wiki', 'wikipedia', 'wilbon', 'wilbons', 'wilbur', 'wild', 'wildcard', 'wildcards', 'wildcat', 'wildebeest', 'wilder', 'wilderness', 'wilderwoods', 'wildin', 'wilding', 'wildlands', 'wildlife', 'wildly', 'wildnout', 'wildwildwest', 'wiley', 'wilf', 'wilfully', 'wilkins', 'wilks', 'willain', 'willfully', 'william', 'williams', 'williamsburg', 'williamson', 'willian', 'willie', 'willing', 'willingly', 'willingness', 'willis', 'willkie', 'willll', 'willlld', 'willock', 'willoughby', 'willreeves', 'willy', 'wilmaure', 'wilmington', 'wilson', 'wilt', 'wilton', 'wiltshire', 'wiltz', 'wily', 'wimp', 'wimped', 'wimpy', 'wims', 'win', 'winasone', 'wince', 'wind', 'windbag', 'windbreaker', 'windclan', 'windex', 'windler', 'windmill', 'windo', 'window', 'windowed', 'windshield', 'windstorm', 'windy', 'wine', 'winelover', 'wineski', 'winfree', 'wing', 'wingard', 'winger', 'wingin', 'wingstop', 'wingz', 'wink', 'winlose', 'winnepeg', 'winner', 'winnie', 'winnin', 'winning', 'winnipeg', 'winovich', 'winsidr', 'winston', 'wint', 'winter', 'winther', 'winwin', 'wip', 'wipe', 'wiper', 'wipro', 'wirds', 'wire', 'wireless', 'wiring', 'wirral', 'wisconsin', 'wisconsinite', 'wisdom', 'wise', 'wisely', 'wiser', 'wish', 'wishbone', 'wishe', 'wishful', 'wishfulthinking', 'wishhh', 'wisky', 'wisp', 'wit', 'witch', 'witcha', 'witchcraft', 'witchu', 'witchy', 'withdraw', 'withdrawal', 'withdrawl', 'withdrawn', 'withdraws', 'wither', 'withers', 'withheld', 'withhold', 'within', 'withntrump', 'without', 'withrow', 'witkoski', 'witnes', 'witness', 'witted', 'wittenb', 'wittgenstein', 'witticism', 'wivind', 'wiz', 'wizard', 'wizardry', 'wizkhalfa', 'wizkid', 'wizkidfc', 'wjsn', 'wk', 'wkd', 'wknd', 'wkwkkssj', 'wl', 'wlahy', 'wld', 'wlhi', 'wlts', 'wlw', 'wm', 'wmich', 'wmt', 'wmy', 'wn', 'wnba', 'wnbs', 'wnergy', 'wnf', 'wnt', 'wny', 'woah', 'woahgod', 'woahhh', 'wobble', 'wobbly', 'woc', 'woe', 'woeful', 'woefully', 'wog', 'wohl', 'wojbomb', 'woke', 'woken', 'wokeness', 'wokies', 'wol', 'wolf', 'wolfe', 'wolfenstein', 'wolff', 'wolfhound', 'wolfie', 'woll', 'wolverine', 'woman', 'womanhood', 'womanly', 'womb', 'womeninfilm', 'womeninstem', 'womensday', 'womensfootball', 'womp', 'wonder', 'wondercon', 'wonderful', 'wonderfull', 'wonderland', 'wonderment', 'wonderstuff', 'wonderwall', 'wonderwomanontnt', 'wondow', 'wongs', 'wonho', 'wont', 'wonwoo', 'woo', 'wood', 'woodchipper', 'wooden', 'woodenspoon', 'woodford', 'woodinville', 'woodrow', 'woodside', 'woodsman', 'woodson', 'woodstock', 'woodward', 'woodwardout', 'woodwordout', 'woodwork', 'woody', 'woof', 'wooh', 'woohoo', 'wookies', 'wool', 'woolerys', 'woollim', 'woolwich', 'wooo', 'wooohooo', 'wooooo', 'woooooo', 'wooooooo', 'wooooow', 'woooow', 'wooow', 'woop', 'wooseok', 'wooshin', 'woot', 'wootss', 'woozi', 'wop', 'wor', 'worcester', 'worcestershire', 'word', 'wording', 'wordplay', 'wordsofwisdom', 'wordsprint', 'wordsworth', 'wore', 'worf', 'worgen', 'worh', 'work', 'workable', 'workaholism', 'workaround', 'worker', 'workforce', 'workhorse', 'workin', 'working', 'workingso', 'workload', 'workman', 'workout', 'workplace', 'workplacediversity', 'worksheet', 'workshop', 'worky', 'world', 'worldandscience', 'worldcup', 'worldly', 'worldseries', 'worldwide', 'worm', 'wormhole', 'worn', 'worried', 'worrisome', 'worrlde', 'worrrst', 'worry', 'worsen', 'worship', 'worshiper', 'worshipfully', 'worsstt', 'worstbest', 'worstcooks', 'worstfirstdateexperiences', 'worsttttt', 'worth', 'worthit', 'worthless', 'worthwhile', 'worthy', 'wossop', 'wot', 'wotconsole', 'wotsits', 'wotw', 'would', 'woulda', 'wouldl', 'wouldnt', 'wouldve', 'wound', 'wow', 'wowed', 'wowie', 'wowowinxfrontrow', 'wowowo', 'wowowow', 'wowowowow', 'woww', 'wowwww', 'wowwwwww', 'wowza', 'wowzabidstugradgiveaway', 'woza', 'wp', 'wpisode', 'wr', 'wraith', 'wraithbound', 'wrangle', 'wrangler', 'wrap', 'wrapper', 'wrath', 'wray', 'wreak', 'wreath', 'wreck', 'wrecker', 'wrench', 'wrestle', 'wrestlemaniaxii', 'wrestler', 'wrestling', 'wretch', 'wretched', 'wretzky', 'wrg', 'wright', 'wrinkle', 'wrist', 'wristband', 'writ', 'write', 'writer', 'writerslife', 'writes', 'writhe', 'writing', 'writingcommnunity', 'writingcommunity', 'wrk', 'wrkr', 'wrld', 'wrong', 'wrongdoer', 'wrongdoing', 'wrongful', 'wrongfully', 'wrongji', 'wrongly', 'wronglyconvicted', 'wrongthink', 'wronki', 'wrs', 'wrx', 'wsb', 'wstrn', 'wsys', 'wt', 'wta', 'wtaf', 'wtf', 'wtfacts', 'wtff', 'wtfjsjdj', 'wth', 'wto', 'wtsu', 'wtt', 'wtvr', 'wu', 'wuassassins', 'wud', 'wuld', 'wumpus', 'wunzu', 'wuote', 'wuss', 'wussup', 'wussy', 'wut', 'wuth', 'wutz', 'wvu', 'ww', 'wwake', 'wwe', 'wweedmonton', 'wwesummerslam', 'wwesupercard', 'wweuncagedix', 'wwf', 'wwg', 'wwi', 'wwiii', 'wwill', 'wwith', 'wwjd', 'wwtbam', 'wwwwww', 'wwz', 'wya', 'wyatt', 'wyd', 'wyeth', 'wyld', 'wylin', 'wym', 'wymmm', 'wymy', 'wynn', 'wynonnaearp', 'wyo', 'wyoming', 'wythers', 'wyvern', 'wyyz', 'wyze', 'xa', 'xaasid', 'xanax', 'xander', 'xavi', 'xavien', 'xavier', 'xbonus', 'xbox', 'xbtusd', 'xc', 'xcom', 'xd', 'xdd', 'xddd', 'xdddd', 'xehanort', 'xenophobia', 'xenophobic', 'xeon', 'xer', 'xerox', 'xers', 'xfinity', 'xfl', 'xfm', 'xgames', 'xhaka', 'xi', 'xiao', 'xiaodery', 'xica', 'xie', 'xii', 'xiii', 'xinhua', 'xinjiang', 'xion', 'xjxj', 'xl', 'xmas', 'xnxjxjxj', 'xo', 'xolo', 'xooxoxoxoxo', 'xotourlife', 'xover', 'xox', 'xoxo', 'xoxowookjin', 'xoxox', 'xpensive', 'xpntbt', 'xr', 'xrayradio', 'xrc', 'xrd', 'xrp', 'xspoilers', 'xtina', 'xtra', 'xv', 'xvi', 'xwoba', 'xx', 'xxl', 'xxooxx', 'xxv', 'xxx', 'xxxl', 'xxxtentacion', 'xxxx', 'xxxxxx', 'xy', 'xylophone', 'xz', 'yaa', 'yaaaaaaaas', 'yaaaas', 'yaaas', 'yaaasss', 'yaasss', 'yaasssss', 'yaay', 'yaayy', 'yac', 'yacht', 'yachty', 'yad', 'yael', 'yaga', 'yagami', 'yah', 'yahaya', 'yahoo', 'yahooo', 'yahtzee', 'yahweh', 'yail', 'yak', 'yakho', 'yakima', 'yakuza', 'yal', 'yala', 'yale', 'yalitransformation', 'yall', 'yalla', 'yallah', 'yalll', 'yalls', 'yam', 'yamabiko', 'yamaha', 'yamanaka', 'yamcha', 'yamper', 'yan', 'yandere', 'yang', 'yangaphesheya', 'yanggang', 'yanglin', 'yaniv', 'yank', 'yanked', 'yankee', 'yankeestwitter', 'yanksvsjays', 'yanny', 'yansh', 'yaoi', 'yap', 'yard', 'yardage', 'yardand', 'yarder', 'yardfieldgoal', 'yare', 'yarn', 'yas', 'yashernal', 'yasmile', 'yass', 'yasss', 'yassss', 'yato', 'yawk', 'yawl', 'yawn', 'yay', 'yaya', 'yayo', 'yayyy', 'yayyyy', 'yayyyyy', 'yaz', 'yazidi', 'ybn', 'yc', 'yd', 'ydia', 'yds', 'ydsb', 'ye', 'yea', 'yeaa', 'yeaaa', 'yeaaaa', 'yeaaaaaaa', 'yeaaaaahhhhh', 'yeaahhh', 'yeaasss', 'yeah', 'yeahhh', 'yeahhhh', 'yeahhhhh', 'yeahhhhhhh', 'yeahhhhhhhhh', 'yeahthatgreenville', 'year', 'yearbook', 'yearly', 'yearn', 'yearoldselfie', 'years', 'yeast', 'yebo', 'yech', 'yechan', 'yedder', 'yee', 'yeee', 'yeeeeea', 'yeeeey', 'yeeep', 'yeehaw', 'yeen', 'yeeoo', 'yeer', 'yeesh', 'yeet', 'yeeted', 'yeezy', 'yeezys', 'yeg', 'yegdt', 'yegtraffic', 'yeh', 'yehrishetyhainpyaarke', 'yehrishteyhainpyaarke', 'yehundinonkibaathai', 'yelich', 'yell', 'yellin', 'yellow', 'yellowhead', 'yellowstone', 'yellowstonetv', 'yellowvests', 'yelp', 'yen', 'yennaiarindhal', 'yeon', 'yeonjun', 'yeontan', 'yeorobunssss', 'yeosang', 'yep', 'yepperz', 'yer', 'yerba', 'yere', 'yeri', 'yerin', 'yerrrrrd', 'yes', 'yeshua', 'yessir', 'yest', 'yestaday', 'yesterday', 'yesterdsy', 'yesyes', 'yesyesyes', 'yet', 'yeti', 'yettttttt', 'yeule', 'yew', 'yfm', 'yg', 'yge', 'ygent', 'ygex', 'ygk', 'ygm', 'yh', 'yhai', 'yhea', 'yhello', 'yhis', 'yho', 'yhu', 'yhuu', 'yhuuuuuuu', 'yibo', 'yidiots', 'yield', 'yik', 'yikeess', 'yikes', 'yikessss', 'yikyak', 'yimby', 'yin', 'ying', 'yinzer', 'yinzerpoll', 'yinzers', 'yippee', 'yippy', 'yiu', 'yixing', 'yizzy', 'yk', 'yknow', 'yknw', 'ykwis', 'yl', 'ymca', 'yntcd', 'ynwa', 'yobbish', 'yoda', 'yodel', 'yoentan', 'yoga', 'yogaforlife', 'yoghurt', 'yogi', 'yogurt', 'yogurtland', 'yoh', 'yohan', 'yoho', 'yoi', 'yoke', 'yokohama', 'yolanda', 'yolk', 'yomikawa', 'yonah', 'yonkers', 'yonz', 'yoo', 'yooa', 'yoochun', 'yoogi', 'yoohoo', 'yoohyeon', 'yoon', 'yoongi', 'yoonjin', 'yoonkook', 'yoonmin', 'yooo', 'yoooo', 'yooooo', 'yooooooo', 'yordan', 'york', 'yorkie', 'yorkshire', 'yorme', 'yoru', 'yoruba', 'yoself', 'yosemite', 'yoshi', 'yoshilage', 'yoshimitsu', 'youd', 'youfirst', 'youg', 'yougotthis', 'youll', 'youn', 'young', 'youngbin', 'youngblood', 'youngboy', 'youngertv', 'youngies', 'youngin', 'youngjae', 'youngk', 'youngso', 'youngster', 'yourcelf', 'youre', 'yourh', 'youri', 'yourodds', 'yous', 'youself', 'yout', 'youth', 'youthful', 'youthfully', 'youtube', 'youtubegaming', 'youtubemusic', 'youtuber', 'youtubers', 'youu', 'youuu', 'youuuu', 'youve', 'youvegotmail', 'yovotomm', 'yowie', 'yowza', 'yoy', 'ypa', 'ypour', 'yr', 'yrds', 'yrhpk', 'ysi', 'ysl', 'yssa', 'yt', 'yttd', 'yu', 'yuba', 'yuban', 'yuck', 'yucky', 'yuddam', 'yueliabot', 'yuengling', 'yugioh', 'yugo', 'yuh', 'yuk', 'yuki', 'yukirin', 'yukky', 'yukon', 'yukyung', 'yuli', 'yum', 'yumeko', 'yumenosaki', 'yummmmmmm', 'yummy', 'yuna', 'yung', 'yungblud', 'yungin', 'yunho', 'yunseong', 'yuo', 'yuor', 'yup', 'yur', 'yuri', 'yurimawas', 'yusei', 'yusuke', 'yusupov', 'yuta', 'yuu', 'yuuichi', 'yuuji', 'yuumi', 'yuurr', 'yuuuup', 'yuvin', 'yuwinthusiast', 'yuzuru', 'yves', 'yvette', 'yvonne', 'yvreventprofs', 'yw', 'yyyyyyaaaaaaasssss', 'zab', 'zac', 'zacatecas', 'zach', 'zachary', 'zachking', 'zacian', 'zack', 'zaha', 'zaintsee', 'zaius', 'zakat', 'zakee', 'zakir', 'zakki', 'zamasu', 'zamfara', 'zancudos', 'zane', 'zanesville', 'zanku', 'zante', 'zapata', 'zappa', 'zapped', 'zara', 'zaria', 'zariyah', 'zavier', 'zay', 'zayn', 'zb', 'zealand', 'zealander', 'zearfoss', 'zed', 'zee', 'zeepruk', 'zefrank', 'zegler', 'zeitler', 'zeke', 'zelda', 'zeldatweets', 'zelina', 'zell', 'zelos', 'zen', 'zendaya', 'zendikar', 'zenith', 'zenitsu', 'zenpencils', 'zenyatta', 'zep', 'zephyr', 'zeppelin', 'zero', 'zerohunger', 'zerou', 'zesty', 'zestyzaxh', 'zet', 'zeus', 'zevran', 'zexrow', 'zhane', 'zhang', 'zheng', 'zidane', 'zig', 'ziglar', 'zigzagoon', 'zilch', 'zilla', 'zim', 'zimas', 'zimbabwe', 'zimmerman', 'zimzalabim', 'zinch', 'zinchenko', 'zindabadmahesbabu', 'zindagi', 'zine', 'zinedine', 'zines', 'zinger', 'zinn', 'zion', 'zionism', 'zionist', 'zionsv', 'zip', 'zipoff', 'zipper', 'zippier', 'zippy', 'ziras', 'zit', 'ziti', 'ziwani', 'ziyech', 'zkopipe', 'zlatan', 'znation', 'zocyve', 'zodiac', 'zodiacgirls', 'zoe', 'zoelkiflitaher', 'zoey', 'zoie', 'zoma', 'zomato', 'zombie', 'zone', 'zoo', 'zook', 'zoolin', 'zoom', 'zoosexual', 'zoosexuality', 'zoot', 'zootopia', 'zorb', 'zoro', 'zotero', 'zouma', 'zrussian', 'zsuzsa', 'zswagger', 'zt', 'ztd', 'zubeid', 'zubin', 'zuby', 'zucced', 'zucchini', 'zucker', 'zuffa', 'zuko', 'zul', 'zulee', 'zulu', 'zuma', 'zumba', 'zumiez', 'zumwalt', 'zurisha', 'zverev', 'zygons', 'zz', 'zzz', 'zzzzz']\n"
          ],
          "name": "stdout"
        }
      ]
    },
    {
      "cell_type": "code",
      "metadata": {
        "id": "rjoMOoSDFzhj"
      },
      "source": [
        "#X_tfidf_df = pd.DataFrame(X_tfidf.toarray(), columns=tfidf_vect.get_feature_names())\n",
        "#X_tfidf_df.head(10)"
      ],
      "execution_count": null,
      "outputs": []
    },
    {
      "cell_type": "code",
      "metadata": {
        "id": "_edhZDaZQm-m"
      },
      "source": [
        "#--------------------------------------------end TF-idf-----------------------------------------------------"
      ],
      "execution_count": null,
      "outputs": []
    },
    {
      "cell_type": "markdown",
      "metadata": {
        "id": "JO6udDqJH65G"
      },
      "source": [
        "# random forest"
      ]
    },
    {
      "cell_type": "code",
      "metadata": {
        "id": "h8mgPwO6Qp8t"
      },
      "source": [
        "#------------------------------------------------ML randomforest with tf idf---------------------------------"
      ],
      "execution_count": null,
      "outputs": []
    },
    {
      "cell_type": "code",
      "metadata": {
        "id": "1CAa7JajCRjf"
      },
      "source": [
        "import warnings\n",
        "warnings.filterwarnings(\"ignore\", category=DeprecationWarning)\n",
        "from sklearn.ensemble import RandomForestClassifier\n",
        "from sklearn.model_selection import GridSearchCV"
      ],
      "execution_count": null,
      "outputs": []
    },
    {
      "cell_type": "code",
      "metadata": {
        "id": "2DOnKpw9vxMl"
      },
      "source": [
        "#----------------------------naive bayes predict--------------------"
      ],
      "execution_count": null,
      "outputs": []
    },
    {
      "cell_type": "markdown",
      "metadata": {
        "id": "5DcZHXTTIAJG"
      },
      "source": [
        "# naive bayes"
      ]
    },
    {
      "cell_type": "code",
      "metadata": {
        "id": "NZBkvpLfv0s_"
      },
      "source": [
        "word = [word for lis in final_file[\"no_stopwords\"] for word in lis]\n",
        "\n",
        "frq = nltk.FreqDist(word)\n",
        "\n",
        "top1000=[tu for tu in frq.most_common(1000) ]"
      ],
      "execution_count": null,
      "outputs": []
    },
    {
      "cell_type": "code",
      "metadata": {
        "id": "ToE606osw_EQ"
      },
      "source": [
        "def is_off(n):\n",
        "  if n>0.6:\n",
        "    return 1\n",
        "  else:\n",
        "    return 0  "
      ],
      "execution_count": null,
      "outputs": []
    },
    {
      "cell_type": "code",
      "metadata": {
        "id": "orciyvjNwgzq"
      },
      "source": [
        "final_file[\"is_offensive\"]=final_file[\"average\"].apply(is_off)"
      ],
      "execution_count": null,
      "outputs": []
    },
    {
      "cell_type": "code",
      "metadata": {
        "colab": {
          "base_uri": "https://localhost:8080/"
        },
        "id": "UyiDsCdQxUph",
        "outputId": "d0c49dee-7d0e-4a38-d03f-72ee55cad61b"
      },
      "source": [
        "vader_lex=nltk.download('vader_lexicon')"
      ],
      "execution_count": null,
      "outputs": [
        {
          "output_type": "stream",
          "text": [
            "[nltk_data] Downloading package vader_lexicon to /root/nltk_data...\n"
          ],
          "name": "stdout"
        }
      ]
    },
    {
      "cell_type": "code",
      "metadata": {
        "id": "1fZuqn7KxlTY"
      },
      "source": [
        "def find_features(lis):\n",
        "    features= {}\n",
        "    lis=set(lis)\n",
        "    \n",
        "    for w in lis:\n",
        "        features[w] = (w in top1000)\n",
        "        \n",
        "    return features"
      ],
      "execution_count": null,
      "outputs": []
    },
    {
      "cell_type": "code",
      "metadata": {
        "id": "XTpmmvsixvpA"
      },
      "source": [
        "import numpy as np\n",
        "documents = list(zip(final_file['no_stopwords'], np.where(final_file['is_offensive'] == 1, True, False)))\n",
        "\n",
        "feature_sets = [(find_features(rev), category) for (rev, category) in documents]\n"
      ],
      "execution_count": null,
      "outputs": []
    },
    {
      "cell_type": "code",
      "metadata": {
        "colab": {
          "base_uri": "https://localhost:8080/"
        },
        "id": "FZ619x6Jy6_3",
        "outputId": "15bf7007-bb54-49f7-f692-475d01b3e39d"
      },
      "source": [
        "len(feature_sets)"
      ],
      "execution_count": null,
      "outputs": [
        {
          "output_type": "execute_result",
          "data": {
            "text/plain": [
              "72598"
            ]
          },
          "metadata": {
            "tags": []
          },
          "execution_count": 104
        }
      ]
    },
    {
      "cell_type": "code",
      "metadata": {
        "colab": {
          "base_uri": "https://localhost:8080/"
        },
        "id": "ZFbwS_2IijEr",
        "outputId": "b0ea09e1-7ea7-4be7-cb9d-04f3c643424e"
      },
      "source": [
        "feature_sets[0]"
      ],
      "execution_count": null,
      "outputs": [
        {
          "output_type": "execute_result",
          "data": {
            "text/plain": [
              "({'campaign': False, 'commercial': False, 'cut': False}, False)"
            ]
          },
          "metadata": {
            "tags": []
          },
          "execution_count": 133
        }
      ]
    },
    {
      "cell_type": "code",
      "metadata": {
        "id": "Y1uOvW-AcXQy"
      },
      "source": [
        "X_train=feature_sets[0:65000][0]\n",
        "y_train=feature_sets[0:65000:][1]\n",
        "X_test=feature_sets[65000:][0]\n",
        "y_test=feature_sets[65000:][1]"
      ],
      "execution_count": null,
      "outputs": []
    },
    {
      "cell_type": "code",
      "metadata": {
        "colab": {
          "base_uri": "https://localhost:8080/"
        },
        "id": "AbvmikWQx8g5",
        "outputId": "2c56c78a-17aa-40d7-f1f3-dd37a6a5ec94"
      },
      "source": [
        "training_set= feature_sets[:65000]\n",
        "test_set = feature_sets[65000:]\n",
        "classifier = nltk.NaiveBayesClassifier.train(training_set)\n",
        "classifier.show_most_informative_features()"
      ],
      "execution_count": null,
      "outputs": [
        {
          "output_type": "stream",
          "text": [
            "Most Informative Features\n",
            "                  stupid = False            True : False  =    592.3 : 1.0\n",
            "                    fuck = False            True : False  =    489.3 : 1.0\n",
            "                    shit = False            True : False  =    279.5 : 1.0\n",
            "                   bitch = False            True : False  =    272.3 : 1.0\n",
            "                 asshole = False            True : False  =    225.0 : 1.0\n",
            "                   pussy = False            True : False  =    195.7 : 1.0\n",
            "                   nigga = False            True : False  =    183.4 : 1.0\n",
            "                    dumb = False            True : False  =    145.4 : 1.0\n",
            "                   idiot = False            True : False  =    108.9 : 1.0\n",
            "                  shitty = False            True : False  =    106.0 : 1.0\n"
          ],
          "name": "stdout"
        }
      ]
    },
    {
      "cell_type": "code",
      "metadata": {
        "colab": {
          "base_uri": "https://localhost:8080/"
        },
        "id": "_-wzcazKzmgZ",
        "outputId": "0dca736a-5741-43ff-eeff-2f5f82ff1d06"
      },
      "source": [
        "nltk.classify.accuracy(classifier, test_set)"
      ],
      "execution_count": null,
      "outputs": [
        {
          "output_type": "execute_result",
          "data": {
            "text/plain": [
              "0.9033956304290602"
            ]
          },
          "metadata": {
            "tags": []
          },
          "execution_count": 124
        }
      ]
    },
    {
      "cell_type": "code",
      "metadata": {
        "id": "ydUOePR9-R7f"
      },
      "source": [
        "#confusion matrix here"
      ],
      "execution_count": null,
      "outputs": []
    },
    {
      "cell_type": "code",
      "metadata": {
        "id": "-7hSH0nlzprI"
      },
      "source": [
        "import pickle\n",
        "import os\n",
        "with open(\"model_picle\",\"wb\") as f:\n",
        "  pickle.dump(classifier,f)"
      ],
      "execution_count": null,
      "outputs": []
    },
    {
      "cell_type": "code",
      "metadata": {
        "id": "KOzvoAw-n9Gr"
      },
      "source": [
        "#-------------------------decision tree took too much time----------------------------"
      ],
      "execution_count": null,
      "outputs": []
    },
    {
      "cell_type": "markdown",
      "metadata": {
        "id": "mPyBibcGIPbG"
      },
      "source": [
        "# decision tree classifier"
      ]
    },
    {
      "cell_type": "code",
      "metadata": {
        "id": "58QLHGBz_Hst"
      },
      "source": [
        "classifier = nltk.DecisionTreeClassifier.train(training_set)"
      ],
      "execution_count": null,
      "outputs": []
    },
    {
      "cell_type": "code",
      "metadata": {
        "id": "q81Rb9qmvYsJ"
      },
      "source": [
        "nltk.classify.accuracy(classifier, test_set)"
      ],
      "execution_count": null,
      "outputs": []
    },
    {
      "cell_type": "code",
      "metadata": {
        "id": "7dlSMM5qAajC"
      },
      "source": [
        "#--------------random forest-----------"
      ],
      "execution_count": null,
      "outputs": []
    },
    {
      "cell_type": "code",
      "metadata": {
        "colab": {
          "base_uri": "https://localhost:8080/",
          "height": 357
        },
        "id": "6vHDve4zbzmN",
        "outputId": "8413e818-5c75-479b-8dc8-408d6caf4ece"
      },
      "source": [
        "from sklearn.ensemble import RandomForestClassifier\n",
        "\n",
        "rf = RandomForestClassifier()\n",
        "param = {'n_estimators': [10, 150, 300],\n",
        "        'max_depth': [30, 60, 90, None]}\n",
        "gs = GridSearchCV(rf, param, cv=2, n_jobs=-1)# n_jobs=-1 for parallelizing search\n",
        "gs_fit = gs.fit(X_train, y_train)\n",
        "pd.DataFrame(gs_fit.cv_results_).sort_values('mean_test_score', ascending=False).head()"
      ],
      "execution_count": null,
      "outputs": [
        {
          "output_type": "error",
          "ename": "TypeError",
          "evalue": "ignored",
          "traceback": [
            "\u001b[0;31m---------------------------------------------------------------------------\u001b[0m",
            "\u001b[0;31mTypeError\u001b[0m                                 Traceback (most recent call last)",
            "\u001b[0;32m<ipython-input-131-a9003a7ee2e5>\u001b[0m in \u001b[0;36m<module>\u001b[0;34m()\u001b[0m\n\u001b[1;32m      5\u001b[0m         'max_depth': [30, 60, 90, None]}\n\u001b[1;32m      6\u001b[0m \u001b[0mgs\u001b[0m \u001b[0;34m=\u001b[0m \u001b[0mGridSearchCV\u001b[0m\u001b[0;34m(\u001b[0m\u001b[0mrf\u001b[0m\u001b[0;34m,\u001b[0m \u001b[0mparam\u001b[0m\u001b[0;34m,\u001b[0m \u001b[0mcv\u001b[0m\u001b[0;34m=\u001b[0m\u001b[0;36m2\u001b[0m\u001b[0;34m,\u001b[0m \u001b[0mn_jobs\u001b[0m\u001b[0;34m=\u001b[0m\u001b[0;34m-\u001b[0m\u001b[0;36m1\u001b[0m\u001b[0;34m)\u001b[0m\u001b[0;31m# n_jobs=-1 for parallelizing search\u001b[0m\u001b[0;34m\u001b[0m\u001b[0;34m\u001b[0m\u001b[0m\n\u001b[0;32m----> 7\u001b[0;31m \u001b[0mgs_fit\u001b[0m \u001b[0;34m=\u001b[0m \u001b[0mgs\u001b[0m\u001b[0;34m.\u001b[0m\u001b[0mfit\u001b[0m\u001b[0;34m(\u001b[0m\u001b[0mX_train\u001b[0m\u001b[0;34m,\u001b[0m \u001b[0my_train\u001b[0m\u001b[0;34m)\u001b[0m\u001b[0;34m\u001b[0m\u001b[0;34m\u001b[0m\u001b[0m\n\u001b[0m\u001b[1;32m      8\u001b[0m \u001b[0mpd\u001b[0m\u001b[0;34m.\u001b[0m\u001b[0mDataFrame\u001b[0m\u001b[0;34m(\u001b[0m\u001b[0mgs_fit\u001b[0m\u001b[0;34m.\u001b[0m\u001b[0mcv_results_\u001b[0m\u001b[0;34m)\u001b[0m\u001b[0;34m.\u001b[0m\u001b[0msort_values\u001b[0m\u001b[0;34m(\u001b[0m\u001b[0;34m'mean_test_score'\u001b[0m\u001b[0;34m,\u001b[0m \u001b[0mascending\u001b[0m\u001b[0;34m=\u001b[0m\u001b[0;32mFalse\u001b[0m\u001b[0;34m)\u001b[0m\u001b[0;34m.\u001b[0m\u001b[0mhead\u001b[0m\u001b[0;34m(\u001b[0m\u001b[0;34m)\u001b[0m\u001b[0;34m\u001b[0m\u001b[0;34m\u001b[0m\u001b[0m\n",
            "\u001b[0;32m/usr/local/lib/python3.6/dist-packages/sklearn/model_selection/_search.py\u001b[0m in \u001b[0;36mfit\u001b[0;34m(self, X, y, groups, **fit_params)\u001b[0m\n\u001b[1;32m    737\u001b[0m             \u001b[0mrefit_start_time\u001b[0m \u001b[0;34m=\u001b[0m \u001b[0mtime\u001b[0m\u001b[0;34m.\u001b[0m\u001b[0mtime\u001b[0m\u001b[0;34m(\u001b[0m\u001b[0;34m)\u001b[0m\u001b[0;34m\u001b[0m\u001b[0;34m\u001b[0m\u001b[0m\n\u001b[1;32m    738\u001b[0m             \u001b[0;32mif\u001b[0m \u001b[0my\u001b[0m \u001b[0;32mis\u001b[0m \u001b[0;32mnot\u001b[0m \u001b[0;32mNone\u001b[0m\u001b[0;34m:\u001b[0m\u001b[0;34m\u001b[0m\u001b[0;34m\u001b[0m\u001b[0m\n\u001b[0;32m--> 739\u001b[0;31m                 \u001b[0mself\u001b[0m\u001b[0;34m.\u001b[0m\u001b[0mbest_estimator_\u001b[0m\u001b[0;34m.\u001b[0m\u001b[0mfit\u001b[0m\u001b[0;34m(\u001b[0m\u001b[0mX\u001b[0m\u001b[0;34m,\u001b[0m \u001b[0my\u001b[0m\u001b[0;34m,\u001b[0m \u001b[0;34m**\u001b[0m\u001b[0mfit_params\u001b[0m\u001b[0;34m)\u001b[0m\u001b[0;34m\u001b[0m\u001b[0;34m\u001b[0m\u001b[0m\n\u001b[0m\u001b[1;32m    740\u001b[0m             \u001b[0;32melse\u001b[0m\u001b[0;34m:\u001b[0m\u001b[0;34m\u001b[0m\u001b[0;34m\u001b[0m\u001b[0m\n\u001b[1;32m    741\u001b[0m                 \u001b[0mself\u001b[0m\u001b[0;34m.\u001b[0m\u001b[0mbest_estimator_\u001b[0m\u001b[0;34m.\u001b[0m\u001b[0mfit\u001b[0m\u001b[0;34m(\u001b[0m\u001b[0mX\u001b[0m\u001b[0;34m,\u001b[0m \u001b[0;34m**\u001b[0m\u001b[0mfit_params\u001b[0m\u001b[0;34m)\u001b[0m\u001b[0;34m\u001b[0m\u001b[0;34m\u001b[0m\u001b[0m\n",
            "\u001b[0;32m/usr/local/lib/python3.6/dist-packages/sklearn/ensemble/_forest.py\u001b[0m in \u001b[0;36mfit\u001b[0;34m(self, X, y, sample_weight)\u001b[0m\n\u001b[1;32m    293\u001b[0m         \"\"\"\n\u001b[1;32m    294\u001b[0m         \u001b[0;31m# Validate or convert input data\u001b[0m\u001b[0;34m\u001b[0m\u001b[0;34m\u001b[0m\u001b[0;34m\u001b[0m\u001b[0m\n\u001b[0;32m--> 295\u001b[0;31m         \u001b[0mX\u001b[0m \u001b[0;34m=\u001b[0m \u001b[0mcheck_array\u001b[0m\u001b[0;34m(\u001b[0m\u001b[0mX\u001b[0m\u001b[0;34m,\u001b[0m \u001b[0maccept_sparse\u001b[0m\u001b[0;34m=\u001b[0m\u001b[0;34m\"csc\"\u001b[0m\u001b[0;34m,\u001b[0m \u001b[0mdtype\u001b[0m\u001b[0;34m=\u001b[0m\u001b[0mDTYPE\u001b[0m\u001b[0;34m)\u001b[0m\u001b[0;34m\u001b[0m\u001b[0;34m\u001b[0m\u001b[0m\n\u001b[0m\u001b[1;32m    296\u001b[0m         \u001b[0my\u001b[0m \u001b[0;34m=\u001b[0m \u001b[0mcheck_array\u001b[0m\u001b[0;34m(\u001b[0m\u001b[0my\u001b[0m\u001b[0;34m,\u001b[0m \u001b[0maccept_sparse\u001b[0m\u001b[0;34m=\u001b[0m\u001b[0;34m'csc'\u001b[0m\u001b[0;34m,\u001b[0m \u001b[0mensure_2d\u001b[0m\u001b[0;34m=\u001b[0m\u001b[0;32mFalse\u001b[0m\u001b[0;34m,\u001b[0m \u001b[0mdtype\u001b[0m\u001b[0;34m=\u001b[0m\u001b[0;32mNone\u001b[0m\u001b[0;34m)\u001b[0m\u001b[0;34m\u001b[0m\u001b[0;34m\u001b[0m\u001b[0m\n\u001b[1;32m    297\u001b[0m         \u001b[0;32mif\u001b[0m \u001b[0msample_weight\u001b[0m \u001b[0;32mis\u001b[0m \u001b[0;32mnot\u001b[0m \u001b[0;32mNone\u001b[0m\u001b[0;34m:\u001b[0m\u001b[0;34m\u001b[0m\u001b[0;34m\u001b[0m\u001b[0m\n",
            "\u001b[0;32m/usr/local/lib/python3.6/dist-packages/sklearn/utils/validation.py\u001b[0m in \u001b[0;36mcheck_array\u001b[0;34m(array, accept_sparse, accept_large_sparse, dtype, order, copy, force_all_finite, ensure_2d, allow_nd, ensure_min_samples, ensure_min_features, warn_on_dtype, estimator)\u001b[0m\n\u001b[1;32m    529\u001b[0m                     \u001b[0marray\u001b[0m \u001b[0;34m=\u001b[0m \u001b[0marray\u001b[0m\u001b[0;34m.\u001b[0m\u001b[0mastype\u001b[0m\u001b[0;34m(\u001b[0m\u001b[0mdtype\u001b[0m\u001b[0;34m,\u001b[0m \u001b[0mcasting\u001b[0m\u001b[0;34m=\u001b[0m\u001b[0;34m\"unsafe\"\u001b[0m\u001b[0;34m,\u001b[0m \u001b[0mcopy\u001b[0m\u001b[0;34m=\u001b[0m\u001b[0;32mFalse\u001b[0m\u001b[0;34m)\u001b[0m\u001b[0;34m\u001b[0m\u001b[0;34m\u001b[0m\u001b[0m\n\u001b[1;32m    530\u001b[0m                 \u001b[0;32melse\u001b[0m\u001b[0;34m:\u001b[0m\u001b[0;34m\u001b[0m\u001b[0;34m\u001b[0m\u001b[0m\n\u001b[0;32m--> 531\u001b[0;31m                     \u001b[0marray\u001b[0m \u001b[0;34m=\u001b[0m \u001b[0mnp\u001b[0m\u001b[0;34m.\u001b[0m\u001b[0masarray\u001b[0m\u001b[0;34m(\u001b[0m\u001b[0marray\u001b[0m\u001b[0;34m,\u001b[0m \u001b[0morder\u001b[0m\u001b[0;34m=\u001b[0m\u001b[0morder\u001b[0m\u001b[0;34m,\u001b[0m \u001b[0mdtype\u001b[0m\u001b[0;34m=\u001b[0m\u001b[0mdtype\u001b[0m\u001b[0;34m)\u001b[0m\u001b[0;34m\u001b[0m\u001b[0;34m\u001b[0m\u001b[0m\n\u001b[0m\u001b[1;32m    532\u001b[0m             \u001b[0;32mexcept\u001b[0m \u001b[0mComplexWarning\u001b[0m\u001b[0;34m:\u001b[0m\u001b[0;34m\u001b[0m\u001b[0;34m\u001b[0m\u001b[0m\n\u001b[1;32m    533\u001b[0m                 raise ValueError(\"Complex data not supported\\n\"\n",
            "\u001b[0;32m/usr/local/lib/python3.6/dist-packages/numpy/core/_asarray.py\u001b[0m in \u001b[0;36masarray\u001b[0;34m(a, dtype, order)\u001b[0m\n\u001b[1;32m     83\u001b[0m \u001b[0;34m\u001b[0m\u001b[0m\n\u001b[1;32m     84\u001b[0m     \"\"\"\n\u001b[0;32m---> 85\u001b[0;31m     \u001b[0;32mreturn\u001b[0m \u001b[0marray\u001b[0m\u001b[0;34m(\u001b[0m\u001b[0ma\u001b[0m\u001b[0;34m,\u001b[0m \u001b[0mdtype\u001b[0m\u001b[0;34m,\u001b[0m \u001b[0mcopy\u001b[0m\u001b[0;34m=\u001b[0m\u001b[0;32mFalse\u001b[0m\u001b[0;34m,\u001b[0m \u001b[0morder\u001b[0m\u001b[0;34m=\u001b[0m\u001b[0morder\u001b[0m\u001b[0;34m)\u001b[0m\u001b[0;34m\u001b[0m\u001b[0;34m\u001b[0m\u001b[0m\n\u001b[0m\u001b[1;32m     86\u001b[0m \u001b[0;34m\u001b[0m\u001b[0m\n\u001b[1;32m     87\u001b[0m \u001b[0;34m\u001b[0m\u001b[0m\n",
            "\u001b[0;31mTypeError\u001b[0m: float() argument must be a string or a number, not 'dict'"
          ]
        }
      ]
    },
    {
      "cell_type": "markdown",
      "metadata": {
        "id": "ZFITVHadoKOd"
      },
      "source": [
        "# KNN. second one with balanced dataset"
      ]
    },
    {
      "cell_type": "code",
      "metadata": {
        "id": "tmLFoWCFcEPc"
      },
      "source": [
        "#creating distfreq with only offensive tweets"
      ],
      "execution_count": null,
      "outputs": []
    },
    {
      "cell_type": "code",
      "metadata": {
        "id": "fUlCb7EroyWt"
      },
      "source": [
        "from sklearn.neighbors import KNeighborsClassifier"
      ],
      "execution_count": null,
      "outputs": []
    },
    {
      "cell_type": "code",
      "metadata": {
        "id": "tcBIyhHmpETD"
      },
      "source": [
        "model = KNeighborsClassifier(n_neighbors = 10)"
      ],
      "execution_count": null,
      "outputs": []
    },
    {
      "cell_type": "code",
      "metadata": {
        "id": "3l-AuJeBpGa0"
      },
      "source": [
        "sample=final_file_pkl.sample(5000)"
      ],
      "execution_count": null,
      "outputs": []
    },
    {
      "cell_type": "code",
      "metadata": {
        "id": "tE3WZc19p1r1"
      },
      "source": [
        "from sklearn.feature_extraction.text import CountVectorizer"
      ],
      "execution_count": null,
      "outputs": []
    },
    {
      "cell_type": "code",
      "metadata": {
        "id": "UmhBSLeSpgZX"
      },
      "source": [
        "#let's take only the most common 250 words\n",
        "bow_vect = CountVectorizer(max_features=250)\n",
        "# fit creates one entry for each different word seen  \n",
        "X = bow_vect.fit_transform(sample['clean_blob']).toarray()"
      ],
      "execution_count": null,
      "outputs": []
    },
    {
      "cell_type": "code",
      "metadata": {
        "id": "goC2lBD5p7lR"
      },
      "source": [
        "as_df = pd.DataFrame(X,columns=bow_vect.get_feature_names())"
      ],
      "execution_count": null,
      "outputs": []
    },
    {
      "cell_type": "code",
      "metadata": {
        "colab": {
          "base_uri": "https://localhost:8080/"
        },
        "id": "K00T2Pyp_6nu",
        "outputId": "6cbbb876-6ff6-4e10-a561-40bba6b381d4"
      },
      "source": [
        "as_df.shape"
      ],
      "execution_count": null,
      "outputs": [
        {
          "output_type": "execute_result",
          "data": {
            "text/plain": [
              "(5000, 250)"
            ]
          },
          "metadata": {
            "tags": []
          },
          "execution_count": 17
        }
      ]
    },
    {
      "cell_type": "code",
      "metadata": {
        "id": "KebubyTkAdXa"
      },
      "source": [
        "features=as_df\n",
        "labels=sample[\"is_offensive\"]"
      ],
      "execution_count": null,
      "outputs": []
    },
    {
      "cell_type": "code",
      "metadata": {
        "id": "dvxcRirJARe_"
      },
      "source": [
        "from sklearn.model_selection import train_test_split\n",
        "X_train, X_test, y_train, y_test = train_test_split(features, labels, random_state=0)"
      ],
      "execution_count": null,
      "outputs": []
    },
    {
      "cell_type": "code",
      "metadata": {
        "id": "5UHsUDaKAwcI"
      },
      "source": [
        "model = model.fit(X_train, y_train)"
      ],
      "execution_count": null,
      "outputs": []
    },
    {
      "cell_type": "code",
      "metadata": {
        "colab": {
          "base_uri": "https://localhost:8080/"
        },
        "id": "F4qA0RmhA7_e",
        "outputId": "aff4de8e-3c37-4a0e-8293-2da16e6202d5"
      },
      "source": [
        "# once the model is trained you can call the score method, to compare results of test predictions with actual values -> returns the accuracy\n",
        "#print(\"test data accuracy was \",model.score(X_test,y_test))\n",
        "\n",
        "# you should always also see the accuracy of the training\n",
        "print(\"train data accuracy was \", model.score(X_train, y_train))"
      ],
      "execution_count": null,
      "outputs": [
        {
          "output_type": "stream",
          "text": [
            "train data accuracy was  0.9072\n"
          ],
          "name": "stdout"
        }
      ]
    },
    {
      "cell_type": "code",
      "metadata": {
        "colab": {
          "base_uri": "https://localhost:8080/"
        },
        "id": "jPUV-oNHJYYa",
        "outputId": "871cc69f-9199-473d-8024-81ba09bd8b4e"
      },
      "source": [
        "from sklearn.metrics import classification_report\n",
        "from sklearn.metrics import confusion_matrix\n",
        "\n",
        "pred = model.predict(X_test)\n",
        "print(classification_report(pred,y_test))\n"
      ],
      "execution_count": null,
      "outputs": [
        {
          "output_type": "stream",
          "text": [
            "              precision    recall  f1-score   support\n",
            "\n",
            "           0       1.00      0.90      0.95      1228\n",
            "           1       0.14      0.95      0.25        22\n",
            "\n",
            "    accuracy                           0.90      1250\n",
            "   macro avg       0.57      0.93      0.60      1250\n",
            "weighted avg       0.98      0.90      0.93      1250\n",
            "\n"
          ],
          "name": "stdout"
        }
      ]
    },
    {
      "cell_type": "code",
      "metadata": {
        "id": "xS83IMCDW82C"
      },
      "source": [
        "confusion_matrix(model.predict(X_test),y_test)"
      ],
      "execution_count": null,
      "outputs": []
    },
    {
      "cell_type": "code",
      "metadata": {
        "id": "Ucrx_9mHKYqd"
      },
      "source": [
        "#redoing it with balanced dataset"
      ],
      "execution_count": null,
      "outputs": []
    },
    {
      "cell_type": "code",
      "metadata": {
        "id": "ULeYIgH9KbQP"
      },
      "source": [
        "sample_bal_off=final_file_pkl[final_file_pkl[\"is_offensive\"]==1].sample(3000)\n",
        "sample_bal_nof=final_file_pkl[final_file_pkl[\"is_offensive\"]==0].sample(7000)"
      ],
      "execution_count": null,
      "outputs": []
    },
    {
      "cell_type": "code",
      "metadata": {
        "id": "Dap6_RvzK9yc"
      },
      "source": [
        "\n",
        "frames = [sample_bal_off,sample_bal_nof]\n",
        "\n",
        "sample_bal = pd.concat(frames) \n"
      ],
      "execution_count": null,
      "outputs": []
    },
    {
      "cell_type": "code",
      "metadata": {
        "id": "FWLwTlelMgbz"
      },
      "source": [
        "model_bal = KNeighborsClassifier(n_neighbors = 15)"
      ],
      "execution_count": null,
      "outputs": []
    },
    {
      "cell_type": "code",
      "metadata": {
        "id": "NvJDDh4NMmu2"
      },
      "source": [
        "from sklearn.feature_extraction.text import CountVectorizer"
      ],
      "execution_count": null,
      "outputs": []
    },
    {
      "cell_type": "code",
      "metadata": {
        "id": "9wfatq5XMqEl"
      },
      "source": [
        "#let's take only the most common 250 words\n",
        "bow_vect = CountVectorizer(max_features=1000)\n",
        "# fit creates one entry for each different word seen  \n",
        "X = bow_vect.fit_transform(sample_bal['clean_blob']).toarray()"
      ],
      "execution_count": null,
      "outputs": []
    },
    {
      "cell_type": "code",
      "metadata": {
        "id": "yE2Jhm7fMz2E"
      },
      "source": [
        "as_df_bal = pd.DataFrame(X,columns=bow_vect.get_feature_names())"
      ],
      "execution_count": null,
      "outputs": []
    },
    {
      "cell_type": "code",
      "metadata": {
        "id": "C71WgmezM7Mm"
      },
      "source": [
        "features_bal=as_df_bal\n",
        "labels_bal=sample_bal[\"is_offensive\"]"
      ],
      "execution_count": null,
      "outputs": []
    },
    {
      "cell_type": "code",
      "metadata": {
        "id": "TduyRjC_NCCX"
      },
      "source": [
        "from sklearn.model_selection import train_test_split\n",
        "X_train, X_test, y_train, y_test = train_test_split(features_bal, labels_bal, random_state=0)"
      ],
      "execution_count": null,
      "outputs": []
    },
    {
      "cell_type": "code",
      "metadata": {
        "id": "6olHatBANNMK"
      },
      "source": [
        "model_bal=model_bal.fit(X_train, y_train)"
      ],
      "execution_count": null,
      "outputs": []
    },
    {
      "cell_type": "code",
      "metadata": {
        "colab": {
          "base_uri": "https://localhost:8080/"
        },
        "id": "g90qwN9cNdMw",
        "outputId": "42272c08-8ed6-4bf7-fe1f-d9f86aac3dd6"
      },
      "source": [
        "print(\"test data accuracy was \",model_bal.score(X_test,y_test))"
      ],
      "execution_count": null,
      "outputs": [
        {
          "output_type": "stream",
          "text": [
            "test data accuracy was  0.8088\n"
          ],
          "name": "stdout"
        }
      ]
    },
    {
      "cell_type": "code",
      "metadata": {
        "colab": {
          "base_uri": "https://localhost:8080/"
        },
        "id": "4ur2C0K0OMSC",
        "outputId": "8aab6595-6e0f-4811-aacf-87a81dfe073c"
      },
      "source": [
        "pred = model_bal.predict(X_test)\n",
        "print(classification_report(pred,y_test))"
      ],
      "execution_count": null,
      "outputs": [
        {
          "output_type": "stream",
          "text": [
            "              precision    recall  f1-score   support\n",
            "\n",
            "           0       1.00      0.79      0.88      2227\n",
            "           1       0.36      1.00      0.53       273\n",
            "\n",
            "    accuracy                           0.81      2500\n",
            "   macro avg       0.68      0.89      0.71      2500\n",
            "weighted avg       0.93      0.81      0.84      2500\n",
            "\n"
          ],
          "name": "stdout"
        }
      ]
    },
    {
      "cell_type": "code",
      "metadata": {
        "colab": {
          "base_uri": "https://localhost:8080/"
        },
        "id": "gDWUk1POXCYY",
        "outputId": "95143b65-ee07-4b4a-b647-bcd5d564e5ae"
      },
      "source": [
        "confusion_matrix(pred,y_test)"
      ],
      "execution_count": null,
      "outputs": [
        {
          "output_type": "execute_result",
          "data": {
            "text/plain": [
              "array([[1750,  477],\n",
              "       [   1,  272]])"
            ]
          },
          "metadata": {
            "tags": []
          },
          "execution_count": 59
        }
      ]
    },
    {
      "cell_type": "code",
      "metadata": {
        "colab": {
          "base_uri": "https://localhost:8080/",
          "height": 297
        },
        "id": "qjSuDy6PPaoD",
        "outputId": "f7b7aeca-0a30-4606-d879-9e4e49677d09"
      },
      "source": [
        "import matplotlib.pyplot as plt\n",
        "\n",
        "# hyerparameter tuning\n",
        "test_accuracy = []\n",
        "# try n_neighbors from 1 to 30\n",
        "neighbors_settings = range(1, 30)\n",
        "for n_neighbors in neighbors_settings:\n",
        "  # build the model\n",
        "  clf = KNeighborsClassifier(n_neighbors=n_neighbors)\n",
        "  #training the model\n",
        "  clf.fit(X_train, y_train)\n",
        "  # record training set accuracy\n",
        "  # record generalization accuracy\n",
        "  test_accuracy.append(clf.score(X_test, y_test))\n",
        "\n",
        "plt.plot(neighbors_settings, test_accuracy, label=\"test accuracy\")\n",
        "plt.ylabel(\"Accuracy\")\n",
        "plt.xlabel(\"n_neighbors\")\n",
        "plt.legend()"
      ],
      "execution_count": null,
      "outputs": [
        {
          "output_type": "execute_result",
          "data": {
            "text/plain": [
              "<matplotlib.legend.Legend at 0x7fba6a19ff28>"
            ]
          },
          "metadata": {
            "tags": []
          },
          "execution_count": 57
        },
        {
          "output_type": "display_data",
          "data": {
            "image/png": "[encoded data removed]",
            "text/plain": [
              "<Figure size 432x288 with 1 Axes>"
            ]
          },
          "metadata": {
            "tags": [],
            "needs_background": "light"
          }
        }
      ]
    },
    {
      "cell_type": "code",
      "metadata": {
        "id": "o7kI7iQaWJqW"
      },
      "source": [
        ""
      ],
      "execution_count": null,
      "outputs": []
    },
    {
      "cell_type": "markdown",
      "metadata": {
        "id": "u7GiK6uSWKfU"
      },
      "source": [
        "# Logistic regression"
      ]
    },
    {
      "cell_type": "code",
      "metadata": {
        "id": "1gEvnUtKWPnM"
      },
      "source": [
        "from sklearn.linear_model import LogisticRegression"
      ],
      "execution_count": null,
      "outputs": []
    },
    {
      "cell_type": "code",
      "metadata": {
        "id": "o79p01kad8c8"
      },
      "source": [
        "# initialize the model\n",
        "model_log = LogisticRegression()\n",
        "# training your model on the training datasets -> where the algorithm will learn\n",
        "model_log = model_log.fit(X_train, y_train)"
      ],
      "execution_count": null,
      "outputs": []
    },
    {
      "cell_type": "code",
      "metadata": {
        "colab": {
          "base_uri": "https://localhost:8080/"
        },
        "id": "UG6pj2W9eL8R",
        "outputId": "2c25e97f-eced-4482-dc3c-e7b1b50b9d83"
      },
      "source": [
        "print(\"test data accuracy was \",model_log.score(X_test,y_test))"
      ],
      "execution_count": null,
      "outputs": [
        {
          "output_type": "stream",
          "text": [
            "test data accuracy was  0.9056\n"
          ],
          "name": "stdout"
        }
      ]
    },
    {
      "cell_type": "code",
      "metadata": {
        "colab": {
          "base_uri": "https://localhost:8080/"
        },
        "id": "60yHWEYSeTfa",
        "outputId": "0f84b481-390b-407b-e3c5-75ae2d998b8f"
      },
      "source": [
        "print(\"train data accuracy was \", model_log.score(X_train, y_train))"
      ],
      "execution_count": null,
      "outputs": [
        {
          "output_type": "stream",
          "text": [
            "train data accuracy was  0.9250666666666667\n"
          ],
          "name": "stdout"
        }
      ]
    },
    {
      "cell_type": "code",
      "metadata": {
        "colab": {
          "base_uri": "https://localhost:8080/"
        },
        "id": "EySogKJzeaS1",
        "outputId": "62b20617-bb50-4ad8-bd06-505e3cb9b634"
      },
      "source": [
        "pred = model_log.predict(X_test)\n",
        "print(classification_report(pred,y_test))"
      ],
      "execution_count": null,
      "outputs": [
        {
          "output_type": "stream",
          "text": [
            "              precision    recall  f1-score   support\n",
            "\n",
            "           0       0.98      0.90      0.94      1911\n",
            "           1       0.74      0.94      0.82       589\n",
            "\n",
            "    accuracy                           0.91      2500\n",
            "   macro avg       0.86      0.92      0.88      2500\n",
            "weighted avg       0.92      0.91      0.91      2500\n",
            "\n"
          ],
          "name": "stdout"
        }
      ]
    },
    {
      "cell_type": "code",
      "metadata": {
        "colab": {
          "base_uri": "https://localhost:8080/"
        },
        "id": "jGTFzykMegn7",
        "outputId": "67e799f4-1334-43fd-93b2-c3beb5732ea8"
      },
      "source": [
        "confusion_matrix(pred,y_test)"
      ],
      "execution_count": null,
      "outputs": [
        {
          "output_type": "execute_result",
          "data": {
            "text/plain": [
              "array([[1713,  198],\n",
              "       [  38,  551]])"
            ]
          },
          "metadata": {
            "tags": []
          },
          "execution_count": 66
        }
      ]
    },
    {
      "cell_type": "markdown",
      "metadata": {
        "id": "bVfLmOFkeyXT"
      },
      "source": [
        "# SVM"
      ]
    },
    {
      "cell_type": "code",
      "metadata": {
        "colab": {
          "base_uri": "https://localhost:8080/"
        },
        "id": "Hh4zqJNQe1H-",
        "outputId": "f5706984-a829-4944-b185-03d3b5223d6c"
      },
      "source": [
        "from sklearn.svm import LinearSVC\n",
        "\n",
        "model_svm = LinearSVC()\n",
        "model_svm.fit(X_train, y_train)\n",
        "\n",
        "print(model_svm.score(X_train, y_train))\n",
        "print(model_svm.score(X_test, y_test))"
      ],
      "execution_count": null,
      "outputs": [
        {
          "output_type": "stream",
          "text": [
            "0.9346666666666666\n",
            "0.902\n"
          ],
          "name": "stdout"
        }
      ]
    },
    {
      "cell_type": "code",
      "metadata": {
        "colab": {
          "base_uri": "https://localhost:8080/"
        },
        "id": "DdOfty2pfCQN",
        "outputId": "cfbc5ffd-994c-44a3-b923-15f1f58d6e95"
      },
      "source": [
        "pred = model_svm.predict(X_test)\n",
        "print(classification_report(pred,y_test))"
      ],
      "execution_count": null,
      "outputs": [
        {
          "output_type": "stream",
          "text": [
            "              precision    recall  f1-score   support\n",
            "\n",
            "           0       0.96      0.91      0.93      1852\n",
            "           1       0.77      0.89      0.82       648\n",
            "\n",
            "    accuracy                           0.90      2500\n",
            "   macro avg       0.86      0.90      0.88      2500\n",
            "weighted avg       0.91      0.90      0.90      2500\n",
            "\n"
          ],
          "name": "stdout"
        }
      ]
    },
    {
      "cell_type": "code",
      "metadata": {
        "colab": {
          "base_uri": "https://localhost:8080/"
        },
        "id": "qIjXTG6BfGdd",
        "outputId": "e1111588-79a8-49f3-ce7e-6a36a92b72eb"
      },
      "source": [
        "confusion_matrix(pred,y_test)"
      ],
      "execution_count": null,
      "outputs": [
        {
          "output_type": "execute_result",
          "data": {
            "text/plain": [
              "array([[1679,  173],\n",
              "       [  72,  576]])"
            ]
          },
          "metadata": {
            "tags": []
          },
          "execution_count": 71
        }
      ]
    },
    {
      "cell_type": "code",
      "metadata": {
        "id": "Zz-LQsfdfYKy"
      },
      "source": [
        "from sklearn.model_selection import cross_validate"
      ],
      "execution_count": null,
      "outputs": []
    },
    {
      "cell_type": "code",
      "metadata": {
        "id": "LmO2RWjIfjEQ"
      },
      "source": [
        "results = cross_validate(model_svm,features_bal, labels_bal, cv = 10)"
      ],
      "execution_count": null,
      "outputs": []
    },
    {
      "cell_type": "code",
      "metadata": {
        "colab": {
          "base_uri": "https://localhost:8080/"
        },
        "id": "kZu3HSSFf7DK",
        "outputId": "04420547-c6eb-43fa-a888-22a5fe1f590f"
      },
      "source": [
        "results['test_score'].mean()\n",
        "results['test_score']"
      ],
      "execution_count": null,
      "outputs": [
        {
          "output_type": "execute_result",
          "data": {
            "text/plain": [
              "array([0.904, 0.887, 0.896, 0.92 , 0.899, 0.921, 0.915, 0.9  , 0.906,\n",
              "       0.901])"
            ]
          },
          "metadata": {
            "tags": []
          },
          "execution_count": 76
        }
      ]
    },
    {
      "cell_type": "markdown",
      "metadata": {
        "id": "oi6Vful_gkz3"
      },
      "source": [
        "# Naive bayes with test_train_split. My new bigger sample and vectorizer is here(1000 words"
      ]
    },
    {
      "cell_type": "code",
      "metadata": {
        "id": "v6xbFFR7goi2"
      },
      "source": [
        "from sklearn.naive_bayes import GaussianNB"
      ],
      "execution_count": null,
      "outputs": []
    },
    {
      "cell_type": "code",
      "metadata": {
        "id": "lzF30ZqFg7zh"
      },
      "source": [
        "model_naive = GaussianNB()"
      ],
      "execution_count": null,
      "outputs": []
    },
    {
      "cell_type": "code",
      "metadata": {
        "id": "z1ZTC5hohDf2"
      },
      "source": [
        "model_naive=model_naive.fit(X_train, y_train)"
      ],
      "execution_count": null,
      "outputs": []
    },
    {
      "cell_type": "code",
      "metadata": {
        "id": "n8aRV1kRhKeH"
      },
      "source": [
        "pred = model_naive.predict(X_test)"
      ],
      "execution_count": null,
      "outputs": []
    },
    {
      "cell_type": "code",
      "metadata": {
        "colab": {
          "base_uri": "https://localhost:8080/"
        },
        "id": "sw2sjaiihYKp",
        "outputId": "668b1299-c771-4cdc-88dd-10aecb3bb59d"
      },
      "source": [
        "print(classification_report(pred,y_test))"
      ],
      "execution_count": null,
      "outputs": [
        {
          "output_type": "stream",
          "text": [
            "              precision    recall  f1-score   support\n",
            "\n",
            "           0       0.41      0.97      0.58      4699\n",
            "           1       0.91      0.18      0.29      7801\n",
            "\n",
            "    accuracy                           0.47     12500\n",
            "   macro avg       0.66      0.57      0.44     12500\n",
            "weighted avg       0.72      0.47      0.40     12500\n",
            "\n"
          ],
          "name": "stdout"
        }
      ]
    },
    {
      "cell_type": "code",
      "metadata": {
        "colab": {
          "base_uri": "https://localhost:8080/"
        },
        "id": "h49KYadhhi0W",
        "outputId": "bd1f1054-be29-4a62-ae9d-30595e7f0ba9"
      },
      "source": [
        "confusion_matrix(pred,y_test)"
      ],
      "execution_count": null,
      "outputs": [
        {
          "output_type": "execute_result",
          "data": {
            "text/plain": [
              "array([[4560,  139],\n",
              "       [6428, 1373]])"
            ]
          },
          "metadata": {
            "tags": []
          },
          "execution_count": 140
        }
      ]
    },
    {
      "cell_type": "code",
      "metadata": {
        "id": "PoxYOLeXiziB"
      },
      "source": [
        "#trying on a much bigger sample first with unbalanced dataset"
      ],
      "execution_count": null,
      "outputs": []
    },
    {
      "cell_type": "code",
      "metadata": {
        "id": "mZp4qzdDi3T8"
      },
      "source": [
        "sample2=final_file_pkl.sample(50000)"
      ],
      "execution_count": null,
      "outputs": []
    },
    {
      "cell_type": "code",
      "metadata": {
        "id": "eBfymYOIjLR3"
      },
      "source": [
        "#let's take only the most common 1000 words\n",
        "bow_vect = CountVectorizer(max_features=1000)\n",
        "# fit creates one entry for each different word seen  \n",
        "X = bow_vect.fit_transform(sample2['clean_blob']).toarray()"
      ],
      "execution_count": null,
      "outputs": []
    },
    {
      "cell_type": "code",
      "metadata": {
        "colab": {
          "base_uri": "https://localhost:8080/"
        },
        "id": "fE8UnGOJXdfW",
        "outputId": "747d8e27-2bab-4a74-e03b-04b8ea31e7c3"
      },
      "source": [
        "bow_vect.fit(sample2['clean_blob'])"
      ],
      "execution_count": null,
      "outputs": [
        {
          "output_type": "execute_result",
          "data": {
            "text/plain": [
              "CountVectorizer(analyzer='word', binary=False, decode_error='strict',\n",
              "                dtype=<class 'numpy.int64'>, encoding='utf-8', input='content',\n",
              "                lowercase=True, max_df=1.0, max_features=1000, min_df=1,\n",
              "                ngram_range=(1, 1), preprocessor=None, stop_words=None,\n",
              "                strip_accents=None, token_pattern='(?u)\\\\b\\\\w\\\\w+\\\\b',\n",
              "                tokenizer=None, vocabulary=None)"
            ]
          },
          "metadata": {
            "tags": []
          },
          "execution_count": 16
        }
      ]
    },
    {
      "cell_type": "code",
      "metadata": {
        "id": "dseGJr4XX30j"
      },
      "source": [
        "with open(\"bow_vect\",\"wb\") as f:\r\n",
        "  pickle.dump(bow_vect,f)"
      ],
      "execution_count": null,
      "outputs": []
    },
    {
      "cell_type": "code",
      "metadata": {
        "colab": {
          "base_uri": "https://localhost:8080/"
        },
        "id": "faz1zk5IXobr",
        "outputId": "161684fc-ba1c-4f0a-cab1-6969422df910"
      },
      "source": [
        "bow_vect.transform(sample2[\"clean_blob\"]).toarray()"
      ],
      "execution_count": null,
      "outputs": [
        {
          "output_type": "execute_result",
          "data": {
            "text/plain": [
              "array([[0, 0, 0, ..., 0, 0, 0],\n",
              "       [0, 0, 0, ..., 0, 0, 0],\n",
              "       [0, 0, 0, ..., 0, 0, 0],\n",
              "       ...,\n",
              "       [0, 0, 0, ..., 0, 0, 0],\n",
              "       [0, 0, 0, ..., 0, 0, 0],\n",
              "       [0, 0, 0, ..., 0, 0, 0]])"
            ]
          },
          "metadata": {
            "tags": []
          },
          "execution_count": 15
        }
      ]
    },
    {
      "cell_type": "code",
      "metadata": {
        "id": "cKvOgKF0RfDN"
      },
      "source": [
        "with open(\"vectorizer\",\"wb\") as f:\n",
        "  pickle.dump(X,f)"
      ],
      "execution_count": null,
      "outputs": []
    },
    {
      "cell_type": "code",
      "metadata": {
        "colab": {
          "base_uri": "https://localhost:8080/"
        },
        "id": "p6lgV18fOfbt",
        "outputId": "60a0ac95-0adb-44ac-a8c3-1c5822d4eea2"
      },
      "source": [
        "bow_vect.transform([\"he ahdfffja alsdkjflka hjfhfhf\"]).toarray()"
      ],
      "execution_count": null,
      "outputs": [
        {
          "output_type": "execute_result",
          "data": {
            "text/plain": [
              "array([[0, 0, 0, 0, 0, 0, 0, 0, 0, 0, 0, 0, 0, 0, 0, 0, 0, 0, 0, 0, 0, 0,\n",
              "        0, 0, 0, 0, 0, 0, 0, 0, 0, 0, 0, 0, 0, 0, 0, 0, 0, 0, 0, 0, 0, 0,\n",
              "        0, 0, 0, 0, 0, 0, 0, 0, 0, 0, 0, 0, 0, 0, 0, 0, 0, 0, 0, 0, 0, 0,\n",
              "        0, 0, 0, 0, 0, 0, 0, 0, 0, 0, 0, 0, 0, 0, 0, 0, 0, 0, 0, 0, 0, 0,\n",
              "        0, 0, 0, 0, 0, 0, 0, 0, 0, 0, 0, 0, 0, 0, 0, 0, 0, 0, 0, 0, 0, 0,\n",
              "        0, 0, 0, 0, 0, 0, 0, 0, 0, 0, 0, 0, 0, 0, 0, 0, 0, 0, 0, 0, 0, 0,\n",
              "        0, 0, 0, 0, 0, 0, 0, 0, 0, 0, 0, 0, 0, 0, 0, 0, 0, 0, 0, 0, 0, 0,\n",
              "        0, 0, 0, 0, 0, 0, 0, 0, 0, 0, 0, 0, 0, 0, 0, 0, 0, 0, 0, 0, 0, 0,\n",
              "        0, 0, 0, 0, 0, 0, 0, 0, 0, 0, 0, 0, 0, 0, 0, 0, 0, 0, 0, 0, 0, 0,\n",
              "        0, 0, 0, 0, 0, 0, 0, 0, 0, 0, 0, 0, 0, 0, 0, 0, 0, 0, 0, 0, 0, 0,\n",
              "        0, 0, 0, 0, 0, 0, 0, 0, 0, 0, 0, 0, 0, 0, 0, 0, 0, 0, 0, 0, 0, 0,\n",
              "        0, 0, 0, 0, 0, 0, 0, 0, 0, 0, 0, 0, 0, 0, 0, 0, 0, 0, 0, 0, 0, 0,\n",
              "        0, 0, 0, 0, 0, 0, 0, 0, 0, 0, 0, 0, 0, 0, 0, 0, 0, 0, 0, 0, 0, 0,\n",
              "        0, 0, 0, 0, 0, 0, 0, 0, 0, 0, 0, 0, 0, 0, 0, 0, 0, 0, 0, 0, 0, 0,\n",
              "        0, 0, 0, 0, 0, 0, 0, 0, 0, 0, 0, 0, 0, 0, 0, 0, 0, 0, 0, 0, 0, 0,\n",
              "        0, 0, 0, 0, 0, 0, 0, 0, 0, 0, 0, 0, 0, 0, 0, 0, 0, 0, 0, 0, 0, 0,\n",
              "        0, 0, 0, 0, 0, 0, 0, 0, 0, 0, 0, 0, 0, 0, 0, 0, 0, 0, 0, 0, 0, 0,\n",
              "        0, 0, 0, 0, 0, 0, 0, 0, 0, 0, 0, 0, 0, 0, 0, 0, 0, 0, 0, 0, 0, 0,\n",
              "        0, 0, 0, 0, 0, 0, 0, 0, 0, 0, 0, 0, 0, 0, 0, 0, 0, 0, 0, 0, 0, 0,\n",
              "        0, 0, 0, 0, 0, 0, 0, 0, 0, 0, 0, 0, 0, 0, 0, 0, 0, 0, 0, 0, 0, 0,\n",
              "        0, 0, 0, 0, 0, 0, 0, 0, 0, 0, 0, 0, 0, 0, 0, 0, 0, 0, 0, 0, 0, 0,\n",
              "        0, 0, 0, 0, 0, 0, 0, 0, 0, 0, 0, 0, 0, 0, 0, 0, 0, 0, 0, 0, 0, 0,\n",
              "        0, 0, 0, 0, 0, 0, 0, 0, 0, 0, 0, 0, 0, 0, 0, 0, 0, 0, 0, 0, 0, 0,\n",
              "        0, 0, 0, 0, 0, 0, 0, 0, 0, 0, 0, 0, 0, 0, 0, 0, 0, 0, 0, 0, 0, 0,\n",
              "        0, 0, 0, 0, 0, 0, 0, 0, 0, 0, 0, 0, 0, 0, 0, 0, 0, 0, 0, 0, 0, 0,\n",
              "        0, 0, 0, 0, 0, 0, 0, 0, 0, 0, 0, 0, 0, 0, 0, 0, 0, 0, 0, 0, 0, 0,\n",
              "        0, 0, 0, 0, 0, 0, 0, 0, 0, 0, 0, 0, 0, 0, 0, 0, 0, 0, 0, 0, 0, 0,\n",
              "        0, 0, 0, 0, 0, 0, 0, 0, 0, 0, 0, 0, 0, 0, 0, 0, 0, 0, 0, 0, 0, 0,\n",
              "        0, 0, 0, 0, 0, 0, 0, 0, 0, 0, 0, 0, 0, 0, 0, 0, 0, 0, 0, 0, 0, 0,\n",
              "        0, 0, 0, 0, 0, 0, 0, 0, 0, 0, 0, 0, 0, 0, 0, 0, 0, 0, 0, 0, 0, 0,\n",
              "        0, 0, 0, 0, 0, 0, 0, 0, 0, 0, 0, 0, 0, 0, 0, 0, 0, 0, 0, 0, 0, 0,\n",
              "        0, 0, 0, 0, 0, 0, 0, 0, 0, 0, 0, 0, 0, 0, 0, 0, 0, 0, 0, 0, 0, 0,\n",
              "        0, 0, 0, 0, 0, 0, 0, 0, 0, 0, 0, 0, 0, 0, 0, 0, 0, 0, 0, 0, 0, 0,\n",
              "        0, 0, 0, 0, 0, 0, 0, 0, 0, 0, 0, 0, 0, 0, 0, 0, 0, 0, 0, 0, 0, 0,\n",
              "        0, 0, 0, 0, 0, 0, 0, 0, 0, 0, 0, 0, 0, 0, 0, 0, 0, 0, 0, 0, 0, 0,\n",
              "        0, 0, 0, 0, 0, 0, 0, 0, 0, 0, 0, 0, 0, 0, 0, 0, 0, 0, 0, 0, 0, 0,\n",
              "        0, 0, 0, 0, 0, 0, 0, 0, 0, 0, 0, 0, 0, 0, 0, 0, 0, 0, 0, 0, 0, 0,\n",
              "        0, 0, 0, 0, 0, 0, 0, 0, 0, 0, 0, 0, 0, 0, 0, 0, 0, 0, 0, 0, 0, 0,\n",
              "        0, 0, 0, 0, 0, 0, 0, 0, 0, 0, 0, 0, 0, 0, 0, 0, 0, 0, 0, 0, 0, 0,\n",
              "        0, 0, 0, 0, 0, 0, 0, 0, 0, 0, 0, 0, 0, 0, 0, 0, 0, 0, 0, 0, 0, 0,\n",
              "        0, 0, 0, 0, 0, 0, 0, 0, 0, 0, 0, 0, 0, 0, 0, 0, 0, 0, 0, 0, 0, 0,\n",
              "        0, 0, 0, 0, 0, 0, 0, 0, 0, 0, 0, 0, 0, 0, 0, 0, 0, 0, 0, 0, 0, 0,\n",
              "        0, 0, 0, 0, 0, 0, 0, 0, 0, 0, 0, 0, 0, 0, 0, 0, 0, 0, 0, 0, 0, 0,\n",
              "        0, 0, 0, 0, 0, 0, 0, 0, 0, 0, 0, 0, 0, 0, 0, 0, 0, 0, 0, 0, 0, 0,\n",
              "        0, 0, 0, 0, 0, 0, 0, 0, 0, 0, 0, 0, 0, 0, 0, 0, 0, 0, 0, 0, 0, 0,\n",
              "        0, 0, 0, 0, 0, 0, 0, 0, 0, 0]])"
            ]
          },
          "metadata": {
            "tags": []
          },
          "execution_count": 21
        }
      ]
    },
    {
      "cell_type": "code",
      "metadata": {
        "id": "bKB7hA4YIKwC"
      },
      "source": [
        "import pickle"
      ],
      "execution_count": null,
      "outputs": []
    },
    {
      "cell_type": "code",
      "metadata": {
        "id": "UsBrT2TfHykk"
      },
      "source": [
        "with open(\"vectorizer2\",\"wb\") as f:\n",
        "  pickle.dump(bow_vect,f)"
      ],
      "execution_count": null,
      "outputs": []
    },
    {
      "cell_type": "code",
      "metadata": {
        "id": "BGf2JECJjlil"
      },
      "source": [
        "as_df_2=pd.DataFrame(X,columns=bow_vect.get_feature_names())"
      ],
      "execution_count": null,
      "outputs": []
    },
    {
      "cell_type": "code",
      "metadata": {
        "id": "kjifYZspOmjj"
      },
      "source": [
        "vect_feat=bow_vect.get_feature_names()"
      ],
      "execution_count": null,
      "outputs": []
    },
    {
      "cell_type": "code",
      "metadata": {
        "id": "t6zqI7bGPH2b"
      },
      "source": [
        "with open(\"vect_feat\",\"wb\") as f:\r\n",
        "  pickle.dump(vect_feat,f)"
      ],
      "execution_count": null,
      "outputs": []
    },
    {
      "cell_type": "code",
      "metadata": {
        "colab": {
          "base_uri": "https://localhost:8080/"
        },
        "id": "lWNw8pTEOsTg",
        "outputId": "b6a616b5-9125-4777-bb5e-383bb4eb219a"
      },
      "source": [
        "len(vect_feat)"
      ],
      "execution_count": null,
      "outputs": [
        {
          "output_type": "execute_result",
          "data": {
            "text/plain": [
              "1000"
            ]
          },
          "metadata": {
            "tags": []
          },
          "execution_count": 11
        }
      ]
    },
    {
      "cell_type": "code",
      "metadata": {
        "id": "AZsOJzPUjyHT"
      },
      "source": [
        "features2=as_df_2\n",
        "labels2=sample2[\"is_offensive\"]"
      ],
      "execution_count": null,
      "outputs": []
    },
    {
      "cell_type": "code",
      "metadata": {
        "id": "2zqtt7mckKKg"
      },
      "source": [
        "X_train, X_test, y_train, y_test = train_test_split(features2, labels2, random_state=0)"
      ],
      "execution_count": null,
      "outputs": []
    },
    {
      "cell_type": "code",
      "metadata": {
        "id": "9EbIDOF8kQR-"
      },
      "source": [
        "model_naive_big = GaussianNB()"
      ],
      "execution_count": null,
      "outputs": []
    },
    {
      "cell_type": "code",
      "metadata": {
        "id": "C691eNW7kYNA"
      },
      "source": [
        "model_naive_big=model_naive_big.fit(X_train, y_train)"
      ],
      "execution_count": null,
      "outputs": []
    },
    {
      "cell_type": "code",
      "metadata": {
        "id": "3HOMqjSxkglU"
      },
      "source": [
        "print(\"test data accuracy was \",model_naive_big.score(X_test,y_test))"
      ],
      "execution_count": null,
      "outputs": []
    },
    {
      "cell_type": "code",
      "metadata": {
        "id": "9oADyVvtk8-s"
      },
      "source": [
        "pred = model_naive_big.predict(X_test)"
      ],
      "execution_count": null,
      "outputs": []
    },
    {
      "cell_type": "code",
      "metadata": {
        "id": "SDeHvgUpk6oh"
      },
      "source": [
        "confusion_matrix(pred,y_test)"
      ],
      "execution_count": null,
      "outputs": []
    },
    {
      "cell_type": "markdown",
      "metadata": {
        "id": "MqbR6zV9lqie"
      },
      "source": [
        "# Random forest classifier"
      ]
    },
    {
      "cell_type": "code",
      "metadata": {
        "id": "iPTQE3gXlt5B"
      },
      "source": [
        "from sklearn.ensemble import RandomForestClassifier"
      ],
      "execution_count": null,
      "outputs": []
    },
    {
      "cell_type": "code",
      "metadata": {
        "id": "XUYKg_hxlyYt"
      },
      "source": [
        "rdm=RandomForestClassifier(n_estimators=100)"
      ],
      "execution_count": null,
      "outputs": []
    },
    {
      "cell_type": "code",
      "metadata": {
        "colab": {
          "base_uri": "https://localhost:8080/"
        },
        "id": "7M5G7UJIl1hv",
        "outputId": "39d3a73e-3333-48c7-d1b2-a8d15f61f594"
      },
      "source": [
        "rdm.fit(X_train,y_train)\n"
      ],
      "execution_count": null,
      "outputs": [
        {
          "output_type": "execute_result",
          "data": {
            "text/plain": [
              "RandomForestClassifier(bootstrap=True, ccp_alpha=0.0, class_weight=None,\n",
              "                       criterion='gini', max_depth=None, max_features='auto',\n",
              "                       max_leaf_nodes=None, max_samples=None,\n",
              "                       min_impurity_decrease=0.0, min_impurity_split=None,\n",
              "                       min_samples_leaf=1, min_samples_split=2,\n",
              "                       min_weight_fraction_leaf=0.0, n_estimators=100,\n",
              "                       n_jobs=None, oob_score=False, random_state=None,\n",
              "                       verbose=0, warm_start=False)"
            ]
          },
          "metadata": {
            "tags": []
          },
          "execution_count": 97
        }
      ]
    },
    {
      "cell_type": "code",
      "metadata": {
        "id": "_IQKYDgJl53t"
      },
      "source": [
        "y_pred=rdm.predict(X_test)"
      ],
      "execution_count": null,
      "outputs": []
    },
    {
      "cell_type": "code",
      "metadata": {
        "colab": {
          "base_uri": "https://localhost:8080/"
        },
        "id": "7XsXm1AIohw3",
        "outputId": "19ae257e-9c66-4a22-cb09-c6f021a20090"
      },
      "source": [
        "print(\"test data accuracy was \",rdm.score(X_test,y_test))"
      ],
      "execution_count": null,
      "outputs": [
        {
          "output_type": "stream",
          "text": [
            "test data accuracy was  0.948\n"
          ],
          "name": "stdout"
        }
      ]
    },
    {
      "cell_type": "code",
      "metadata": {
        "colab": {
          "base_uri": "https://localhost:8080/"
        },
        "id": "bUYXPL6Fonyy",
        "outputId": "67de6216-1f7a-47ca-abdc-c9032253316b"
      },
      "source": [
        "confusion_matrix(y_pred,y_test)"
      ],
      "execution_count": null,
      "outputs": [
        {
          "output_type": "execute_result",
          "data": {
            "text/plain": [
              "array([[10801,   463],\n",
              "       [  187,  1049]])"
            ]
          },
          "metadata": {
            "tags": []
          },
          "execution_count": 102
        }
      ]
    },
    {
      "cell_type": "markdown",
      "metadata": {
        "id": "7xphsPHJpVrn"
      },
      "source": [
        "# Gradient Boosting"
      ]
    },
    {
      "cell_type": "code",
      "metadata": {
        "id": "UPYM2V1OpZvv"
      },
      "source": [
        "from sklearn.ensemble import GradientBoostingClassifier"
      ],
      "execution_count": null,
      "outputs": []
    },
    {
      "cell_type": "code",
      "metadata": {
        "id": "Hytb2cQFpc8L"
      },
      "source": [
        "gb_reg = GradientBoostingClassifier(max_depth=5, #gradient boosting always works with trees, no need to call the tree regressor\n",
        "                                   n_estimators=100,\n",
        "                                   random_state=1 # tastes like chicken\n",
        "                                   )"
      ],
      "execution_count": null,
      "outputs": []
    },
    {
      "cell_type": "code",
      "metadata": {
        "id": "_XAYmwpNqEnM"
      },
      "source": [
        "gb_reg_fit=gb_reg.fit(X_train, y_train)"
      ],
      "execution_count": null,
      "outputs": []
    },
    {
      "cell_type": "code",
      "metadata": {
        "colab": {
          "base_uri": "https://localhost:8080/"
        },
        "id": "elLvDYrlqPA9",
        "outputId": "96a98777-ac60-4e14-9122-fdb82ad34066"
      },
      "source": [
        "gb_reg.score(X_test,y_test)"
      ],
      "execution_count": null,
      "outputs": [
        {
          "output_type": "execute_result",
          "data": {
            "text/plain": [
              "0.95224"
            ]
          },
          "metadata": {
            "tags": []
          },
          "execution_count": 112
        }
      ]
    },
    {
      "cell_type": "code",
      "metadata": {
        "id": "YXj5xQBsvLRc"
      },
      "source": [
        "y_pred=gb_reg.predict(X_test)"
      ],
      "execution_count": null,
      "outputs": []
    },
    {
      "cell_type": "code",
      "metadata": {
        "colab": {
          "base_uri": "https://localhost:8080/"
        },
        "id": "JXGYocOzvIZl",
        "outputId": "64c8772e-4d01-407d-a993-141505c3261f"
      },
      "source": [
        "confusion_matrix(y_pred,y_test)"
      ],
      "execution_count": null,
      "outputs": [
        {
          "output_type": "execute_result",
          "data": {
            "text/plain": [
              "array([[10898,   507],\n",
              "       [   90,  1005]])"
            ]
          },
          "metadata": {
            "tags": []
          },
          "execution_count": 114
        }
      ]
    },
    {
      "cell_type": "code",
      "metadata": {
        "id": "WlA41K583pKV"
      },
      "source": [
        "with open(\"model_gradient\",\"wb\") as f:\n",
        "  pickle.dump(gb_reg,f)"
      ],
      "execution_count": null,
      "outputs": []
    },
    {
      "cell_type": "markdown",
      "metadata": {
        "id": "XysBNjO4vl_y"
      },
      "source": [
        "# XGBOOST"
      ]
    },
    {
      "cell_type": "code",
      "metadata": {
        "id": "1iipL3qQvopf"
      },
      "source": [
        "from xgboost import XGBClassifier"
      ],
      "execution_count": null,
      "outputs": []
    },
    {
      "cell_type": "code",
      "metadata": {
        "colab": {
          "base_uri": "https://localhost:8080/"
        },
        "id": "JjiUsTDwvte8",
        "outputId": "513db7b9-e914-4914-eff4-e3036d3246bd"
      },
      "source": [
        "xgb_clf = XGBClassifier()\n",
        "xgb_clf.fit(X_train, y_train)"
      ],
      "execution_count": null,
      "outputs": [
        {
          "output_type": "execute_result",
          "data": {
            "text/plain": [
              "XGBClassifier(base_score=0.5, booster='gbtree', colsample_bylevel=1,\n",
              "              colsample_bynode=1, colsample_bytree=1, gamma=0,\n",
              "              learning_rate=0.1, max_delta_step=0, max_depth=3,\n",
              "              min_child_weight=1, missing=None, n_estimators=100, n_jobs=1,\n",
              "              nthread=None, objective='binary:logistic', random_state=0,\n",
              "              reg_alpha=0, reg_lambda=1, scale_pos_weight=1, seed=None,\n",
              "              silent=None, subsample=1, verbosity=1)"
            ]
          },
          "metadata": {
            "tags": []
          },
          "execution_count": 116
        }
      ]
    },
    {
      "cell_type": "code",
      "metadata": {
        "id": "Xj0w7I4vwLLT"
      },
      "source": [
        "y_pred=xgb_clf.predict(X_test)"
      ],
      "execution_count": null,
      "outputs": []
    },
    {
      "cell_type": "code",
      "metadata": {
        "colab": {
          "base_uri": "https://localhost:8080/"
        },
        "id": "dyW5VP7dwTbi",
        "outputId": "8ba4b426-5158-4789-ca5b-23a279425880"
      },
      "source": [
        "xgb_clf.score(X_test,y_test)"
      ],
      "execution_count": null,
      "outputs": [
        {
          "output_type": "execute_result",
          "data": {
            "text/plain": [
              "0.94656"
            ]
          },
          "metadata": {
            "tags": []
          },
          "execution_count": 118
        }
      ]
    },
    {
      "cell_type": "code",
      "metadata": {
        "colab": {
          "base_uri": "https://localhost:8080/"
        },
        "id": "hILKTppywZeA",
        "outputId": "6b53f586-e480-4b9e-817d-fa7c3364eb2c"
      },
      "source": [
        "confusion_matrix(y_pred,y_test)"
      ],
      "execution_count": null,
      "outputs": [
        {
          "output_type": "execute_result",
          "data": {
            "text/plain": [
              "array([[10961,   641],\n",
              "       [   27,   871]])"
            ]
          },
          "metadata": {
            "tags": []
          },
          "execution_count": 119
        }
      ]
    },
    {
      "cell_type": "markdown",
      "metadata": {
        "id": "5RPdnNRvJG5R"
      },
      "source": [
        "# Naive bayes with only offensive words on old nltk method"
      ]
    },
    {
      "cell_type": "code",
      "metadata": {
        "id": "LXivA7oupb4h"
      },
      "source": [
        ""
      ],
      "execution_count": null,
      "outputs": []
    },
    {
      "cell_type": "code",
      "metadata": {
        "id": "RHgXSf_wjKVs"
      },
      "source": [
        ""
      ],
      "execution_count": null,
      "outputs": []
    },
    {
      "cell_type": "code",
      "metadata": {
        "id": "L3rAmVBbhArl"
      },
      "source": [
        ""
      ],
      "execution_count": null,
      "outputs": []
    },
    {
      "cell_type": "code",
      "metadata": {
        "id": "AqXHMLRSNBRs"
      },
      "source": [
        ""
      ],
      "execution_count": null,
      "outputs": []
    },
    {
      "cell_type": "code",
      "metadata": {
        "id": "-0U7zBUFtJy6"
      },
      "source": [
        "off_only=final_file_pkl[final_file_pkl[\"is_offensive\"]==1]"
      ],
      "execution_count": null,
      "outputs": []
    },
    {
      "cell_type": "code",
      "metadata": {
        "colab": {
          "base_uri": "https://localhost:8080/"
        },
        "id": "czCt8vyH5jVK",
        "outputId": "e6728e94-cfdc-4b7b-e60f-5ad46217fee1"
      },
      "source": [
        "off_only.shape"
      ],
      "execution_count": null,
      "outputs": [
        {
          "output_type": "execute_result",
          "data": {
            "text/plain": [
              "(8497, 10)"
            ]
          },
          "metadata": {
            "tags": []
          },
          "execution_count": 143
        }
      ]
    },
    {
      "cell_type": "code",
      "metadata": {
        "id": "Yy1pSBOdtdqY"
      },
      "source": [
        "X = bow_vect.fit_transform(off_only['clean_blob']).toarray()"
      ],
      "execution_count": null,
      "outputs": []
    },
    {
      "cell_type": "code",
      "metadata": {
        "colab": {
          "base_uri": "https://localhost:8080/"
        },
        "id": "5lUptYbfttu0",
        "outputId": "3e9b35db-3f45-4cd6-f728-7d8a453b1b08"
      },
      "source": [
        "X"
      ],
      "execution_count": null,
      "outputs": [
        {
          "output_type": "execute_result",
          "data": {
            "text/plain": [
              "array([[0, 0, 0, ..., 0, 0, 0],\n",
              "       [0, 0, 0, ..., 0, 0, 0],\n",
              "       [0, 0, 0, ..., 0, 0, 0],\n",
              "       ...,\n",
              "       [0, 0, 0, ..., 0, 0, 0],\n",
              "       [0, 0, 0, ..., 0, 0, 0],\n",
              "       [0, 0, 0, ..., 0, 0, 0]])"
            ]
          },
          "metadata": {
            "tags": []
          },
          "execution_count": 138
        }
      ]
    },
    {
      "cell_type": "code",
      "metadata": {
        "id": "wV0JLjkbtvaD"
      },
      "source": [
        "word = [word for lis in off_only[\"no_stopwords\"] for word in lis]\n",
        "\n",
        "frq_off = nltk.FreqDist(word)\n",
        "\n",
        "top100=[tu for tu in frq_off.most_common(100) ]"
      ],
      "execution_count": null,
      "outputs": []
    },
    {
      "cell_type": "code",
      "metadata": {
        "id": "elUm2T7y48bC"
      },
      "source": [
        "top100"
      ],
      "execution_count": null,
      "outputs": []
    },
    {
      "cell_type": "code",
      "metadata": {
        "id": "Cvepvvcn4-S2"
      },
      "source": [
        "def find_features_100(lis):\n",
        "    features= {}\n",
        "    lis=set(lis)\n",
        "    \n",
        "    for w in lis:\n",
        "        features[w] = (w in top100)\n",
        "        \n",
        "    return features"
      ],
      "execution_count": null,
      "outputs": []
    },
    {
      "cell_type": "code",
      "metadata": {
        "id": "GjGtYTmtQSjf"
      },
      "source": [
        "documents = list(zip(final_file['no_stopwords'], np.where(final_file['is_offensive'] == 1, True, False)))\n",
        "\n",
        "feature_sets = [(find_features_100(rev), category) for (rev, category) in documents]"
      ],
      "execution_count": null,
      "outputs": []
    },
    {
      "cell_type": "code",
      "metadata": {
        "colab": {
          "base_uri": "https://localhost:8080/"
        },
        "id": "gLrbFhj0QqGE",
        "outputId": "a076d790-b71f-4319-bdea-c558280c1364"
      },
      "source": [
        "training_set= feature_sets[:65000]\n",
        "test_set = feature_sets[65000:]\n",
        "classifier = nltk.NaiveBayesClassifier.train(training_set)\n",
        "classifier.show_most_informative_features()"
      ],
      "execution_count": null,
      "outputs": [
        {
          "output_type": "stream",
          "text": [
            "Most Informative Features\n",
            "                  stupid = False            True : False  =    592.3 : 1.0\n",
            "                    fuck = False            True : False  =    489.3 : 1.0\n",
            "                    shit = False            True : False  =    279.5 : 1.0\n",
            "                   bitch = False            True : False  =    272.3 : 1.0\n",
            "                 asshole = False            True : False  =    225.0 : 1.0\n",
            "                   pussy = False            True : False  =    195.7 : 1.0\n",
            "                   nigga = False            True : False  =    183.4 : 1.0\n",
            "                    dumb = False            True : False  =    145.4 : 1.0\n",
            "                   idiot = False            True : False  =    108.9 : 1.0\n",
            "                  shitty = False            True : False  =    106.0 : 1.0\n"
          ],
          "name": "stdout"
        }
      ]
    },
    {
      "cell_type": "code",
      "metadata": {
        "colab": {
          "base_uri": "https://localhost:8080/"
        },
        "id": "OVcDJaQOQ5FD",
        "outputId": "2b4acaa9-ce15-4e76-ac58-4985faa92fbb"
      },
      "source": [
        "nltk.classify.accuracy(classifier, test_set)"
      ],
      "execution_count": null,
      "outputs": [
        {
          "output_type": "execute_result",
          "data": {
            "text/plain": [
              "0.9033956304290602"
            ]
          },
          "metadata": {
            "tags": []
          },
          "execution_count": 153
        }
      ]
    },
    {
      "cell_type": "code",
      "metadata": {
        "colab": {
          "base_uri": "https://localhost:8080/"
        },
        "id": "khFWhIWYwU7Y",
        "outputId": "be6e009f-5961-458f-c2dd-ad9479d92b4e"
      },
      "source": [
        "test_set[0]"
      ],
      "execution_count": null,
      "outputs": [
        {
          "output_type": "execute_result",
          "data": {
            "text/plain": [
              "({'mention': False,\n",
              "  'notch': False,\n",
              "  'sarileruneekevvaru': False,\n",
              "  'special': False,\n",
              "  'top': False,\n",
              "  'visuals': False},\n",
              " False)"
            ]
          },
          "metadata": {
            "tags": []
          },
          "execution_count": 201
        }
      ]
    },
    {
      "cell_type": "code",
      "metadata": {
        "colab": {
          "base_uri": "https://localhost:8080/",
          "height": 197
        },
        "id": "t8YBbA-uRAsC",
        "outputId": "89b16e27-dae4-4691-c8ea-4c824a4ea017"
      },
      "source": [
        "from nltk.metrics import ConfusionMatrix\n",
        "\n",
        "cm = ConfusionMatrix(test_set)"
      ],
      "execution_count": null,
      "outputs": [
        {
          "output_type": "error",
          "ename": "TypeError",
          "evalue": "ignored",
          "traceback": [
            "\u001b[0;31m---------------------------------------------------------------------------\u001b[0m",
            "\u001b[0;31mTypeError\u001b[0m                                 Traceback (most recent call last)",
            "\u001b[0;32m<ipython-input-156-548eec4916cf>\u001b[0m in \u001b[0;36m<module>\u001b[0;34m()\u001b[0m\n\u001b[1;32m      1\u001b[0m \u001b[0;32mfrom\u001b[0m \u001b[0mnltk\u001b[0m\u001b[0;34m.\u001b[0m\u001b[0mmetrics\u001b[0m \u001b[0;32mimport\u001b[0m \u001b[0mConfusionMatrix\u001b[0m\u001b[0;34m\u001b[0m\u001b[0;34m\u001b[0m\u001b[0m\n\u001b[1;32m      2\u001b[0m \u001b[0;34m\u001b[0m\u001b[0m\n\u001b[0;32m----> 3\u001b[0;31m \u001b[0mcm\u001b[0m \u001b[0;34m=\u001b[0m \u001b[0mConfusionMatrix\u001b[0m\u001b[0;34m(\u001b[0m\u001b[0mtest_set\u001b[0m\u001b[0;34m)\u001b[0m\u001b[0;34m\u001b[0m\u001b[0;34m\u001b[0m\u001b[0m\n\u001b[0m",
            "\u001b[0;31mTypeError\u001b[0m: __init__() missing 1 required positional argument: 'test'"
          ]
        }
      ]
    },
    {
      "cell_type": "code",
      "metadata": {
        "colab": {
          "base_uri": "https://localhost:8080/"
        },
        "id": "6M92-vd_RkHU",
        "outputId": "588cbedb-5ad1-4224-e134-91d6e4d8208b"
      },
      "source": [
        "classifier.classify({'campaign': False, 'commercial': False, 'cut': False})"
      ],
      "execution_count": null,
      "outputs": [
        {
          "output_type": "execute_result",
          "data": {
            "text/plain": [
              "False"
            ]
          },
          "metadata": {
            "tags": []
          },
          "execution_count": 160
        }
      ]
    },
    {
      "cell_type": "code",
      "metadata": {
        "id": "2BebEYKjVGpV"
      },
      "source": [
        "train_set_off = feature_sets[:20000]\n",
        "devtest_set_off = feature_sets[5000:20000]\n",
        "test_set_off = feature_sets[:5000]"
      ],
      "execution_count": null,
      "outputs": []
    },
    {
      "cell_type": "code",
      "metadata": {
        "id": "Du6Nw8gUWu9i"
      },
      "source": [
        "classifier_off = nltk.NaiveBayesClassifier.train(train_set_off)"
      ],
      "execution_count": null,
      "outputs": []
    },
    {
      "cell_type": "code",
      "metadata": {
        "colab": {
          "base_uri": "https://localhost:8080/"
        },
        "id": "HqRblYlSXCWi",
        "outputId": "ab794370-937b-4feb-a8e6-e8fa26a7c603"
      },
      "source": [
        "print(nltk.classify.accuracy(classifier, devtest_set_off))"
      ],
      "execution_count": null,
      "outputs": [
        {
          "output_type": "stream",
          "text": [
            "0.9134\n"
          ],
          "name": "stdout"
        }
      ]
    },
    {
      "cell_type": "code",
      "metadata": {
        "id": "pHHB1810XJbY"
      },
      "source": [
        "errors = []\n",
        "for (words, pos) in devtest_set_off:\n",
        "  guess = classifier_off.classify(words)\n",
        "  if guess != pos:\n",
        "    errors.append( (pos, guess) )"
      ],
      "execution_count": null,
      "outputs": []
    },
    {
      "cell_type": "code",
      "metadata": {
        "colab": {
          "base_uri": "https://localhost:8080/"
        },
        "id": "WGYsxZabg1wl",
        "outputId": "133a544d-207a-48ce-99dc-6cb3f612288e"
      },
      "source": [
        "devtest_set_off[0]"
      ],
      "execution_count": null,
      "outputs": [
        {
          "output_type": "execute_result",
          "data": {
            "text/plain": [
              "({'already': False,\n",
              "  'market': False,\n",
              "  'see': False,\n",
              "  'st': False,\n",
              "  'version': False},\n",
              " False)"
            ]
          },
          "metadata": {
            "tags": []
          },
          "execution_count": 202
        }
      ]
    },
    {
      "cell_type": "code",
      "metadata": {
        "colab": {
          "base_uri": "https://localhost:8080/"
        },
        "id": "zaTndcU6zdmK",
        "outputId": "76b66580-a00a-4cda-f108-a90c577fb4f6"
      },
      "source": [
        "errors[0:5]"
      ],
      "execution_count": null,
      "outputs": [
        {
          "output_type": "execute_result",
          "data": {
            "text/plain": [
              "[(False, True), (False, True), (False, True), (False, True), (False, True)]"
            ]
          },
          "metadata": {
            "tags": []
          },
          "execution_count": 203
        }
      ]
    },
    {
      "cell_type": "code",
      "metadata": {
        "id": "2wlg420zcx6Z"
      },
      "source": [
        "\n",
        "def conf_matrix(l):\n",
        "  false_pos=0\n",
        "  false_neg=0\n",
        "  for x in l:\n",
        "    x=list(x)      \n",
        "    if (x[0]==False) & (x[1]==True):\n",
        "      false_pos+=1\n",
        "    elif (x[0]==True) & (x[1]==False):\n",
        "      false_neg+=1\n",
        "  return false_pos,false_neg    \n"
      ],
      "execution_count": null,
      "outputs": []
    },
    {
      "cell_type": "code",
      "metadata": {
        "colab": {
          "base_uri": "https://localhost:8080/"
        },
        "id": "09z5R-yGz_6P",
        "outputId": "442b7eb9-1a30-471f-be6e-02459a3585f1"
      },
      "source": [
        "conf_matrix(errors)"
      ],
      "execution_count": null,
      "outputs": [
        {
          "output_type": "execute_result",
          "data": {
            "text/plain": [
              "(2021, 84)"
            ]
          },
          "metadata": {
            "tags": []
          },
          "execution_count": 224
        }
      ]
    },
    {
      "cell_type": "code",
      "metadata": {
        "colab": {
          "base_uri": "https://localhost:8080/"
        },
        "id": "GW28R582iv7O",
        "outputId": "3cd8e163-6a16-40e8-a82c-6a3338e9c15d"
      },
      "source": [
        "errors[0]"
      ],
      "execution_count": null,
      "outputs": [
        {
          "output_type": "execute_result",
          "data": {
            "text/plain": [
              "(False, True)"
            ]
          },
          "metadata": {
            "tags": []
          },
          "execution_count": 197
        }
      ]
    },
    {
      "cell_type": "code",
      "metadata": {
        "id": "QVJoYteMYcLo"
      },
      "source": [
        "#---------------------------------------------sucks ass----------------------------------------------"
      ],
      "execution_count": null,
      "outputs": []
    }
  ]
}
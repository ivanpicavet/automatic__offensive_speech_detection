{
  "nbformat": 4,
  "nbformat_minor": 0,
  "metadata": {
    "colab": {
      "name": "Functions.ipynb",
      "provenance": [],
      "collapsed_sections": [],
      "toc_visible": true,
      "authorship_tag": "ABX9TyMIYVsVWM0syiGijsL6/5MG",
      "include_colab_link": true
    },
    "kernelspec": {
      "name": "python3",
      "display_name": "Python 3"
    }
  },
  "cells": [
    {
      "cell_type": "markdown",
      "metadata": {
        "id": "view-in-github",
        "colab_type": "text"
      },
      "source": [
        "<a href=\"https://colab.research.google.com/github/ivanpicavet/automatic__offensive_speech_detection/blob/main/Functions.ipynb\" target=\"_parent\"><img src=\"https://colab.research.google.com/assets/colab-badge.svg\" alt=\"Open In Colab\"/></a>"
      ]
    },
    {
      "cell_type": "code",
      "metadata": {
        "id": "IVLXd0QJ9ROw"
      },
      "source": [
        "import pickle\r\n",
        "import numpy as np\r\n",
        "import pandas as pd\r\n",
        "import re\r\n",
        "from nltk.tokenize import word_tokenize\r\n",
        "import nltk\r\n",
        "from nltk.stem import WordNetLemmatizer \r\n",
        "from nltk.corpus import wordnet\r\n",
        "from nltk.corpus import stopwords\r\n",
        "from sklearn.feature_extraction.text import CountVectorizer"
      ],
      "execution_count": null,
      "outputs": []
    },
    {
      "cell_type": "code",
      "metadata": {
        "id": "u6G7GwC2_8lj",
        "colab": {
          "base_uri": "https://localhost:8080/"
        },
        "outputId": "d4542326-3e6a-49fa-dbd3-3b66490e8e16"
      },
      "source": [
        "punkt=nltk.download('punkt')"
      ],
      "execution_count": null,
      "outputs": [
        {
          "output_type": "stream",
          "text": [
            "[nltk_data] Downloading package punkt to /root/nltk_data...\n",
            "[nltk_data]   Unzipping tokenizers/punkt.zip.\n"
          ],
          "name": "stdout"
        }
      ]
    },
    {
      "cell_type": "code",
      "metadata": {
        "id": "k53k3GEkAmy0",
        "colab": {
          "base_uri": "https://localhost:8080/"
        },
        "outputId": "8d369eca-8db9-4ebc-c121-f9d4e856d967"
      },
      "source": [
        "wordnet=nltk.download('wordnet') "
      ],
      "execution_count": null,
      "outputs": [
        {
          "output_type": "stream",
          "text": [
            "[nltk_data] Downloading package wordnet to /root/nltk_data...\n",
            "[nltk_data]   Unzipping corpora/wordnet.zip.\n"
          ],
          "name": "stdout"
        }
      ]
    },
    {
      "cell_type": "code",
      "metadata": {
        "id": "VgRxu2QeA0HK",
        "colab": {
          "base_uri": "https://localhost:8080/"
        },
        "outputId": "ca768fc4-2922-4634-a7ad-e65670a0ea20"
      },
      "source": [
        "av_percept_tagger=nltk.download('averaged_perceptron_tagger')"
      ],
      "execution_count": null,
      "outputs": [
        {
          "output_type": "stream",
          "text": [
            "[nltk_data] Downloading package averaged_perceptron_tagger to\n",
            "[nltk_data]     /root/nltk_data...\n",
            "[nltk_data]   Unzipping taggers/averaged_perceptron_tagger.zip.\n"
          ],
          "name": "stdout"
        }
      ]
    },
    {
      "cell_type": "code",
      "metadata": {
        "id": "I2X4UezGDTrZ",
        "colab": {
          "base_uri": "https://localhost:8080/"
        },
        "outputId": "813d288f-0f52-4b81-d250-7f153a29ebbe"
      },
      "source": [
        "stopwordsd=nltk.download('stopwords')"
      ],
      "execution_count": null,
      "outputs": [
        {
          "output_type": "stream",
          "text": [
            "[nltk_data] Downloading package stopwords to /root/nltk_data...\n",
            "[nltk_data]   Unzipping corpora/stopwords.zip.\n"
          ],
          "name": "stdout"
        }
      ]
    },
    {
      "cell_type": "code",
      "metadata": {
        "id": "lUJDJihkBbzU"
      },
      "source": [
        "lemmatizer = WordNetLemmatizer() "
      ],
      "execution_count": null,
      "outputs": []
    },
    {
      "cell_type": "code",
      "metadata": {
        "id": "uPD0hPET9Z2E"
      },
      "source": [
        "post={\"title\":\"first post\",\"content\":\"i will give you nice flowers because you are the most beautiful girl in the world\"}"
      ],
      "execution_count": null,
      "outputs": []
    },
    {
      "cell_type": "code",
      "metadata": {
        "id": "oQ9VQJ_A-uW6"
      },
      "source": [
        "def clean_up(s):\r\n",
        "  s=re.sub(\"@\\S+|http\\S+|[^a-z\\s]\",\" \",s.lower())\r\n",
        "  s = word_tokenize(s)\r\n",
        "  s=[word for word in s if not word in stopwords.words()]\r\n",
        "  s=\" \".join(s)\r\n",
        "  return s\r\n",
        "\r\n"
      ],
      "execution_count": null,
      "outputs": []
    },
    {
      "cell_type": "code",
      "metadata": {
        "colab": {
          "base_uri": "https://localhost:8080/",
          "height": 35
        },
        "id": "Jb2T-2t__RlK",
        "outputId": "76cf7c5f-60cf-4561-b823-07b519f9b520"
      },
      "source": [
        "text=clean_up(post[\"content\"])\r\n",
        "\r\n",
        "text"
      ],
      "execution_count": null,
      "outputs": [
        {
          "output_type": "execute_result",
          "data": {
            "application/vnd.google.colaboratory.intrinsic+json": {
              "type": "string"
            },
            "text/plain": [
              "'give nice flowers beautiful girl world'"
            ]
          },
          "metadata": {
            "tags": []
          },
          "execution_count": 30
        }
      ]
    },
    {
      "cell_type": "code",
      "metadata": {
        "id": "dVPAAc07PobL"
      },
      "source": [
        "with open(\"bow_vect3\",\"rb\") as f:\r\n",
        "  bow_vect=pickle.load(f)"
      ],
      "execution_count": null,
      "outputs": []
    },
    {
      "cell_type": "code",
      "metadata": {
        "id": "5QvUHgTqQu48"
      },
      "source": [
        "to_pred=bow_vect.transform([text]).toarray()"
      ],
      "execution_count": null,
      "outputs": []
    },
    {
      "cell_type": "code",
      "metadata": {
        "id": "ISBkSxERT03E"
      },
      "source": [
        "with open(\"new_grad_mod\",\"rb\") as f:\r\n",
        "  model=pickle.load(f)"
      ],
      "execution_count": null,
      "outputs": []
    },
    {
      "cell_type": "code",
      "metadata": {
        "id": "nclbawK8VeDY"
      },
      "source": [
        "x=model.predict(to_pred)"
      ],
      "execution_count": null,
      "outputs": []
    },
    {
      "cell_type": "code",
      "metadata": {
        "colab": {
          "base_uri": "https://localhost:8080/"
        },
        "id": "IDb77oESbLUv",
        "outputId": "71f7698d-9873-4a34-abe8-f5704eb2facd"
      },
      "source": [
        "x[0]"
      ],
      "execution_count": null,
      "outputs": [
        {
          "output_type": "execute_result",
          "data": {
            "text/plain": [
              "0"
            ]
          },
          "metadata": {
            "tags": []
          },
          "execution_count": 33
        }
      ]
    },
    {
      "cell_type": "markdown",
      "metadata": {
        "id": "7vPUItul1bps"
      },
      "source": [
        "# Nouvelle section"
      ]
    },
    {
      "cell_type": "code",
      "metadata": {
        "id": "LOWGfX0JETfH"
      },
      "source": [
        "dftrump=pd.read_csv(\"./dtrump_results.csv\")"
      ],
      "execution_count": null,
      "outputs": []
    },
    {
      "cell_type": "code",
      "metadata": {
        "colab": {
          "base_uri": "https://localhost:8080/",
          "height": 195
        },
        "id": "W8RUcq4-sppa",
        "outputId": "5d269deb-ef1f-4daa-e94d-0fbc0d77cd54"
      },
      "source": [
        "dftrump.head()"
      ],
      "execution_count": null,
      "outputs": [
        {
          "output_type": "execute_result",
          "data": {
            "text/html": [
              "<div>\n",
              "<style scoped>\n",
              "    .dataframe tbody tr th:only-of-type {\n",
              "        vertical-align: middle;\n",
              "    }\n",
              "\n",
              "    .dataframe tbody tr th {\n",
              "        vertical-align: top;\n",
              "    }\n",
              "\n",
              "    .dataframe thead th {\n",
              "        text-align: right;\n",
              "    }\n",
              "</style>\n",
              "<table border=\"1\" class=\"dataframe\">\n",
              "  <thead>\n",
              "    <tr style=\"text-align: right;\">\n",
              "      <th></th>\n",
              "      <th>Unnamed: 0</th>\n",
              "      <th>date</th>\n",
              "      <th>language</th>\n",
              "      <th>screen_name</th>\n",
              "      <th>tweet</th>\n",
              "    </tr>\n",
              "  </thead>\n",
              "  <tbody>\n",
              "    <tr>\n",
              "      <th>0</th>\n",
              "      <td>0.0</td>\n",
              "      <td>2020-12-08 05:15:48</td>\n",
              "      <td>en</td>\n",
              "      <td>realDonaldTrump</td>\n",
              "      <td>Georgia is watching @BrianKempGA, @GeoffDuncan...</td>\n",
              "    </tr>\n",
              "    <tr>\n",
              "      <th>1</th>\n",
              "      <td>1.0</td>\n",
              "      <td>2020-12-08 14:36:34</td>\n",
              "      <td>en</td>\n",
              "      <td>realDonaldTrump</td>\n",
              "      <td>I hope House Republicans will vote against the...</td>\n",
              "    </tr>\n",
              "    <tr>\n",
              "      <th>2</th>\n",
              "      <td>2.0</td>\n",
              "      <td>2020-12-07 02:01:28</td>\n",
              "      <td>en</td>\n",
              "      <td>realDonaldTrump</td>\n",
              "      <td>True. Great debate for Kelly! https://t.co/M2y...</td>\n",
              "    </tr>\n",
              "    <tr>\n",
              "      <th>3</th>\n",
              "      <td>3.0</td>\n",
              "      <td>2020-12-07 02:37:51</td>\n",
              "      <td>und</td>\n",
              "      <td>realDonaldTrump</td>\n",
              "      <td>https://t.co/RAIj4zXKBk</td>\n",
              "    </tr>\n",
              "    <tr>\n",
              "      <th>4</th>\n",
              "      <td>4.0</td>\n",
              "      <td>2020-12-09 14:27:56</td>\n",
              "      <td>en</td>\n",
              "      <td>realDonaldTrump</td>\n",
              "      <td>Germany has consistently been used by my obnox...</td>\n",
              "    </tr>\n",
              "  </tbody>\n",
              "</table>\n",
              "</div>"
            ],
            "text/plain": [
              "   Unnamed: 0  ...                                              tweet\n",
              "0         0.0  ...  Georgia is watching @BrianKempGA, @GeoffDuncan...\n",
              "1         1.0  ...  I hope House Republicans will vote against the...\n",
              "2         2.0  ...  True. Great debate for Kelly! https://t.co/M2y...\n",
              "3         3.0  ...                            https://t.co/RAIj4zXKBk\n",
              "4         4.0  ...  Germany has consistently been used by my obnox...\n",
              "\n",
              "[5 rows x 5 columns]"
            ]
          },
          "metadata": {
            "tags": []
          },
          "execution_count": 9
        }
      ]
    },
    {
      "cell_type": "code",
      "metadata": {
        "id": "-3tkzwoLsroo"
      },
      "source": [
        "dftrump.drop([\"Unnamed: 0\",\"date\",],axis=1,inplace=True)"
      ],
      "execution_count": null,
      "outputs": []
    },
    {
      "cell_type": "code",
      "metadata": {
        "id": "8GgcKbJds5aU"
      },
      "source": [
        "dftrump.head()"
      ],
      "execution_count": null,
      "outputs": []
    },
    {
      "cell_type": "code",
      "metadata": {
        "id": "w7_XfLq0s6n3"
      },
      "source": [
        "dftrump=dftrump[dftrump[\"screen_name\"]==\"realDonaldTrump\"]"
      ],
      "execution_count": null,
      "outputs": []
    },
    {
      "cell_type": "code",
      "metadata": {
        "id": "Pb9LHrnfs_dO"
      },
      "source": [
        "dftrump=dftrump[dftrump[\"language\"]==\"en\"]"
      ],
      "execution_count": null,
      "outputs": []
    },
    {
      "cell_type": "code",
      "metadata": {
        "id": "ZL1FMh-WtO-G"
      },
      "source": [
        "dftrump.drop([\"language\",\"screen_name\"],axis=1,inplace=True)"
      ],
      "execution_count": null,
      "outputs": []
    },
    {
      "cell_type": "code",
      "metadata": {
        "colab": {
          "base_uri": "https://localhost:8080/"
        },
        "id": "RTVXPuc2tjwd",
        "outputId": "604f46b3-a5df-4bd2-8b69-84e6e3ce7afd"
      },
      "source": [
        "dftrump.shape"
      ],
      "execution_count": null,
      "outputs": [
        {
          "output_type": "execute_result",
          "data": {
            "text/plain": [
              "(40228, 1)"
            ]
          },
          "metadata": {
            "tags": []
          },
          "execution_count": 40
        }
      ]
    },
    {
      "cell_type": "code",
      "metadata": {
        "id": "fZhrlWGEtztG"
      },
      "source": [
        "def clean_up(s):\r\n",
        "    return re.sub(\"@\\S+|http\\S+|[^a-z\\s]\",\" \",s.lower())"
      ],
      "execution_count": null,
      "outputs": []
    },
    {
      "cell_type": "code",
      "metadata": {
        "id": "d8RQNxbWElKm"
      },
      "source": [
        "dftrump[\"clean\"]=dftrump[\"tweet\"].apply(clean_up)"
      ],
      "execution_count": null,
      "outputs": []
    },
    {
      "cell_type": "code",
      "metadata": {
        "colab": {
          "base_uri": "https://localhost:8080/",
          "height": 204
        },
        "id": "6UhgjbmvEt8h",
        "outputId": "f68ef38e-de60-46c7-dae9-d562be2fe4ae"
      },
      "source": [
        "dftrump.head()"
      ],
      "execution_count": null,
      "outputs": [
        {
          "output_type": "execute_result",
          "data": {
            "text/html": [
              "<div>\n",
              "<style scoped>\n",
              "    .dataframe tbody tr th:only-of-type {\n",
              "        vertical-align: middle;\n",
              "    }\n",
              "\n",
              "    .dataframe tbody tr th {\n",
              "        vertical-align: top;\n",
              "    }\n",
              "\n",
              "    .dataframe thead th {\n",
              "        text-align: right;\n",
              "    }\n",
              "</style>\n",
              "<table border=\"1\" class=\"dataframe\">\n",
              "  <thead>\n",
              "    <tr style=\"text-align: right;\">\n",
              "      <th></th>\n",
              "      <th>tweet</th>\n",
              "      <th>clean</th>\n",
              "    </tr>\n",
              "  </thead>\n",
              "  <tbody>\n",
              "    <tr>\n",
              "      <th>0</th>\n",
              "      <td>Georgia is watching @BrianKempGA, @GeoffDuncan...</td>\n",
              "      <td>georgia is watching     and</td>\n",
              "    </tr>\n",
              "    <tr>\n",
              "      <th>1</th>\n",
              "      <td>I hope House Republicans will vote against the...</td>\n",
              "      <td>i hope house republicans will vote against the...</td>\n",
              "    </tr>\n",
              "    <tr>\n",
              "      <th>2</th>\n",
              "      <td>True. Great debate for Kelly! https://t.co/M2y...</td>\n",
              "      <td>true  great debate for kelly</td>\n",
              "    </tr>\n",
              "    <tr>\n",
              "      <th>4</th>\n",
              "      <td>Germany has consistently been used by my obnox...</td>\n",
              "      <td>germany has consistently been used by my obnox...</td>\n",
              "    </tr>\n",
              "    <tr>\n",
              "      <th>5</th>\n",
              "      <td>Thank you to Speaker Cutler and all others in ...</td>\n",
              "      <td>thank you to speaker cutler and all others in ...</td>\n",
              "    </tr>\n",
              "  </tbody>\n",
              "</table>\n",
              "</div>"
            ],
            "text/plain": [
              "                                               tweet                                              clean\n",
              "0  Georgia is watching @BrianKempGA, @GeoffDuncan...                    georgia is watching     and    \n",
              "1  I hope House Republicans will vote against the...  i hope house republicans will vote against the...\n",
              "2  True. Great debate for Kelly! https://t.co/M2y...                    true  great debate for kelly   \n",
              "4  Germany has consistently been used by my obnox...  germany has consistently been used by my obnox...\n",
              "5  Thank you to Speaker Cutler and all others in ...  thank you to speaker cutler and all others in ..."
            ]
          },
          "metadata": {
            "tags": []
          },
          "execution_count": 38
        }
      ]
    },
    {
      "cell_type": "code",
      "metadata": {
        "id": "uFWh-WiBEvZf"
      },
      "source": [
        "def tokenizer_and_remove_punctuation(row):\r\n",
        "    tokens = word_tokenize(row['clean'])\r\n",
        "    return [word.lower() for word in tokens if word.isalpha()]\r\n",
        "\r\n"
      ],
      "execution_count": null,
      "outputs": []
    },
    {
      "cell_type": "code",
      "metadata": {
        "id": "u-wMx2kcE34N"
      },
      "source": [
        "dftrump['tokenized'] = dftrump.apply(tokenizer_and_remove_punctuation,axis=1)"
      ],
      "execution_count": null,
      "outputs": []
    },
    {
      "cell_type": "code",
      "metadata": {
        "colab": {
          "base_uri": "https://localhost:8080/"
        },
        "id": "NSroxgTvFDoh",
        "outputId": "b4c2cb3e-1e77-4b27-b44e-c0fb421c673b"
      },
      "source": [
        "wordnet=nltk.download('wordnet') \r\n",
        "from nltk.stem import WordNetLemmatizer \r\n",
        "from nltk.corpus import wordnet\r\n",
        "av_percept_tagger=nltk.download('averaged_perceptron_tagger')\r\n",
        "lemmatizer = WordNetLemmatizer() "
      ],
      "execution_count": null,
      "outputs": [
        {
          "output_type": "stream",
          "text": [
            "[nltk_data] Downloading package wordnet to /root/nltk_data...\n",
            "[nltk_data]   Package wordnet is already up-to-date!\n",
            "[nltk_data] Downloading package averaged_perceptron_tagger to\n",
            "[nltk_data]     /root/nltk_data...\n",
            "[nltk_data]   Package averaged_perceptron_tagger is already up-to-\n",
            "[nltk_data]       date!\n"
          ],
          "name": "stdout"
        }
      ]
    },
    {
      "cell_type": "code",
      "metadata": {
        "id": "ZE6jWMW1FIkx"
      },
      "source": [
        "def get_wordnet_pos(word):\r\n",
        "    tag = nltk.pos_tag([word])[0][1][0].upper() # gets first letter of POS categorization\r\n",
        "    tag_dict = {\"J\": wordnet.ADJ, \r\n",
        "                \"N\": wordnet.NOUN,\r\n",
        "                \"V\": wordnet.VERB,\r\n",
        "                \"R\": wordnet.ADV}\r\n",
        "    return tag_dict.get(tag, wordnet.NOUN) "
      ],
      "execution_count": null,
      "outputs": []
    },
    {
      "cell_type": "code",
      "metadata": {
        "id": "3_KGnr_5FK9l"
      },
      "source": [
        "def lemmatizer_with_pos(row):   \r\n",
        "    return [lemmatizer.lemmatize(word,get_wordnet_pos(word)) for word in row['tokenized']]"
      ],
      "execution_count": null,
      "outputs": []
    },
    {
      "cell_type": "code",
      "metadata": {
        "id": "8aaTqBtGFOSC"
      },
      "source": [
        "dftrump[\"lemmatized\"]=dftrump.apply(lemmatizer_with_pos,axis=1)"
      ],
      "execution_count": null,
      "outputs": []
    },
    {
      "cell_type": "code",
      "metadata": {
        "id": "xoKrnusjFuNj"
      },
      "source": [
        "def remove_sw(row):\r\n",
        "    return list(set(row['lemmatized']).difference(stopwords.words()))\r\n"
      ],
      "execution_count": null,
      "outputs": []
    },
    {
      "cell_type": "code",
      "metadata": {
        "id": "r7ZSn4K8FwOz"
      },
      "source": [
        "\r\n",
        "dftrump['no_stopwords'] = dftrump.apply(remove_sw,axis=1)"
      ],
      "execution_count": null,
      "outputs": []
    },
    {
      "cell_type": "code",
      "metadata": {
        "id": "tzaYL16mGq8-"
      },
      "source": [
        "def re_blob(row):\r\n",
        "    return \" \".join(row['no_stopwords'])\r\n",
        "\r\n"
      ],
      "execution_count": null,
      "outputs": []
    },
    {
      "cell_type": "code",
      "metadata": {
        "id": "aP4jvGEbGtID"
      },
      "source": [
        "dftrump['clean_blob'] = dftrump.apply(re_blob,axis=1)\r\n"
      ],
      "execution_count": null,
      "outputs": []
    },
    {
      "cell_type": "code",
      "metadata": {
        "colab": {
          "base_uri": "https://localhost:8080/",
          "height": 346
        },
        "id": "zj4vBneOG5eq",
        "outputId": "0887563f-edf6-4d4c-b1ca-ebe6b7487414"
      },
      "source": [
        "dftrump.head()"
      ],
      "execution_count": null,
      "outputs": [
        {
          "output_type": "execute_result",
          "data": {
            "text/html": [
              "<div>\n",
              "<style scoped>\n",
              "    .dataframe tbody tr th:only-of-type {\n",
              "        vertical-align: middle;\n",
              "    }\n",
              "\n",
              "    .dataframe tbody tr th {\n",
              "        vertical-align: top;\n",
              "    }\n",
              "\n",
              "    .dataframe thead th {\n",
              "        text-align: right;\n",
              "    }\n",
              "</style>\n",
              "<table border=\"1\" class=\"dataframe\">\n",
              "  <thead>\n",
              "    <tr style=\"text-align: right;\">\n",
              "      <th></th>\n",
              "      <th>tweet</th>\n",
              "      <th>clean</th>\n",
              "      <th>tokenized</th>\n",
              "      <th>lemmatized</th>\n",
              "      <th>no_stopwords</th>\n",
              "      <th>clean_blob</th>\n",
              "    </tr>\n",
              "  </thead>\n",
              "  <tbody>\n",
              "    <tr>\n",
              "      <th>0</th>\n",
              "      <td>Georgia is watching @BrianKempGA, @GeoffDuncan...</td>\n",
              "      <td>georgia is watching     and</td>\n",
              "      <td>[georgia, is, watching, and]</td>\n",
              "      <td>[georgia, be, watch, and]</td>\n",
              "      <td>[watch, georgia]</td>\n",
              "      <td>watch georgia</td>\n",
              "    </tr>\n",
              "    <tr>\n",
              "      <th>1</th>\n",
              "      <td>I hope House Republicans will vote against the...</td>\n",
              "      <td>i hope house republicans will vote against the...</td>\n",
              "      <td>[i, hope, house, republicans, will, vote, agai...</td>\n",
              "      <td>[i, hope, house, republican, will, vote, again...</td>\n",
              "      <td>[must, allow, termination, troop, purpose, nat...</td>\n",
              "      <td>must allow termination troop purpose national ...</td>\n",
              "    </tr>\n",
              "    <tr>\n",
              "      <th>2</th>\n",
              "      <td>True. Great debate for Kelly! https://t.co/M2y...</td>\n",
              "      <td>true  great debate for kelly</td>\n",
              "      <td>[true, great, debate, for, kelly]</td>\n",
              "      <td>[true, great, debate, for, kelly]</td>\n",
              "      <td>[great, debate, kelly, true]</td>\n",
              "      <td>great debate kelly true</td>\n",
              "    </tr>\n",
              "    <tr>\n",
              "      <th>4</th>\n",
              "      <td>Germany has consistently been used by my obnox...</td>\n",
              "      <td>germany has consistently been used by my obnox...</td>\n",
              "      <td>[germany, has, consistently, been, used, by, m...</td>\n",
              "      <td>[germany, have, consistently, be, use, by, my,...</td>\n",
              "      <td>[obnoxious, follow, love, handle, china, criti...</td>\n",
              "      <td>obnoxious follow love handle china critic argu...</td>\n",
              "    </tr>\n",
              "    <tr>\n",
              "      <th>5</th>\n",
              "      <td>Thank you to Speaker Cutler and all others in ...</td>\n",
              "      <td>thank you to speaker cutler and all others in ...</td>\n",
              "      <td>[thank, you, to, speaker, cutler, and, all, ot...</td>\n",
              "      <td>[thank, you, to, speaker, cutler, and, all, ot...</td>\n",
              "      <td>[corruption, elsewhere, fully, pennsylvania, u...</td>\n",
              "      <td>corruption elsewhere fully pennsylvania unders...</td>\n",
              "    </tr>\n",
              "  </tbody>\n",
              "</table>\n",
              "</div>"
            ],
            "text/plain": [
              "                                               tweet  ...                                         clean_blob\n",
              "0  Georgia is watching @BrianKempGA, @GeoffDuncan...  ...                                      watch georgia\n",
              "1  I hope House Republicans will vote against the...  ...  must allow termination troop purpose national ...\n",
              "2  True. Great debate for Kelly! https://t.co/M2y...  ...                            great debate kelly true\n",
              "4  Germany has consistently been used by my obnox...  ...  obnoxious follow love handle china critic argu...\n",
              "5  Thank you to Speaker Cutler and all others in ...  ...  corruption elsewhere fully pennsylvania unders...\n",
              "\n",
              "[5 rows x 6 columns]"
            ]
          },
          "metadata": {
            "tags": []
          },
          "execution_count": 53
        }
      ]
    },
    {
      "cell_type": "code",
      "metadata": {
        "id": "K9Jv2rhLHD1A"
      },
      "source": [
        "to_pred_trump=bow_vect.transform(dftrump[\"clean_blob\"]).toarray()"
      ],
      "execution_count": null,
      "outputs": []
    },
    {
      "cell_type": "code",
      "metadata": {
        "id": "VKedyRsFHRwh"
      },
      "source": [
        "trump_pred=model.predict(to_pred_trump)"
      ],
      "execution_count": null,
      "outputs": []
    },
    {
      "cell_type": "code",
      "metadata": {
        "colab": {
          "base_uri": "https://localhost:8080/"
        },
        "id": "_msFh7S5Hexv",
        "outputId": "df5529b4-de3f-45d3-ba75-f9c681288fc0"
      },
      "source": [
        "trump_pred.shape[0]"
      ],
      "execution_count": null,
      "outputs": [
        {
          "output_type": "execute_result",
          "data": {
            "text/plain": [
              "40228"
            ]
          },
          "metadata": {
            "tags": []
          },
          "execution_count": 56
        }
      ]
    },
    {
      "cell_type": "code",
      "metadata": {
        "id": "0lQzXsFiHf1C"
      },
      "source": [
        "prctage_off= sum(trump_pred)/trump_pred.shape[0]"
      ],
      "execution_count": null,
      "outputs": []
    },
    {
      "cell_type": "code",
      "metadata": {
        "colab": {
          "base_uri": "https://localhost:8080/"
        },
        "id": "iICsTmCIH7Rb",
        "outputId": "b49979c8-8974-4b7d-b664-77338add2e75"
      },
      "source": [
        "prctage_off"
      ],
      "execution_count": null,
      "outputs": [
        {
          "output_type": "execute_result",
          "data": {
            "text/plain": [
              "0.018245997812468925"
            ]
          },
          "metadata": {
            "tags": []
          },
          "execution_count": 58
        }
      ]
    },
    {
      "cell_type": "code",
      "metadata": {
        "id": "T96tng5CH8W_"
      },
      "source": [
        "kh=pd.read_csv"
      ],
      "execution_count": null,
      "outputs": []
    },
    {
      "cell_type": "code",
      "metadata": {
        "id": "oKXkqtgk1TVj"
      },
      "source": [
        ""
      ],
      "execution_count": null,
      "outputs": []
    },
    {
      "cell_type": "code",
      "metadata": {
        "id": "6vzQScw715_M"
      },
      "source": [
        "kh=pd.read_csv(\"./kh_results.csv\")"
      ],
      "execution_count": null,
      "outputs": []
    },
    {
      "cell_type": "code",
      "metadata": {
        "colab": {
          "base_uri": "https://localhost:8080/",
          "height": 195
        },
        "id": "v3Whq46F15_U",
        "outputId": "94ee6f6e-68c4-4425-b01b-ccf3ca562d7a"
      },
      "source": [
        "kh.head()"
      ],
      "execution_count": null,
      "outputs": [
        {
          "output_type": "execute_result",
          "data": {
            "text/html": [
              "<div>\n",
              "<style scoped>\n",
              "    .dataframe tbody tr th:only-of-type {\n",
              "        vertical-align: middle;\n",
              "    }\n",
              "\n",
              "    .dataframe tbody tr th {\n",
              "        vertical-align: top;\n",
              "    }\n",
              "\n",
              "    .dataframe thead th {\n",
              "        text-align: right;\n",
              "    }\n",
              "</style>\n",
              "<table border=\"1\" class=\"dataframe\">\n",
              "  <thead>\n",
              "    <tr style=\"text-align: right;\">\n",
              "      <th></th>\n",
              "      <th>Unnamed: 0</th>\n",
              "      <th>date</th>\n",
              "      <th>language</th>\n",
              "      <th>screen_name</th>\n",
              "      <th>tweet</th>\n",
              "    </tr>\n",
              "  </thead>\n",
              "  <tbody>\n",
              "    <tr>\n",
              "      <th>0</th>\n",
              "      <td>0.0</td>\n",
              "      <td>2020-12-06 00:49:07</td>\n",
              "      <td>en</td>\n",
              "      <td>KevinHart4real</td>\n",
              "      <td>Thottin 😂😂😂 https://t.co/ZBaqp4lWcY</td>\n",
              "    </tr>\n",
              "    <tr>\n",
              "      <th>1</th>\n",
              "      <td>1.0</td>\n",
              "      <td>2020-12-06 20:56:44</td>\n",
              "      <td>en</td>\n",
              "      <td>KevinHart4real</td>\n",
              "      <td>So dope....Much appreciated. Thank you for lov...</td>\n",
              "    </tr>\n",
              "    <tr>\n",
              "      <th>2</th>\n",
              "      <td>2.0</td>\n",
              "      <td>2020-11-28 21:21:04</td>\n",
              "      <td>en</td>\n",
              "      <td>KevinHart4real</td>\n",
              "      <td>Just posted a photo https://t.co/ngTqTlgYZS</td>\n",
              "    </tr>\n",
              "    <tr>\n",
              "      <th>3</th>\n",
              "      <td>3.0</td>\n",
              "      <td>2020-11-30 21:21:26</td>\n",
              "      <td>en</td>\n",
              "      <td>KevinHart4real</td>\n",
              "      <td>Exciting times 💪🏾💪🏾💪🏾 https://t.co/hUwW3xPCLh</td>\n",
              "    </tr>\n",
              "    <tr>\n",
              "      <th>4</th>\n",
              "      <td>4.0</td>\n",
              "      <td>2020-12-09 01:15:14</td>\n",
              "      <td>en</td>\n",
              "      <td>KevinHart4real</td>\n",
              "      <td>Let’s gooooo https://t.co/pcKrB6cuwf</td>\n",
              "    </tr>\n",
              "  </tbody>\n",
              "</table>\n",
              "</div>"
            ],
            "text/plain": [
              "   Unnamed: 0  ...                                              tweet\n",
              "0         0.0  ...                Thottin 😂😂😂 https://t.co/ZBaqp4lWcY\n",
              "1         1.0  ...  So dope....Much appreciated. Thank you for lov...\n",
              "2         2.0  ...        Just posted a photo https://t.co/ngTqTlgYZS\n",
              "3         3.0  ...      Exciting times 💪🏾💪🏾💪🏾 https://t.co/hUwW3xPCLh\n",
              "4         4.0  ...               Let’s gooooo https://t.co/pcKrB6cuwf\n",
              "\n",
              "[5 rows x 5 columns]"
            ]
          },
          "metadata": {
            "tags": []
          },
          "execution_count": 60
        }
      ]
    },
    {
      "cell_type": "code",
      "metadata": {
        "id": "lJWHnrbK15_W"
      },
      "source": [
        "kh.drop([\"Unnamed: 0\",\"date\",],axis=1,inplace=True)"
      ],
      "execution_count": null,
      "outputs": []
    },
    {
      "cell_type": "code",
      "metadata": {
        "colab": {
          "base_uri": "https://localhost:8080/",
          "height": 204
        },
        "id": "NgKvb6Ll15_X",
        "outputId": "a2a71182-204d-4ccf-c3c1-326157956904"
      },
      "source": [
        "kh.head()"
      ],
      "execution_count": null,
      "outputs": [
        {
          "output_type": "execute_result",
          "data": {
            "text/html": [
              "<div>\n",
              "<style scoped>\n",
              "    .dataframe tbody tr th:only-of-type {\n",
              "        vertical-align: middle;\n",
              "    }\n",
              "\n",
              "    .dataframe tbody tr th {\n",
              "        vertical-align: top;\n",
              "    }\n",
              "\n",
              "    .dataframe thead th {\n",
              "        text-align: right;\n",
              "    }\n",
              "</style>\n",
              "<table border=\"1\" class=\"dataframe\">\n",
              "  <thead>\n",
              "    <tr style=\"text-align: right;\">\n",
              "      <th></th>\n",
              "      <th>language</th>\n",
              "      <th>screen_name</th>\n",
              "      <th>tweet</th>\n",
              "    </tr>\n",
              "  </thead>\n",
              "  <tbody>\n",
              "    <tr>\n",
              "      <th>0</th>\n",
              "      <td>en</td>\n",
              "      <td>KevinHart4real</td>\n",
              "      <td>Thottin 😂😂😂 https://t.co/ZBaqp4lWcY</td>\n",
              "    </tr>\n",
              "    <tr>\n",
              "      <th>1</th>\n",
              "      <td>en</td>\n",
              "      <td>KevinHart4real</td>\n",
              "      <td>So dope....Much appreciated. Thank you for lov...</td>\n",
              "    </tr>\n",
              "    <tr>\n",
              "      <th>2</th>\n",
              "      <td>en</td>\n",
              "      <td>KevinHart4real</td>\n",
              "      <td>Just posted a photo https://t.co/ngTqTlgYZS</td>\n",
              "    </tr>\n",
              "    <tr>\n",
              "      <th>3</th>\n",
              "      <td>en</td>\n",
              "      <td>KevinHart4real</td>\n",
              "      <td>Exciting times 💪🏾💪🏾💪🏾 https://t.co/hUwW3xPCLh</td>\n",
              "    </tr>\n",
              "    <tr>\n",
              "      <th>4</th>\n",
              "      <td>en</td>\n",
              "      <td>KevinHart4real</td>\n",
              "      <td>Let’s gooooo https://t.co/pcKrB6cuwf</td>\n",
              "    </tr>\n",
              "  </tbody>\n",
              "</table>\n",
              "</div>"
            ],
            "text/plain": [
              "  language     screen_name                                              tweet\n",
              "0       en  KevinHart4real                Thottin 😂😂😂 https://t.co/ZBaqp4lWcY\n",
              "1       en  KevinHart4real  So dope....Much appreciated. Thank you for lov...\n",
              "2       en  KevinHart4real        Just posted a photo https://t.co/ngTqTlgYZS\n",
              "3       en  KevinHart4real      Exciting times 💪🏾💪🏾💪🏾 https://t.co/hUwW3xPCLh\n",
              "4       en  KevinHart4real               Let’s gooooo https://t.co/pcKrB6cuwf"
            ]
          },
          "metadata": {
            "tags": []
          },
          "execution_count": 79
        }
      ]
    },
    {
      "cell_type": "code",
      "metadata": {
        "id": "5hHtC-Je15_Y"
      },
      "source": [
        "kh=kh[kh[\"screen_name\"]==\"KevinHart4real\"]"
      ],
      "execution_count": null,
      "outputs": []
    },
    {
      "cell_type": "code",
      "metadata": {
        "id": "RtyVNIe115_f"
      },
      "source": [
        "kh=kh[kh[\"language\"]==\"en\"]"
      ],
      "execution_count": null,
      "outputs": []
    },
    {
      "cell_type": "code",
      "metadata": {
        "id": "FJmsGuWK15_f"
      },
      "source": [
        "kh.drop([\"language\",\"screen_name\"],axis=1,inplace=True)"
      ],
      "execution_count": null,
      "outputs": []
    },
    {
      "cell_type": "code",
      "metadata": {
        "colab": {
          "base_uri": "https://localhost:8080/",
          "height": 195
        },
        "id": "D_d2pWdM15_g",
        "outputId": "e79f0d97-eb37-4c99-b6cd-6bb2fee4abda"
      },
      "source": [
        "kh.head()"
      ],
      "execution_count": null,
      "outputs": [
        {
          "output_type": "execute_result",
          "data": {
            "text/html": [
              "<div>\n",
              "<style scoped>\n",
              "    .dataframe tbody tr th:only-of-type {\n",
              "        vertical-align: middle;\n",
              "    }\n",
              "\n",
              "    .dataframe tbody tr th {\n",
              "        vertical-align: top;\n",
              "    }\n",
              "\n",
              "    .dataframe thead th {\n",
              "        text-align: right;\n",
              "    }\n",
              "</style>\n",
              "<table border=\"1\" class=\"dataframe\">\n",
              "  <thead>\n",
              "    <tr style=\"text-align: right;\">\n",
              "      <th></th>\n",
              "      <th>tweet</th>\n",
              "    </tr>\n",
              "  </thead>\n",
              "  <tbody>\n",
              "    <tr>\n",
              "      <th>0</th>\n",
              "      <td>Thottin 😂😂😂 https://t.co/ZBaqp4lWcY</td>\n",
              "    </tr>\n",
              "    <tr>\n",
              "      <th>1</th>\n",
              "      <td>So dope....Much appreciated. Thank you for lov...</td>\n",
              "    </tr>\n",
              "    <tr>\n",
              "      <th>2</th>\n",
              "      <td>Just posted a photo https://t.co/ngTqTlgYZS</td>\n",
              "    </tr>\n",
              "    <tr>\n",
              "      <th>3</th>\n",
              "      <td>Exciting times 💪🏾💪🏾💪🏾 https://t.co/hUwW3xPCLh</td>\n",
              "    </tr>\n",
              "    <tr>\n",
              "      <th>4</th>\n",
              "      <td>Let’s gooooo https://t.co/pcKrB6cuwf</td>\n",
              "    </tr>\n",
              "  </tbody>\n",
              "</table>\n",
              "</div>"
            ],
            "text/plain": [
              "                                               tweet\n",
              "0                Thottin 😂😂😂 https://t.co/ZBaqp4lWcY\n",
              "1  So dope....Much appreciated. Thank you for lov...\n",
              "2        Just posted a photo https://t.co/ngTqTlgYZS\n",
              "3      Exciting times 💪🏾💪🏾💪🏾 https://t.co/hUwW3xPCLh\n",
              "4               Let’s gooooo https://t.co/pcKrB6cuwf"
            ]
          },
          "metadata": {
            "tags": []
          },
          "execution_count": 65
        }
      ]
    },
    {
      "cell_type": "code",
      "metadata": {
        "id": "kucN2q2Z15_i"
      },
      "source": [
        "def clean_up(s):\r\n",
        "    return re.sub(\"@\\S+|http\\S+|[^a-z\\s]\",\" \",s.lower())"
      ],
      "execution_count": null,
      "outputs": []
    },
    {
      "cell_type": "code",
      "metadata": {
        "id": "wLDMtZZP15_j"
      },
      "source": [
        "kh[\"clean\"]=kh[\"tweet\"].apply(clean_up)"
      ],
      "execution_count": null,
      "outputs": []
    },
    {
      "cell_type": "code",
      "metadata": {
        "id": "CfOrTeca15_k"
      },
      "source": [
        "def tokenizer_and_remove_punctuation(row):\r\n",
        "    tokens = word_tokenize(row['clean'])\r\n",
        "    return [word.lower() for word in tokens if word.isalpha()]\r\n",
        "\r\n"
      ],
      "execution_count": null,
      "outputs": []
    },
    {
      "cell_type": "code",
      "metadata": {
        "id": "PT150Hib15_k"
      },
      "source": [
        "kh['tokenized'] = kh.apply(tokenizer_and_remove_punctuation,axis=1)"
      ],
      "execution_count": null,
      "outputs": []
    },
    {
      "cell_type": "code",
      "metadata": {
        "colab": {
          "base_uri": "https://localhost:8080/"
        },
        "id": "stYfctOa15_l",
        "outputId": "f1b04170-9aee-4b12-d8d1-ac913f59557e"
      },
      "source": [
        "wordnet=nltk.download('wordnet') \r\n",
        "from nltk.stem import WordNetLemmatizer \r\n",
        "from nltk.corpus import wordnet\r\n",
        "av_percept_tagger=nltk.download('averaged_perceptron_tagger')\r\n",
        "lemmatizer = WordNetLemmatizer() "
      ],
      "execution_count": null,
      "outputs": [
        {
          "output_type": "stream",
          "text": [
            "[nltk_data] Downloading package wordnet to /root/nltk_data...\n",
            "[nltk_data]   Package wordnet is already up-to-date!\n",
            "[nltk_data] Downloading package averaged_perceptron_tagger to\n",
            "[nltk_data]     /root/nltk_data...\n",
            "[nltk_data]   Package averaged_perceptron_tagger is already up-to-\n",
            "[nltk_data]       date!\n"
          ],
          "name": "stdout"
        }
      ]
    },
    {
      "cell_type": "code",
      "metadata": {
        "id": "dsKb5c7P15_o"
      },
      "source": [
        "def get_wordnet_pos(word):\r\n",
        "    tag = nltk.pos_tag([word])[0][1][0].upper() # gets first letter of POS categorization\r\n",
        "    tag_dict = {\"J\": wordnet.ADJ, \r\n",
        "                \"N\": wordnet.NOUN,\r\n",
        "                \"V\": wordnet.VERB,\r\n",
        "                \"R\": wordnet.ADV}\r\n",
        "    return tag_dict.get(tag, wordnet.NOUN) "
      ],
      "execution_count": null,
      "outputs": []
    },
    {
      "cell_type": "code",
      "metadata": {
        "id": "fCgjdnfI15_p"
      },
      "source": [
        "def lemmatizer_with_pos(row):   \r\n",
        "    return [lemmatizer.lemmatize(word,get_wordnet_pos(word)) for word in row['tokenized']]"
      ],
      "execution_count": null,
      "outputs": []
    },
    {
      "cell_type": "code",
      "metadata": {
        "id": "bH_YEJ3t15_p"
      },
      "source": [
        "kh[\"lemmatized\"]=kh.apply(lemmatizer_with_pos,axis=1)"
      ],
      "execution_count": null,
      "outputs": []
    },
    {
      "cell_type": "code",
      "metadata": {
        "id": "xqkkz0AD15_p"
      },
      "source": [
        "def remove_sw(row):\r\n",
        "    return list(set(row['lemmatized']).difference(stopwords.words()))\r\n"
      ],
      "execution_count": null,
      "outputs": []
    },
    {
      "cell_type": "code",
      "metadata": {
        "id": "qYyvfhvO15_q"
      },
      "source": [
        "\r\n",
        "kh['no_stopwords'] = kh.apply(remove_sw,axis=1)"
      ],
      "execution_count": null,
      "outputs": []
    },
    {
      "cell_type": "code",
      "metadata": {
        "id": "9xLFPs0315_q"
      },
      "source": [
        "def re_blob(row):\r\n",
        "    return \" \".join(row['no_stopwords'])\r\n",
        "\r\n"
      ],
      "execution_count": null,
      "outputs": []
    },
    {
      "cell_type": "code",
      "metadata": {
        "id": "cy2w9ggj15_r"
      },
      "source": [
        "kh['clean_blob'] = kh.apply(re_blob,axis=1)\r\n"
      ],
      "execution_count": null,
      "outputs": []
    },
    {
      "cell_type": "code",
      "metadata": {
        "colab": {
          "base_uri": "https://localhost:8080/",
          "height": 296
        },
        "id": "YAsoiZHr15_r",
        "outputId": "8ea07b43-7a58-43de-999e-8d43a74c7e0f"
      },
      "source": [
        "kh.head()"
      ],
      "execution_count": null,
      "outputs": [
        {
          "output_type": "execute_result",
          "data": {
            "text/html": [
              "<div>\n",
              "<style scoped>\n",
              "    .dataframe tbody tr th:only-of-type {\n",
              "        vertical-align: middle;\n",
              "    }\n",
              "\n",
              "    .dataframe tbody tr th {\n",
              "        vertical-align: top;\n",
              "    }\n",
              "\n",
              "    .dataframe thead th {\n",
              "        text-align: right;\n",
              "    }\n",
              "</style>\n",
              "<table border=\"1\" class=\"dataframe\">\n",
              "  <thead>\n",
              "    <tr style=\"text-align: right;\">\n",
              "      <th></th>\n",
              "      <th>tweet</th>\n",
              "      <th>clean</th>\n",
              "      <th>tokenized</th>\n",
              "      <th>lemmatized</th>\n",
              "      <th>no_stopwords</th>\n",
              "      <th>clean_blob</th>\n",
              "    </tr>\n",
              "  </thead>\n",
              "  <tbody>\n",
              "    <tr>\n",
              "      <th>0</th>\n",
              "      <td>Thottin 😂😂😂 https://t.co/ZBaqp4lWcY</td>\n",
              "      <td>thottin</td>\n",
              "      <td>[thottin]</td>\n",
              "      <td>[thottin]</td>\n",
              "      <td>[thottin]</td>\n",
              "      <td>thottin</td>\n",
              "    </tr>\n",
              "    <tr>\n",
              "      <th>1</th>\n",
              "      <td>So dope....Much appreciated. Thank you for lov...</td>\n",
              "      <td>so dope    much appreciated  thank you for lov...</td>\n",
              "      <td>[so, dope, much, appreciated, thank, you, for,...</td>\n",
              "      <td>[so, dope, much, appreciate, thank, you, for, ...</td>\n",
              "      <td>[happen, guy, year, much, fan, continue, thank...</td>\n",
              "      <td>happen guy year much fan continue thank well l...</td>\n",
              "    </tr>\n",
              "    <tr>\n",
              "      <th>2</th>\n",
              "      <td>Just posted a photo https://t.co/ngTqTlgYZS</td>\n",
              "      <td>just posted a photo</td>\n",
              "      <td>[just, posted, a, photo]</td>\n",
              "      <td>[just, post, a, photo]</td>\n",
              "      <td>[photo, post]</td>\n",
              "      <td>photo post</td>\n",
              "    </tr>\n",
              "    <tr>\n",
              "      <th>3</th>\n",
              "      <td>Exciting times 💪🏾💪🏾💪🏾 https://t.co/hUwW3xPCLh</td>\n",
              "      <td>exciting times</td>\n",
              "      <td>[exciting, times]</td>\n",
              "      <td>[excite, time]</td>\n",
              "      <td>[time, excite]</td>\n",
              "      <td>time excite</td>\n",
              "    </tr>\n",
              "    <tr>\n",
              "      <th>4</th>\n",
              "      <td>Let’s gooooo https://t.co/pcKrB6cuwf</td>\n",
              "      <td>let s gooooo</td>\n",
              "      <td>[let, s, gooooo]</td>\n",
              "      <td>[let, s, gooooo]</td>\n",
              "      <td>[let, gooooo]</td>\n",
              "      <td>let gooooo</td>\n",
              "    </tr>\n",
              "  </tbody>\n",
              "</table>\n",
              "</div>"
            ],
            "text/plain": [
              "                                               tweet  ...                                         clean_blob\n",
              "0                Thottin 😂😂😂 https://t.co/ZBaqp4lWcY  ...                                            thottin\n",
              "1  So dope....Much appreciated. Thank you for lov...  ...  happen guy year much fan continue thank well l...\n",
              "2        Just posted a photo https://t.co/ngTqTlgYZS  ...                                         photo post\n",
              "3      Exciting times 💪🏾💪🏾💪🏾 https://t.co/hUwW3xPCLh  ...                                        time excite\n",
              "4               Let’s gooooo https://t.co/pcKrB6cuwf  ...                                         let gooooo\n",
              "\n",
              "[5 rows x 6 columns]"
            ]
          },
          "metadata": {
            "tags": []
          },
          "execution_count": 78
        }
      ]
    },
    {
      "cell_type": "code",
      "metadata": {
        "id": "zbmPLBhY15_s"
      },
      "source": [
        "to_pred_kh=bow_vect.transform(kh[\"clean_blob\"]).toarray()"
      ],
      "execution_count": null,
      "outputs": []
    },
    {
      "cell_type": "code",
      "metadata": {
        "id": "s1mgOBPo15_s"
      },
      "source": [
        "kh_pred=model.predict(to_pred_kh)"
      ],
      "execution_count": null,
      "outputs": []
    },
    {
      "cell_type": "code",
      "metadata": {
        "colab": {
          "base_uri": "https://localhost:8080/"
        },
        "id": "V6sCiuNI15_s",
        "outputId": "f845bec1-29a0-4eb8-c41b-79997fd929ef"
      },
      "source": [
        "kh_pred.shape[0]"
      ],
      "execution_count": null,
      "outputs": [
        {
          "output_type": "execute_result",
          "data": {
            "text/plain": [
              "25838"
            ]
          },
          "metadata": {
            "tags": []
          },
          "execution_count": 81
        }
      ]
    },
    {
      "cell_type": "code",
      "metadata": {
        "id": "0570r_b_15_t"
      },
      "source": [
        "prctage_off= sum(kh_pred)/kh_pred.shape[0]"
      ],
      "execution_count": null,
      "outputs": []
    },
    {
      "cell_type": "code",
      "metadata": {
        "colab": {
          "base_uri": "https://localhost:8080/"
        },
        "id": "1FoG_Kbk15_v",
        "outputId": "31593112-1517-4495-ee2e-e326e3e0fd80"
      },
      "source": [
        "prctage_off"
      ],
      "execution_count": null,
      "outputs": [
        {
          "output_type": "execute_result",
          "data": {
            "text/plain": [
              "0.16406068581159533"
            ]
          },
          "metadata": {
            "tags": []
          },
          "execution_count": 83
        }
      ]
    }
  ]
}